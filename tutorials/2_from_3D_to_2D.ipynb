{
  "cells": [
    {
      "cell_type": "markdown",
      "metadata": {
        "id": "view-in-github",
        "colab_type": "text"
      },
      "source": [
        "<a href=\"https://colab.research.google.com/github/AiDAPT-A/2024-Q3-ai-in-architecture/blob/main/tutorials/2_from_3D_to_2D.ipynb\" target=\"_parent\"><img src=\"https://colab.research.google.com/assets/colab-badge.svg\" alt=\"Open In Colab\"/></a>"
      ]
    },
    {
      "cell_type": "markdown",
      "metadata": {
        "id": "gTqEKMg8a82O"
      },
      "source": [
        "# **From 3D to 2D: DataFrame Creation from BIM Files**\n",
        "\n",
        "Last week, we learned how to deal with tuples, lists, arrays, and polygons. We also got familiar with how to modify simple shapes and finally plot them! In other words, we stored the properties of shapes in an array of polygons. One step further, we want to store ***the properties of real buildings*** (not necessariliy simple shapes) in another data storage option called ***DataFrame***. So, in this tutorial, we are going to learn how to create DataFrames from BIM files, going through the intermediate steps of IFC (Industrial Foundation Classes) and CSV (Comma-separated values) files. To navigate from IFC to CSV file formats, we will get to know a newly developed solution called ***BatchPlan***!\n",
        "\n",
        "Today, we will mostly focus on the last arrow (i.e., from CSV to DataFrame). Once we have the DataFrame, we can do all the funny stuff, including *pretty visualizations*.✨\n",
        "\n",
        "\n",
        "<center>\n",
        "<img src=\"https://drive.google.com/uc?export=view&id=1o8oA6rBSvo6zL7NAwHCg9NmP_SlRkHIP\" alt=\"floor-layout\" class=\"center\" width=\"750px\">\n",
        "</center>\n"
      ]
    },
    {
      "cell_type": "markdown",
      "metadata": {
        "id": "4rUAcE-2bKn2"
      },
      "source": [
        "## 📌 **Overview and learning objectives**\n",
        "\n",
        "This tutorial is about the transition from the conventional method of storing building data (through BIM and IFC files) to the more machine-readable formats (CSV files and DataFrames). The ultimate aim is to come up with a ***(Geo)DataFrame*** of a number of residential building projects from KAAN Architecten.\n",
        "\n",
        "### 🧠 **Learning objectives**\n",
        "*   Making use of IFC files to create a DataFrame\n",
        "*   Cleaning Data (reading, sorting, and selecting)\n",
        "*   Visualizing FloorPlans\n",
        "\n",
        "### 🐍 **New in Python**\n",
        "- Mounting Google Drive in Google Colaboratory\n",
        "- Creating a (Geo)DataFrame\n",
        "- Plotting Multypolygons\n",
        "- libraries: pandas, geopandas\n",
        "\n",
        "### ⛩ [**BatchPlan**](#t1)\n",
        "- [1.1 Introduction](#t1.1)\n",
        "- [1.2 KAAN Residential Projects](#t1.2)\n",
        "- [1.3 Loading Data](#t1.3)\n",
        "\n",
        "### 🌐 [**GeoDataFrame**](#t2)\n",
        "- [2.1 Pandas DataFrame](#t2.1)\n",
        "- [2.2 Cleaning Data](#t2.2)\n",
        "- [2.3 GeoDataFrame Creation](#t2.3)\n",
        "- [2.4 Floor plan Visualization](#t2.4)\n",
        "\n",
        "### 🟡 [**Additional Geopandas (optional)**](#t3)\n",
        "- [3.1 Maps and Plots](#t3.1)\n",
        "- [3.2 Geometric Manipulation](#t3.2)\n",
        "- [3.3 Operations with Overlay](#t3.3)\n",
        "\n",
        "### 📊 [**Exercise**](#t4)\n"
      ]
    },
    {
      "cell_type": "markdown",
      "metadata": {
        "id": "Nm5iaNjad3pE"
      },
      "source": [
        "<a name=\"t1\"></a>\n",
        "## ⛩ **BatchPlan**\n",
        "\n",
        "Here we get familiar with BatchPlan and its features, KAAN residential projects (which are our material to work with), and learn how to load files from the Google Drive."
      ]
    },
    {
      "cell_type": "markdown",
      "metadata": {
        "id": "xnk7HS-Oy4dL"
      },
      "source": [
        "<a name=\"t1.1\"></a>\n",
        "### 1.1 **Introduction**\n",
        "\n",
        "\n",
        "BatchPlan is a large-scale solution for ***floor plan extraction*** of buildings' IFC files. The proposed solution is developed to address the challenge of analysing ***big data*** during a data-driven design process, utilizing the conventional method of data storage in the building industry (i.e., IFC files). The main novelties of BatchPlan are as follows:\n",
        "\n",
        "- Introducing an **open-source**, customizable, and flexible solution for floor plan extraction in large scale\n",
        "- Enabling **visual** (floorplans), **geometrical** (room- and unit-wise coordinates), and numerical (area, volume, etc.) outputs data format\n",
        "- Batch-processing **large** IFC files\n",
        "- Facilitating large-scale quantitative analysis and **Machine Learning-based workflows**\n",
        "\n",
        "\n",
        "<center>\n",
        "<img src=\"https://drive.google.com/uc?export=view&id=13sSbQQZMMlwUWVqdvLKif0UN1NdfgOhl\" alt=\"isometric\" class=\"center\" width=\"750px\">\n",
        "</center>\n",
        "\n",
        "More information about the BatchPlan can be found [here](https://carbonimage.github.io/)."
      ]
    },
    {
      "cell_type": "markdown",
      "metadata": {
        "id": "GzBi644zGHYH"
      },
      "source": [
        "Refresh: What was ***IFC*** again?\n",
        "\n",
        "The Industry Foundation Classes (IFC) format file is an open file format used by ***BIM programs***, including spatial elements, materials, and shapes of a building. The majority of BIM modelling software, including Revit, ArchiCAD, and Rebro, currently supports the import and export of IFC files. IFC files are intended to be *platform-independent*, and therefore play an information exchanger role. This would allow interoperability between various BIM programs, as well as between BIM and other tools such as LCA (Life Cycle Assessment)."
      ]
    },
    {
      "cell_type": "markdown",
      "metadata": {
        "id": "ABU50u34fA1r"
      },
      "source": [
        "<a name=\"t1.2\"></a>\n",
        "### 1.2 **KAAN Residential Projects**\n",
        "\n",
        "For the material in this tutorial, we will use data from KAAN Architecten projects. Several residential projects have been selected to encompass various design stages, ranging from early design to project construction.\n",
        "The projects are titled ***De Zalmhaven, The Stack (Overhoeks), Lumiere, SPOT, and Strijp S- Match box***. More information on the projects can be found [here](https://kaanarchitecten.com/type/residential/).\n",
        "\n",
        "\n",
        "Here is the Strijp S - Matchbox Project located in Eindhoven:\n",
        "\n",
        "<center>\n",
        "<img src=\"https://drive.google.com/uc?export=view&id=1j0bJWwaRcaP8DFXcwhYAoFcCrwaDYMLW\" alt=\"isometric\" class=\"center\" width=\"750px\">\n",
        "</center>\n"
      ]
    },
    {
      "cell_type": "markdown",
      "metadata": {
        "id": "HKxV7kPwqsDi"
      },
      "source": [
        "As an example, we take the third floor of the ***Strijp S - Match Box*** project, whose isometric view looks like this:\n",
        "\n",
        "\n",
        "<center>\n",
        "<img src=\"https://drive.google.com/uc?export=view&id=1Qo9jf2_jWEwU6YsaF4eqXKeDEmQ-Sd6o\" alt=\"isometric\" class=\"center\" width=\"750px\">\n",
        "</center>\n",
        "\n",
        "and its floor plan:\n",
        "\n",
        "<center>\n",
        "<img src=\"https://drive.google.com/uc?export=view&id=1jfIhODIOg7i5fr6VfW093rv8NKKypMo2\" alt=\"floor-plan\" class=\"center\" width=\"750px\">\n",
        "</center>\n",
        "\n",
        "both above images are ***the output of BatchPlan***. But these are not the only outputs! We will see other output types later on in this tutorial.\n"
      ]
    },
    {
      "cell_type": "markdown",
      "metadata": {
        "id": "x6DhC6r-S_zc"
      },
      "source": [
        "<a name=\"t1.3\"></a>\n",
        "### 1.3 **Loading Data**\n",
        "\n",
        " We are aiming to make use of the available data files to create our very first DataFrame. Normally, datasets are released in Comma-separated value (.csv) files. Therefore, it is practical to load and read this file format to make use of them in programming platforms. We first need to load the raw data from our data storage (in this case Google Drive) to the compute platform (in this case Google Colab). Here we mount the Google Drive to use the stored files in this notebook. Long story short, we mount the drive to make ***connection between Drive and Colab***.\n",
        "<center>\n",
        "<img src=\"https://drive.google.com/uc?export=view&id=1L5A992d1NolfYRO3lo-NjGBmO0b4rhCH\" alt=\"isometric\" class=\"center\" width=\"600px\">\n",
        "</center>\n"
      ]
    },
    {
      "cell_type": "markdown",
      "metadata": {
        "id": "-ZafSXo-Egop"
      },
      "source": [
        "We use the **os** module (short form for Operating System) to open the desired folder in the drive and ***navigate through the directories*** (i.e., paths, addresses, where the files are stored). The OS module in Python provides functions for interacting with the operating system."
      ]
    },
    {
      "cell_type": "code",
      "execution_count": null,
      "metadata": {
        "id": "5gvnmaKALEPu"
      },
      "outputs": [],
      "source": [
        "#importing drive and os libraries\n",
        "from google.colab import drive\n",
        "import os"
      ]
    },
    {
      "cell_type": "markdown",
      "metadata": {
        "id": "06SZwJYTFJdw"
      },
      "source": [
        "Here we go mounting/ setting up Google Drive:"
      ]
    },
    {
      "cell_type": "code",
      "execution_count": null,
      "metadata": {
        "colab": {
          "base_uri": "https://localhost:8080/"
        },
        "id": "ND5AOyGpZMw4",
        "outputId": "0d2cac7b-0f34-45c6-8749-c48d1109d6b8"
      },
      "outputs": [
        {
          "name": "stdout",
          "output_type": "stream",
          "text": [
            "Mounted at /content/drive\n"
          ]
        }
      ],
      "source": [
        "#mounting google drive\n",
        "drive.mount('/content/drive', force_remount=True)"
      ]
    },
    {
      "cell_type": "markdown",
      "metadata": {
        "id": "gH2OpSm1FWGA"
      },
      "source": [
        "It's always nice to know where we stand (in life in general and also while programming). For that we use a practical function called **getcwd** (short form for \"get current working directory\"). This function is handy when we are lost in the directories (or just curious) and want to know our location."
      ]
    },
    {
      "cell_type": "code",
      "execution_count": null,
      "metadata": {
        "colab": {
          "background_save": true,
          "base_uri": "https://localhost:8080/"
        },
        "id": "F1g587_ngNvH",
        "outputId": "682614e3-0226-4a89-eac4-ce0df0ae56cf"
      },
      "outputs": [
        {
          "name": "stderr",
          "output_type": "stream",
          "text": [
            "ERROR:root:Internal Python error in the inspect module.\n",
            "Below is the traceback from this internal error.\n",
            "\n",
            "ERROR:root:Internal Python error in the inspect module.\n",
            "Below is the traceback from this internal error.\n",
            "\n",
            "ERROR:root:Internal Python error in the inspect module.\n",
            "Below is the traceback from this internal error.\n",
            "\n"
          ]
        },
        {
          "name": "stdout",
          "output_type": "stream",
          "text": [
            "Traceback (most recent call last):\n",
            "  File \"/usr/local/lib/python3.10/dist-packages/IPython/core/interactiveshell.py\", line 3553, in run_code\n",
            "    exec(code_obj, self.user_global_ns, self.user_ns)\n",
            "  File \"<ipython-input-262-e2b8ccd28f09>\", line 2, in <cell line: 2>\n",
            "    os.getcwd()\n",
            "OSError: [Errno 107] Transport endpoint is not connected\n",
            "\n",
            "During handling of the above exception, another exception occurred:\n",
            "\n",
            "Traceback (most recent call last):\n",
            "  File \"/usr/local/lib/python3.10/dist-packages/IPython/core/interactiveshell.py\", line 2099, in showtraceback\n",
            "    stb = value._render_traceback_()\n",
            "AttributeError: 'OSError' object has no attribute '_render_traceback_'\n",
            "\n",
            "During handling of the above exception, another exception occurred:\n",
            "\n",
            "Traceback (most recent call last):\n",
            "  File \"/usr/local/lib/python3.10/dist-packages/IPython/core/ultratb.py\", line 1101, in get_records\n",
            "    return _fixed_getinnerframes(etb, number_of_lines_of_context, tb_offset)\n",
            "  File \"/usr/local/lib/python3.10/dist-packages/IPython/core/ultratb.py\", line 248, in wrapped\n",
            "    return f(*args, **kwargs)\n",
            "  File \"/usr/local/lib/python3.10/dist-packages/IPython/core/ultratb.py\", line 281, in _fixed_getinnerframes\n",
            "    records = fix_frame_records_filenames(inspect.getinnerframes(etb, context))\n",
            "  File \"/usr/lib/python3.10/inspect.py\", line 1662, in getinnerframes\n",
            "    frameinfo = (tb.tb_frame,) + getframeinfo(tb, context)\n",
            "  File \"/usr/lib/python3.10/inspect.py\", line 1620, in getframeinfo\n",
            "    filename = getsourcefile(frame) or getfile(frame)\n",
            "  File \"/usr/lib/python3.10/inspect.py\", line 829, in getsourcefile\n",
            "    module = getmodule(object, filename)\n",
            "  File \"/usr/lib/python3.10/inspect.py\", line 861, in getmodule\n",
            "    file = getabsfile(object, _filename)\n",
            "  File \"/usr/lib/python3.10/inspect.py\", line 845, in getabsfile\n",
            "    return os.path.normcase(os.path.abspath(_filename))\n",
            "  File \"/usr/lib/python3.10/posixpath.py\", line 384, in abspath\n",
            "    cwd = os.getcwd()\n",
            "OSError: [Errno 107] Transport endpoint is not connected\n",
            "Traceback (most recent call last):\n",
            "  File \"/usr/local/lib/python3.10/dist-packages/IPython/core/interactiveshell.py\", line 3553, in run_code\n",
            "    exec(code_obj, self.user_global_ns, self.user_ns)\n",
            "  File \"<ipython-input-262-e2b8ccd28f09>\", line 2, in <cell line: 2>\n",
            "    os.getcwd()\n",
            "OSError: [Errno 107] Transport endpoint is not connected\n",
            "\n",
            "During handling of the above exception, another exception occurred:\n",
            "\n",
            "Traceback (most recent call last):\n",
            "  File \"/usr/local/lib/python3.10/dist-packages/IPython/core/interactiveshell.py\", line 2099, in showtraceback\n",
            "    stb = value._render_traceback_()\n",
            "AttributeError: 'OSError' object has no attribute '_render_traceback_'\n",
            "\n",
            "During handling of the above exception, another exception occurred:\n",
            "\n",
            "Traceback (most recent call last):\n",
            "  File \"/usr/local/lib/python3.10/dist-packages/IPython/core/interactiveshell.py\", line 3473, in run_ast_nodes\n",
            "    if (await self.run_code(code, result,  async_=asy)):\n",
            "  File \"/usr/local/lib/python3.10/dist-packages/IPython/core/interactiveshell.py\", line 3575, in run_code\n",
            "    self.showtraceback(running_compiled_code=True)\n",
            "  File \"/usr/local/lib/python3.10/dist-packages/IPython/core/interactiveshell.py\", line 2101, in showtraceback\n",
            "    stb = self.InteractiveTB.structured_traceback(etype,\n",
            "  File \"/usr/local/lib/python3.10/dist-packages/IPython/core/ultratb.py\", line 1367, in structured_traceback\n",
            "    return FormattedTB.structured_traceback(\n",
            "  File \"/usr/local/lib/python3.10/dist-packages/IPython/core/ultratb.py\", line 1267, in structured_traceback\n",
            "    return VerboseTB.structured_traceback(\n",
            "  File \"/usr/local/lib/python3.10/dist-packages/IPython/core/ultratb.py\", line 1124, in structured_traceback\n",
            "    formatted_exception = self.format_exception_as_a_whole(etype, evalue, etb, number_of_lines_of_context,\n",
            "  File \"/usr/local/lib/python3.10/dist-packages/IPython/core/ultratb.py\", line 1082, in format_exception_as_a_whole\n",
            "    last_unique, recursion_repeat = find_recursion(orig_etype, evalue, records)\n",
            "  File \"/usr/local/lib/python3.10/dist-packages/IPython/core/ultratb.py\", line 382, in find_recursion\n",
            "    return len(records), 0\n",
            "TypeError: object of type 'NoneType' has no len()\n",
            "\n",
            "During handling of the above exception, another exception occurred:\n",
            "\n",
            "Traceback (most recent call last):\n",
            "  File \"/usr/local/lib/python3.10/dist-packages/IPython/core/interactiveshell.py\", line 2099, in showtraceback\n",
            "    stb = value._render_traceback_()\n",
            "AttributeError: 'TypeError' object has no attribute '_render_traceback_'\n",
            "\n",
            "During handling of the above exception, another exception occurred:\n",
            "\n",
            "Traceback (most recent call last):\n",
            "  File \"/usr/local/lib/python3.10/dist-packages/IPython/core/ultratb.py\", line 1101, in get_records\n",
            "    return _fixed_getinnerframes(etb, number_of_lines_of_context, tb_offset)\n",
            "  File \"/usr/local/lib/python3.10/dist-packages/IPython/core/ultratb.py\", line 248, in wrapped\n",
            "    return f(*args, **kwargs)\n",
            "  File \"/usr/local/lib/python3.10/dist-packages/IPython/core/ultratb.py\", line 281, in _fixed_getinnerframes\n",
            "    records = fix_frame_records_filenames(inspect.getinnerframes(etb, context))\n",
            "  File \"/usr/lib/python3.10/inspect.py\", line 1662, in getinnerframes\n",
            "    frameinfo = (tb.tb_frame,) + getframeinfo(tb, context)\n",
            "  File \"/usr/lib/python3.10/inspect.py\", line 1620, in getframeinfo\n",
            "    filename = getsourcefile(frame) or getfile(frame)\n",
            "  File \"/usr/lib/python3.10/inspect.py\", line 829, in getsourcefile\n",
            "    module = getmodule(object, filename)\n",
            "  File \"/usr/lib/python3.10/inspect.py\", line 861, in getmodule\n",
            "    file = getabsfile(object, _filename)\n",
            "  File \"/usr/lib/python3.10/inspect.py\", line 845, in getabsfile\n",
            "    return os.path.normcase(os.path.abspath(_filename))\n",
            "  File \"/usr/lib/python3.10/posixpath.py\", line 384, in abspath\n",
            "    cwd = os.getcwd()\n",
            "OSError: [Errno 107] Transport endpoint is not connected\n",
            "Traceback (most recent call last):\n",
            "  File \"/usr/local/lib/python3.10/dist-packages/IPython/core/interactiveshell.py\", line 3553, in run_code\n",
            "    exec(code_obj, self.user_global_ns, self.user_ns)\n",
            "  File \"<ipython-input-262-e2b8ccd28f09>\", line 2, in <cell line: 2>\n",
            "    os.getcwd()\n",
            "OSError: [Errno 107] Transport endpoint is not connected\n",
            "\n",
            "During handling of the above exception, another exception occurred:\n",
            "\n",
            "Traceback (most recent call last):\n",
            "  File \"/usr/local/lib/python3.10/dist-packages/IPython/core/interactiveshell.py\", line 2099, in showtraceback\n",
            "    stb = value._render_traceback_()\n",
            "AttributeError: 'OSError' object has no attribute '_render_traceback_'\n",
            "\n",
            "During handling of the above exception, another exception occurred:\n",
            "\n",
            "Traceback (most recent call last):\n",
            "  File \"/usr/local/lib/python3.10/dist-packages/IPython/core/interactiveshell.py\", line 3473, in run_ast_nodes\n",
            "    if (await self.run_code(code, result,  async_=asy)):\n",
            "  File \"/usr/local/lib/python3.10/dist-packages/IPython/core/interactiveshell.py\", line 3575, in run_code\n",
            "    self.showtraceback(running_compiled_code=True)\n",
            "  File \"/usr/local/lib/python3.10/dist-packages/IPython/core/interactiveshell.py\", line 2101, in showtraceback\n",
            "    stb = self.InteractiveTB.structured_traceback(etype,\n",
            "  File \"/usr/local/lib/python3.10/dist-packages/IPython/core/ultratb.py\", line 1367, in structured_traceback\n",
            "    return FormattedTB.structured_traceback(\n",
            "  File \"/usr/local/lib/python3.10/dist-packages/IPython/core/ultratb.py\", line 1267, in structured_traceback\n",
            "    return VerboseTB.structured_traceback(\n",
            "  File \"/usr/local/lib/python3.10/dist-packages/IPython/core/ultratb.py\", line 1124, in structured_traceback\n",
            "    formatted_exception = self.format_exception_as_a_whole(etype, evalue, etb, number_of_lines_of_context,\n",
            "  File \"/usr/local/lib/python3.10/dist-packages/IPython/core/ultratb.py\", line 1082, in format_exception_as_a_whole\n",
            "    last_unique, recursion_repeat = find_recursion(orig_etype, evalue, records)\n",
            "  File \"/usr/local/lib/python3.10/dist-packages/IPython/core/ultratb.py\", line 382, in find_recursion\n",
            "    return len(records), 0\n",
            "TypeError: object of type 'NoneType' has no len()\n",
            "\n",
            "During handling of the above exception, another exception occurred:\n",
            "\n",
            "Traceback (most recent call last):\n",
            "  File \"/usr/local/lib/python3.10/dist-packages/IPython/core/interactiveshell.py\", line 2099, in showtraceback\n",
            "    stb = value._render_traceback_()\n",
            "AttributeError: 'TypeError' object has no attribute '_render_traceback_'\n",
            "\n",
            "During handling of the above exception, another exception occurred:\n",
            "\n",
            "Traceback (most recent call last):\n",
            "  File \"/usr/local/lib/python3.10/dist-packages/IPython/core/interactiveshell.py\", line 3030, in _run_cell\n",
            "    return runner(coro)\n",
            "  File \"/usr/local/lib/python3.10/dist-packages/IPython/core/async_helpers.py\", line 78, in _pseudo_sync_runner\n",
            "    coro.send(None)\n",
            "  File \"/usr/local/lib/python3.10/dist-packages/IPython/core/interactiveshell.py\", line 3257, in run_cell_async\n",
            "    has_raised = await self.run_ast_nodes(code_ast.body, cell_name,\n",
            "  File \"/usr/local/lib/python3.10/dist-packages/IPython/core/interactiveshell.py\", line 3492, in run_ast_nodes\n",
            "    self.showtraceback()\n",
            "  File \"/usr/local/lib/python3.10/dist-packages/IPython/core/interactiveshell.py\", line 2101, in showtraceback\n",
            "    stb = self.InteractiveTB.structured_traceback(etype,\n",
            "  File \"/usr/local/lib/python3.10/dist-packages/IPython/core/ultratb.py\", line 1367, in structured_traceback\n",
            "    return FormattedTB.structured_traceback(\n",
            "  File \"/usr/local/lib/python3.10/dist-packages/IPython/core/ultratb.py\", line 1267, in structured_traceback\n",
            "    return VerboseTB.structured_traceback(\n",
            "  File \"/usr/local/lib/python3.10/dist-packages/IPython/core/ultratb.py\", line 1142, in structured_traceback\n",
            "    formatted_exceptions += self.format_exception_as_a_whole(etype, evalue, etb, lines_of_context,\n",
            "  File \"/usr/local/lib/python3.10/dist-packages/IPython/core/ultratb.py\", line 1082, in format_exception_as_a_whole\n",
            "    last_unique, recursion_repeat = find_recursion(orig_etype, evalue, records)\n",
            "  File \"/usr/local/lib/python3.10/dist-packages/IPython/core/ultratb.py\", line 382, in find_recursion\n",
            "    return len(records), 0\n",
            "TypeError: object of type 'NoneType' has no len()\n",
            "\n",
            "During handling of the above exception, another exception occurred:\n",
            "\n",
            "Traceback (most recent call last):\n",
            "  File \"/usr/local/lib/python3.10/dist-packages/IPython/core/interactiveshell.py\", line 2099, in showtraceback\n",
            "    stb = value._render_traceback_()\n",
            "AttributeError: 'TypeError' object has no attribute '_render_traceback_'\n",
            "\n",
            "During handling of the above exception, another exception occurred:\n",
            "\n",
            "Traceback (most recent call last):\n",
            "  File \"/usr/local/lib/python3.10/dist-packages/IPython/core/ultratb.py\", line 1101, in get_records\n",
            "    return _fixed_getinnerframes(etb, number_of_lines_of_context, tb_offset)\n",
            "  File \"/usr/local/lib/python3.10/dist-packages/IPython/core/ultratb.py\", line 248, in wrapped\n",
            "    return f(*args, **kwargs)\n",
            "  File \"/usr/local/lib/python3.10/dist-packages/IPython/core/ultratb.py\", line 281, in _fixed_getinnerframes\n",
            "    records = fix_frame_records_filenames(inspect.getinnerframes(etb, context))\n",
            "  File \"/usr/lib/python3.10/inspect.py\", line 1662, in getinnerframes\n",
            "    frameinfo = (tb.tb_frame,) + getframeinfo(tb, context)\n",
            "  File \"/usr/lib/python3.10/inspect.py\", line 1620, in getframeinfo\n",
            "    filename = getsourcefile(frame) or getfile(frame)\n",
            "  File \"/usr/lib/python3.10/inspect.py\", line 829, in getsourcefile\n",
            "    module = getmodule(object, filename)\n",
            "  File \"/usr/lib/python3.10/inspect.py\", line 861, in getmodule\n",
            "    file = getabsfile(object, _filename)\n",
            "  File \"/usr/lib/python3.10/inspect.py\", line 845, in getabsfile\n",
            "    return os.path.normcase(os.path.abspath(_filename))\n",
            "  File \"/usr/lib/python3.10/posixpath.py\", line 384, in abspath\n",
            "    cwd = os.getcwd()\n",
            "OSError: [Errno 107] Transport endpoint is not connected\n"
          ]
        }
      ],
      "source": [
        "#checking the current working directory\n",
        "os.getcwd()"
      ]
    },
    {
      "cell_type": "markdown",
      "metadata": {
        "id": "4BPBJeyZUJgR"
      },
      "source": [
        "So there we are. Next, we can copy the path of the desired folder in the left side bar of this notebook (the folder icon), ***Files/Drive/Mydrive*** and then whichever folder we are looking for. Here you can copy the files related to your project from this shared folder, somewhere in your own Drive and then copy the path of that folder in the code cell below as the \"path\" variable."
      ]
    },
    {
      "cell_type": "code",
      "execution_count": null,
      "metadata": {
        "id": "7mtmKAz3e_Y5"
      },
      "outputs": [],
      "source": [
        "#giving the directory of the files\n",
        "path = \"/content/drive/MyDrive/KAAN_Projects/Strijp_S/general_csv\"\n",
        "# using chdir for changing the directory to the path we look for\n",
        "os.chdir(path)"
      ]
    },
    {
      "cell_type": "markdown",
      "metadata": {
        "id": "raKBh2jjWUkc"
      },
      "source": [
        "Care to check the current working directory again to make sure we are in the right place?"
      ]
    },
    {
      "cell_type": "code",
      "execution_count": null,
      "metadata": {
        "colab": {
          "base_uri": "https://localhost:8080/",
          "height": 36
        },
        "id": "BsUAvQZ4WT_n",
        "outputId": "923adb4b-4d23-4635-ac5f-5927fdbee042"
      },
      "outputs": [
        {
          "data": {
            "application/vnd.google.colaboratory.intrinsic+json": {
              "type": "string"
            },
            "text/plain": [
              "'/content/drive/MyDrive/KAAN_Projects/Strijp_S/general_csv'"
            ]
          },
          "execution_count": 204,
          "metadata": {},
          "output_type": "execute_result"
        }
      ],
      "source": [
        "#checking the current working directory\n",
        "os.getcwd()"
      ]
    },
    {
      "cell_type": "markdown",
      "metadata": {
        "id": "YHVGP9LTWjy_"
      },
      "source": [
        "-The place you wanted to end up? Yes? -Nice. -No? -Then use **.chdir** again."
      ]
    },
    {
      "cell_type": "markdown",
      "metadata": {
        "id": "UoIv_CnFgmQK"
      },
      "source": [
        "<a name=\"t2\"></a>\n",
        "## 🌐 **GeoDataFrame**\n",
        "Now that we landed in a folder where we have our building project files, it's time to take our first baby steps towards creating a DataFrame ^^ Here we learn how to create ***Pandas*** DataFrame, read, sort, and select the intended data, create a ***GeoDataFrame***, and visualize floor plans.\n"
      ]
    },
    {
      "cell_type": "markdown",
      "metadata": {
        "id": "lf6vvNLXgmQS"
      },
      "source": [
        "<a name=\"t2.1\"></a>\n",
        "### 2.1 **Pandas DataFrame**\n",
        "\n",
        "In order to make an efficient analysis on big data of several buildings, it is beneficial to create a so-called clean DataFrame. One of the most practical libraries to deal with DataFrames is **pandas**, an open source library providing high-performance, easy-to-use data structures and data analysis tools for the Python programming language. A DataFrame contains labeled axes (rows and columns).\n",
        "<center>\n",
        "<img src=\"https://runcode-app-public.s3.amazonaws.com/images/pandas-online-editor-compiler.original.png\" alt=\"isometric\" class=\"center\" width=\"550px\">\n",
        "</center>\n",
        "The Pandas' highlights are as follows:\n",
        "\n",
        "\n",
        "*   A fast and efficient DataFrame object for **data manipulation**\n",
        "*   Tools for reading and writing data between **different formats**: CSV and text files, Microsoft Excel, etc\n",
        "*   Intelligent label-based slicing, fancy indexing, and subsetting of large data sets\n",
        "*   **Size mutability** by inserting and deleting columns\n",
        "*   High performance **merging and joining** of data sets\n",
        "\n",
        "We will go through a number of pandas features in this tutorial, but if you are still curious to know more and want to play around, [here is a nice pandas cheat sheet](https://pandas.pydata.org/Pandas_Cheat_Sheet.pdf). *Wait what is a cheat sheet?* A cheat sheet is a concise set of notes used for quick reference.\n",
        "\n",
        "Mentioning the point above, we can understand the difference of ***storing big data*** of building project in DataFrames, rather than in arrays, or lists that we already learned. Of course all have their own applications, but let's *feel* the diffrence in the following cells! First, we need to import the library.\n",
        "\n"
      ]
    },
    {
      "cell_type": "code",
      "execution_count": null,
      "metadata": {
        "id": "MOiYVy27vTIM"
      },
      "outputs": [],
      "source": [
        "#importing pandas library (but we will later call it with the nickname we chose for it, here: pd)\n",
        "import pandas as pd\n",
        "#importing numpy library\n",
        "import numpy as np"
      ]
    },
    {
      "cell_type": "markdown",
      "metadata": {
        "id": "YARCVWMOcI7F"
      },
      "source": [
        "We already got familiar with the array data type. With pd.Dataframe, we can creat **a DataFrame object** from the arrays. Normally, with only **data** and **column** specification as parameters we can quickly define a DataFrame. However, there are more parameters we can define. Curious? then check [the pandas.DataFrame documentation](https://pandas.pydata.org/pandas-docs/stable/reference/api/pandas.DataFrame.html)"
      ]
    },
    {
      "cell_type": "code",
      "execution_count": null,
      "metadata": {
        "colab": {
          "base_uri": "https://localhost:8080/",
          "height": 144
        },
        "id": "QS9mjb58ufwb",
        "outputId": "8fc74f16-5a4e-4489-fbde-d81cc8723307"
      },
      "outputs": [
        {
          "data": {
            "application/vnd.google.colaboratory.intrinsic+json": {
              "summary": "{\n  \"name\": \"df\",\n  \"rows\": 3,\n  \"fields\": [\n    {\n      \"column\": \"a\",\n      \"properties\": {\n        \"dtype\": \"number\",\n        \"std\": 3,\n        \"min\": 1,\n        \"max\": 7,\n        \"num_unique_values\": 3,\n        \"samples\": [\n          1,\n          4,\n          7\n        ],\n        \"semantic_type\": \"\",\n        \"description\": \"\"\n      }\n    },\n    {\n      \"column\": \"b\",\n      \"properties\": {\n        \"dtype\": \"number\",\n        \"std\": 3,\n        \"min\": 2,\n        \"max\": 8,\n        \"num_unique_values\": 3,\n        \"samples\": [\n          2,\n          5,\n          8\n        ],\n        \"semantic_type\": \"\",\n        \"description\": \"\"\n      }\n    },\n    {\n      \"column\": \"c\",\n      \"properties\": {\n        \"dtype\": \"number\",\n        \"std\": 3,\n        \"min\": 3,\n        \"max\": 9,\n        \"num_unique_values\": 3,\n        \"samples\": [\n          3,\n          6,\n          9\n        ],\n        \"semantic_type\": \"\",\n        \"description\": \"\"\n      }\n    }\n  ]\n}",
              "type": "dataframe",
              "variable_name": "df"
            },
            "text/html": [
              "\n",
              "  <div id=\"df-7dfc8578-ae4b-4d63-a647-35e06450066d\" class=\"colab-df-container\">\n",
              "    <div>\n",
              "<style scoped>\n",
              "    .dataframe tbody tr th:only-of-type {\n",
              "        vertical-align: middle;\n",
              "    }\n",
              "\n",
              "    .dataframe tbody tr th {\n",
              "        vertical-align: top;\n",
              "    }\n",
              "\n",
              "    .dataframe thead th {\n",
              "        text-align: right;\n",
              "    }\n",
              "</style>\n",
              "<table border=\"1\" class=\"dataframe\">\n",
              "  <thead>\n",
              "    <tr style=\"text-align: right;\">\n",
              "      <th></th>\n",
              "      <th>a</th>\n",
              "      <th>b</th>\n",
              "      <th>c</th>\n",
              "    </tr>\n",
              "  </thead>\n",
              "  <tbody>\n",
              "    <tr>\n",
              "      <th>0</th>\n",
              "      <td>1</td>\n",
              "      <td>2</td>\n",
              "      <td>3</td>\n",
              "    </tr>\n",
              "    <tr>\n",
              "      <th>1</th>\n",
              "      <td>4</td>\n",
              "      <td>5</td>\n",
              "      <td>6</td>\n",
              "    </tr>\n",
              "    <tr>\n",
              "      <th>2</th>\n",
              "      <td>7</td>\n",
              "      <td>8</td>\n",
              "      <td>9</td>\n",
              "    </tr>\n",
              "  </tbody>\n",
              "</table>\n",
              "</div>\n",
              "    <div class=\"colab-df-buttons\">\n",
              "\n",
              "  <div class=\"colab-df-container\">\n",
              "    <button class=\"colab-df-convert\" onclick=\"convertToInteractive('df-7dfc8578-ae4b-4d63-a647-35e06450066d')\"\n",
              "            title=\"Convert this dataframe to an interactive table.\"\n",
              "            style=\"display:none;\">\n",
              "\n",
              "  <svg xmlns=\"http://www.w3.org/2000/svg\" height=\"24px\" viewBox=\"0 -960 960 960\">\n",
              "    <path d=\"M120-120v-720h720v720H120Zm60-500h600v-160H180v160Zm220 220h160v-160H400v160Zm0 220h160v-160H400v160ZM180-400h160v-160H180v160Zm440 0h160v-160H620v160ZM180-180h160v-160H180v160Zm440 0h160v-160H620v160Z\"/>\n",
              "  </svg>\n",
              "    </button>\n",
              "\n",
              "  <style>\n",
              "    .colab-df-container {\n",
              "      display:flex;\n",
              "      gap: 12px;\n",
              "    }\n",
              "\n",
              "    .colab-df-convert {\n",
              "      background-color: #E8F0FE;\n",
              "      border: none;\n",
              "      border-radius: 50%;\n",
              "      cursor: pointer;\n",
              "      display: none;\n",
              "      fill: #1967D2;\n",
              "      height: 32px;\n",
              "      padding: 0 0 0 0;\n",
              "      width: 32px;\n",
              "    }\n",
              "\n",
              "    .colab-df-convert:hover {\n",
              "      background-color: #E2EBFA;\n",
              "      box-shadow: 0px 1px 2px rgba(60, 64, 67, 0.3), 0px 1px 3px 1px rgba(60, 64, 67, 0.15);\n",
              "      fill: #174EA6;\n",
              "    }\n",
              "\n",
              "    .colab-df-buttons div {\n",
              "      margin-bottom: 4px;\n",
              "    }\n",
              "\n",
              "    [theme=dark] .colab-df-convert {\n",
              "      background-color: #3B4455;\n",
              "      fill: #D2E3FC;\n",
              "    }\n",
              "\n",
              "    [theme=dark] .colab-df-convert:hover {\n",
              "      background-color: #434B5C;\n",
              "      box-shadow: 0px 1px 3px 1px rgba(0, 0, 0, 0.15);\n",
              "      filter: drop-shadow(0px 1px 2px rgba(0, 0, 0, 0.3));\n",
              "      fill: #FFFFFF;\n",
              "    }\n",
              "  </style>\n",
              "\n",
              "    <script>\n",
              "      const buttonEl =\n",
              "        document.querySelector('#df-7dfc8578-ae4b-4d63-a647-35e06450066d button.colab-df-convert');\n",
              "      buttonEl.style.display =\n",
              "        google.colab.kernel.accessAllowed ? 'block' : 'none';\n",
              "\n",
              "      async function convertToInteractive(key) {\n",
              "        const element = document.querySelector('#df-7dfc8578-ae4b-4d63-a647-35e06450066d');\n",
              "        const dataTable =\n",
              "          await google.colab.kernel.invokeFunction('convertToInteractive',\n",
              "                                                    [key], {});\n",
              "        if (!dataTable) return;\n",
              "\n",
              "        const docLinkHtml = 'Like what you see? Visit the ' +\n",
              "          '<a target=\"_blank\" href=https://colab.research.google.com/notebooks/data_table.ipynb>data table notebook</a>'\n",
              "          + ' to learn more about interactive tables.';\n",
              "        element.innerHTML = '';\n",
              "        dataTable['output_type'] = 'display_data';\n",
              "        await google.colab.output.renderOutput(dataTable, element);\n",
              "        const docLink = document.createElement('div');\n",
              "        docLink.innerHTML = docLinkHtml;\n",
              "        element.appendChild(docLink);\n",
              "      }\n",
              "    </script>\n",
              "  </div>\n",
              "\n",
              "\n",
              "<div id=\"df-21f48928-957d-491c-8ac6-d5d009d0801f\">\n",
              "  <button class=\"colab-df-quickchart\" onclick=\"quickchart('df-21f48928-957d-491c-8ac6-d5d009d0801f')\"\n",
              "            title=\"Suggest charts\"\n",
              "            style=\"display:none;\">\n",
              "\n",
              "<svg xmlns=\"http://www.w3.org/2000/svg\" height=\"24px\"viewBox=\"0 0 24 24\"\n",
              "     width=\"24px\">\n",
              "    <g>\n",
              "        <path d=\"M19 3H5c-1.1 0-2 .9-2 2v14c0 1.1.9 2 2 2h14c1.1 0 2-.9 2-2V5c0-1.1-.9-2-2-2zM9 17H7v-7h2v7zm4 0h-2V7h2v10zm4 0h-2v-4h2v4z\"/>\n",
              "    </g>\n",
              "</svg>\n",
              "  </button>\n",
              "\n",
              "<style>\n",
              "  .colab-df-quickchart {\n",
              "      --bg-color: #E8F0FE;\n",
              "      --fill-color: #1967D2;\n",
              "      --hover-bg-color: #E2EBFA;\n",
              "      --hover-fill-color: #174EA6;\n",
              "      --disabled-fill-color: #AAA;\n",
              "      --disabled-bg-color: #DDD;\n",
              "  }\n",
              "\n",
              "  [theme=dark] .colab-df-quickchart {\n",
              "      --bg-color: #3B4455;\n",
              "      --fill-color: #D2E3FC;\n",
              "      --hover-bg-color: #434B5C;\n",
              "      --hover-fill-color: #FFFFFF;\n",
              "      --disabled-bg-color: #3B4455;\n",
              "      --disabled-fill-color: #666;\n",
              "  }\n",
              "\n",
              "  .colab-df-quickchart {\n",
              "    background-color: var(--bg-color);\n",
              "    border: none;\n",
              "    border-radius: 50%;\n",
              "    cursor: pointer;\n",
              "    display: none;\n",
              "    fill: var(--fill-color);\n",
              "    height: 32px;\n",
              "    padding: 0;\n",
              "    width: 32px;\n",
              "  }\n",
              "\n",
              "  .colab-df-quickchart:hover {\n",
              "    background-color: var(--hover-bg-color);\n",
              "    box-shadow: 0 1px 2px rgba(60, 64, 67, 0.3), 0 1px 3px 1px rgba(60, 64, 67, 0.15);\n",
              "    fill: var(--button-hover-fill-color);\n",
              "  }\n",
              "\n",
              "  .colab-df-quickchart-complete:disabled,\n",
              "  .colab-df-quickchart-complete:disabled:hover {\n",
              "    background-color: var(--disabled-bg-color);\n",
              "    fill: var(--disabled-fill-color);\n",
              "    box-shadow: none;\n",
              "  }\n",
              "\n",
              "  .colab-df-spinner {\n",
              "    border: 2px solid var(--fill-color);\n",
              "    border-color: transparent;\n",
              "    border-bottom-color: var(--fill-color);\n",
              "    animation:\n",
              "      spin 1s steps(1) infinite;\n",
              "  }\n",
              "\n",
              "  @keyframes spin {\n",
              "    0% {\n",
              "      border-color: transparent;\n",
              "      border-bottom-color: var(--fill-color);\n",
              "      border-left-color: var(--fill-color);\n",
              "    }\n",
              "    20% {\n",
              "      border-color: transparent;\n",
              "      border-left-color: var(--fill-color);\n",
              "      border-top-color: var(--fill-color);\n",
              "    }\n",
              "    30% {\n",
              "      border-color: transparent;\n",
              "      border-left-color: var(--fill-color);\n",
              "      border-top-color: var(--fill-color);\n",
              "      border-right-color: var(--fill-color);\n",
              "    }\n",
              "    40% {\n",
              "      border-color: transparent;\n",
              "      border-right-color: var(--fill-color);\n",
              "      border-top-color: var(--fill-color);\n",
              "    }\n",
              "    60% {\n",
              "      border-color: transparent;\n",
              "      border-right-color: var(--fill-color);\n",
              "    }\n",
              "    80% {\n",
              "      border-color: transparent;\n",
              "      border-right-color: var(--fill-color);\n",
              "      border-bottom-color: var(--fill-color);\n",
              "    }\n",
              "    90% {\n",
              "      border-color: transparent;\n",
              "      border-bottom-color: var(--fill-color);\n",
              "    }\n",
              "  }\n",
              "</style>\n",
              "\n",
              "  <script>\n",
              "    async function quickchart(key) {\n",
              "      const quickchartButtonEl =\n",
              "        document.querySelector('#' + key + ' button');\n",
              "      quickchartButtonEl.disabled = true;  // To prevent multiple clicks.\n",
              "      quickchartButtonEl.classList.add('colab-df-spinner');\n",
              "      try {\n",
              "        const charts = await google.colab.kernel.invokeFunction(\n",
              "            'suggestCharts', [key], {});\n",
              "      } catch (error) {\n",
              "        console.error('Error during call to suggestCharts:', error);\n",
              "      }\n",
              "      quickchartButtonEl.classList.remove('colab-df-spinner');\n",
              "      quickchartButtonEl.classList.add('colab-df-quickchart-complete');\n",
              "    }\n",
              "    (() => {\n",
              "      let quickchartButtonEl =\n",
              "        document.querySelector('#df-21f48928-957d-491c-8ac6-d5d009d0801f button');\n",
              "      quickchartButtonEl.style.display =\n",
              "        google.colab.kernel.accessAllowed ? 'block' : 'none';\n",
              "    })();\n",
              "  </script>\n",
              "</div>\n",
              "    </div>\n",
              "  </div>\n"
            ],
            "text/plain": [
              "   a  b  c\n",
              "0  1  2  3\n",
              "1  4  5  6\n",
              "2  7  8  9"
            ]
          },
          "execution_count": 206,
          "metadata": {},
          "output_type": "execute_result"
        }
      ],
      "source": [
        "#constructing DataFrame from numpy ndarray\n",
        "df = pd.DataFrame(data=np.array([[1, 2, 3], [4, 5, 6], [7, 8, 9]]),\n",
        "                   columns=['a', 'b', 'c'])\n",
        "#taking a look at the DataFrame just by typing its name\n",
        "df"
      ]
    },
    {
      "cell_type": "markdown",
      "metadata": {
        "id": "_GjT6qm2d8bn"
      },
      "source": [
        "So this is how a simple DataFrame looks like. One of the practical functions that pandas offer to ***iterate through the DataFrame*** is ***.loc***, which helps accessing a group of values using labels. Now we are going to combine this function with the \"for loop\" we already learned. Let's assume we want to go through each row of the DataFrame and select rows from specified columns (i.e., labels). First, we need to know ***how many rows*** are there in the DataFrame to specify the range of the for loop. We do this by using len()."
      ]
    },
    {
      "cell_type": "code",
      "execution_count": null,
      "metadata": {
        "colab": {
          "base_uri": "https://localhost:8080/"
        },
        "id": "7rD-o-i1gTyn",
        "outputId": "cea48f32-41ad-404b-c9da-8c3c66e2cafb"
      },
      "outputs": [
        {
          "data": {
            "text/plain": [
              "3"
            ]
          },
          "execution_count": 207,
          "metadata": {},
          "output_type": "execute_result"
        }
      ],
      "source": [
        "len(df)"
      ]
    },
    {
      "cell_type": "code",
      "execution_count": null,
      "metadata": {
        "colab": {
          "base_uri": "https://localhost:8080/"
        },
        "id": "C4JZxY1ydxQO",
        "outputId": "a80c2c5e-328a-4615-b741-db8041c863e4"
      },
      "outputs": [
        {
          "name": "stdout",
          "output_type": "stream",
          "text": [
            "2 3\n",
            "5 6\n",
            "8 9\n"
          ]
        }
      ],
      "source": [
        "#iterate through each row and select 'b' and 'b' column respectively\n",
        "for i in range(len(df)):\n",
        "    print(df.loc[i, \"b\"], df.loc[i, \"c\"])"
      ]
    },
    {
      "cell_type": "markdown",
      "metadata": {
        "id": "FnIqVbwIhvCM"
      },
      "source": [
        "A similar function but with different parameters is iloc(), which helps accessing a  group of rows and columns by integer position(s). Here, we want to go through each row and print first and third column. (which is translated into 0th and 2nd, in programming language)"
      ]
    },
    {
      "cell_type": "code",
      "execution_count": null,
      "metadata": {
        "colab": {
          "base_uri": "https://localhost:8080/"
        },
        "id": "Wr11KFSYdbbk",
        "outputId": "a7b0036f-2271-4a2b-acc0-6b371c2aeba0"
      },
      "outputs": [
        {
          "name": "stdout",
          "output_type": "stream",
          "text": [
            "1 3\n",
            "4 6\n",
            "7 9\n"
          ]
        }
      ],
      "source": [
        "#iterate through each row and select\n",
        "# 0th and 2nd index column respectively.\n",
        "for i in range(len(df)):\n",
        "    print(df.iloc[i, 0], df.iloc[i, 2])"
      ]
    },
    {
      "cell_type": "markdown",
      "metadata": {
        "id": "GBrcZFzeleJz"
      },
      "source": [
        "So we saw that a DataFrame is not a big deal (***for now :)***). It looks like a table, and indeed the DataFrame object is a \"tabular data\" format. But the story does not end here. Now we want to create a DataFrame from the csv files that we have stored in the Google Drive. Now that the Drive has been already mounted, the only thing to do is to ***read*** the intended file. If we have a certain naming convention among the files that we want to load, it is easier to only use the variant part as the variable, and keep the repetitive part of the names as fixed. In the following example, we assume that we have the naming convention of \"filename\" + \".csv\". After writing the project's name as the \"project_name\" variable, we can use the ***read.csv*** function of Pandas to load the desired file."
      ]
    },
    {
      "cell_type": "code",
      "execution_count": null,
      "metadata": {
        "colab": {
          "base_uri": "https://localhost:8080/"
        },
        "id": "sobPskAnLEP0",
        "outputId": "a9353438-65e7-4fbf-85cc-653e2aef835a"
      },
      "outputs": [
        {
          "name": "stderr",
          "output_type": "stream",
          "text": [
            "<ipython-input-210-ebe7f6177eaf>:4: DtypeWarning: Columns (10,11,12,15,16,17,20,21,22,23,25,26,28,31,43,44,46,47,50,51,52,53,55,56,57,60,61,62,64,65,67,68,72,73,74,78,79,81,82,83,84,85,90,92,94,97,99,100,104,107,109,113,116,117,122,123,126,127,129,130,132,133,148,150,152,157,158,160,168,169,174,176,178,180,182,184,186,187,189,190,194,198,201,207,208,210,215,216,217,221,230,232,233,234,238,239,242,246,257,260,261,262,266,272,275,278,280,281,283,284,286) have mixed types. Specify dtype option on import or set low_memory=False.\n",
            "  StrijpS_df = pd.read_csv(project_name+\".csv\")\n"
          ]
        }
      ],
      "source": [
        "#name of the file as the variable\n",
        "project_name = \"STRIJP-KAAN-ZZ-ZZ-M-A-0101\"\n",
        "#reading a comma-separated values (csv) file into DataFrame\n",
        "StrijpS_df = pd.read_csv(project_name+\".csv\")"
      ]
    },
    {
      "cell_type": "markdown",
      "metadata": {
        "id": "6aMH8qQYJbyo"
      },
      "source": [
        "Here we have created a DataFrame with the name \"StrijpS_df\". ***Tip:*** if we highlight the objects and keep the cursor, the type is shown (ex: StrijpS_df is a DataFrame, as we wanted it to be, luckily). This comes in handy when we doubt about the data type of a certain variable.\n",
        "\n",
        "Next, we will get familiarized with the data and learn how to clean the DataFrame."
      ]
    },
    {
      "cell_type": "markdown",
      "metadata": {
        "id": "1DCDY_awgmQS"
      },
      "source": [
        "<a name=\"t2.2\"></a>\n",
        "### 2.2 **Cleaning Data**\n",
        "\n",
        "\n",
        "Data cleaning is performed for ***data consistency***. In data cleaning process, redundant data is removed and incorrect, incomplete, irrelevant, or improperly formatted data is modified. The data cleaning extends to fixing spelling and syntax errors, and standardizing data. It is also tailored towards the selection, manipulation, and format processing of for the downstream task.\n",
        "\n",
        "But wait a second, how do we know what to clean and to what extent we need to clean (in plain English, is it simply *dusting* or is it *deep cleaning*?) The preliminary step to clean the data, is ***to get to know the raw data***. For instance, the data types that the file contains, the features (the columns), the first and last few rows of the DataFrame, and the number of unique items per feature. So basically, by ***cleaning*** we mean: ***reading, sorting, and selecting data***. The following cells will help getting familiar with the DataFrame and make it ready for the subsequent steps.\n"
      ]
    },
    {
      "cell_type": "code",
      "execution_count": null,
      "metadata": {
        "colab": {
          "base_uri": "https://localhost:8080/"
        },
        "id": "CqlA93i8LEP2",
        "outputId": "a15c4a91-dfc8-49c1-f9fe-9fa95f68aa41"
      },
      "outputs": [
        {
          "name": "stdout",
          "output_type": "stream",
          "text": [
            "<class 'pandas.core.frame.DataFrame'>\n",
            "RangeIndex: 7000 entries, 0 to 6999\n",
            "Columns: 288 entries, Unnamed: 0 to KAAN_ILS Summary.id\n",
            "dtypes: float64(169), int64(2), object(117)\n",
            "memory usage: 15.4+ MB\n"
          ]
        }
      ],
      "source": [
        "#printing a concise summary of a DataFrame\n",
        "StrijpS_df.info()"
      ]
    },
    {
      "cell_type": "code",
      "execution_count": null,
      "metadata": {
        "colab": {
          "base_uri": "https://localhost:8080/"
        },
        "id": "CdhkdjPIg9GD",
        "outputId": "ff6ee586-cbb4-44af-9cfd-c7f452dcd11d"
      },
      "outputs": [
        {
          "data": {
            "text/plain": [
              "7000"
            ]
          },
          "execution_count": 212,
          "metadata": {},
          "output_type": "execute_result"
        }
      ],
      "source": [
        "len(StrijpS_df)"
      ]
    },
    {
      "cell_type": "markdown",
      "metadata": {
        "id": "8V7RbZhQKR0h"
      },
      "source": [
        "Based on the results of the last function, we know that the DataFrame has a certain number of columns. Mostly, we are interested in knowing ***the features*** a DataFrame affords. Therefore, it is also useful to get a list of column names. Next, we can decide which columns to keep and which to ignore based on our desired task."
      ]
    },
    {
      "cell_type": "code",
      "execution_count": null,
      "metadata": {
        "colab": {
          "base_uri": "https://localhost:8080/"
        },
        "id": "1YBpZaw6h_Uc",
        "outputId": "c1b07ea3-08dc-4fb6-caaa-e04f777a0b2f"
      },
      "outputs": [
        {
          "data": {
            "text/plain": [
              "['Unnamed: 0',\n",
              " 'ExpressId',\n",
              " 'GlobalId',\n",
              " 'Class',\n",
              " 'PredefinedType',\n",
              " 'Name',\n",
              " 'Level',\n",
              " 'x_coordinate',\n",
              " 'y_coordinate',\n",
              " 'z_coordinate',\n",
              " 'Type',\n",
              " 'Material',\n",
              " 'Pset_SlabCommon.LoadBearing',\n",
              " 'Qto_SpaceBaseQuantities.NetVolume',\n",
              " 'KAAN_Qtos.Volume',\n",
              " 'Pset_SpaceCoveringRequirements.FloorCovering',\n",
              " 'Pset_BuildingStoreyCommon.AboveGround',\n",
              " 'Qto_WallBaseQuantities.K_g2_brick_running_240x70mm',\n",
              " 'Qto_StairFlightBaseQuantities.Length',\n",
              " 'Qto_ColumnBaseQuantities.GrossVolume',\n",
              " 'Qto_WallBaseQuantities.K_h2_Metal stud profiling',\n",
              " 'Qto_WallBaseQuantities.K_i0_CLT Wood',\n",
              " 'Pset_OpeningElementCommon.Reference',\n",
              " 'Pset_BeamCommon.LoadBearing',\n",
              " 'KAAN_ILS Summary.3.4 IFC Entiteit | IFC Class',\n",
              " 'Pset_BeamCommon.FireRating',\n",
              " 'Qto_SlabBaseQuantities.K_00_Air substructure',\n",
              " 'Qto_SlabBaseQuantities.id',\n",
              " 'Qto_WallBaseQuantities.K_f7_Stucco (2)',\n",
              " 'Pset_StairCommon.WalkingLineOffset',\n",
              " 'Qto_BeamBaseQuantities.id',\n",
              " 'Pset_WindowCommon.IsExternal',\n",
              " 'KAAN_Qtos.OpenablePart_Height',\n",
              " 'Pset_SpaceCommon.id',\n",
              " 'Qto_WallBaseQuantities.GrossSideArea',\n",
              " 'KAAN_ILS Summary.4.3 Dragend | Load Bearing',\n",
              " 'Qto_OpeningElementBaseQuantities.Width',\n",
              " 'KAAN_Qtos.Elevator_Shaft_Depth',\n",
              " 'Qto_BeamBaseQuantities.OuterSurfaceArea',\n",
              " 'KAAN_Qtos.Thickness',\n",
              " 'Pset_ReinforcementBarPitchOfWall.id',\n",
              " 'Qto_WallBaseQuantities.NetSideArea',\n",
              " 'Pset_RoofCommon.id',\n",
              " 'Pset_WallCommon.LoadBearing',\n",
              " 'Qto_WallBaseQuantities.K_j1_MDF (2)',\n",
              " 'Qto_SlabBaseQuantities.Width',\n",
              " 'Pset_WallCommon.ExtendToStructure',\n",
              " 'Qto_WallBaseQuantities.K_i3_Hardwood horizontal_azobe',\n",
              " 'KAAN_Qtos.ClearDepth',\n",
              " 'Qto_RoofBaseQuantities.ProjectedArea',\n",
              " 'Qto_SlabBaseQuantities.K_t3_Glue',\n",
              " 'Pset_ReinforcementBarPitchOfSlab.Reference',\n",
              " 'Qto_WallBaseQuantities.K_i0_CLT Wood (2)',\n",
              " 'Pset_ReinforcementBarPitchOfBeam.Description',\n",
              " 'Qto_OpeningElementBaseQuantities.Volume',\n",
              " 'Qto_SlabBaseQuantities.K_i0_CLT Wood',\n",
              " 'Pset_ColumnCommon.LoadBearing',\n",
              " 'Qto_SlabBaseQuantities.K_i0_CLT Wood (6)',\n",
              " 'Qto_WallBaseQuantities.GrossVolume',\n",
              " 'KAAN_Qtos.OpenablePart_Secondary_Width',\n",
              " 'Pset_ReinforcementBarPitchOfColumn.Reference',\n",
              " 'Qto_WallBaseQuantities.K_j1_MDF (4)',\n",
              " 'Pset_ColumnCommon.Reference',\n",
              " 'Qto_SlabBaseQuantities.Perimeter',\n",
              " 'Qto_WallBaseQuantities.K_n6_Insulation (2)',\n",
              " 'Pset_WindowCommon.Reference',\n",
              " 'Qto_WallBaseQuantities.id',\n",
              " 'Pset_StairCommon.Reference',\n",
              " 'Qto_WallBaseQuantities.K_f2_concrete_in-situ',\n",
              " 'Pset_StairCommon.id',\n",
              " 'Qto_WallBaseQuantities.NetVolume',\n",
              " 'Pset_SlabCommon.id',\n",
              " 'Qto_SlabBaseQuantities.K_i0_CLT Wood (2)',\n",
              " 'Pset_ReinforcementBarPitchOfColumn.Description',\n",
              " 'Qto_SlabBaseQuantities.K_f2_concrete_in-situ',\n",
              " 'Pset_OpeningElementCommon.id',\n",
              " 'Pset_WallCommon.FireRating',\n",
              " 'Qto_WindowBaseQuantities.Perimeter',\n",
              " 'Pset_FurnitureTypeCommon.Reference',\n",
              " 'Qto_WallBaseQuantities.K_00_Generic',\n",
              " 'Qto_StairFlightBaseQuantities.id',\n",
              " 'Qto_WallBaseQuantities.K_f7_Plasterboard (4)',\n",
              " 'Pset_DoorCommon.SelfClosing',\n",
              " 'Qto_WallBaseQuantities.K_t3_Glue',\n",
              " 'Qto_WallBaseQuantities.K_h4_Aluminium_Anodized_Natural (2)',\n",
              " 'Qto_SlabBaseQuantities.K_i0_CLT Wood (7)',\n",
              " 'Qto_SlabBaseQuantities.GrossVolume',\n",
              " 'Qto_DoorBaseQuantities.id',\n",
              " 'Qto_WindowBaseQuantities.Area',\n",
              " 'KAAN_ILS Summary.4.6 Thermische isolatie  | Thermal Transmittance',\n",
              " 'Qto_WallBaseQuantities.K_i4_Plywood',\n",
              " 'Pset_StairFlightCommon.NumberOfTreads',\n",
              " 'Qto_WallBaseQuantities.K_m1_Insulation_Mineral wool',\n",
              " 'KAAN_Qtos.Elevator_Door_Width',\n",
              " 'Qto_SlabBaseQuantities.K_f7_Plasterboard',\n",
              " 'Qto_RoofBaseQuantities.id',\n",
              " 'Qto_RailingBaseQuantities.Length',\n",
              " 'Pset_ReinforcementBarPitchOfBeam.Reference',\n",
              " 'KAAN_ILS Summary.3.6 NL-SfB code',\n",
              " 'Pset_SpaceCoveringRequirements.WallCovering',\n",
              " 'Pset_SlabCommon.IsExternal',\n",
              " 'Qto_WallBaseQuantities.Length',\n",
              " 'Pset_StairCommon.TreadLengthAtInnerSide',\n",
              " 'KAAN_ILS Summary.1.1 Revit Category',\n",
              " 'Pset_BuildingElementProxyCommon.Reference',\n",
              " 'Pset_WindowCommon.ThermalTransmittance',\n",
              " 'Qto_BeamBaseQuantities.Length',\n",
              " 'Qto_WallBaseQuantities.K_j1_MDF',\n",
              " 'Qto_SpaceBaseQuantities.Height',\n",
              " 'Qto_SlabBaseQuantities.K_g3_ceramic_tiles_white_50x50mm',\n",
              " 'KAAN_Qtos.Threshold_Height',\n",
              " 'KAAN_Qtos.Diameter',\n",
              " 'Qto_DoorBaseQuantities.Width',\n",
              " 'Pset_SpaceCommon.Reference',\n",
              " 'KAAN_Qtos.Elevator_Door_Height',\n",
              " 'Pset_StairCommon.TreadLength',\n",
              " 'Qto_SlabBaseQuantities.K_f2_Cement sand screed',\n",
              " 'Pset_SanitaryTerminalTypeCommon.Reference',\n",
              " 'Pset_SlabCommon.PitchAngle',\n",
              " 'Qto_SpaceBaseQuantities.id',\n",
              " 'KAAN_Qtos.ClearHeight',\n",
              " 'Pset_WindowCommon.id',\n",
              " 'Pset_DoorCommon.FireExit',\n",
              " 'Pset_StairFlightCommon.Reference',\n",
              " 'KAAN_ILS Summary.1.2 Naamgeving Element | Type Name',\n",
              " 'Qto_WallBaseQuantities.Height',\n",
              " 'Qto_WallBaseQuantities.K_j1_MDF (3)',\n",
              " 'Qto_SlabBaseQuantities.K_n6_Insulation',\n",
              " 'Qto_OpeningElementBaseQuantities.Depth',\n",
              " 'Pset_WindowCommon.SmokeStop',\n",
              " 'Pset_OpeningElementCommon.FireExit',\n",
              " 'BaseQuantities.Height',\n",
              " 'Pset_DoorCommon.Reference',\n",
              " 'Pset_BeamCommon.Reference',\n",
              " 'Pset_BuildingElementProxyCommon.id',\n",
              " 'Qto_DoorBaseQuantities.Area',\n",
              " 'KAAN_Qtos.OpenablePart_Thickness',\n",
              " 'Qto_SlabBaseQuantities.Depth',\n",
              " 'Pset_BeamCommon.Roll',\n",
              " 'Qto_OpeningElementBaseQuantities.Area',\n",
              " 'Qto_StairFlightBaseQuantities.NetVolume',\n",
              " 'Qto_ColumnBaseQuantities.OuterSurfaceArea',\n",
              " 'KAAN_ILS Summary.4.4 Uitwendig | External',\n",
              " 'Qto_ColumnBaseQuantities.NetVolume',\n",
              " 'Pset_ReinforcementBarPitchOfSlab.id',\n",
              " 'Qto_WindowBaseQuantities.id',\n",
              " 'KAAN_Qtos.ClearWidth',\n",
              " 'KAAN_Qtos.Frame_Width',\n",
              " 'Qto_SlabBaseQuantities.K_i0_CLT Wood (5)',\n",
              " 'BaseQuantities.id',\n",
              " 'Qto_WallBaseQuantities.K_i0_CLT Wood (3)',\n",
              " 'Qto_CoveringBaseQuantities.GrossArea',\n",
              " 'Pset_ReinforcementBarPitchOfWall.Reference',\n",
              " 'Pset_ManufacturerTypeInformation.id',\n",
              " 'Pset_DoorCommon.FireRating',\n",
              " 'Pset_DoorCommon.id',\n",
              " 'KAAN_Qtos.Glass_Thickness',\n",
              " 'Qto_WallBaseQuantities.K_00_Air',\n",
              " 'Qto_WallBaseQuantities.K_i4_Plywood (2)',\n",
              " 'Qto_OpeningElementBaseQuantities.Height',\n",
              " 'Pset_RailingCommon.Reference',\n",
              " 'KAAN_ILS Summary.4.6 Thermische isolatie | Thermal Resistance',\n",
              " 'Pset_StairFlightCommon.NosingLength',\n",
              " 'Pset_BuildingCommon.id',\n",
              " 'KAAN_Qtos.Perimeter',\n",
              " 'Pset_StairCommon.RiserHeight',\n",
              " 'KAAN_Qtos.Frame_Depth',\n",
              " 'Pset_StairFlightCommon.id',\n",
              " 'Qto_WallBaseQuantities.K_f7_Plasterboard',\n",
              " 'Qto_WallBaseQuantities.K_00_Air substructure',\n",
              " 'Pset_SpaceCoveringRequirements.id',\n",
              " 'Pset_RailingCommon.id',\n",
              " 'KAAN_Qtos.Area',\n",
              " 'Qto_ColumnBaseQuantities.CrossSectionArea',\n",
              " 'Pset_SiteCommon.Reference',\n",
              " 'Pset_StairCommon.NumberOfTreads',\n",
              " 'Pset_WallCommon.Reference',\n",
              " 'Pset_StairCommon.NosingLength',\n",
              " 'Pset_ColumnCommon.IsExternal',\n",
              " 'Pset_ReinforcementBarPitchOfBeam.id',\n",
              " 'Qto_WallBaseQuantities.K_g3_ceramic_tiles_white_50x50mm',\n",
              " 'Qto_ColumnBaseQuantities.id',\n",
              " 'Qto_SlabBaseQuantities.K_i0_CLT Wood (3)',\n",
              " 'Qto_BeamBaseQuantities.NetSurfaceArea',\n",
              " 'Qto_SlabBaseQuantities.K_j3_grass',\n",
              " 'Qto_DoorBaseQuantities.Height',\n",
              " 'Pset_BuildingSystemCommon.Reference',\n",
              " 'Pset_StairCommon.IsExternal',\n",
              " 'KAAN_Qtos.OpenablePart_Width',\n",
              " 'Qto_CoveringBaseQuantities.K_00_Air substructure',\n",
              " 'Qto_SlabBaseQuantities.K_p1_soil',\n",
              " 'Pset_StairFlightCommon.TreadLengthAtOffset',\n",
              " 'Pset_StairFlightCommon.RiserHeight',\n",
              " 'KAAN_Qtos.Height',\n",
              " 'Pset_SpaceCommon.IsExternal',\n",
              " 'KAAN_ILS Summary.3.6 NL-SfB Omschrijving | NL-SfB Description',\n",
              " 'Pset_BuildingStoreyCommon.id',\n",
              " 'KAAN_ILS Summary.4.5 Brandveiligheid | Fire Rating',\n",
              " 'Pset_ReinforcementBarPitchOfSlab.Description',\n",
              " 'KAAN_Qtos.Elevator_Shaft_Width',\n",
              " 'Pset_WallCommon.id',\n",
              " 'Pset_RoofCommon.Reference',\n",
              " 'Qto_RailingBaseQuantities.id',\n",
              " 'Qto_CoveringBaseQuantities.id',\n",
              " 'KAAN_ILS Summary.3.3 Bouwlaag | Level',\n",
              " 'Qto_SpaceBaseQuantities.GrossVolume',\n",
              " 'KAAN_Qtos.Length',\n",
              " 'Pset_BeamCommon.IsExternal',\n",
              " 'Pset_BuildingStoreyCommon.Reference',\n",
              " 'Pset_BeamCommon.Span',\n",
              " 'Pset_RoofCommon.IsExternal',\n",
              " 'Pset_RailingCommon.Height',\n",
              " 'Pset_SiteCommon.id',\n",
              " 'Qto_BuildingElementProxyQuantities.id',\n",
              " 'Qto_BeamBaseQuantities.GrossSurfaceArea',\n",
              " 'Qto_WallBaseQuantities.K_f7_Plasterboard (2)',\n",
              " 'Qto_SlabBaseQuantities.K_f7_Plasterboard (2)',\n",
              " 'Pset_SpaceHeaterTypeCommon.Reference',\n",
              " 'BaseQuantities.Depth',\n",
              " 'Qto_SlabBaseQuantities.NetVolume',\n",
              " 'KAAN_Qtos.Width',\n",
              " 'Qto_WallBaseQuantities.K_f7_Plasterboard (3)',\n",
              " 'Qto_CoveringBaseQuantities.Width',\n",
              " 'Qto_SlabBaseQuantities.GrossArea',\n",
              " 'KAAN_ILS Summary.1.3 Fase Gebouwd | Construction Phase',\n",
              " 'BaseQuantities.Width',\n",
              " 'Qto_WallBaseQuantities.GrossFootprintArea',\n",
              " 'KAAN_Qtos.id',\n",
              " 'Pset_CoveringCommon.id',\n",
              " 'Qto_WindowBaseQuantities.Width',\n",
              " 'Qto_WallBaseQuantities.K_n6_Insulation',\n",
              " 'Pset_StairFlightCommon.TreadLength',\n",
              " 'Pset_ColumnCommon.FireRating',\n",
              " 'Pset_BuildingElementProxyCommon.IsExternal',\n",
              " 'Pset_BuildingCommon.IsLandmarked',\n",
              " 'Pset_ColumnCommon.Slope',\n",
              " 'Qto_BeamBaseQuantities.CrossSectionArea',\n",
              " 'Qto_WallBaseQuantities.Width',\n",
              " 'Qto_CoveringBaseQuantities.K_f7_Plasterboard',\n",
              " 'Pset_CoveringCommon.IsExternal',\n",
              " 'Pset_SanitaryTerminalTypeCommon.id',\n",
              " 'Pset_ColumnCommon.id',\n",
              " 'Pset_SlabCommon.Reference',\n",
              " 'Qto_ColumnBaseQuantities.Length',\n",
              " 'Qto_BeamBaseQuantities.NetVolume',\n",
              " 'KAAN_Qtos.Depth',\n",
              " 'Pset_WallCommon.IsExternal',\n",
              " 'Qto_BeamBaseQuantities.GrossVolume',\n",
              " 'KAAN_Qtos.Rough Width',\n",
              " 'Pset_EnvironmentalImpactIndicators.id',\n",
              " 'Pset_StairCommon.NumberOfRiser',\n",
              " 'Pset_BeamCommon.id',\n",
              " 'Pset_StairCommon.TreadLengthAtOffset',\n",
              " 'Qto_SlabBaseQuantities.Length',\n",
              " 'Pset_EnvironmentalImpactIndicators.Reference',\n",
              " 'Pset_BeamCommon.Slope',\n",
              " 'Qto_OpeningElementBaseQuantities.id',\n",
              " 'Qto_SlabBaseQuantities.K_m1_Insulation_Mineral wool',\n",
              " 'Qto_WindowBaseQuantities.Height',\n",
              " 'Pset_ReinforcementBarPitchOfColumn.id',\n",
              " 'Qto_WallBaseQuantities.K_h4_Aluminium_Anodized_Natural',\n",
              " 'Pset_CoveringCommon.Reference',\n",
              " 'Pset_ReinforcementBarPitchOfWall.Description',\n",
              " 'Qto_DoorBaseQuantities.Perimeter',\n",
              " 'Pset_StairFlightCommon.WalkingLineOffset',\n",
              " 'Pset_SpaceHeaterTypeCommon.id',\n",
              " 'Qto_WallBaseQuantities.K_f7_Stucco',\n",
              " 'Pset_StairFlightCommon.NumberOfRiser',\n",
              " 'Pset_DoorCommon.ThermalTransmittance',\n",
              " 'Pset_BuildingCommon.NumberOfStoreys',\n",
              " 'KAAN_Qtos.OpenablePart_Primary_Width',\n",
              " 'KAAN_Qtos.Rough Height',\n",
              " 'Qto_SlabBaseQuantities.K_i0_CLT Wood (4)',\n",
              " 'Pset_StairFlightCommon.TreadLengthAtInnerSide',\n",
              " 'Qto_StairFlightBaseQuantities.GrossVolume',\n",
              " 'Pset_CoveringCommon.Finish',\n",
              " 'Pset_BuildingSystemCommon.id',\n",
              " 'Qto_BuildingElementProxyQuantities.NetSurfaceArea',\n",
              " 'Pset_ManufacturerTypeInformation.Manufacturer',\n",
              " 'KAAN_ILS Summary.4.6 Geluidisolatie | Acoustic Value',\n",
              " 'Qto_WallBaseQuantities.K_i2_Wood_planks_240mm_vertical',\n",
              " 'Qto_WallBaseQuantities.K_i2_Wood_planks_240mm_vertical (2)',\n",
              " 'Pset_FurnitureTypeCommon.id',\n",
              " 'Pset_DoorCommon.IsExternal',\n",
              " 'Pset_BuildingCommon.Reference',\n",
              " 'Qto_BuildingElementProxyQuantities.NetVolume',\n",
              " 'Pset_RailingCommon.IsExternal',\n",
              " 'KAAN_ILS Summary.id']"
            ]
          },
          "execution_count": 213,
          "metadata": {},
          "output_type": "execute_result"
        }
      ],
      "source": [
        "#printing the list of features\n",
        "list(StrijpS_df.columns)"
      ]
    },
    {
      "cell_type": "markdown",
      "metadata": {
        "id": "EEBwiQjsI9gj"
      },
      "source": [
        "Alright there are many of columns, apparently. But let's move on to the DataFrame itself, cause it contains also rows ***and*** columns. We can already imagine that this is a huge (relatively) DataFrame due to the number of columns. Therefore, it's always practical to check a part of the DataFrame before observing the whole. Here we use two handy functions to take a quick look at ***the first and last few rows of the DataFrame***, using .head() and .tail() functions, respectively. As we earlier saw, the DataFrame would ultimately look like a table (a fancy one, in this case)."
      ]
    },
    {
      "cell_type": "code",
      "execution_count": null,
      "metadata": {
        "colab": {
          "base_uri": "https://localhost:8080/",
          "height": 429
        },
        "id": "tzdnVdMdLEP7",
        "outputId": "19b31c5f-0090-407b-917f-6bf1965f3bcf"
      },
      "outputs": [
        {
          "data": {
            "application/vnd.google.colaboratory.intrinsic+json": {
              "type": "dataframe",
              "variable_name": "StrijpS_df"
            },
            "text/html": [
              "\n",
              "  <div id=\"df-2bee6417-9f41-453c-89fc-1e2e0133688e\" class=\"colab-df-container\">\n",
              "    <div>\n",
              "<style scoped>\n",
              "    .dataframe tbody tr th:only-of-type {\n",
              "        vertical-align: middle;\n",
              "    }\n",
              "\n",
              "    .dataframe tbody tr th {\n",
              "        vertical-align: top;\n",
              "    }\n",
              "\n",
              "    .dataframe thead th {\n",
              "        text-align: right;\n",
              "    }\n",
              "</style>\n",
              "<table border=\"1\" class=\"dataframe\">\n",
              "  <thead>\n",
              "    <tr style=\"text-align: right;\">\n",
              "      <th></th>\n",
              "      <th>Unnamed: 0</th>\n",
              "      <th>ExpressId</th>\n",
              "      <th>GlobalId</th>\n",
              "      <th>Class</th>\n",
              "      <th>PredefinedType</th>\n",
              "      <th>Name</th>\n",
              "      <th>Level</th>\n",
              "      <th>x_coordinate</th>\n",
              "      <th>y_coordinate</th>\n",
              "      <th>z_coordinate</th>\n",
              "      <th>...</th>\n",
              "      <th>Pset_ManufacturerTypeInformation.Manufacturer</th>\n",
              "      <th>KAAN_ILS Summary.4.6 Geluidisolatie | Acoustic Value</th>\n",
              "      <th>Qto_WallBaseQuantities.K_i2_Wood_planks_240mm_vertical</th>\n",
              "      <th>Qto_WallBaseQuantities.K_i2_Wood_planks_240mm_vertical (2)</th>\n",
              "      <th>Pset_FurnitureTypeCommon.id</th>\n",
              "      <th>Pset_DoorCommon.IsExternal</th>\n",
              "      <th>Pset_BuildingCommon.Reference</th>\n",
              "      <th>Qto_BuildingElementProxyQuantities.NetVolume</th>\n",
              "      <th>Pset_RailingCommon.IsExternal</th>\n",
              "      <th>KAAN_ILS Summary.id</th>\n",
              "    </tr>\n",
              "  </thead>\n",
              "  <tbody>\n",
              "    <tr>\n",
              "      <th>0</th>\n",
              "      <td>0</td>\n",
              "      <td>97</td>\n",
              "      <td>0CfLBxMtb1CPqMkok2OeNY</td>\n",
              "      <td>IfcBuilding</td>\n",
              "      <td>NaN</td>\n",
              "      <td>&lt;Building name&gt;</td>\n",
              "      <td>NaN</td>\n",
              "      <td>0.0</td>\n",
              "      <td>0.0</td>\n",
              "      <td>0.0</td>\n",
              "      <td>...</td>\n",
              "      <td>NaN</td>\n",
              "      <td>NaN</td>\n",
              "      <td>NaN</td>\n",
              "      <td>NaN</td>\n",
              "      <td>NaN</td>\n",
              "      <td>NaN</td>\n",
              "      <td>Project Information</td>\n",
              "      <td>NaN</td>\n",
              "      <td>NaN</td>\n",
              "      <td>494049.0</td>\n",
              "    </tr>\n",
              "    <tr>\n",
              "      <th>1</th>\n",
              "      <td>1</td>\n",
              "      <td>100</td>\n",
              "      <td>0CfLBxMtb1CPqMkojzdNia</td>\n",
              "      <td>IfcBuildingStorey</td>\n",
              "      <td>Level:Standard</td>\n",
              "      <td>00 begane grond</td>\n",
              "      <td>NaN</td>\n",
              "      <td>0.0</td>\n",
              "      <td>0.0</td>\n",
              "      <td>0.0</td>\n",
              "      <td>...</td>\n",
              "      <td>NaN</td>\n",
              "      <td>NaN</td>\n",
              "      <td>NaN</td>\n",
              "      <td>NaN</td>\n",
              "      <td>NaN</td>\n",
              "      <td>NaN</td>\n",
              "      <td>NaN</td>\n",
              "      <td>NaN</td>\n",
              "      <td>NaN</td>\n",
              "      <td>493977.0</td>\n",
              "    </tr>\n",
              "    <tr>\n",
              "      <th>2</th>\n",
              "      <td>2</td>\n",
              "      <td>104</td>\n",
              "      <td>0aJAQrAJnAmBa0GD07waS7</td>\n",
              "      <td>IfcBuildingStorey</td>\n",
              "      <td>Level:Standard</td>\n",
              "      <td>01 eerste verdieping</td>\n",
              "      <td>NaN</td>\n",
              "      <td>0.0</td>\n",
              "      <td>0.0</td>\n",
              "      <td>3700.0</td>\n",
              "      <td>...</td>\n",
              "      <td>NaN</td>\n",
              "      <td>NaN</td>\n",
              "      <td>NaN</td>\n",
              "      <td>NaN</td>\n",
              "      <td>NaN</td>\n",
              "      <td>NaN</td>\n",
              "      <td>NaN</td>\n",
              "      <td>NaN</td>\n",
              "      <td>NaN</td>\n",
              "      <td>493984.0</td>\n",
              "    </tr>\n",
              "    <tr>\n",
              "      <th>3</th>\n",
              "      <td>3</td>\n",
              "      <td>108</td>\n",
              "      <td>0aJAQrAJnAmBa0GD07waSC</td>\n",
              "      <td>IfcBuildingStorey</td>\n",
              "      <td>Level:Standard</td>\n",
              "      <td>02 tweede verdieping</td>\n",
              "      <td>NaN</td>\n",
              "      <td>0.0</td>\n",
              "      <td>0.0</td>\n",
              "      <td>7400.0</td>\n",
              "      <td>...</td>\n",
              "      <td>NaN</td>\n",
              "      <td>NaN</td>\n",
              "      <td>NaN</td>\n",
              "      <td>NaN</td>\n",
              "      <td>NaN</td>\n",
              "      <td>NaN</td>\n",
              "      <td>NaN</td>\n",
              "      <td>NaN</td>\n",
              "      <td>NaN</td>\n",
              "      <td>493991.0</td>\n",
              "    </tr>\n",
              "    <tr>\n",
              "      <th>4</th>\n",
              "      <td>4</td>\n",
              "      <td>112</td>\n",
              "      <td>0aJAQrAJnAmBa0GD07waSt</td>\n",
              "      <td>IfcBuildingStorey</td>\n",
              "      <td>Level:Standard</td>\n",
              "      <td>03 derde verdieping</td>\n",
              "      <td>NaN</td>\n",
              "      <td>0.0</td>\n",
              "      <td>0.0</td>\n",
              "      <td>11100.0</td>\n",
              "      <td>...</td>\n",
              "      <td>NaN</td>\n",
              "      <td>NaN</td>\n",
              "      <td>NaN</td>\n",
              "      <td>NaN</td>\n",
              "      <td>NaN</td>\n",
              "      <td>NaN</td>\n",
              "      <td>NaN</td>\n",
              "      <td>NaN</td>\n",
              "      <td>NaN</td>\n",
              "      <td>493998.0</td>\n",
              "    </tr>\n",
              "  </tbody>\n",
              "</table>\n",
              "<p>5 rows × 288 columns</p>\n",
              "</div>\n",
              "    <div class=\"colab-df-buttons\">\n",
              "\n",
              "  <div class=\"colab-df-container\">\n",
              "    <button class=\"colab-df-convert\" onclick=\"convertToInteractive('df-2bee6417-9f41-453c-89fc-1e2e0133688e')\"\n",
              "            title=\"Convert this dataframe to an interactive table.\"\n",
              "            style=\"display:none;\">\n",
              "\n",
              "  <svg xmlns=\"http://www.w3.org/2000/svg\" height=\"24px\" viewBox=\"0 -960 960 960\">\n",
              "    <path d=\"M120-120v-720h720v720H120Zm60-500h600v-160H180v160Zm220 220h160v-160H400v160Zm0 220h160v-160H400v160ZM180-400h160v-160H180v160Zm440 0h160v-160H620v160ZM180-180h160v-160H180v160Zm440 0h160v-160H620v160Z\"/>\n",
              "  </svg>\n",
              "    </button>\n",
              "\n",
              "  <style>\n",
              "    .colab-df-container {\n",
              "      display:flex;\n",
              "      gap: 12px;\n",
              "    }\n",
              "\n",
              "    .colab-df-convert {\n",
              "      background-color: #E8F0FE;\n",
              "      border: none;\n",
              "      border-radius: 50%;\n",
              "      cursor: pointer;\n",
              "      display: none;\n",
              "      fill: #1967D2;\n",
              "      height: 32px;\n",
              "      padding: 0 0 0 0;\n",
              "      width: 32px;\n",
              "    }\n",
              "\n",
              "    .colab-df-convert:hover {\n",
              "      background-color: #E2EBFA;\n",
              "      box-shadow: 0px 1px 2px rgba(60, 64, 67, 0.3), 0px 1px 3px 1px rgba(60, 64, 67, 0.15);\n",
              "      fill: #174EA6;\n",
              "    }\n",
              "\n",
              "    .colab-df-buttons div {\n",
              "      margin-bottom: 4px;\n",
              "    }\n",
              "\n",
              "    [theme=dark] .colab-df-convert {\n",
              "      background-color: #3B4455;\n",
              "      fill: #D2E3FC;\n",
              "    }\n",
              "\n",
              "    [theme=dark] .colab-df-convert:hover {\n",
              "      background-color: #434B5C;\n",
              "      box-shadow: 0px 1px 3px 1px rgba(0, 0, 0, 0.15);\n",
              "      filter: drop-shadow(0px 1px 2px rgba(0, 0, 0, 0.3));\n",
              "      fill: #FFFFFF;\n",
              "    }\n",
              "  </style>\n",
              "\n",
              "    <script>\n",
              "      const buttonEl =\n",
              "        document.querySelector('#df-2bee6417-9f41-453c-89fc-1e2e0133688e button.colab-df-convert');\n",
              "      buttonEl.style.display =\n",
              "        google.colab.kernel.accessAllowed ? 'block' : 'none';\n",
              "\n",
              "      async function convertToInteractive(key) {\n",
              "        const element = document.querySelector('#df-2bee6417-9f41-453c-89fc-1e2e0133688e');\n",
              "        const dataTable =\n",
              "          await google.colab.kernel.invokeFunction('convertToInteractive',\n",
              "                                                    [key], {});\n",
              "        if (!dataTable) return;\n",
              "\n",
              "        const docLinkHtml = 'Like what you see? Visit the ' +\n",
              "          '<a target=\"_blank\" href=https://colab.research.google.com/notebooks/data_table.ipynb>data table notebook</a>'\n",
              "          + ' to learn more about interactive tables.';\n",
              "        element.innerHTML = '';\n",
              "        dataTable['output_type'] = 'display_data';\n",
              "        await google.colab.output.renderOutput(dataTable, element);\n",
              "        const docLink = document.createElement('div');\n",
              "        docLink.innerHTML = docLinkHtml;\n",
              "        element.appendChild(docLink);\n",
              "      }\n",
              "    </script>\n",
              "  </div>\n",
              "\n",
              "\n",
              "<div id=\"df-49b23b80-b68e-4f56-83c3-5a1708d6f1ea\">\n",
              "  <button class=\"colab-df-quickchart\" onclick=\"quickchart('df-49b23b80-b68e-4f56-83c3-5a1708d6f1ea')\"\n",
              "            title=\"Suggest charts\"\n",
              "            style=\"display:none;\">\n",
              "\n",
              "<svg xmlns=\"http://www.w3.org/2000/svg\" height=\"24px\"viewBox=\"0 0 24 24\"\n",
              "     width=\"24px\">\n",
              "    <g>\n",
              "        <path d=\"M19 3H5c-1.1 0-2 .9-2 2v14c0 1.1.9 2 2 2h14c1.1 0 2-.9 2-2V5c0-1.1-.9-2-2-2zM9 17H7v-7h2v7zm4 0h-2V7h2v10zm4 0h-2v-4h2v4z\"/>\n",
              "    </g>\n",
              "</svg>\n",
              "  </button>\n",
              "\n",
              "<style>\n",
              "  .colab-df-quickchart {\n",
              "      --bg-color: #E8F0FE;\n",
              "      --fill-color: #1967D2;\n",
              "      --hover-bg-color: #E2EBFA;\n",
              "      --hover-fill-color: #174EA6;\n",
              "      --disabled-fill-color: #AAA;\n",
              "      --disabled-bg-color: #DDD;\n",
              "  }\n",
              "\n",
              "  [theme=dark] .colab-df-quickchart {\n",
              "      --bg-color: #3B4455;\n",
              "      --fill-color: #D2E3FC;\n",
              "      --hover-bg-color: #434B5C;\n",
              "      --hover-fill-color: #FFFFFF;\n",
              "      --disabled-bg-color: #3B4455;\n",
              "      --disabled-fill-color: #666;\n",
              "  }\n",
              "\n",
              "  .colab-df-quickchart {\n",
              "    background-color: var(--bg-color);\n",
              "    border: none;\n",
              "    border-radius: 50%;\n",
              "    cursor: pointer;\n",
              "    display: none;\n",
              "    fill: var(--fill-color);\n",
              "    height: 32px;\n",
              "    padding: 0;\n",
              "    width: 32px;\n",
              "  }\n",
              "\n",
              "  .colab-df-quickchart:hover {\n",
              "    background-color: var(--hover-bg-color);\n",
              "    box-shadow: 0 1px 2px rgba(60, 64, 67, 0.3), 0 1px 3px 1px rgba(60, 64, 67, 0.15);\n",
              "    fill: var(--button-hover-fill-color);\n",
              "  }\n",
              "\n",
              "  .colab-df-quickchart-complete:disabled,\n",
              "  .colab-df-quickchart-complete:disabled:hover {\n",
              "    background-color: var(--disabled-bg-color);\n",
              "    fill: var(--disabled-fill-color);\n",
              "    box-shadow: none;\n",
              "  }\n",
              "\n",
              "  .colab-df-spinner {\n",
              "    border: 2px solid var(--fill-color);\n",
              "    border-color: transparent;\n",
              "    border-bottom-color: var(--fill-color);\n",
              "    animation:\n",
              "      spin 1s steps(1) infinite;\n",
              "  }\n",
              "\n",
              "  @keyframes spin {\n",
              "    0% {\n",
              "      border-color: transparent;\n",
              "      border-bottom-color: var(--fill-color);\n",
              "      border-left-color: var(--fill-color);\n",
              "    }\n",
              "    20% {\n",
              "      border-color: transparent;\n",
              "      border-left-color: var(--fill-color);\n",
              "      border-top-color: var(--fill-color);\n",
              "    }\n",
              "    30% {\n",
              "      border-color: transparent;\n",
              "      border-left-color: var(--fill-color);\n",
              "      border-top-color: var(--fill-color);\n",
              "      border-right-color: var(--fill-color);\n",
              "    }\n",
              "    40% {\n",
              "      border-color: transparent;\n",
              "      border-right-color: var(--fill-color);\n",
              "      border-top-color: var(--fill-color);\n",
              "    }\n",
              "    60% {\n",
              "      border-color: transparent;\n",
              "      border-right-color: var(--fill-color);\n",
              "    }\n",
              "    80% {\n",
              "      border-color: transparent;\n",
              "      border-right-color: var(--fill-color);\n",
              "      border-bottom-color: var(--fill-color);\n",
              "    }\n",
              "    90% {\n",
              "      border-color: transparent;\n",
              "      border-bottom-color: var(--fill-color);\n",
              "    }\n",
              "  }\n",
              "</style>\n",
              "\n",
              "  <script>\n",
              "    async function quickchart(key) {\n",
              "      const quickchartButtonEl =\n",
              "        document.querySelector('#' + key + ' button');\n",
              "      quickchartButtonEl.disabled = true;  // To prevent multiple clicks.\n",
              "      quickchartButtonEl.classList.add('colab-df-spinner');\n",
              "      try {\n",
              "        const charts = await google.colab.kernel.invokeFunction(\n",
              "            'suggestCharts', [key], {});\n",
              "      } catch (error) {\n",
              "        console.error('Error during call to suggestCharts:', error);\n",
              "      }\n",
              "      quickchartButtonEl.classList.remove('colab-df-spinner');\n",
              "      quickchartButtonEl.classList.add('colab-df-quickchart-complete');\n",
              "    }\n",
              "    (() => {\n",
              "      let quickchartButtonEl =\n",
              "        document.querySelector('#df-49b23b80-b68e-4f56-83c3-5a1708d6f1ea button');\n",
              "      quickchartButtonEl.style.display =\n",
              "        google.colab.kernel.accessAllowed ? 'block' : 'none';\n",
              "    })();\n",
              "  </script>\n",
              "</div>\n",
              "    </div>\n",
              "  </div>\n"
            ],
            "text/plain": [
              "   Unnamed: 0  ExpressId                GlobalId              Class  \\\n",
              "0           0         97  0CfLBxMtb1CPqMkok2OeNY        IfcBuilding   \n",
              "1           1        100  0CfLBxMtb1CPqMkojzdNia  IfcBuildingStorey   \n",
              "2           2        104  0aJAQrAJnAmBa0GD07waS7  IfcBuildingStorey   \n",
              "3           3        108  0aJAQrAJnAmBa0GD07waSC  IfcBuildingStorey   \n",
              "4           4        112  0aJAQrAJnAmBa0GD07waSt  IfcBuildingStorey   \n",
              "\n",
              "   PredefinedType                  Name Level  x_coordinate  y_coordinate  \\\n",
              "0             NaN       <Building name>   NaN           0.0           0.0   \n",
              "1  Level:Standard       00 begane grond   NaN           0.0           0.0   \n",
              "2  Level:Standard  01 eerste verdieping   NaN           0.0           0.0   \n",
              "3  Level:Standard  02 tweede verdieping   NaN           0.0           0.0   \n",
              "4  Level:Standard   03 derde verdieping   NaN           0.0           0.0   \n",
              "\n",
              "   z_coordinate  ... Pset_ManufacturerTypeInformation.Manufacturer  \\\n",
              "0           0.0  ...                                           NaN   \n",
              "1           0.0  ...                                           NaN   \n",
              "2        3700.0  ...                                           NaN   \n",
              "3        7400.0  ...                                           NaN   \n",
              "4       11100.0  ...                                           NaN   \n",
              "\n",
              "  KAAN_ILS Summary.4.6 Geluidisolatie | Acoustic Value  \\\n",
              "0                                                NaN     \n",
              "1                                                NaN     \n",
              "2                                                NaN     \n",
              "3                                                NaN     \n",
              "4                                                NaN     \n",
              "\n",
              "  Qto_WallBaseQuantities.K_i2_Wood_planks_240mm_vertical  \\\n",
              "0                                                NaN       \n",
              "1                                                NaN       \n",
              "2                                                NaN       \n",
              "3                                                NaN       \n",
              "4                                                NaN       \n",
              "\n",
              "   Qto_WallBaseQuantities.K_i2_Wood_planks_240mm_vertical (2)  \\\n",
              "0                                                NaN            \n",
              "1                                                NaN            \n",
              "2                                                NaN            \n",
              "3                                                NaN            \n",
              "4                                                NaN            \n",
              "\n",
              "   Pset_FurnitureTypeCommon.id Pset_DoorCommon.IsExternal  \\\n",
              "0                          NaN                        NaN   \n",
              "1                          NaN                        NaN   \n",
              "2                          NaN                        NaN   \n",
              "3                          NaN                        NaN   \n",
              "4                          NaN                        NaN   \n",
              "\n",
              "  Pset_BuildingCommon.Reference Qto_BuildingElementProxyQuantities.NetVolume  \\\n",
              "0           Project Information                                          NaN   \n",
              "1                           NaN                                          NaN   \n",
              "2                           NaN                                          NaN   \n",
              "3                           NaN                                          NaN   \n",
              "4                           NaN                                          NaN   \n",
              "\n",
              "   Pset_RailingCommon.IsExternal  KAAN_ILS Summary.id  \n",
              "0                            NaN             494049.0  \n",
              "1                            NaN             493977.0  \n",
              "2                            NaN             493984.0  \n",
              "3                            NaN             493991.0  \n",
              "4                            NaN             493998.0  \n",
              "\n",
              "[5 rows x 288 columns]"
            ]
          },
          "execution_count": 214,
          "metadata": {},
          "output_type": "execute_result"
        }
      ],
      "source": [
        "#getting the first 5 rows of the DataFrame\n",
        "StrijpS_df.head()"
      ]
    },
    {
      "cell_type": "markdown",
      "metadata": {
        "id": "Dm7BKtP7Kx9k"
      },
      "source": [
        "Note that the middle columns are not shown cause they are too many. However, it doesn't mean that we lost them or so. They are there, but we don't see them. Now let's see the last few rows."
      ]
    },
    {
      "cell_type": "code",
      "execution_count": null,
      "metadata": {
        "colab": {
          "base_uri": "https://localhost:8080/",
          "height": 360
        },
        "id": "i88KWVrMgR_u",
        "outputId": "1681e07e-1291-45d4-fdb0-d4989d43907a"
      },
      "outputs": [
        {
          "data": {
            "application/vnd.google.colaboratory.intrinsic+json": {
              "type": "dataframe"
            },
            "text/html": [
              "\n",
              "  <div id=\"df-ae698675-8b14-45f3-a51c-36071fd56677\" class=\"colab-df-container\">\n",
              "    <div>\n",
              "<style scoped>\n",
              "    .dataframe tbody tr th:only-of-type {\n",
              "        vertical-align: middle;\n",
              "    }\n",
              "\n",
              "    .dataframe tbody tr th {\n",
              "        vertical-align: top;\n",
              "    }\n",
              "\n",
              "    .dataframe thead th {\n",
              "        text-align: right;\n",
              "    }\n",
              "</style>\n",
              "<table border=\"1\" class=\"dataframe\">\n",
              "  <thead>\n",
              "    <tr style=\"text-align: right;\">\n",
              "      <th></th>\n",
              "      <th>Unnamed: 0</th>\n",
              "      <th>ExpressId</th>\n",
              "      <th>GlobalId</th>\n",
              "      <th>Class</th>\n",
              "      <th>PredefinedType</th>\n",
              "      <th>Name</th>\n",
              "      <th>Level</th>\n",
              "      <th>x_coordinate</th>\n",
              "      <th>y_coordinate</th>\n",
              "      <th>z_coordinate</th>\n",
              "      <th>...</th>\n",
              "      <th>Pset_ManufacturerTypeInformation.Manufacturer</th>\n",
              "      <th>KAAN_ILS Summary.4.6 Geluidisolatie | Acoustic Value</th>\n",
              "      <th>Qto_WallBaseQuantities.K_i2_Wood_planks_240mm_vertical</th>\n",
              "      <th>Qto_WallBaseQuantities.K_i2_Wood_planks_240mm_vertical (2)</th>\n",
              "      <th>Pset_FurnitureTypeCommon.id</th>\n",
              "      <th>Pset_DoorCommon.IsExternal</th>\n",
              "      <th>Pset_BuildingCommon.Reference</th>\n",
              "      <th>Qto_BuildingElementProxyQuantities.NetVolume</th>\n",
              "      <th>Pset_RailingCommon.IsExternal</th>\n",
              "      <th>KAAN_ILS Summary.id</th>\n",
              "    </tr>\n",
              "  </thead>\n",
              "  <tbody>\n",
              "    <tr>\n",
              "      <th>6995</th>\n",
              "      <td>6995</td>\n",
              "      <td>517673</td>\n",
              "      <td>2tUVg4MA6VP$A643zQ7bW7</td>\n",
              "      <td>IfcOpeningElement</td>\n",
              "      <td>OPENING</td>\n",
              "      <td>K_32_DO_WB_Single:DO.xxxx_1040x2160mm:4946117:1</td>\n",
              "      <td>NaN</td>\n",
              "      <td>37110.0</td>\n",
              "      <td>12760.0</td>\n",
              "      <td>20550.0</td>\n",
              "      <td>...</td>\n",
              "      <td>NaN</td>\n",
              "      <td>NaN</td>\n",
              "      <td>NaN</td>\n",
              "      <td>NaN</td>\n",
              "      <td>NaN</td>\n",
              "      <td>NaN</td>\n",
              "      <td>NaN</td>\n",
              "      <td>NaN</td>\n",
              "      <td>NaN</td>\n",
              "      <td>NaN</td>\n",
              "    </tr>\n",
              "    <tr>\n",
              "      <th>6996</th>\n",
              "      <td>6996</td>\n",
              "      <td>517694</td>\n",
              "      <td>2jaTPaGWHetDmamrl44Lib</td>\n",
              "      <td>IfcOpeningElement</td>\n",
              "      <td>OPENING</td>\n",
              "      <td>K_32_DO_WB_Single:DO.xxxx_1040x2160mm:4946126:1</td>\n",
              "      <td>NaN</td>\n",
              "      <td>38165.0</td>\n",
              "      <td>11230.0</td>\n",
              "      <td>20550.0</td>\n",
              "      <td>...</td>\n",
              "      <td>NaN</td>\n",
              "      <td>NaN</td>\n",
              "      <td>NaN</td>\n",
              "      <td>NaN</td>\n",
              "      <td>NaN</td>\n",
              "      <td>NaN</td>\n",
              "      <td>NaN</td>\n",
              "      <td>NaN</td>\n",
              "      <td>NaN</td>\n",
              "      <td>NaN</td>\n",
              "    </tr>\n",
              "    <tr>\n",
              "      <th>6997</th>\n",
              "      <td>6997</td>\n",
              "      <td>517715</td>\n",
              "      <td>3YAJ38x7vu7Ds_R2ra7b3f</td>\n",
              "      <td>IfcOpeningElement</td>\n",
              "      <td>OPENING</td>\n",
              "      <td>K_32_DO_WB_Single:DO.xxxx_1040x2600mm:4983221:1</td>\n",
              "      <td>NaN</td>\n",
              "      <td>24450.0</td>\n",
              "      <td>26070.0</td>\n",
              "      <td>0.0</td>\n",
              "      <td>...</td>\n",
              "      <td>NaN</td>\n",
              "      <td>NaN</td>\n",
              "      <td>NaN</td>\n",
              "      <td>NaN</td>\n",
              "      <td>NaN</td>\n",
              "      <td>NaN</td>\n",
              "      <td>NaN</td>\n",
              "      <td>NaN</td>\n",
              "      <td>NaN</td>\n",
              "      <td>NaN</td>\n",
              "    </tr>\n",
              "    <tr>\n",
              "      <th>6998</th>\n",
              "      <td>6998</td>\n",
              "      <td>517736</td>\n",
              "      <td>1D9Yxbxlr_woI3XwVBNGf2</td>\n",
              "      <td>IfcOpeningElement</td>\n",
              "      <td>OPENING</td>\n",
              "      <td>K_32_DO_WB_Single door:DO.xxxx_1250x2300mm:504...</td>\n",
              "      <td>NaN</td>\n",
              "      <td>42785.0</td>\n",
              "      <td>10695.0</td>\n",
              "      <td>11100.0</td>\n",
              "      <td>...</td>\n",
              "      <td>NaN</td>\n",
              "      <td>NaN</td>\n",
              "      <td>NaN</td>\n",
              "      <td>NaN</td>\n",
              "      <td>NaN</td>\n",
              "      <td>NaN</td>\n",
              "      <td>NaN</td>\n",
              "      <td>NaN</td>\n",
              "      <td>NaN</td>\n",
              "      <td>NaN</td>\n",
              "    </tr>\n",
              "    <tr>\n",
              "      <th>6999</th>\n",
              "      <td>6999</td>\n",
              "      <td>517757</td>\n",
              "      <td>24ZM$4TvuTdFxLWYYz6Yf0</td>\n",
              "      <td>IfcOpeningElement</td>\n",
              "      <td>OPENING</td>\n",
              "      <td>K_32_DO_WB_Single door:DO.xxxx_1250x2300mm:504...</td>\n",
              "      <td>NaN</td>\n",
              "      <td>42785.0</td>\n",
              "      <td>12095.0</td>\n",
              "      <td>11100.0</td>\n",
              "      <td>...</td>\n",
              "      <td>NaN</td>\n",
              "      <td>NaN</td>\n",
              "      <td>NaN</td>\n",
              "      <td>NaN</td>\n",
              "      <td>NaN</td>\n",
              "      <td>NaN</td>\n",
              "      <td>NaN</td>\n",
              "      <td>NaN</td>\n",
              "      <td>NaN</td>\n",
              "      <td>NaN</td>\n",
              "    </tr>\n",
              "  </tbody>\n",
              "</table>\n",
              "<p>5 rows × 288 columns</p>\n",
              "</div>\n",
              "    <div class=\"colab-df-buttons\">\n",
              "\n",
              "  <div class=\"colab-df-container\">\n",
              "    <button class=\"colab-df-convert\" onclick=\"convertToInteractive('df-ae698675-8b14-45f3-a51c-36071fd56677')\"\n",
              "            title=\"Convert this dataframe to an interactive table.\"\n",
              "            style=\"display:none;\">\n",
              "\n",
              "  <svg xmlns=\"http://www.w3.org/2000/svg\" height=\"24px\" viewBox=\"0 -960 960 960\">\n",
              "    <path d=\"M120-120v-720h720v720H120Zm60-500h600v-160H180v160Zm220 220h160v-160H400v160Zm0 220h160v-160H400v160ZM180-400h160v-160H180v160Zm440 0h160v-160H620v160ZM180-180h160v-160H180v160Zm440 0h160v-160H620v160Z\"/>\n",
              "  </svg>\n",
              "    </button>\n",
              "\n",
              "  <style>\n",
              "    .colab-df-container {\n",
              "      display:flex;\n",
              "      gap: 12px;\n",
              "    }\n",
              "\n",
              "    .colab-df-convert {\n",
              "      background-color: #E8F0FE;\n",
              "      border: none;\n",
              "      border-radius: 50%;\n",
              "      cursor: pointer;\n",
              "      display: none;\n",
              "      fill: #1967D2;\n",
              "      height: 32px;\n",
              "      padding: 0 0 0 0;\n",
              "      width: 32px;\n",
              "    }\n",
              "\n",
              "    .colab-df-convert:hover {\n",
              "      background-color: #E2EBFA;\n",
              "      box-shadow: 0px 1px 2px rgba(60, 64, 67, 0.3), 0px 1px 3px 1px rgba(60, 64, 67, 0.15);\n",
              "      fill: #174EA6;\n",
              "    }\n",
              "\n",
              "    .colab-df-buttons div {\n",
              "      margin-bottom: 4px;\n",
              "    }\n",
              "\n",
              "    [theme=dark] .colab-df-convert {\n",
              "      background-color: #3B4455;\n",
              "      fill: #D2E3FC;\n",
              "    }\n",
              "\n",
              "    [theme=dark] .colab-df-convert:hover {\n",
              "      background-color: #434B5C;\n",
              "      box-shadow: 0px 1px 3px 1px rgba(0, 0, 0, 0.15);\n",
              "      filter: drop-shadow(0px 1px 2px rgba(0, 0, 0, 0.3));\n",
              "      fill: #FFFFFF;\n",
              "    }\n",
              "  </style>\n",
              "\n",
              "    <script>\n",
              "      const buttonEl =\n",
              "        document.querySelector('#df-ae698675-8b14-45f3-a51c-36071fd56677 button.colab-df-convert');\n",
              "      buttonEl.style.display =\n",
              "        google.colab.kernel.accessAllowed ? 'block' : 'none';\n",
              "\n",
              "      async function convertToInteractive(key) {\n",
              "        const element = document.querySelector('#df-ae698675-8b14-45f3-a51c-36071fd56677');\n",
              "        const dataTable =\n",
              "          await google.colab.kernel.invokeFunction('convertToInteractive',\n",
              "                                                    [key], {});\n",
              "        if (!dataTable) return;\n",
              "\n",
              "        const docLinkHtml = 'Like what you see? Visit the ' +\n",
              "          '<a target=\"_blank\" href=https://colab.research.google.com/notebooks/data_table.ipynb>data table notebook</a>'\n",
              "          + ' to learn more about interactive tables.';\n",
              "        element.innerHTML = '';\n",
              "        dataTable['output_type'] = 'display_data';\n",
              "        await google.colab.output.renderOutput(dataTable, element);\n",
              "        const docLink = document.createElement('div');\n",
              "        docLink.innerHTML = docLinkHtml;\n",
              "        element.appendChild(docLink);\n",
              "      }\n",
              "    </script>\n",
              "  </div>\n",
              "\n",
              "\n",
              "<div id=\"df-7c6732aa-aa46-4738-88cf-629180fb6c30\">\n",
              "  <button class=\"colab-df-quickchart\" onclick=\"quickchart('df-7c6732aa-aa46-4738-88cf-629180fb6c30')\"\n",
              "            title=\"Suggest charts\"\n",
              "            style=\"display:none;\">\n",
              "\n",
              "<svg xmlns=\"http://www.w3.org/2000/svg\" height=\"24px\"viewBox=\"0 0 24 24\"\n",
              "     width=\"24px\">\n",
              "    <g>\n",
              "        <path d=\"M19 3H5c-1.1 0-2 .9-2 2v14c0 1.1.9 2 2 2h14c1.1 0 2-.9 2-2V5c0-1.1-.9-2-2-2zM9 17H7v-7h2v7zm4 0h-2V7h2v10zm4 0h-2v-4h2v4z\"/>\n",
              "    </g>\n",
              "</svg>\n",
              "  </button>\n",
              "\n",
              "<style>\n",
              "  .colab-df-quickchart {\n",
              "      --bg-color: #E8F0FE;\n",
              "      --fill-color: #1967D2;\n",
              "      --hover-bg-color: #E2EBFA;\n",
              "      --hover-fill-color: #174EA6;\n",
              "      --disabled-fill-color: #AAA;\n",
              "      --disabled-bg-color: #DDD;\n",
              "  }\n",
              "\n",
              "  [theme=dark] .colab-df-quickchart {\n",
              "      --bg-color: #3B4455;\n",
              "      --fill-color: #D2E3FC;\n",
              "      --hover-bg-color: #434B5C;\n",
              "      --hover-fill-color: #FFFFFF;\n",
              "      --disabled-bg-color: #3B4455;\n",
              "      --disabled-fill-color: #666;\n",
              "  }\n",
              "\n",
              "  .colab-df-quickchart {\n",
              "    background-color: var(--bg-color);\n",
              "    border: none;\n",
              "    border-radius: 50%;\n",
              "    cursor: pointer;\n",
              "    display: none;\n",
              "    fill: var(--fill-color);\n",
              "    height: 32px;\n",
              "    padding: 0;\n",
              "    width: 32px;\n",
              "  }\n",
              "\n",
              "  .colab-df-quickchart:hover {\n",
              "    background-color: var(--hover-bg-color);\n",
              "    box-shadow: 0 1px 2px rgba(60, 64, 67, 0.3), 0 1px 3px 1px rgba(60, 64, 67, 0.15);\n",
              "    fill: var(--button-hover-fill-color);\n",
              "  }\n",
              "\n",
              "  .colab-df-quickchart-complete:disabled,\n",
              "  .colab-df-quickchart-complete:disabled:hover {\n",
              "    background-color: var(--disabled-bg-color);\n",
              "    fill: var(--disabled-fill-color);\n",
              "    box-shadow: none;\n",
              "  }\n",
              "\n",
              "  .colab-df-spinner {\n",
              "    border: 2px solid var(--fill-color);\n",
              "    border-color: transparent;\n",
              "    border-bottom-color: var(--fill-color);\n",
              "    animation:\n",
              "      spin 1s steps(1) infinite;\n",
              "  }\n",
              "\n",
              "  @keyframes spin {\n",
              "    0% {\n",
              "      border-color: transparent;\n",
              "      border-bottom-color: var(--fill-color);\n",
              "      border-left-color: var(--fill-color);\n",
              "    }\n",
              "    20% {\n",
              "      border-color: transparent;\n",
              "      border-left-color: var(--fill-color);\n",
              "      border-top-color: var(--fill-color);\n",
              "    }\n",
              "    30% {\n",
              "      border-color: transparent;\n",
              "      border-left-color: var(--fill-color);\n",
              "      border-top-color: var(--fill-color);\n",
              "      border-right-color: var(--fill-color);\n",
              "    }\n",
              "    40% {\n",
              "      border-color: transparent;\n",
              "      border-right-color: var(--fill-color);\n",
              "      border-top-color: var(--fill-color);\n",
              "    }\n",
              "    60% {\n",
              "      border-color: transparent;\n",
              "      border-right-color: var(--fill-color);\n",
              "    }\n",
              "    80% {\n",
              "      border-color: transparent;\n",
              "      border-right-color: var(--fill-color);\n",
              "      border-bottom-color: var(--fill-color);\n",
              "    }\n",
              "    90% {\n",
              "      border-color: transparent;\n",
              "      border-bottom-color: var(--fill-color);\n",
              "    }\n",
              "  }\n",
              "</style>\n",
              "\n",
              "  <script>\n",
              "    async function quickchart(key) {\n",
              "      const quickchartButtonEl =\n",
              "        document.querySelector('#' + key + ' button');\n",
              "      quickchartButtonEl.disabled = true;  // To prevent multiple clicks.\n",
              "      quickchartButtonEl.classList.add('colab-df-spinner');\n",
              "      try {\n",
              "        const charts = await google.colab.kernel.invokeFunction(\n",
              "            'suggestCharts', [key], {});\n",
              "      } catch (error) {\n",
              "        console.error('Error during call to suggestCharts:', error);\n",
              "      }\n",
              "      quickchartButtonEl.classList.remove('colab-df-spinner');\n",
              "      quickchartButtonEl.classList.add('colab-df-quickchart-complete');\n",
              "    }\n",
              "    (() => {\n",
              "      let quickchartButtonEl =\n",
              "        document.querySelector('#df-7c6732aa-aa46-4738-88cf-629180fb6c30 button');\n",
              "      quickchartButtonEl.style.display =\n",
              "        google.colab.kernel.accessAllowed ? 'block' : 'none';\n",
              "    })();\n",
              "  </script>\n",
              "</div>\n",
              "    </div>\n",
              "  </div>\n"
            ],
            "text/plain": [
              "      Unnamed: 0  ExpressId                GlobalId              Class  \\\n",
              "6995        6995     517673  2tUVg4MA6VP$A643zQ7bW7  IfcOpeningElement   \n",
              "6996        6996     517694  2jaTPaGWHetDmamrl44Lib  IfcOpeningElement   \n",
              "6997        6997     517715  3YAJ38x7vu7Ds_R2ra7b3f  IfcOpeningElement   \n",
              "6998        6998     517736  1D9Yxbxlr_woI3XwVBNGf2  IfcOpeningElement   \n",
              "6999        6999     517757  24ZM$4TvuTdFxLWYYz6Yf0  IfcOpeningElement   \n",
              "\n",
              "     PredefinedType                                               Name Level  \\\n",
              "6995        OPENING    K_32_DO_WB_Single:DO.xxxx_1040x2160mm:4946117:1   NaN   \n",
              "6996        OPENING    K_32_DO_WB_Single:DO.xxxx_1040x2160mm:4946126:1   NaN   \n",
              "6997        OPENING    K_32_DO_WB_Single:DO.xxxx_1040x2600mm:4983221:1   NaN   \n",
              "6998        OPENING  K_32_DO_WB_Single door:DO.xxxx_1250x2300mm:504...   NaN   \n",
              "6999        OPENING  K_32_DO_WB_Single door:DO.xxxx_1250x2300mm:504...   NaN   \n",
              "\n",
              "      x_coordinate  y_coordinate  z_coordinate  ...  \\\n",
              "6995       37110.0       12760.0       20550.0  ...   \n",
              "6996       38165.0       11230.0       20550.0  ...   \n",
              "6997       24450.0       26070.0           0.0  ...   \n",
              "6998       42785.0       10695.0       11100.0  ...   \n",
              "6999       42785.0       12095.0       11100.0  ...   \n",
              "\n",
              "     Pset_ManufacturerTypeInformation.Manufacturer  \\\n",
              "6995                                           NaN   \n",
              "6996                                           NaN   \n",
              "6997                                           NaN   \n",
              "6998                                           NaN   \n",
              "6999                                           NaN   \n",
              "\n",
              "     KAAN_ILS Summary.4.6 Geluidisolatie | Acoustic Value  \\\n",
              "6995                                                NaN     \n",
              "6996                                                NaN     \n",
              "6997                                                NaN     \n",
              "6998                                                NaN     \n",
              "6999                                                NaN     \n",
              "\n",
              "     Qto_WallBaseQuantities.K_i2_Wood_planks_240mm_vertical  \\\n",
              "6995                                                NaN       \n",
              "6996                                                NaN       \n",
              "6997                                                NaN       \n",
              "6998                                                NaN       \n",
              "6999                                                NaN       \n",
              "\n",
              "      Qto_WallBaseQuantities.K_i2_Wood_planks_240mm_vertical (2)  \\\n",
              "6995                                                NaN            \n",
              "6996                                                NaN            \n",
              "6997                                                NaN            \n",
              "6998                                                NaN            \n",
              "6999                                                NaN            \n",
              "\n",
              "      Pset_FurnitureTypeCommon.id Pset_DoorCommon.IsExternal  \\\n",
              "6995                          NaN                        NaN   \n",
              "6996                          NaN                        NaN   \n",
              "6997                          NaN                        NaN   \n",
              "6998                          NaN                        NaN   \n",
              "6999                          NaN                        NaN   \n",
              "\n",
              "     Pset_BuildingCommon.Reference  \\\n",
              "6995                           NaN   \n",
              "6996                           NaN   \n",
              "6997                           NaN   \n",
              "6998                           NaN   \n",
              "6999                           NaN   \n",
              "\n",
              "     Qto_BuildingElementProxyQuantities.NetVolume  \\\n",
              "6995                                          NaN   \n",
              "6996                                          NaN   \n",
              "6997                                          NaN   \n",
              "6998                                          NaN   \n",
              "6999                                          NaN   \n",
              "\n",
              "      Pset_RailingCommon.IsExternal  KAAN_ILS Summary.id  \n",
              "6995                            NaN                  NaN  \n",
              "6996                            NaN                  NaN  \n",
              "6997                            NaN                  NaN  \n",
              "6998                            NaN                  NaN  \n",
              "6999                            NaN                  NaN  \n",
              "\n",
              "[5 rows x 288 columns]"
            ]
          },
          "execution_count": 215,
          "metadata": {},
          "output_type": "execute_result"
        }
      ],
      "source": [
        "#getting the last 5 rows of the DataFrame\n",
        "StrijpS_df.tail()"
      ]
    },
    {
      "cell_type": "markdown",
      "metadata": {
        "id": "1nVaOuyfMOf5"
      },
      "source": [
        "After grasping an overal idea of the content, we can clean the DataFrame based on the specified task requirements. One step of the cleaning process is **to get rid of unwanted columns**. Some columns of the rawdata DataFrame are selected to keep as an example in the following cell. Then the DataFrame is shown (note that if we do not specify the head or the tail of the dataset, both are shown)."
      ]
    },
    {
      "cell_type": "code",
      "execution_count": null,
      "metadata": {
        "colab": {
          "base_uri": "https://localhost:8080/",
          "height": 424
        },
        "id": "jL4wNEVzvJ2n",
        "outputId": "60dd8775-b4e1-4860-a41a-f32045da2149"
      },
      "outputs": [
        {
          "data": {
            "application/vnd.google.colaboratory.intrinsic+json": {
              "summary": "{\n  \"name\": \"selected_df\",\n  \"rows\": 7000,\n  \"fields\": [\n    {\n      \"column\": \"Class\",\n      \"properties\": {\n        \"dtype\": \"category\",\n        \"num_unique_values\": 23,\n        \"samples\": [\n          \"IfcStairFlight\",\n          \"IfcOpeningElement\",\n          \"IfcBuilding\"\n        ],\n        \"semantic_type\": \"\",\n        \"description\": \"\"\n      }\n    },\n    {\n      \"column\": \"PredefinedType\",\n      \"properties\": {\n        \"dtype\": \"category\",\n        \"num_unique_values\": 23,\n        \"samples\": [\n          \"K_73_FU_LB_Kitchen_Type2:Sink_600x600x900mm\",\n          \"WINDOW\",\n          \"Level:Standard\"\n        ],\n        \"semantic_type\": \"\",\n        \"description\": \"\"\n      }\n    },\n    {\n      \"column\": \"Level\",\n      \"properties\": {\n        \"dtype\": \"category\",\n        \"num_unique_values\": 182,\n        \"samples\": [\n          \"06.C02.30\",\n          \"06.D07.01\",\n          \"05.D05.01\"\n        ],\n        \"semantic_type\": \"\",\n        \"description\": \"\"\n      }\n    },\n    {\n      \"column\": \"x_coordinate\",\n      \"properties\": {\n        \"dtype\": \"number\",\n        \"std\": 14921.139517174726,\n        \"min\": 0.0,\n        \"max\": 44205.0,\n        \"num_unique_values\": 681,\n        \"samples\": [\n          12100.0,\n          28130.0,\n          16395.0\n        ],\n        \"semantic_type\": \"\",\n        \"description\": \"\"\n      }\n    },\n    {\n      \"column\": \"y_coordinate\",\n      \"properties\": {\n        \"dtype\": \"number\",\n        \"std\": 11890.453698186322,\n        \"min\": 0.0,\n        \"max\": 31605.0,\n        \"num_unique_values\": 636,\n        \"samples\": [\n          17405.263092496953,\n          28950.0,\n          19030.0\n        ],\n        \"semantic_type\": \"\",\n        \"description\": \"\"\n      }\n    },\n    {\n      \"column\": \"z_coordinate\",\n      \"properties\": {\n        \"dtype\": \"number\",\n        \"std\": 7947.179786456637,\n        \"min\": -1115.0,\n        \"max\": 24060.0,\n        \"num_unique_values\": 188,\n        \"samples\": [\n          3636.194855358658,\n          20708.404727764144,\n          11100.00000000126\n        ],\n        \"semantic_type\": \"\",\n        \"description\": \"\"\n      }\n    },\n    {\n      \"column\": \"Material\",\n      \"properties\": {\n        \"dtype\": \"category\",\n        \"num_unique_values\": 82,\n        \"samples\": [\n          \"Basic Wall:K_22_WA_CLT_120mm\",\n          \"<Unnamed>\",\n          \"Basic Wall:K_22_WA_Brickwork_220mm\"\n        ],\n        \"semantic_type\": \"\",\n        \"description\": \"\"\n      }\n    }\n  ]\n}",
              "type": "dataframe",
              "variable_name": "selected_df"
            },
            "text/html": [
              "\n",
              "  <div id=\"df-2d28c1ea-d2df-4a89-abe2-2635a7614e34\" class=\"colab-df-container\">\n",
              "    <div>\n",
              "<style scoped>\n",
              "    .dataframe tbody tr th:only-of-type {\n",
              "        vertical-align: middle;\n",
              "    }\n",
              "\n",
              "    .dataframe tbody tr th {\n",
              "        vertical-align: top;\n",
              "    }\n",
              "\n",
              "    .dataframe thead th {\n",
              "        text-align: right;\n",
              "    }\n",
              "</style>\n",
              "<table border=\"1\" class=\"dataframe\">\n",
              "  <thead>\n",
              "    <tr style=\"text-align: right;\">\n",
              "      <th></th>\n",
              "      <th>Class</th>\n",
              "      <th>PredefinedType</th>\n",
              "      <th>Level</th>\n",
              "      <th>x_coordinate</th>\n",
              "      <th>y_coordinate</th>\n",
              "      <th>z_coordinate</th>\n",
              "      <th>Material</th>\n",
              "    </tr>\n",
              "  </thead>\n",
              "  <tbody>\n",
              "    <tr>\n",
              "      <th>0</th>\n",
              "      <td>IfcBuilding</td>\n",
              "      <td>NaN</td>\n",
              "      <td>NaN</td>\n",
              "      <td>0.0</td>\n",
              "      <td>0.0</td>\n",
              "      <td>0.0</td>\n",
              "      <td>NaN</td>\n",
              "    </tr>\n",
              "    <tr>\n",
              "      <th>1</th>\n",
              "      <td>IfcBuildingStorey</td>\n",
              "      <td>Level:Standard</td>\n",
              "      <td>NaN</td>\n",
              "      <td>0.0</td>\n",
              "      <td>0.0</td>\n",
              "      <td>0.0</td>\n",
              "      <td>NaN</td>\n",
              "    </tr>\n",
              "    <tr>\n",
              "      <th>2</th>\n",
              "      <td>IfcBuildingStorey</td>\n",
              "      <td>Level:Standard</td>\n",
              "      <td>NaN</td>\n",
              "      <td>0.0</td>\n",
              "      <td>0.0</td>\n",
              "      <td>3700.0</td>\n",
              "      <td>NaN</td>\n",
              "    </tr>\n",
              "    <tr>\n",
              "      <th>3</th>\n",
              "      <td>IfcBuildingStorey</td>\n",
              "      <td>Level:Standard</td>\n",
              "      <td>NaN</td>\n",
              "      <td>0.0</td>\n",
              "      <td>0.0</td>\n",
              "      <td>7400.0</td>\n",
              "      <td>NaN</td>\n",
              "    </tr>\n",
              "    <tr>\n",
              "      <th>4</th>\n",
              "      <td>IfcBuildingStorey</td>\n",
              "      <td>Level:Standard</td>\n",
              "      <td>NaN</td>\n",
              "      <td>0.0</td>\n",
              "      <td>0.0</td>\n",
              "      <td>11100.0</td>\n",
              "      <td>NaN</td>\n",
              "    </tr>\n",
              "    <tr>\n",
              "      <th>...</th>\n",
              "      <td>...</td>\n",
              "      <td>...</td>\n",
              "      <td>...</td>\n",
              "      <td>...</td>\n",
              "      <td>...</td>\n",
              "      <td>...</td>\n",
              "      <td>...</td>\n",
              "    </tr>\n",
              "    <tr>\n",
              "      <th>6995</th>\n",
              "      <td>IfcOpeningElement</td>\n",
              "      <td>OPENING</td>\n",
              "      <td>NaN</td>\n",
              "      <td>37110.0</td>\n",
              "      <td>12760.0</td>\n",
              "      <td>20550.0</td>\n",
              "      <td>NaN</td>\n",
              "    </tr>\n",
              "    <tr>\n",
              "      <th>6996</th>\n",
              "      <td>IfcOpeningElement</td>\n",
              "      <td>OPENING</td>\n",
              "      <td>NaN</td>\n",
              "      <td>38165.0</td>\n",
              "      <td>11230.0</td>\n",
              "      <td>20550.0</td>\n",
              "      <td>NaN</td>\n",
              "    </tr>\n",
              "    <tr>\n",
              "      <th>6997</th>\n",
              "      <td>IfcOpeningElement</td>\n",
              "      <td>OPENING</td>\n",
              "      <td>NaN</td>\n",
              "      <td>24450.0</td>\n",
              "      <td>26070.0</td>\n",
              "      <td>0.0</td>\n",
              "      <td>NaN</td>\n",
              "    </tr>\n",
              "    <tr>\n",
              "      <th>6998</th>\n",
              "      <td>IfcOpeningElement</td>\n",
              "      <td>OPENING</td>\n",
              "      <td>NaN</td>\n",
              "      <td>42785.0</td>\n",
              "      <td>10695.0</td>\n",
              "      <td>11100.0</td>\n",
              "      <td>NaN</td>\n",
              "    </tr>\n",
              "    <tr>\n",
              "      <th>6999</th>\n",
              "      <td>IfcOpeningElement</td>\n",
              "      <td>OPENING</td>\n",
              "      <td>NaN</td>\n",
              "      <td>42785.0</td>\n",
              "      <td>12095.0</td>\n",
              "      <td>11100.0</td>\n",
              "      <td>NaN</td>\n",
              "    </tr>\n",
              "  </tbody>\n",
              "</table>\n",
              "<p>7000 rows × 7 columns</p>\n",
              "</div>\n",
              "    <div class=\"colab-df-buttons\">\n",
              "\n",
              "  <div class=\"colab-df-container\">\n",
              "    <button class=\"colab-df-convert\" onclick=\"convertToInteractive('df-2d28c1ea-d2df-4a89-abe2-2635a7614e34')\"\n",
              "            title=\"Convert this dataframe to an interactive table.\"\n",
              "            style=\"display:none;\">\n",
              "\n",
              "  <svg xmlns=\"http://www.w3.org/2000/svg\" height=\"24px\" viewBox=\"0 -960 960 960\">\n",
              "    <path d=\"M120-120v-720h720v720H120Zm60-500h600v-160H180v160Zm220 220h160v-160H400v160Zm0 220h160v-160H400v160ZM180-400h160v-160H180v160Zm440 0h160v-160H620v160ZM180-180h160v-160H180v160Zm440 0h160v-160H620v160Z\"/>\n",
              "  </svg>\n",
              "    </button>\n",
              "\n",
              "  <style>\n",
              "    .colab-df-container {\n",
              "      display:flex;\n",
              "      gap: 12px;\n",
              "    }\n",
              "\n",
              "    .colab-df-convert {\n",
              "      background-color: #E8F0FE;\n",
              "      border: none;\n",
              "      border-radius: 50%;\n",
              "      cursor: pointer;\n",
              "      display: none;\n",
              "      fill: #1967D2;\n",
              "      height: 32px;\n",
              "      padding: 0 0 0 0;\n",
              "      width: 32px;\n",
              "    }\n",
              "\n",
              "    .colab-df-convert:hover {\n",
              "      background-color: #E2EBFA;\n",
              "      box-shadow: 0px 1px 2px rgba(60, 64, 67, 0.3), 0px 1px 3px 1px rgba(60, 64, 67, 0.15);\n",
              "      fill: #174EA6;\n",
              "    }\n",
              "\n",
              "    .colab-df-buttons div {\n",
              "      margin-bottom: 4px;\n",
              "    }\n",
              "\n",
              "    [theme=dark] .colab-df-convert {\n",
              "      background-color: #3B4455;\n",
              "      fill: #D2E3FC;\n",
              "    }\n",
              "\n",
              "    [theme=dark] .colab-df-convert:hover {\n",
              "      background-color: #434B5C;\n",
              "      box-shadow: 0px 1px 3px 1px rgba(0, 0, 0, 0.15);\n",
              "      filter: drop-shadow(0px 1px 2px rgba(0, 0, 0, 0.3));\n",
              "      fill: #FFFFFF;\n",
              "    }\n",
              "  </style>\n",
              "\n",
              "    <script>\n",
              "      const buttonEl =\n",
              "        document.querySelector('#df-2d28c1ea-d2df-4a89-abe2-2635a7614e34 button.colab-df-convert');\n",
              "      buttonEl.style.display =\n",
              "        google.colab.kernel.accessAllowed ? 'block' : 'none';\n",
              "\n",
              "      async function convertToInteractive(key) {\n",
              "        const element = document.querySelector('#df-2d28c1ea-d2df-4a89-abe2-2635a7614e34');\n",
              "        const dataTable =\n",
              "          await google.colab.kernel.invokeFunction('convertToInteractive',\n",
              "                                                    [key], {});\n",
              "        if (!dataTable) return;\n",
              "\n",
              "        const docLinkHtml = 'Like what you see? Visit the ' +\n",
              "          '<a target=\"_blank\" href=https://colab.research.google.com/notebooks/data_table.ipynb>data table notebook</a>'\n",
              "          + ' to learn more about interactive tables.';\n",
              "        element.innerHTML = '';\n",
              "        dataTable['output_type'] = 'display_data';\n",
              "        await google.colab.output.renderOutput(dataTable, element);\n",
              "        const docLink = document.createElement('div');\n",
              "        docLink.innerHTML = docLinkHtml;\n",
              "        element.appendChild(docLink);\n",
              "      }\n",
              "    </script>\n",
              "  </div>\n",
              "\n",
              "\n",
              "<div id=\"df-c577de8f-e4db-4f34-8a40-50e893965302\">\n",
              "  <button class=\"colab-df-quickchart\" onclick=\"quickchart('df-c577de8f-e4db-4f34-8a40-50e893965302')\"\n",
              "            title=\"Suggest charts\"\n",
              "            style=\"display:none;\">\n",
              "\n",
              "<svg xmlns=\"http://www.w3.org/2000/svg\" height=\"24px\"viewBox=\"0 0 24 24\"\n",
              "     width=\"24px\">\n",
              "    <g>\n",
              "        <path d=\"M19 3H5c-1.1 0-2 .9-2 2v14c0 1.1.9 2 2 2h14c1.1 0 2-.9 2-2V5c0-1.1-.9-2-2-2zM9 17H7v-7h2v7zm4 0h-2V7h2v10zm4 0h-2v-4h2v4z\"/>\n",
              "    </g>\n",
              "</svg>\n",
              "  </button>\n",
              "\n",
              "<style>\n",
              "  .colab-df-quickchart {\n",
              "      --bg-color: #E8F0FE;\n",
              "      --fill-color: #1967D2;\n",
              "      --hover-bg-color: #E2EBFA;\n",
              "      --hover-fill-color: #174EA6;\n",
              "      --disabled-fill-color: #AAA;\n",
              "      --disabled-bg-color: #DDD;\n",
              "  }\n",
              "\n",
              "  [theme=dark] .colab-df-quickchart {\n",
              "      --bg-color: #3B4455;\n",
              "      --fill-color: #D2E3FC;\n",
              "      --hover-bg-color: #434B5C;\n",
              "      --hover-fill-color: #FFFFFF;\n",
              "      --disabled-bg-color: #3B4455;\n",
              "      --disabled-fill-color: #666;\n",
              "  }\n",
              "\n",
              "  .colab-df-quickchart {\n",
              "    background-color: var(--bg-color);\n",
              "    border: none;\n",
              "    border-radius: 50%;\n",
              "    cursor: pointer;\n",
              "    display: none;\n",
              "    fill: var(--fill-color);\n",
              "    height: 32px;\n",
              "    padding: 0;\n",
              "    width: 32px;\n",
              "  }\n",
              "\n",
              "  .colab-df-quickchart:hover {\n",
              "    background-color: var(--hover-bg-color);\n",
              "    box-shadow: 0 1px 2px rgba(60, 64, 67, 0.3), 0 1px 3px 1px rgba(60, 64, 67, 0.15);\n",
              "    fill: var(--button-hover-fill-color);\n",
              "  }\n",
              "\n",
              "  .colab-df-quickchart-complete:disabled,\n",
              "  .colab-df-quickchart-complete:disabled:hover {\n",
              "    background-color: var(--disabled-bg-color);\n",
              "    fill: var(--disabled-fill-color);\n",
              "    box-shadow: none;\n",
              "  }\n",
              "\n",
              "  .colab-df-spinner {\n",
              "    border: 2px solid var(--fill-color);\n",
              "    border-color: transparent;\n",
              "    border-bottom-color: var(--fill-color);\n",
              "    animation:\n",
              "      spin 1s steps(1) infinite;\n",
              "  }\n",
              "\n",
              "  @keyframes spin {\n",
              "    0% {\n",
              "      border-color: transparent;\n",
              "      border-bottom-color: var(--fill-color);\n",
              "      border-left-color: var(--fill-color);\n",
              "    }\n",
              "    20% {\n",
              "      border-color: transparent;\n",
              "      border-left-color: var(--fill-color);\n",
              "      border-top-color: var(--fill-color);\n",
              "    }\n",
              "    30% {\n",
              "      border-color: transparent;\n",
              "      border-left-color: var(--fill-color);\n",
              "      border-top-color: var(--fill-color);\n",
              "      border-right-color: var(--fill-color);\n",
              "    }\n",
              "    40% {\n",
              "      border-color: transparent;\n",
              "      border-right-color: var(--fill-color);\n",
              "      border-top-color: var(--fill-color);\n",
              "    }\n",
              "    60% {\n",
              "      border-color: transparent;\n",
              "      border-right-color: var(--fill-color);\n",
              "    }\n",
              "    80% {\n",
              "      border-color: transparent;\n",
              "      border-right-color: var(--fill-color);\n",
              "      border-bottom-color: var(--fill-color);\n",
              "    }\n",
              "    90% {\n",
              "      border-color: transparent;\n",
              "      border-bottom-color: var(--fill-color);\n",
              "    }\n",
              "  }\n",
              "</style>\n",
              "\n",
              "  <script>\n",
              "    async function quickchart(key) {\n",
              "      const quickchartButtonEl =\n",
              "        document.querySelector('#' + key + ' button');\n",
              "      quickchartButtonEl.disabled = true;  // To prevent multiple clicks.\n",
              "      quickchartButtonEl.classList.add('colab-df-spinner');\n",
              "      try {\n",
              "        const charts = await google.colab.kernel.invokeFunction(\n",
              "            'suggestCharts', [key], {});\n",
              "      } catch (error) {\n",
              "        console.error('Error during call to suggestCharts:', error);\n",
              "      }\n",
              "      quickchartButtonEl.classList.remove('colab-df-spinner');\n",
              "      quickchartButtonEl.classList.add('colab-df-quickchart-complete');\n",
              "    }\n",
              "    (() => {\n",
              "      let quickchartButtonEl =\n",
              "        document.querySelector('#df-c577de8f-e4db-4f34-8a40-50e893965302 button');\n",
              "      quickchartButtonEl.style.display =\n",
              "        google.colab.kernel.accessAllowed ? 'block' : 'none';\n",
              "    })();\n",
              "  </script>\n",
              "</div>\n",
              "    </div>\n",
              "  </div>\n"
            ],
            "text/plain": [
              "                  Class  PredefinedType Level  x_coordinate  y_coordinate  \\\n",
              "0           IfcBuilding             NaN   NaN           0.0           0.0   \n",
              "1     IfcBuildingStorey  Level:Standard   NaN           0.0           0.0   \n",
              "2     IfcBuildingStorey  Level:Standard   NaN           0.0           0.0   \n",
              "3     IfcBuildingStorey  Level:Standard   NaN           0.0           0.0   \n",
              "4     IfcBuildingStorey  Level:Standard   NaN           0.0           0.0   \n",
              "...                 ...             ...   ...           ...           ...   \n",
              "6995  IfcOpeningElement         OPENING   NaN       37110.0       12760.0   \n",
              "6996  IfcOpeningElement         OPENING   NaN       38165.0       11230.0   \n",
              "6997  IfcOpeningElement         OPENING   NaN       24450.0       26070.0   \n",
              "6998  IfcOpeningElement         OPENING   NaN       42785.0       10695.0   \n",
              "6999  IfcOpeningElement         OPENING   NaN       42785.0       12095.0   \n",
              "\n",
              "      z_coordinate Material  \n",
              "0              0.0      NaN  \n",
              "1              0.0      NaN  \n",
              "2           3700.0      NaN  \n",
              "3           7400.0      NaN  \n",
              "4          11100.0      NaN  \n",
              "...            ...      ...  \n",
              "6995       20550.0      NaN  \n",
              "6996       20550.0      NaN  \n",
              "6997           0.0      NaN  \n",
              "6998       11100.0      NaN  \n",
              "6999       11100.0      NaN  \n",
              "\n",
              "[7000 rows x 7 columns]"
            ]
          },
          "execution_count": 216,
          "metadata": {},
          "output_type": "execute_result"
        }
      ],
      "source": [
        "#defining a new DataFrame which is a sub DataFrame of the main one. So, no worries, we will never lose the data we frist loaded.\n",
        "selected_df = StrijpS_df[['Class', 'PredefinedType', 'Level', 'x_coordinate', 'y_coordinate','z_coordinate', 'Material']]\n",
        "selected_df"
      ]
    },
    {
      "cell_type": "markdown",
      "metadata": {
        "id": "0moUUpthQaPL"
      },
      "source": [
        "Did you notice that ***the size of the DataFrame*** has changed? Let's keep the track of this change also later on.\n",
        "\n",
        "Sometimes we are interested in the number of ***unique values*** in certain columns. Also, we might need a list of unique values in a certain column (and not necessarily the number of them). The following cells will go through the abovementioned applications."
      ]
    },
    {
      "cell_type": "code",
      "execution_count": null,
      "metadata": {
        "colab": {
          "base_uri": "https://localhost:8080/"
        },
        "id": "xF-ajTTHwkv7",
        "outputId": "b8751158-636f-465b-fcf6-0be4e19f91ab"
      },
      "outputs": [
        {
          "name": "stdout",
          "output_type": "stream",
          "text": [
            "Class              23\n",
            "PredefinedType     23\n",
            "Level             182\n",
            "x_coordinate      681\n",
            "y_coordinate      636\n",
            "z_coordinate      188\n",
            "Material           82\n",
            "dtype: int64\n"
          ]
        }
      ],
      "source": [
        "#printing the number of unique ids in the selected DataFrame using the .nunique function\n",
        "print(selected_df.nunique())"
      ]
    },
    {
      "cell_type": "markdown",
      "metadata": {
        "id": "NT_ra2jgkB8Z"
      },
      "source": [
        "We can also refer to a certain column in the pandas DataFrame simply by putting a dot after the DataFrame's name. Let's assume we are interested to know what kind of materials have been used in the third floor of the Strijp S project. So once we talk about ***what kind***, it would be translated into ***the unique values***."
      ]
    },
    {
      "cell_type": "code",
      "execution_count": null,
      "metadata": {
        "colab": {
          "base_uri": "https://localhost:8080/"
        },
        "id": "q7J4qZUwwuZM",
        "outputId": "eb2aa1b7-ef70-4403-d264-08f8598550a6"
      },
      "outputs": [
        {
          "name": "stdout",
          "output_type": "stream",
          "text": [
            "[nan '<Unnamed>' 'K_i2_softwood' 'K_f2_concrete_in-situ'\n",
            " 'Floor:K_23_FL_Wood CLT_240mm' 'K_i0_CLT Wood' 'K_i2_softwood_horizontal'\n",
            " 'Floor:K_23_FL_Concrete_205mm' 'K_i3_Hardwood vertical_azobe'\n",
            " 'K_m1_Insulation_Mineral wool' 'K_i3_Hardwood horizontal_azobe'\n",
            " 'Basic Wall:K_21_WA_Aluminium framework_100mm'\n",
            " 'Basic Wall:K_21_WA_Wood_190mm' 'Floor:K_27_FL_Soil+grass_300mm'\n",
            " 'Basic Wall:K_21_WA_Wood+Insulation_220mm'\n",
            " 'Basic Wall:K_22_WA_Metalstud_dubbel_2.75-75.2_360mm'\n",
            " 'Basic Wall:K_22_WA_Metalstud_2.75-75.2_205mm'\n",
            " 'Basic Wall:K_22_WA_Metalstud_2.105.2_155mm'\n",
            " 'Basic Wall:K_22_WA_Metalstud_2.50.2_100mm'\n",
            " 'K_00_Clash material_Operation zone'\n",
            " 'Floor:K_43_FL_Floor tiles_50x50mm_15mm'\n",
            " 'Basic Wall:K_22_WA_Brickwork_150mm'\n",
            " 'Basic Wall:K_22_WA_Metalstud_2.75_100mm'\n",
            " 'Basic Wall:K_22_WA_Brickwork_220mm' 'K_i0_Wood_strip_125x1000mm'\n",
            " 'Floor:K_23_FL_Concrete+screed_205mm'\n",
            " 'Basic Wall:K_41_WA_Insulation_180mm'\n",
            " 'Basic Wall:K_22_WA_Metalstud_2.80_110mm'\n",
            " 'K_generic_clash material_operation' 'K_n6_carpet_beige'\n",
            " 'Basic Wall:K_22_WA_Metalstud_220mm' 'Basic Wall:K_22_WA_CLT_120mm'\n",
            " 'Basic Wall:K_21_WA_HSB_380mm'\n",
            " 'Basic Wall:K_22_WA_Metalstud_schacht_45.1_57mm'\n",
            " 'Basic Wall:K_22_WA_Metalstud_2-2_100mm' 'K_i0_LightWood'\n",
            " 'Basic Wall:K_42_WA_Wall tiles_50x50mm_15mm'\n",
            " 'Basic Wall:K_22_WA_Metalstud_2.75_105mm'\n",
            " 'Basic Wall:K_22_WA_Metalstud_schacht_75.2_100mm' 'K_n6_Insulation'\n",
            " 'Basic Wall:K_21_WA_Wood CLT_100mm' 'K_f7_Plasterboard'\n",
            " 'K_00_Clash material_Placement zone'\n",
            " 'Basic Wall:K_21_WA_Wood finish_220mm'\n",
            " 'K_i2_Wood_planks_240mm_horizontal' 'K_i2_Wood_planks_plain'\n",
            " 'Basic Wall:K_21_WA_HSB_330mm'\n",
            " 'Basic Wall:K_22_WA_Concrete+Insulation_360mm' 'K_f2_Concrete_In situ_'\n",
            " 'K_f7_plaster' 'K_f2_concrete_in-situ_polished' 'K_n4_Linoleum'\n",
            " 'K_f2_concrete_in-situ_brushed' 'K_f2_concrete_prefab'\n",
            " 'Compound Ceiling:K_45_CEI_Plasterboard_25mm'\n",
            " 'Floor:K_23.10_FL_Plasterboard_30mm'\n",
            " 'Basic Wall:K_22_WA_Plasterboard_2_30mm' 'K_j1_MDF'\n",
            " 'K_f2_concrete_sidewalk' 'K_g2_Brick_Pavement' 'K_n1_asphalt'\n",
            " 'Basic Wall:K_22_WA_Brickwork_250mm' 'Basic Wall:K_22_WA_Brickwork_100mm'\n",
            " 'K_h3_Stainless steel_Brushed' 'K_e0_Gravel'\n",
            " 'Basic Wall:K_22_WA_Metalstud_WKO_2.50.2_100mm'\n",
            " 'Basic Wall:K_22_WA_Metalstud_ECT_2.50.2_100mm'\n",
            " 'Basic Wall:K_22_WA_Metalstud_MK_1.82_100mm'\n",
            " 'Basic Wall:K_22_WA_Metalstud_ECT_1.82_100mm' 'K_i0_Softwood'\n",
            " 'Floor:K_23_FL_Screed+Insulation_95mm' 'K_i2_Wood_planks_240mm_vertical'\n",
            " 'K_h4_Aluminium_Anodized_Natural' 'Floor:K_23_FL_Wood CLT_120mm'\n",
            " 'Basic Wall:K_22_WA_Aluminium cladding_15mm' 'K_f2_Cement sand screed'\n",
            " 'K_h2_steel_mesh' 'Basic Wall:K_22_WA_Metalstud_1.75.1_100mm'\n",
            " 'Basic Wall:K_22_WA_Plasterboard_2_25mm'\n",
            " 'Basic Wall:K_22_WA_Metalstud_2.40_65mm' 'K_f2_concrete_prefab_white'\n",
            " 'Floor:K_23_FL_Screed+insulation_160mm'\n",
            " 'h4_Aluminium_Geanodiseerd_Naturel']\n"
          ]
        }
      ],
      "source": [
        "#printing the list of unique values in a certain column (here: Material) using the .unique function\n",
        "print(selected_df.Material.unique())"
      ]
    },
    {
      "cell_type": "markdown",
      "metadata": {
        "id": "rfXARQcECOLY"
      },
      "source": [
        "What is the first material? Have you ever worked with that? I bet no.\n",
        "\n",
        "In computing, NaN, standing for Not a Number, is a particular value of a numeric data type which is undefined as a number. If we are interested in keeping the rows with actual values (in other words, ***rows without NaN values***), we can apply the **dropna()** function over the DataFrame."
      ]
    },
    {
      "cell_type": "code",
      "execution_count": null,
      "metadata": {
        "colab": {
          "base_uri": "https://localhost:8080/",
          "height": 424
        },
        "id": "-CjcpjK6BlfJ",
        "outputId": "8d196c28-052a-4db8-b411-0196081d5ac8"
      },
      "outputs": [
        {
          "data": {
            "application/vnd.google.colaboratory.intrinsic+json": {
              "summary": "{\n  \"name\": \"clean_df\",\n  \"rows\": 4748,\n  \"fields\": [\n    {\n      \"column\": \"Class\",\n      \"properties\": {\n        \"dtype\": \"category\",\n        \"num_unique_values\": 13,\n        \"samples\": [\n          \"IfcFlowTerminal\",\n          \"IfcFurnishingElement\",\n          \"IfcBuildingElementProxy\"\n        ],\n        \"semantic_type\": \"\",\n        \"description\": \"\"\n      }\n    },\n    {\n      \"column\": \"PredefinedType\",\n      \"properties\": {\n        \"dtype\": \"category\",\n        \"num_unique_values\": 16,\n        \"samples\": [\n          \"NOTDEFINED\",\n          \"COLUMN\",\n          \"DOOR\"\n        ],\n        \"semantic_type\": \"\",\n        \"description\": \"\"\n      }\n    },\n    {\n      \"column\": \"Level\",\n      \"properties\": {\n        \"dtype\": \"category\",\n        \"num_unique_values\": 182,\n        \"samples\": [\n          \"06.C02.30\",\n          \"06.D07.01\",\n          \"05.D05.01\"\n        ],\n        \"semantic_type\": \"\",\n        \"description\": \"\"\n      }\n    },\n    {\n      \"column\": \"x_coordinate\",\n      \"properties\": {\n        \"dtype\": \"number\",\n        \"std\": 14692.715733451307,\n        \"min\": 0.0,\n        \"max\": 44205.0,\n        \"num_unique_values\": 587,\n        \"samples\": [\n          16400.0,\n          15940.904727764271,\n          22050.0\n        ],\n        \"semantic_type\": \"\",\n        \"description\": \"\"\n      }\n    },\n    {\n      \"column\": \"y_coordinate\",\n      \"properties\": {\n        \"dtype\": \"number\",\n        \"std\": 11557.357956761036,\n        \"min\": 0.0,\n        \"max\": 31605.0,\n        \"num_unique_values\": 461,\n        \"samples\": [\n          26287.49999999991,\n          15080.0,\n          16375.0\n        ],\n        \"semantic_type\": \"\",\n        \"description\": \"\"\n      }\n    },\n    {\n      \"column\": \"z_coordinate\",\n      \"properties\": {\n        \"dtype\": \"number\",\n        \"std\": 8168.606062580271,\n        \"min\": -1115.0,\n        \"max\": 24060.0,\n        \"num_unique_values\": 173,\n        \"samples\": [\n          6375.0,\n          20530.0,\n          8150.0\n        ],\n        \"semantic_type\": \"\",\n        \"description\": \"\"\n      }\n    },\n    {\n      \"column\": \"Material\",\n      \"properties\": {\n        \"dtype\": \"category\",\n        \"num_unique_values\": 82,\n        \"samples\": [\n          \"Basic Wall:K_22_WA_CLT_120mm\",\n          \"<Unnamed>\",\n          \"Basic Wall:K_22_WA_Brickwork_220mm\"\n        ],\n        \"semantic_type\": \"\",\n        \"description\": \"\"\n      }\n    }\n  ]\n}",
              "type": "dataframe",
              "variable_name": "clean_df"
            },
            "text/html": [
              "\n",
              "  <div id=\"df-5866c904-84a4-4c91-aff7-a9bedbd39201\" class=\"colab-df-container\">\n",
              "    <div>\n",
              "<style scoped>\n",
              "    .dataframe tbody tr th:only-of-type {\n",
              "        vertical-align: middle;\n",
              "    }\n",
              "\n",
              "    .dataframe tbody tr th {\n",
              "        vertical-align: top;\n",
              "    }\n",
              "\n",
              "    .dataframe thead th {\n",
              "        text-align: right;\n",
              "    }\n",
              "</style>\n",
              "<table border=\"1\" class=\"dataframe\">\n",
              "  <thead>\n",
              "    <tr style=\"text-align: right;\">\n",
              "      <th></th>\n",
              "      <th>Class</th>\n",
              "      <th>PredefinedType</th>\n",
              "      <th>Level</th>\n",
              "      <th>x_coordinate</th>\n",
              "      <th>y_coordinate</th>\n",
              "      <th>z_coordinate</th>\n",
              "      <th>Material</th>\n",
              "    </tr>\n",
              "  </thead>\n",
              "  <tbody>\n",
              "    <tr>\n",
              "      <th>421</th>\n",
              "      <td>IfcBuildingElementProxy</td>\n",
              "      <td>NOTDEFINED</td>\n",
              "      <td>00 begane grond</td>\n",
              "      <td>0.0</td>\n",
              "      <td>0.0</td>\n",
              "      <td>0.0</td>\n",
              "      <td>&lt;Unnamed&gt;</td>\n",
              "    </tr>\n",
              "    <tr>\n",
              "      <th>422</th>\n",
              "      <td>IfcColumn</td>\n",
              "      <td>COLUMN</td>\n",
              "      <td>00 begane grond</td>\n",
              "      <td>0.0</td>\n",
              "      <td>0.0</td>\n",
              "      <td>0.0</td>\n",
              "      <td>K_i2_softwood</td>\n",
              "    </tr>\n",
              "    <tr>\n",
              "      <th>423</th>\n",
              "      <td>IfcColumn</td>\n",
              "      <td>COLUMN</td>\n",
              "      <td>00 begane grond</td>\n",
              "      <td>0.0</td>\n",
              "      <td>0.0</td>\n",
              "      <td>0.0</td>\n",
              "      <td>K_i2_softwood</td>\n",
              "    </tr>\n",
              "    <tr>\n",
              "      <th>424</th>\n",
              "      <td>IfcColumn</td>\n",
              "      <td>COLUMN</td>\n",
              "      <td>00 begane grond</td>\n",
              "      <td>0.0</td>\n",
              "      <td>0.0</td>\n",
              "      <td>0.0</td>\n",
              "      <td>K_i2_softwood</td>\n",
              "    </tr>\n",
              "    <tr>\n",
              "      <th>425</th>\n",
              "      <td>IfcColumn</td>\n",
              "      <td>COLUMN</td>\n",
              "      <td>00 begane grond</td>\n",
              "      <td>0.0</td>\n",
              "      <td>0.0</td>\n",
              "      <td>0.0</td>\n",
              "      <td>K_i2_softwood</td>\n",
              "    </tr>\n",
              "    <tr>\n",
              "      <th>...</th>\n",
              "      <td>...</td>\n",
              "      <td>...</td>\n",
              "      <td>...</td>\n",
              "      <td>...</td>\n",
              "      <td>...</td>\n",
              "      <td>...</td>\n",
              "      <td>...</td>\n",
              "    </tr>\n",
              "    <tr>\n",
              "      <th>6081</th>\n",
              "      <td>IfcBeam</td>\n",
              "      <td>BEAM</td>\n",
              "      <td>03 derde verdieping</td>\n",
              "      <td>0.0</td>\n",
              "      <td>0.0</td>\n",
              "      <td>0.0</td>\n",
              "      <td>K_i3_Hardwood horizontal_azobe</td>\n",
              "    </tr>\n",
              "    <tr>\n",
              "      <th>6082</th>\n",
              "      <td>IfcBeam</td>\n",
              "      <td>BEAM</td>\n",
              "      <td>03 derde verdieping</td>\n",
              "      <td>0.0</td>\n",
              "      <td>0.0</td>\n",
              "      <td>0.0</td>\n",
              "      <td>K_i3_Hardwood horizontal_azobe</td>\n",
              "    </tr>\n",
              "    <tr>\n",
              "      <th>6083</th>\n",
              "      <td>IfcSlab</td>\n",
              "      <td>FLOOR</td>\n",
              "      <td>03 derde verdieping</td>\n",
              "      <td>0.0</td>\n",
              "      <td>0.0</td>\n",
              "      <td>11100.0</td>\n",
              "      <td>Floor:K_23_FL_Screed+insulation_160mm</td>\n",
              "    </tr>\n",
              "    <tr>\n",
              "      <th>6084</th>\n",
              "      <td>IfcSlab</td>\n",
              "      <td>FLOOR</td>\n",
              "      <td>03 derde verdieping</td>\n",
              "      <td>0.0</td>\n",
              "      <td>0.0</td>\n",
              "      <td>11100.0</td>\n",
              "      <td>Floor:K_23_FL_Screed+insulation_160mm</td>\n",
              "    </tr>\n",
              "    <tr>\n",
              "      <th>6098</th>\n",
              "      <td>IfcRailing</td>\n",
              "      <td>NOTDEFINED</td>\n",
              "      <td>06 zesde verdieping</td>\n",
              "      <td>22285.0</td>\n",
              "      <td>11085.0</td>\n",
              "      <td>20540.0</td>\n",
              "      <td>h4_Aluminium_Geanodiseerd_Naturel</td>\n",
              "    </tr>\n",
              "  </tbody>\n",
              "</table>\n",
              "<p>4748 rows × 7 columns</p>\n",
              "</div>\n",
              "    <div class=\"colab-df-buttons\">\n",
              "\n",
              "  <div class=\"colab-df-container\">\n",
              "    <button class=\"colab-df-convert\" onclick=\"convertToInteractive('df-5866c904-84a4-4c91-aff7-a9bedbd39201')\"\n",
              "            title=\"Convert this dataframe to an interactive table.\"\n",
              "            style=\"display:none;\">\n",
              "\n",
              "  <svg xmlns=\"http://www.w3.org/2000/svg\" height=\"24px\" viewBox=\"0 -960 960 960\">\n",
              "    <path d=\"M120-120v-720h720v720H120Zm60-500h600v-160H180v160Zm220 220h160v-160H400v160Zm0 220h160v-160H400v160ZM180-400h160v-160H180v160Zm440 0h160v-160H620v160ZM180-180h160v-160H180v160Zm440 0h160v-160H620v160Z\"/>\n",
              "  </svg>\n",
              "    </button>\n",
              "\n",
              "  <style>\n",
              "    .colab-df-container {\n",
              "      display:flex;\n",
              "      gap: 12px;\n",
              "    }\n",
              "\n",
              "    .colab-df-convert {\n",
              "      background-color: #E8F0FE;\n",
              "      border: none;\n",
              "      border-radius: 50%;\n",
              "      cursor: pointer;\n",
              "      display: none;\n",
              "      fill: #1967D2;\n",
              "      height: 32px;\n",
              "      padding: 0 0 0 0;\n",
              "      width: 32px;\n",
              "    }\n",
              "\n",
              "    .colab-df-convert:hover {\n",
              "      background-color: #E2EBFA;\n",
              "      box-shadow: 0px 1px 2px rgba(60, 64, 67, 0.3), 0px 1px 3px 1px rgba(60, 64, 67, 0.15);\n",
              "      fill: #174EA6;\n",
              "    }\n",
              "\n",
              "    .colab-df-buttons div {\n",
              "      margin-bottom: 4px;\n",
              "    }\n",
              "\n",
              "    [theme=dark] .colab-df-convert {\n",
              "      background-color: #3B4455;\n",
              "      fill: #D2E3FC;\n",
              "    }\n",
              "\n",
              "    [theme=dark] .colab-df-convert:hover {\n",
              "      background-color: #434B5C;\n",
              "      box-shadow: 0px 1px 3px 1px rgba(0, 0, 0, 0.15);\n",
              "      filter: drop-shadow(0px 1px 2px rgba(0, 0, 0, 0.3));\n",
              "      fill: #FFFFFF;\n",
              "    }\n",
              "  </style>\n",
              "\n",
              "    <script>\n",
              "      const buttonEl =\n",
              "        document.querySelector('#df-5866c904-84a4-4c91-aff7-a9bedbd39201 button.colab-df-convert');\n",
              "      buttonEl.style.display =\n",
              "        google.colab.kernel.accessAllowed ? 'block' : 'none';\n",
              "\n",
              "      async function convertToInteractive(key) {\n",
              "        const element = document.querySelector('#df-5866c904-84a4-4c91-aff7-a9bedbd39201');\n",
              "        const dataTable =\n",
              "          await google.colab.kernel.invokeFunction('convertToInteractive',\n",
              "                                                    [key], {});\n",
              "        if (!dataTable) return;\n",
              "\n",
              "        const docLinkHtml = 'Like what you see? Visit the ' +\n",
              "          '<a target=\"_blank\" href=https://colab.research.google.com/notebooks/data_table.ipynb>data table notebook</a>'\n",
              "          + ' to learn more about interactive tables.';\n",
              "        element.innerHTML = '';\n",
              "        dataTable['output_type'] = 'display_data';\n",
              "        await google.colab.output.renderOutput(dataTable, element);\n",
              "        const docLink = document.createElement('div');\n",
              "        docLink.innerHTML = docLinkHtml;\n",
              "        element.appendChild(docLink);\n",
              "      }\n",
              "    </script>\n",
              "  </div>\n",
              "\n",
              "\n",
              "<div id=\"df-9678d08d-fe84-4c93-824a-b5dbac46992a\">\n",
              "  <button class=\"colab-df-quickchart\" onclick=\"quickchart('df-9678d08d-fe84-4c93-824a-b5dbac46992a')\"\n",
              "            title=\"Suggest charts\"\n",
              "            style=\"display:none;\">\n",
              "\n",
              "<svg xmlns=\"http://www.w3.org/2000/svg\" height=\"24px\"viewBox=\"0 0 24 24\"\n",
              "     width=\"24px\">\n",
              "    <g>\n",
              "        <path d=\"M19 3H5c-1.1 0-2 .9-2 2v14c0 1.1.9 2 2 2h14c1.1 0 2-.9 2-2V5c0-1.1-.9-2-2-2zM9 17H7v-7h2v7zm4 0h-2V7h2v10zm4 0h-2v-4h2v4z\"/>\n",
              "    </g>\n",
              "</svg>\n",
              "  </button>\n",
              "\n",
              "<style>\n",
              "  .colab-df-quickchart {\n",
              "      --bg-color: #E8F0FE;\n",
              "      --fill-color: #1967D2;\n",
              "      --hover-bg-color: #E2EBFA;\n",
              "      --hover-fill-color: #174EA6;\n",
              "      --disabled-fill-color: #AAA;\n",
              "      --disabled-bg-color: #DDD;\n",
              "  }\n",
              "\n",
              "  [theme=dark] .colab-df-quickchart {\n",
              "      --bg-color: #3B4455;\n",
              "      --fill-color: #D2E3FC;\n",
              "      --hover-bg-color: #434B5C;\n",
              "      --hover-fill-color: #FFFFFF;\n",
              "      --disabled-bg-color: #3B4455;\n",
              "      --disabled-fill-color: #666;\n",
              "  }\n",
              "\n",
              "  .colab-df-quickchart {\n",
              "    background-color: var(--bg-color);\n",
              "    border: none;\n",
              "    border-radius: 50%;\n",
              "    cursor: pointer;\n",
              "    display: none;\n",
              "    fill: var(--fill-color);\n",
              "    height: 32px;\n",
              "    padding: 0;\n",
              "    width: 32px;\n",
              "  }\n",
              "\n",
              "  .colab-df-quickchart:hover {\n",
              "    background-color: var(--hover-bg-color);\n",
              "    box-shadow: 0 1px 2px rgba(60, 64, 67, 0.3), 0 1px 3px 1px rgba(60, 64, 67, 0.15);\n",
              "    fill: var(--button-hover-fill-color);\n",
              "  }\n",
              "\n",
              "  .colab-df-quickchart-complete:disabled,\n",
              "  .colab-df-quickchart-complete:disabled:hover {\n",
              "    background-color: var(--disabled-bg-color);\n",
              "    fill: var(--disabled-fill-color);\n",
              "    box-shadow: none;\n",
              "  }\n",
              "\n",
              "  .colab-df-spinner {\n",
              "    border: 2px solid var(--fill-color);\n",
              "    border-color: transparent;\n",
              "    border-bottom-color: var(--fill-color);\n",
              "    animation:\n",
              "      spin 1s steps(1) infinite;\n",
              "  }\n",
              "\n",
              "  @keyframes spin {\n",
              "    0% {\n",
              "      border-color: transparent;\n",
              "      border-bottom-color: var(--fill-color);\n",
              "      border-left-color: var(--fill-color);\n",
              "    }\n",
              "    20% {\n",
              "      border-color: transparent;\n",
              "      border-left-color: var(--fill-color);\n",
              "      border-top-color: var(--fill-color);\n",
              "    }\n",
              "    30% {\n",
              "      border-color: transparent;\n",
              "      border-left-color: var(--fill-color);\n",
              "      border-top-color: var(--fill-color);\n",
              "      border-right-color: var(--fill-color);\n",
              "    }\n",
              "    40% {\n",
              "      border-color: transparent;\n",
              "      border-right-color: var(--fill-color);\n",
              "      border-top-color: var(--fill-color);\n",
              "    }\n",
              "    60% {\n",
              "      border-color: transparent;\n",
              "      border-right-color: var(--fill-color);\n",
              "    }\n",
              "    80% {\n",
              "      border-color: transparent;\n",
              "      border-right-color: var(--fill-color);\n",
              "      border-bottom-color: var(--fill-color);\n",
              "    }\n",
              "    90% {\n",
              "      border-color: transparent;\n",
              "      border-bottom-color: var(--fill-color);\n",
              "    }\n",
              "  }\n",
              "</style>\n",
              "\n",
              "  <script>\n",
              "    async function quickchart(key) {\n",
              "      const quickchartButtonEl =\n",
              "        document.querySelector('#' + key + ' button');\n",
              "      quickchartButtonEl.disabled = true;  // To prevent multiple clicks.\n",
              "      quickchartButtonEl.classList.add('colab-df-spinner');\n",
              "      try {\n",
              "        const charts = await google.colab.kernel.invokeFunction(\n",
              "            'suggestCharts', [key], {});\n",
              "      } catch (error) {\n",
              "        console.error('Error during call to suggestCharts:', error);\n",
              "      }\n",
              "      quickchartButtonEl.classList.remove('colab-df-spinner');\n",
              "      quickchartButtonEl.classList.add('colab-df-quickchart-complete');\n",
              "    }\n",
              "    (() => {\n",
              "      let quickchartButtonEl =\n",
              "        document.querySelector('#df-9678d08d-fe84-4c93-824a-b5dbac46992a button');\n",
              "      quickchartButtonEl.style.display =\n",
              "        google.colab.kernel.accessAllowed ? 'block' : 'none';\n",
              "    })();\n",
              "  </script>\n",
              "</div>\n",
              "    </div>\n",
              "  </div>\n"
            ],
            "text/plain": [
              "                        Class PredefinedType                Level  \\\n",
              "421   IfcBuildingElementProxy     NOTDEFINED      00 begane grond   \n",
              "422                 IfcColumn         COLUMN      00 begane grond   \n",
              "423                 IfcColumn         COLUMN      00 begane grond   \n",
              "424                 IfcColumn         COLUMN      00 begane grond   \n",
              "425                 IfcColumn         COLUMN      00 begane grond   \n",
              "...                       ...            ...                  ...   \n",
              "6081                  IfcBeam           BEAM  03 derde verdieping   \n",
              "6082                  IfcBeam           BEAM  03 derde verdieping   \n",
              "6083                  IfcSlab          FLOOR  03 derde verdieping   \n",
              "6084                  IfcSlab          FLOOR  03 derde verdieping   \n",
              "6098               IfcRailing     NOTDEFINED  06 zesde verdieping   \n",
              "\n",
              "      x_coordinate  y_coordinate  z_coordinate  \\\n",
              "421            0.0           0.0           0.0   \n",
              "422            0.0           0.0           0.0   \n",
              "423            0.0           0.0           0.0   \n",
              "424            0.0           0.0           0.0   \n",
              "425            0.0           0.0           0.0   \n",
              "...            ...           ...           ...   \n",
              "6081           0.0           0.0           0.0   \n",
              "6082           0.0           0.0           0.0   \n",
              "6083           0.0           0.0       11100.0   \n",
              "6084           0.0           0.0       11100.0   \n",
              "6098       22285.0       11085.0       20540.0   \n",
              "\n",
              "                                   Material  \n",
              "421                               <Unnamed>  \n",
              "422                           K_i2_softwood  \n",
              "423                           K_i2_softwood  \n",
              "424                           K_i2_softwood  \n",
              "425                           K_i2_softwood  \n",
              "...                                     ...  \n",
              "6081         K_i3_Hardwood horizontal_azobe  \n",
              "6082         K_i3_Hardwood horizontal_azobe  \n",
              "6083  Floor:K_23_FL_Screed+insulation_160mm  \n",
              "6084  Floor:K_23_FL_Screed+insulation_160mm  \n",
              "6098      h4_Aluminium_Geanodiseerd_Naturel  \n",
              "\n",
              "[4748 rows x 7 columns]"
            ]
          },
          "execution_count": 219,
          "metadata": {},
          "output_type": "execute_result"
        }
      ],
      "source": [
        "#dropping the rows including NaN values\n",
        "clean_df= selected_df.dropna()\n",
        "\n",
        "#let's see what happened\n",
        "clean_df\n",
        "#pay attention to the reduced number of rows after filtering data"
      ]
    },
    {
      "cell_type": "markdown",
      "metadata": {
        "id": "49DLTOMggmQS"
      },
      "source": [
        "<a name=\"t2.3\"></a>\n",
        "### 2.3 **GeoDataFrame Creation**\n",
        "\n",
        "GeoPandas is an open source project to add support for geographic data to pandas objects. The goal of GeoPandas is to make working with ***geospatial data*** in python easier. It combines the capabilities of ***pandas*** and ***shapely*** (a library for manipulating geometric objects, get more information [here](https://shapely.readthedocs.io/en/stable/manual.html#introduction)) libraries, providing geospatial operations in pandas and a high-level interface to multiple geometries to shapely. Have you noticed the difference between the icons of ***Pandas*** and ***GeoPandas*** libraries?\n",
        "<center>\n",
        "<img src=\"https://geopandas.org/en/stable/_images/geopandas_logo.png\" alt=\"isometric\" class=\"center\" width=\"750px\">\n",
        "</center>\n",
        "\n",
        "\n",
        "All the following cells about Geopandas are the summary of the library's documentation which can be accessed [here](https://geopandas.org/en/stable/docs.html). But let's see what is GeoPandas about by first importing it."
      ]
    },
    {
      "cell_type": "code",
      "execution_count": null,
      "metadata": {
        "id": "ARHdkgSukXHO"
      },
      "outputs": [],
      "source": [
        "#importing the geopandas library\n",
        "import geopandas as gpd"
      ]
    },
    {
      "cell_type": "markdown",
      "metadata": {
        "id": "sn8qL5Akx-vd"
      },
      "source": [
        "\n",
        "GeoPandas implements two main data structures, a ***GeoSeries*** and a ***GeoDataFrame***.\n",
        "A GeoSeries is essentially a vector where each entry in the vector may consist of only one shape (like a single polygon) or multiple shapes (like the many polygons that make up the State of Hawaii or a country like Indonesia).\n",
        "\n",
        "GeoPandas has three basic classes of geometric objects:\n",
        "\n",
        "*   Points / Multi-Points\n",
        "*   Lines / Multi-Lines\n",
        "*   ***Polygons / Multi-Polygons*** (this is more relevant to us)\n",
        "\n",
        "A GeoDataFrame is a ***tabular data structure*** that contains a GeoSeries. The most important property of a GeoDataFrame is that it always has one GeoSeries column that holds a special status. This GeoSeries is referred to as the GeoDataFrame’s ***“geometry”***. *Moral of the story:* When a spatial method is applied to a GeoDataFrame, this commands will always act on the “geometry” column.\n"
      ]
    },
    {
      "cell_type": "markdown",
      "metadata": {
        "id": "AGymONoxsjUs"
      },
      "source": [
        "But what is so *special* about GeoPandas? A feature called CRS. What is that?\n",
        "***The coordinate reference system (CRS)*** tells Python how those coordinates relate to places on the Earth. CRS is important because the geometric shapes in a GeoSeries or GeoDataFrame object are simply a collection of coordinates in an arbitrary space.\n",
        "\n",
        "\n",
        "![alt text](https://pygis.io/_images/d_crs_assigned.png)\n",
        "\n",
        "\n",
        "For reference codes of the most commonly used projections, see [here](https://spatialreference.org/) (if you are *highly* curious, otherwise, no need)."
      ]
    },
    {
      "cell_type": "markdown",
      "metadata": {
        "id": "kOr2W8d29B50"
      },
      "source": [
        "One of the outputs of the BatchPlan solution is a csv file containing a column of geometry for all the elements present in a certain floor plan. Here we will first ***load*** the csv file and then try to build a GeoDataFrame based on that. But to *access* this file, we need to change the directory path that we are in."
      ]
    },
    {
      "cell_type": "code",
      "execution_count": null,
      "metadata": {
        "id": "iYfZA2aG5x6z"
      },
      "outputs": [],
      "source": [
        "# giving the directory of the files\n",
        "path = \"/content/drive/MyDrive/KAAN_Projects/Strijp_S/BatchPlan_output\"\n",
        "# using chdir for changing the directory to the path we look for\n",
        "os.chdir(path)"
      ]
    },
    {
      "cell_type": "markdown",
      "metadata": {
        "id": "Ro-cfRam9e4b"
      },
      "source": [
        "So we changed the path and landed in a different folder. Curious to see what we have in this folder? We can use a function called ***.listdir*** to get a list of the files that we have in this directorty."
      ]
    },
    {
      "cell_type": "code",
      "execution_count": null,
      "metadata": {
        "colab": {
          "base_uri": "https://localhost:8080/"
        },
        "id": "gNp4oyY19aHT",
        "outputId": "0b7f4e85-23dc-4e66-cd5a-dc24751a02d3"
      },
      "outputs": [
        {
          "data": {
            "text/plain": [
              "['00 begane grond_3D.png',\n",
              " '02 tweede verdieping.csv',\n",
              " '01 eerste verdieping_3D.png',\n",
              " '06 zesde verdieping_3D.png',\n",
              " '01 eerste verdieping.csv',\n",
              " '06 zesde verdieping.csv',\n",
              " '00 begane grond_floor_plan.png',\n",
              " '04 vierde verdieping.csv',\n",
              " '06 zesde verdieping_floor_plan.png',\n",
              " '01 eerste verdieping_floor_plan.png',\n",
              " '3D.png',\n",
              " '03 derde verdieping.csv',\n",
              " '04 vierde verdieping_3D.png',\n",
              " '02 tweede verdieping_3D.png',\n",
              " '02 tweede verdieping_floor_plan.png',\n",
              " '00 begane grond.csv',\n",
              " '05 vijfde verdieping_floor_plan.png',\n",
              " '04 vierde verdieping_floor_plan.png',\n",
              " '05 vijfde verdieping_3D.png',\n",
              " '05 vijfde verdieping.csv',\n",
              " '03 derde verdieping_floor_plan.png',\n",
              " '03 derde verdieping_3D.png']"
            ]
          },
          "execution_count": 222,
          "metadata": {},
          "output_type": "execute_result"
        }
      ],
      "source": [
        "os.listdir()"
      ]
    },
    {
      "cell_type": "markdown",
      "metadata": {
        "id": "uIar5yz8D1gK"
      },
      "source": [
        "So there are plenty of files inside this folder apparently. We choose to move forward with the csv file of ***the third floor*** with the name \"03 derde verdieping.csv\". As we can see among the list, except for the ground floor, all the other csv files ***share the same part*** of \" verdieping.csv\". We can keep this fixed part in the parameters of read_csv function and keep the changing part of the name as a variable. Of course we can insert the whole name as the parameter of the .read_csv. Up to you!"
      ]
    },
    {
      "cell_type": "code",
      "execution_count": null,
      "metadata": {
        "id": "t_ZR_0P8D_fy"
      },
      "outputs": [],
      "source": [
        "#name of the file as the variable\n",
        "floor_name = \"03 derde\"\n",
        "#reading a comma-separated values (csv) file into DataFrame\n",
        "StrijpS03_df = pd.read_csv(floor_name+\" verdieping.csv\")"
      ]
    },
    {
      "cell_type": "markdown",
      "metadata": {
        "id": "K7AgaewmJPhr"
      },
      "source": [
        "So StrijpS03_df is basically ***a DataFrame***, (not yet a GeoDataFrame). Now that we have created the Pandas DataFrame, we can get familiar with the content using the previously mentioned methods in section 2.2."
      ]
    },
    {
      "cell_type": "code",
      "execution_count": null,
      "metadata": {
        "colab": {
          "base_uri": "https://localhost:8080/"
        },
        "id": "XiCq7arVJEzH",
        "outputId": "f030e2ba-360b-4535-973d-7c6a09a32305"
      },
      "outputs": [
        {
          "data": {
            "text/plain": [
              "['type', 'name', 'geometry']"
            ]
          },
          "execution_count": 224,
          "metadata": {},
          "output_type": "execute_result"
        }
      ],
      "source": [
        "#printing the list of features\n",
        "list(StrijpS03_df.columns)"
      ]
    },
    {
      "cell_type": "code",
      "execution_count": null,
      "metadata": {
        "colab": {
          "base_uri": "https://localhost:8080/"
        },
        "id": "UFMA5lYAIrst",
        "outputId": "d40697b3-eccf-4ff5-94ec-99aa41719336"
      },
      "outputs": [
        {
          "name": "stdout",
          "output_type": "stream",
          "text": [
            "type         11\n",
            "name        891\n",
            "geometry    919\n",
            "dtype: int64\n"
          ]
        }
      ],
      "source": [
        "#printing the number of unique ids in the selected DataFrame\n",
        "print(StrijpS03_df.nunique())"
      ]
    },
    {
      "cell_type": "code",
      "execution_count": null,
      "metadata": {
        "colab": {
          "base_uri": "https://localhost:8080/"
        },
        "id": "4jCmnXf4JkjK",
        "outputId": "065bca34-baf6-4be0-8ce6-3ae493ce76f2"
      },
      "outputs": [
        {
          "name": "stdout",
          "output_type": "stream",
          "text": [
            "['IfcOpeningElement' 'IfcWall' 'IfcBuildingElementProxy' 'IfcDoor'\n",
            " 'IfcStairFlight' 'IfcSlab' 'IfcFurnishingElement' 'IfcColumn' 'IfcWindow'\n",
            " 'IfcFurniture' 'IfcSpace']\n"
          ]
        }
      ],
      "source": [
        "#printing the list of unique values in a certain column\n",
        "print(StrijpS03_df.type.unique())"
      ]
    },
    {
      "cell_type": "code",
      "execution_count": null,
      "metadata": {
        "colab": {
          "base_uri": "https://localhost:8080/",
          "height": 206
        },
        "id": "_RRleBxtJvw5",
        "outputId": "f3f25283-a72b-4486-92a4-3103500c4433"
      },
      "outputs": [
        {
          "data": {
            "application/vnd.google.colaboratory.intrinsic+json": {
              "summary": "{\n  \"name\": \"StrijpS03_df\",\n  \"rows\": 925,\n  \"fields\": [\n    {\n      \"column\": \"type\",\n      \"properties\": {\n        \"dtype\": \"category\",\n        \"num_unique_values\": 11,\n        \"samples\": [\n          \"IfcSlab\",\n          \"IfcOpeningElement\",\n          \"IfcFurniture\"\n        ],\n        \"semantic_type\": \"\",\n        \"description\": \"\"\n      }\n    },\n    {\n      \"column\": \"name\",\n      \"properties\": {\n        \"dtype\": \"string\",\n        \"num_unique_values\": 891,\n        \"samples\": [\n          \"K_28_SCO_TLB_column_rectangular:Wood 190x190mm:1492416\",\n          \"Basic Wall:K_22_WA_Metalstud_2.50.2_100mm:3459377\",\n          \"K_32_DO_WB_Single:DO.xxxx_1040x2160mm:4944476\"\n        ],\n        \"semantic_type\": \"\",\n        \"description\": \"\"\n      }\n    },\n    {\n      \"column\": \"geometry\",\n      \"properties\": {\n        \"dtype\": \"string\",\n        \"num_unique_values\": 919,\n        \"samples\": [\n          \"MULTIPOLYGON (((40.195 31.485, 40.195 31.585, 41.405 31.585, 41.405 31.485, 40.195 31.485)))\",\n          \"MULTIPOLYGON (((21.005 16.5975, 21.005 15.6525, 20.06 15.6525, 21.005 16.5975)))\",\n          \"MULTIPOLYGON (((32.98 25.4, 33.86 25.4, 33.86 24.52, 32.98 25.4)))\"\n        ],\n        \"semantic_type\": \"\",\n        \"description\": \"\"\n      }\n    }\n  ]\n}",
              "type": "dataframe",
              "variable_name": "StrijpS03_df"
            },
            "text/html": [
              "\n",
              "  <div id=\"df-d00c8e4d-c3f1-491c-949e-2a12ba8c0746\" class=\"colab-df-container\">\n",
              "    <div>\n",
              "<style scoped>\n",
              "    .dataframe tbody tr th:only-of-type {\n",
              "        vertical-align: middle;\n",
              "    }\n",
              "\n",
              "    .dataframe tbody tr th {\n",
              "        vertical-align: top;\n",
              "    }\n",
              "\n",
              "    .dataframe thead th {\n",
              "        text-align: right;\n",
              "    }\n",
              "</style>\n",
              "<table border=\"1\" class=\"dataframe\">\n",
              "  <thead>\n",
              "    <tr style=\"text-align: right;\">\n",
              "      <th></th>\n",
              "      <th>type</th>\n",
              "      <th>name</th>\n",
              "      <th>geometry</th>\n",
              "    </tr>\n",
              "  </thead>\n",
              "  <tbody>\n",
              "    <tr>\n",
              "      <th>0</th>\n",
              "      <td>IfcOpeningElement</td>\n",
              "      <td>K_32_DO_WB_Single door:DO.xxxx_1250x2300mm:504...</td>\n",
              "      <td>MULTIPOLYGON (((42.785 10.695, 42.565 10.695, ...</td>\n",
              "    </tr>\n",
              "    <tr>\n",
              "      <th>1</th>\n",
              "      <td>IfcOpeningElement</td>\n",
              "      <td>K_32_DO_WB_Single door:DO.xxxx_1250x2300mm:504...</td>\n",
              "      <td>MULTIPOLYGON (((42.785 12.095, 42.565 12.095, ...</td>\n",
              "    </tr>\n",
              "    <tr>\n",
              "      <th>2</th>\n",
              "      <td>IfcOpeningElement</td>\n",
              "      <td>K_32_DO_WB_Single:DO.xxxx_1040x2160mm:4944476:1</td>\n",
              "      <td>MULTIPOLYGON (((38.165 11.23, 38.265 11.23, 38...</td>\n",
              "    </tr>\n",
              "    <tr>\n",
              "      <th>3</th>\n",
              "      <td>IfcOpeningElement</td>\n",
              "      <td>K_32_DO_WB_Single:DO.xxxx_1040x2160mm:4943846:1</td>\n",
              "      <td>MULTIPOLYGON (((14.05 12.76, 14.05 12.86, 15.0...</td>\n",
              "    </tr>\n",
              "    <tr>\n",
              "      <th>4</th>\n",
              "      <td>IfcOpeningElement</td>\n",
              "      <td>K_32_DO_WB_Single:DO.xxxx_1040x2160mm:4943855:1</td>\n",
              "      <td>MULTIPOLYGON (((14.035 10.19, 13.935 10.19, 13...</td>\n",
              "    </tr>\n",
              "  </tbody>\n",
              "</table>\n",
              "</div>\n",
              "    <div class=\"colab-df-buttons\">\n",
              "\n",
              "  <div class=\"colab-df-container\">\n",
              "    <button class=\"colab-df-convert\" onclick=\"convertToInteractive('df-d00c8e4d-c3f1-491c-949e-2a12ba8c0746')\"\n",
              "            title=\"Convert this dataframe to an interactive table.\"\n",
              "            style=\"display:none;\">\n",
              "\n",
              "  <svg xmlns=\"http://www.w3.org/2000/svg\" height=\"24px\" viewBox=\"0 -960 960 960\">\n",
              "    <path d=\"M120-120v-720h720v720H120Zm60-500h600v-160H180v160Zm220 220h160v-160H400v160Zm0 220h160v-160H400v160ZM180-400h160v-160H180v160Zm440 0h160v-160H620v160ZM180-180h160v-160H180v160Zm440 0h160v-160H620v160Z\"/>\n",
              "  </svg>\n",
              "    </button>\n",
              "\n",
              "  <style>\n",
              "    .colab-df-container {\n",
              "      display:flex;\n",
              "      gap: 12px;\n",
              "    }\n",
              "\n",
              "    .colab-df-convert {\n",
              "      background-color: #E8F0FE;\n",
              "      border: none;\n",
              "      border-radius: 50%;\n",
              "      cursor: pointer;\n",
              "      display: none;\n",
              "      fill: #1967D2;\n",
              "      height: 32px;\n",
              "      padding: 0 0 0 0;\n",
              "      width: 32px;\n",
              "    }\n",
              "\n",
              "    .colab-df-convert:hover {\n",
              "      background-color: #E2EBFA;\n",
              "      box-shadow: 0px 1px 2px rgba(60, 64, 67, 0.3), 0px 1px 3px 1px rgba(60, 64, 67, 0.15);\n",
              "      fill: #174EA6;\n",
              "    }\n",
              "\n",
              "    .colab-df-buttons div {\n",
              "      margin-bottom: 4px;\n",
              "    }\n",
              "\n",
              "    [theme=dark] .colab-df-convert {\n",
              "      background-color: #3B4455;\n",
              "      fill: #D2E3FC;\n",
              "    }\n",
              "\n",
              "    [theme=dark] .colab-df-convert:hover {\n",
              "      background-color: #434B5C;\n",
              "      box-shadow: 0px 1px 3px 1px rgba(0, 0, 0, 0.15);\n",
              "      filter: drop-shadow(0px 1px 2px rgba(0, 0, 0, 0.3));\n",
              "      fill: #FFFFFF;\n",
              "    }\n",
              "  </style>\n",
              "\n",
              "    <script>\n",
              "      const buttonEl =\n",
              "        document.querySelector('#df-d00c8e4d-c3f1-491c-949e-2a12ba8c0746 button.colab-df-convert');\n",
              "      buttonEl.style.display =\n",
              "        google.colab.kernel.accessAllowed ? 'block' : 'none';\n",
              "\n",
              "      async function convertToInteractive(key) {\n",
              "        const element = document.querySelector('#df-d00c8e4d-c3f1-491c-949e-2a12ba8c0746');\n",
              "        const dataTable =\n",
              "          await google.colab.kernel.invokeFunction('convertToInteractive',\n",
              "                                                    [key], {});\n",
              "        if (!dataTable) return;\n",
              "\n",
              "        const docLinkHtml = 'Like what you see? Visit the ' +\n",
              "          '<a target=\"_blank\" href=https://colab.research.google.com/notebooks/data_table.ipynb>data table notebook</a>'\n",
              "          + ' to learn more about interactive tables.';\n",
              "        element.innerHTML = '';\n",
              "        dataTable['output_type'] = 'display_data';\n",
              "        await google.colab.output.renderOutput(dataTable, element);\n",
              "        const docLink = document.createElement('div');\n",
              "        docLink.innerHTML = docLinkHtml;\n",
              "        element.appendChild(docLink);\n",
              "      }\n",
              "    </script>\n",
              "  </div>\n",
              "\n",
              "\n",
              "<div id=\"df-3dd69cae-803a-4611-b84e-373e9c192a20\">\n",
              "  <button class=\"colab-df-quickchart\" onclick=\"quickchart('df-3dd69cae-803a-4611-b84e-373e9c192a20')\"\n",
              "            title=\"Suggest charts\"\n",
              "            style=\"display:none;\">\n",
              "\n",
              "<svg xmlns=\"http://www.w3.org/2000/svg\" height=\"24px\"viewBox=\"0 0 24 24\"\n",
              "     width=\"24px\">\n",
              "    <g>\n",
              "        <path d=\"M19 3H5c-1.1 0-2 .9-2 2v14c0 1.1.9 2 2 2h14c1.1 0 2-.9 2-2V5c0-1.1-.9-2-2-2zM9 17H7v-7h2v7zm4 0h-2V7h2v10zm4 0h-2v-4h2v4z\"/>\n",
              "    </g>\n",
              "</svg>\n",
              "  </button>\n",
              "\n",
              "<style>\n",
              "  .colab-df-quickchart {\n",
              "      --bg-color: #E8F0FE;\n",
              "      --fill-color: #1967D2;\n",
              "      --hover-bg-color: #E2EBFA;\n",
              "      --hover-fill-color: #174EA6;\n",
              "      --disabled-fill-color: #AAA;\n",
              "      --disabled-bg-color: #DDD;\n",
              "  }\n",
              "\n",
              "  [theme=dark] .colab-df-quickchart {\n",
              "      --bg-color: #3B4455;\n",
              "      --fill-color: #D2E3FC;\n",
              "      --hover-bg-color: #434B5C;\n",
              "      --hover-fill-color: #FFFFFF;\n",
              "      --disabled-bg-color: #3B4455;\n",
              "      --disabled-fill-color: #666;\n",
              "  }\n",
              "\n",
              "  .colab-df-quickchart {\n",
              "    background-color: var(--bg-color);\n",
              "    border: none;\n",
              "    border-radius: 50%;\n",
              "    cursor: pointer;\n",
              "    display: none;\n",
              "    fill: var(--fill-color);\n",
              "    height: 32px;\n",
              "    padding: 0;\n",
              "    width: 32px;\n",
              "  }\n",
              "\n",
              "  .colab-df-quickchart:hover {\n",
              "    background-color: var(--hover-bg-color);\n",
              "    box-shadow: 0 1px 2px rgba(60, 64, 67, 0.3), 0 1px 3px 1px rgba(60, 64, 67, 0.15);\n",
              "    fill: var(--button-hover-fill-color);\n",
              "  }\n",
              "\n",
              "  .colab-df-quickchart-complete:disabled,\n",
              "  .colab-df-quickchart-complete:disabled:hover {\n",
              "    background-color: var(--disabled-bg-color);\n",
              "    fill: var(--disabled-fill-color);\n",
              "    box-shadow: none;\n",
              "  }\n",
              "\n",
              "  .colab-df-spinner {\n",
              "    border: 2px solid var(--fill-color);\n",
              "    border-color: transparent;\n",
              "    border-bottom-color: var(--fill-color);\n",
              "    animation:\n",
              "      spin 1s steps(1) infinite;\n",
              "  }\n",
              "\n",
              "  @keyframes spin {\n",
              "    0% {\n",
              "      border-color: transparent;\n",
              "      border-bottom-color: var(--fill-color);\n",
              "      border-left-color: var(--fill-color);\n",
              "    }\n",
              "    20% {\n",
              "      border-color: transparent;\n",
              "      border-left-color: var(--fill-color);\n",
              "      border-top-color: var(--fill-color);\n",
              "    }\n",
              "    30% {\n",
              "      border-color: transparent;\n",
              "      border-left-color: var(--fill-color);\n",
              "      border-top-color: var(--fill-color);\n",
              "      border-right-color: var(--fill-color);\n",
              "    }\n",
              "    40% {\n",
              "      border-color: transparent;\n",
              "      border-right-color: var(--fill-color);\n",
              "      border-top-color: var(--fill-color);\n",
              "    }\n",
              "    60% {\n",
              "      border-color: transparent;\n",
              "      border-right-color: var(--fill-color);\n",
              "    }\n",
              "    80% {\n",
              "      border-color: transparent;\n",
              "      border-right-color: var(--fill-color);\n",
              "      border-bottom-color: var(--fill-color);\n",
              "    }\n",
              "    90% {\n",
              "      border-color: transparent;\n",
              "      border-bottom-color: var(--fill-color);\n",
              "    }\n",
              "  }\n",
              "</style>\n",
              "\n",
              "  <script>\n",
              "    async function quickchart(key) {\n",
              "      const quickchartButtonEl =\n",
              "        document.querySelector('#' + key + ' button');\n",
              "      quickchartButtonEl.disabled = true;  // To prevent multiple clicks.\n",
              "      quickchartButtonEl.classList.add('colab-df-spinner');\n",
              "      try {\n",
              "        const charts = await google.colab.kernel.invokeFunction(\n",
              "            'suggestCharts', [key], {});\n",
              "      } catch (error) {\n",
              "        console.error('Error during call to suggestCharts:', error);\n",
              "      }\n",
              "      quickchartButtonEl.classList.remove('colab-df-spinner');\n",
              "      quickchartButtonEl.classList.add('colab-df-quickchart-complete');\n",
              "    }\n",
              "    (() => {\n",
              "      let quickchartButtonEl =\n",
              "        document.querySelector('#df-3dd69cae-803a-4611-b84e-373e9c192a20 button');\n",
              "      quickchartButtonEl.style.display =\n",
              "        google.colab.kernel.accessAllowed ? 'block' : 'none';\n",
              "    })();\n",
              "  </script>\n",
              "</div>\n",
              "    </div>\n",
              "  </div>\n"
            ],
            "text/plain": [
              "                type                                               name  \\\n",
              "0  IfcOpeningElement  K_32_DO_WB_Single door:DO.xxxx_1250x2300mm:504...   \n",
              "1  IfcOpeningElement  K_32_DO_WB_Single door:DO.xxxx_1250x2300mm:504...   \n",
              "2  IfcOpeningElement    K_32_DO_WB_Single:DO.xxxx_1040x2160mm:4944476:1   \n",
              "3  IfcOpeningElement    K_32_DO_WB_Single:DO.xxxx_1040x2160mm:4943846:1   \n",
              "4  IfcOpeningElement    K_32_DO_WB_Single:DO.xxxx_1040x2160mm:4943855:1   \n",
              "\n",
              "                                            geometry  \n",
              "0  MULTIPOLYGON (((42.785 10.695, 42.565 10.695, ...  \n",
              "1  MULTIPOLYGON (((42.785 12.095, 42.565 12.095, ...  \n",
              "2  MULTIPOLYGON (((38.165 11.23, 38.265 11.23, 38...  \n",
              "3  MULTIPOLYGON (((14.05 12.76, 14.05 12.86, 15.0...  \n",
              "4  MULTIPOLYGON (((14.035 10.19, 13.935 10.19, 13...  "
            ]
          },
          "execution_count": 227,
          "metadata": {},
          "output_type": "execute_result"
        }
      ],
      "source": [
        "#getting the first 5 rows\n",
        "StrijpS03_df.head()"
      ]
    },
    {
      "cell_type": "markdown",
      "metadata": {
        "id": "VjtzfRUDSR5Z"
      },
      "source": [
        "✴ *Important* ✴ So here we can see the \"geometry\" column acting as the GeoSeries we talked about earlier, which holds the geometrical features of the DataFrame. The values in this column are represent in ***WKT (Well-know Text) format***, a compact ***machine- and human-readable representation*** of geometric objects."
      ]
    },
    {
      "cell_type": "markdown",
      "metadata": {
        "id": "8M_i9k2YQkI7"
      },
      "source": [
        "Let's say we are interested to see only the rows with \"IfcSpace\" type. In the following cell, we define a new DataFrame (called Spaces, for the sake of *making sense*) which is a sub-DataFrame of the main one, conditioning on the type column (in this case, IfcSpace)."
      ]
    },
    {
      "cell_type": "code",
      "execution_count": null,
      "metadata": {
        "colab": {
          "base_uri": "https://localhost:8080/",
          "height": 424
        },
        "id": "8U9TQJolKaDC",
        "outputId": "e2ed0a88-960b-4e33-c49c-b819d39a0822"
      },
      "outputs": [
        {
          "data": {
            "application/vnd.google.colaboratory.intrinsic+json": {
              "summary": "{\n  \"name\": \"Spaces\",\n  \"rows\": 82,\n  \"fields\": [\n    {\n      \"column\": \"type\",\n      \"properties\": {\n        \"dtype\": \"category\",\n        \"num_unique_values\": 1,\n        \"samples\": [\n          \"IfcSpace\"\n        ],\n        \"semantic_type\": \"\",\n        \"description\": \"\"\n      }\n    },\n    {\n      \"column\": \"name\",\n      \"properties\": {\n        \"dtype\": \"string\",\n        \"num_unique_values\": 82,\n        \"samples\": [\n          \"03.E01.01\"\n        ],\n        \"semantic_type\": \"\",\n        \"description\": \"\"\n      }\n    },\n    {\n      \"column\": \"geometry\",\n      \"properties\": {\n        \"dtype\": \"string\",\n        \"num_unique_values\": 82,\n        \"samples\": [\n          \"MULTIPOLYGON (((9.415 31.81, 9.395 31.81, 9.395 31.605, 9.205 31.605, 9.205 31.81, 8.01 31.81, 8.01 31.59, 7.79 31.59, 7.79 30.41, 8.01 30.41, 8.01 30.19, 7.79 30.19, 7.79 29.01, 8.01 29.01, 8.01 28.79, 7.79 28.79, 7.79 27.61, 8.01 27.61, 8.01 27.39, 7.79 27.39, 7.79 26.21, 9.415 26.21, 9.415 28.805, 9.205 28.805, 9.205 28.995, 9.415 28.995, 9.415 31.81)))\"\n        ],\n        \"semantic_type\": \"\",\n        \"description\": \"\"\n      }\n    }\n  ]\n}",
              "type": "dataframe",
              "variable_name": "Spaces"
            },
            "text/html": [
              "\n",
              "  <div id=\"df-5eb8e0e1-c777-4b58-905b-69f0de1fe15a\" class=\"colab-df-container\">\n",
              "    <div>\n",
              "<style scoped>\n",
              "    .dataframe tbody tr th:only-of-type {\n",
              "        vertical-align: middle;\n",
              "    }\n",
              "\n",
              "    .dataframe tbody tr th {\n",
              "        vertical-align: top;\n",
              "    }\n",
              "\n",
              "    .dataframe thead th {\n",
              "        text-align: right;\n",
              "    }\n",
              "</style>\n",
              "<table border=\"1\" class=\"dataframe\">\n",
              "  <thead>\n",
              "    <tr style=\"text-align: right;\">\n",
              "      <th></th>\n",
              "      <th>type</th>\n",
              "      <th>name</th>\n",
              "      <th>geometry</th>\n",
              "    </tr>\n",
              "  </thead>\n",
              "  <tbody>\n",
              "    <tr>\n",
              "      <th>776</th>\n",
              "      <td>IfcSpace</td>\n",
              "      <td>15</td>\n",
              "      <td>MULTIPOLYGON (((30.085 26.32, 31.26 26.32, 31....</td>\n",
              "    </tr>\n",
              "    <tr>\n",
              "      <th>777</th>\n",
              "      <td>IfcSpace</td>\n",
              "      <td>174</td>\n",
              "      <td>MULTIPOLYGON (((9.41 9.205, 9.41 31.795, 42.79...</td>\n",
              "    </tr>\n",
              "    <tr>\n",
              "      <th>778</th>\n",
              "      <td>IfcSpace</td>\n",
              "      <td>13</td>\n",
              "      <td>MULTIPOLYGON (((20.28 24.11, 20.28 25.16, 20.9...</td>\n",
              "    </tr>\n",
              "    <tr>\n",
              "      <th>779</th>\n",
              "      <td>IfcSpace</td>\n",
              "      <td>14</td>\n",
              "      <td>MULTIPOLYGON (((22.5 26.07, 23.7 26.07, 23.7 2...</td>\n",
              "    </tr>\n",
              "    <tr>\n",
              "      <th>780</th>\n",
              "      <td>IfcSpace</td>\n",
              "      <td>07</td>\n",
              "      <td>MULTIPOLYGON (((31.92 25.92, 42.69 25.92, 42.6...</td>\n",
              "    </tr>\n",
              "    <tr>\n",
              "      <th>...</th>\n",
              "      <td>...</td>\n",
              "      <td>...</td>\n",
              "      <td>...</td>\n",
              "    </tr>\n",
              "    <tr>\n",
              "      <th>853</th>\n",
              "      <td>IfcSpace</td>\n",
              "      <td>03.B02.01</td>\n",
              "      <td>MULTIPOLYGON (((15.09 12.76, 15.09 12.745, 16....</td>\n",
              "    </tr>\n",
              "    <tr>\n",
              "      <th>854</th>\n",
              "      <td>IfcSpace</td>\n",
              "      <td>03.B01.02</td>\n",
              "      <td>MULTIPOLYGON (((9.205 9.19, 9.205 9.395, 9.395...</td>\n",
              "    </tr>\n",
              "    <tr>\n",
              "      <th>855</th>\n",
              "      <td>IfcSpace</td>\n",
              "      <td>03.B01.01</td>\n",
              "      <td>MULTIPOLYGON (((9.635 15.08, 9.635 20.32, 14.0...</td>\n",
              "    </tr>\n",
              "    <tr>\n",
              "      <th>856</th>\n",
              "      <td>IfcSpace</td>\n",
              "      <td>03.A07.01</td>\n",
              "      <td>MULTIPOLYGON (((33.96 14.72, 42.565 14.72, 42....</td>\n",
              "    </tr>\n",
              "    <tr>\n",
              "      <th>857</th>\n",
              "      <td>IfcSpace</td>\n",
              "      <td>03.A01.01</td>\n",
              "      <td>MULTIPOLYGON (((9.635 12.195, 9.635 14.72, 18....</td>\n",
              "    </tr>\n",
              "  </tbody>\n",
              "</table>\n",
              "<p>82 rows × 3 columns</p>\n",
              "</div>\n",
              "    <div class=\"colab-df-buttons\">\n",
              "\n",
              "  <div class=\"colab-df-container\">\n",
              "    <button class=\"colab-df-convert\" onclick=\"convertToInteractive('df-5eb8e0e1-c777-4b58-905b-69f0de1fe15a')\"\n",
              "            title=\"Convert this dataframe to an interactive table.\"\n",
              "            style=\"display:none;\">\n",
              "\n",
              "  <svg xmlns=\"http://www.w3.org/2000/svg\" height=\"24px\" viewBox=\"0 -960 960 960\">\n",
              "    <path d=\"M120-120v-720h720v720H120Zm60-500h600v-160H180v160Zm220 220h160v-160H400v160Zm0 220h160v-160H400v160ZM180-400h160v-160H180v160Zm440 0h160v-160H620v160ZM180-180h160v-160H180v160Zm440 0h160v-160H620v160Z\"/>\n",
              "  </svg>\n",
              "    </button>\n",
              "\n",
              "  <style>\n",
              "    .colab-df-container {\n",
              "      display:flex;\n",
              "      gap: 12px;\n",
              "    }\n",
              "\n",
              "    .colab-df-convert {\n",
              "      background-color: #E8F0FE;\n",
              "      border: none;\n",
              "      border-radius: 50%;\n",
              "      cursor: pointer;\n",
              "      display: none;\n",
              "      fill: #1967D2;\n",
              "      height: 32px;\n",
              "      padding: 0 0 0 0;\n",
              "      width: 32px;\n",
              "    }\n",
              "\n",
              "    .colab-df-convert:hover {\n",
              "      background-color: #E2EBFA;\n",
              "      box-shadow: 0px 1px 2px rgba(60, 64, 67, 0.3), 0px 1px 3px 1px rgba(60, 64, 67, 0.15);\n",
              "      fill: #174EA6;\n",
              "    }\n",
              "\n",
              "    .colab-df-buttons div {\n",
              "      margin-bottom: 4px;\n",
              "    }\n",
              "\n",
              "    [theme=dark] .colab-df-convert {\n",
              "      background-color: #3B4455;\n",
              "      fill: #D2E3FC;\n",
              "    }\n",
              "\n",
              "    [theme=dark] .colab-df-convert:hover {\n",
              "      background-color: #434B5C;\n",
              "      box-shadow: 0px 1px 3px 1px rgba(0, 0, 0, 0.15);\n",
              "      filter: drop-shadow(0px 1px 2px rgba(0, 0, 0, 0.3));\n",
              "      fill: #FFFFFF;\n",
              "    }\n",
              "  </style>\n",
              "\n",
              "    <script>\n",
              "      const buttonEl =\n",
              "        document.querySelector('#df-5eb8e0e1-c777-4b58-905b-69f0de1fe15a button.colab-df-convert');\n",
              "      buttonEl.style.display =\n",
              "        google.colab.kernel.accessAllowed ? 'block' : 'none';\n",
              "\n",
              "      async function convertToInteractive(key) {\n",
              "        const element = document.querySelector('#df-5eb8e0e1-c777-4b58-905b-69f0de1fe15a');\n",
              "        const dataTable =\n",
              "          await google.colab.kernel.invokeFunction('convertToInteractive',\n",
              "                                                    [key], {});\n",
              "        if (!dataTable) return;\n",
              "\n",
              "        const docLinkHtml = 'Like what you see? Visit the ' +\n",
              "          '<a target=\"_blank\" href=https://colab.research.google.com/notebooks/data_table.ipynb>data table notebook</a>'\n",
              "          + ' to learn more about interactive tables.';\n",
              "        element.innerHTML = '';\n",
              "        dataTable['output_type'] = 'display_data';\n",
              "        await google.colab.output.renderOutput(dataTable, element);\n",
              "        const docLink = document.createElement('div');\n",
              "        docLink.innerHTML = docLinkHtml;\n",
              "        element.appendChild(docLink);\n",
              "      }\n",
              "    </script>\n",
              "  </div>\n",
              "\n",
              "\n",
              "<div id=\"df-9aeef03a-b324-4fcc-b4fd-d571392c19d5\">\n",
              "  <button class=\"colab-df-quickchart\" onclick=\"quickchart('df-9aeef03a-b324-4fcc-b4fd-d571392c19d5')\"\n",
              "            title=\"Suggest charts\"\n",
              "            style=\"display:none;\">\n",
              "\n",
              "<svg xmlns=\"http://www.w3.org/2000/svg\" height=\"24px\"viewBox=\"0 0 24 24\"\n",
              "     width=\"24px\">\n",
              "    <g>\n",
              "        <path d=\"M19 3H5c-1.1 0-2 .9-2 2v14c0 1.1.9 2 2 2h14c1.1 0 2-.9 2-2V5c0-1.1-.9-2-2-2zM9 17H7v-7h2v7zm4 0h-2V7h2v10zm4 0h-2v-4h2v4z\"/>\n",
              "    </g>\n",
              "</svg>\n",
              "  </button>\n",
              "\n",
              "<style>\n",
              "  .colab-df-quickchart {\n",
              "      --bg-color: #E8F0FE;\n",
              "      --fill-color: #1967D2;\n",
              "      --hover-bg-color: #E2EBFA;\n",
              "      --hover-fill-color: #174EA6;\n",
              "      --disabled-fill-color: #AAA;\n",
              "      --disabled-bg-color: #DDD;\n",
              "  }\n",
              "\n",
              "  [theme=dark] .colab-df-quickchart {\n",
              "      --bg-color: #3B4455;\n",
              "      --fill-color: #D2E3FC;\n",
              "      --hover-bg-color: #434B5C;\n",
              "      --hover-fill-color: #FFFFFF;\n",
              "      --disabled-bg-color: #3B4455;\n",
              "      --disabled-fill-color: #666;\n",
              "  }\n",
              "\n",
              "  .colab-df-quickchart {\n",
              "    background-color: var(--bg-color);\n",
              "    border: none;\n",
              "    border-radius: 50%;\n",
              "    cursor: pointer;\n",
              "    display: none;\n",
              "    fill: var(--fill-color);\n",
              "    height: 32px;\n",
              "    padding: 0;\n",
              "    width: 32px;\n",
              "  }\n",
              "\n",
              "  .colab-df-quickchart:hover {\n",
              "    background-color: var(--hover-bg-color);\n",
              "    box-shadow: 0 1px 2px rgba(60, 64, 67, 0.3), 0 1px 3px 1px rgba(60, 64, 67, 0.15);\n",
              "    fill: var(--button-hover-fill-color);\n",
              "  }\n",
              "\n",
              "  .colab-df-quickchart-complete:disabled,\n",
              "  .colab-df-quickchart-complete:disabled:hover {\n",
              "    background-color: var(--disabled-bg-color);\n",
              "    fill: var(--disabled-fill-color);\n",
              "    box-shadow: none;\n",
              "  }\n",
              "\n",
              "  .colab-df-spinner {\n",
              "    border: 2px solid var(--fill-color);\n",
              "    border-color: transparent;\n",
              "    border-bottom-color: var(--fill-color);\n",
              "    animation:\n",
              "      spin 1s steps(1) infinite;\n",
              "  }\n",
              "\n",
              "  @keyframes spin {\n",
              "    0% {\n",
              "      border-color: transparent;\n",
              "      border-bottom-color: var(--fill-color);\n",
              "      border-left-color: var(--fill-color);\n",
              "    }\n",
              "    20% {\n",
              "      border-color: transparent;\n",
              "      border-left-color: var(--fill-color);\n",
              "      border-top-color: var(--fill-color);\n",
              "    }\n",
              "    30% {\n",
              "      border-color: transparent;\n",
              "      border-left-color: var(--fill-color);\n",
              "      border-top-color: var(--fill-color);\n",
              "      border-right-color: var(--fill-color);\n",
              "    }\n",
              "    40% {\n",
              "      border-color: transparent;\n",
              "      border-right-color: var(--fill-color);\n",
              "      border-top-color: var(--fill-color);\n",
              "    }\n",
              "    60% {\n",
              "      border-color: transparent;\n",
              "      border-right-color: var(--fill-color);\n",
              "    }\n",
              "    80% {\n",
              "      border-color: transparent;\n",
              "      border-right-color: var(--fill-color);\n",
              "      border-bottom-color: var(--fill-color);\n",
              "    }\n",
              "    90% {\n",
              "      border-color: transparent;\n",
              "      border-bottom-color: var(--fill-color);\n",
              "    }\n",
              "  }\n",
              "</style>\n",
              "\n",
              "  <script>\n",
              "    async function quickchart(key) {\n",
              "      const quickchartButtonEl =\n",
              "        document.querySelector('#' + key + ' button');\n",
              "      quickchartButtonEl.disabled = true;  // To prevent multiple clicks.\n",
              "      quickchartButtonEl.classList.add('colab-df-spinner');\n",
              "      try {\n",
              "        const charts = await google.colab.kernel.invokeFunction(\n",
              "            'suggestCharts', [key], {});\n",
              "      } catch (error) {\n",
              "        console.error('Error during call to suggestCharts:', error);\n",
              "      }\n",
              "      quickchartButtonEl.classList.remove('colab-df-spinner');\n",
              "      quickchartButtonEl.classList.add('colab-df-quickchart-complete');\n",
              "    }\n",
              "    (() => {\n",
              "      let quickchartButtonEl =\n",
              "        document.querySelector('#df-9aeef03a-b324-4fcc-b4fd-d571392c19d5 button');\n",
              "      quickchartButtonEl.style.display =\n",
              "        google.colab.kernel.accessAllowed ? 'block' : 'none';\n",
              "    })();\n",
              "  </script>\n",
              "</div>\n",
              "    </div>\n",
              "  </div>\n"
            ],
            "text/plain": [
              "         type       name                                           geometry\n",
              "776  IfcSpace         15  MULTIPOLYGON (((30.085 26.32, 31.26 26.32, 31....\n",
              "777  IfcSpace        174  MULTIPOLYGON (((9.41 9.205, 9.41 31.795, 42.79...\n",
              "778  IfcSpace         13  MULTIPOLYGON (((20.28 24.11, 20.28 25.16, 20.9...\n",
              "779  IfcSpace         14  MULTIPOLYGON (((22.5 26.07, 23.7 26.07, 23.7 2...\n",
              "780  IfcSpace         07  MULTIPOLYGON (((31.92 25.92, 42.69 25.92, 42.6...\n",
              "..        ...        ...                                                ...\n",
              "853  IfcSpace  03.B02.01  MULTIPOLYGON (((15.09 12.76, 15.09 12.745, 16....\n",
              "854  IfcSpace  03.B01.02  MULTIPOLYGON (((9.205 9.19, 9.205 9.395, 9.395...\n",
              "855  IfcSpace  03.B01.01  MULTIPOLYGON (((9.635 15.08, 9.635 20.32, 14.0...\n",
              "856  IfcSpace  03.A07.01  MULTIPOLYGON (((33.96 14.72, 42.565 14.72, 42....\n",
              "857  IfcSpace  03.A01.01  MULTIPOLYGON (((9.635 12.195, 9.635 14.72, 18....\n",
              "\n",
              "[82 rows x 3 columns]"
            ]
          },
          "execution_count": 228,
          "metadata": {},
          "output_type": "execute_result"
        }
      ],
      "source": [
        "#conditioning on one column in the DataFrame\n",
        "Spaces = StrijpS03_df[StrijpS03_df['type'] == \"IfcSpace\"]\n",
        "Spaces"
      ]
    },
    {
      "cell_type": "markdown",
      "metadata": {
        "id": "5aHgV6tmlpqN"
      },
      "source": [
        "So now we have a portion of the DataFrame in which we are interested. Taking a look at the \"name\" column, we can see some patterns in naming of the spaces (ex: 03.B02.01). We will play around with this discovery later on. But for now, we want to convert the main DataFrame (StrijpS03_df) with a geometry column to a ***GeoDataFrame***. So, GeoDataFrame is a class of geopandas, which takes ***data, geometry, and crs*** as the main parameters.\n",
        "\n",
        "Now that we know we are working with the projects in the Netherlands, we might want to use the related Coordinate Reference System. We can also use the EPSG code.  The EPSG codes are 4-5 digit numbers that represent CRSs definitions. The acronym EPSG, comes from European Petroleum Survey Group. Each code is a four-five digit number which represents a particular CRS definition. The code for the Netherlands is \"EPSG:28992\".\n",
        "\n",
        "Here we go creating our first GeoDataFrame:"
      ]
    },
    {
      "cell_type": "code",
      "execution_count": null,
      "metadata": {
        "id": "fCQIj_gSRpxL"
      },
      "outputs": [],
      "source": [
        "#first defining the geoseries (geometrical data presented in a serie) from the WKT format\n",
        "gs = gpd.GeoSeries.from_wkt(StrijpS03_df['geometry'])\n",
        "#defining the GeoDataFrame using the data in the main DataFrame, geometry, and crs\n",
        "gdf_floor03 = gpd.GeoDataFrame(StrijpS03_df, geometry=gs, crs=\"EPSG:28992\")"
      ]
    },
    {
      "cell_type": "markdown",
      "metadata": {
        "id": "1g4JWPdPLez1"
      },
      "source": [
        "Doubts about whether the crs has been assigned to the GeoDataFrame? Reality check by using \".crs is None\" after the name of the GeoDataFrame. If it returns \"true\", we know there is no crs assigned then."
      ]
    },
    {
      "cell_type": "code",
      "execution_count": null,
      "metadata": {
        "colab": {
          "base_uri": "https://localhost:8080/"
        },
        "id": "4GYEOh3cLKDw",
        "outputId": "e458327a-02fd-4377-a72c-39d6f46190d2"
      },
      "outputs": [
        {
          "data": {
            "text/plain": [
              "False"
            ]
          },
          "execution_count": 230,
          "metadata": {},
          "output_type": "execute_result"
        }
      ],
      "source": [
        "gdf_floor03.crs is None"
      ]
    },
    {
      "cell_type": "markdown",
      "metadata": {
        "id": "R5kbJ8ciVOCy"
      },
      "source": [
        "Done! We have the GeoDataFrame called gdf_floor03. Now it's time to \"see\" what we created. In other words, let's ***plot*** the GeoDataFrame. We can conveniently use the plot function and set the color map (cmap) and the figure size (figsize) as parameters. Check this link if you are interested in pretty color maps: https://matplotlib.org/stable/users/explain/colors/colormaps.html"
      ]
    },
    {
      "cell_type": "code",
      "execution_count": null,
      "metadata": {
        "colab": {
          "base_uri": "https://localhost:8080/",
          "height": 556
        },
        "id": "rGdbOyW2LEQF",
        "outputId": "819fad49-4d35-4ad1-c5b9-6d45700d4dc3"
      },
      "outputs": [
        {
          "data": {
            "text/plain": [
              "<Axes: >"
            ]
          },
          "execution_count": 231,
          "metadata": {},
          "output_type": "execute_result"
        },
        {
          "data": {
            "image/png": "[encoded data removed]",
            "text/plain": [
              "<Figure size 1000x1000 with 1 Axes>"
            ]
          },
          "metadata": {},
          "output_type": "display_data"
        }
      ],
      "source": [
        "#plotting the created geodataframe\n",
        "gdf_floor03.plot(cmap=\"Set3\", figsize=(10,10))"
      ]
    },
    {
      "cell_type": "markdown",
      "metadata": {
        "id": "XMaRV5-DuUnI"
      },
      "source": [
        "This is apparently not what we were exactly looking for, right? It looks *strange*. How to fix/improve it? We will see in the next section (2.4)."
      ]
    },
    {
      "cell_type": "markdown",
      "metadata": {
        "id": "5fRQ4D1VFhkW"
      },
      "source": [
        "<a name=\"t2.4\"></a>\n",
        "### 2.4 **Floorplan Visualization**"
      ]
    },
    {
      "cell_type": "markdown",
      "metadata": {
        "id": "hhZyizTYWi8w"
      },
      "source": [
        "In the previous plot, all of the types (IfcSpace, IfcWall, etc) were plotted on top of each other. Therefore the result was maybe not what we were looking for. Here we can select a part of the DataFrame using ***loc funtion***. Then we can repeat the process to get the desired plot."
      ]
    },
    {
      "cell_type": "code",
      "execution_count": null,
      "metadata": {
        "colab": {
          "base_uri": "https://localhost:8080/"
        },
        "id": "e6-2RzSmmD19",
        "outputId": "543d9988-a5d5-471f-98fa-10a21aef4833"
      },
      "outputs": [
        {
          "data": {
            "text/plain": [
              "<Axes: >"
            ]
          },
          "execution_count": 232,
          "metadata": {},
          "output_type": "execute_result"
        }
      ],
      "source": [
        "#finding data about specific ids\n",
        "selected = StrijpS03_df.loc[StrijpS03_df['type'] == \"IfcWall\"]\n",
        "\n",
        "#first defining the geoseries (geometrical data presented in a serie) from the WKT format\n",
        "gs = gpd.GeoSeries.from_wkt(StrijpS03_df['geometry'])\n",
        "#defining the GeoDataFrame using the data in the main DataFrame, geometry, and crs\n",
        "gdf_test_floor = gpd.GeoDataFrame(selected, geometry=gs, crs=\"EPSG:28992\")\n",
        "\n",
        "#plotting the created geodataframe\n",
        "gdf_test_floor.plot(cmap=\"tab20\", figsize=(10,10))"
      ]
    },
    {
      "cell_type": "markdown",
      "metadata": {
        "id": "OlxbrOTPXhxE"
      },
      "source": [
        "Note that the colors are assigned ***randomly*** to the elements. Try out different ***color maps*** to see the changes! In the same manner, we could have plots for different layers, to grasp a better idea of the floor plan."
      ]
    },
    {
      "cell_type": "code",
      "execution_count": null,
      "metadata": {
        "id": "nMie3eGhXpxW"
      },
      "outputs": [],
      "source": [
        "#finding data about specific ids\n",
        "selected = StrijpS03_df.loc[StrijpS03_df['type'] == \"IfcWindow\"]\n",
        "\n",
        "#first defining the geoseries (geometrical data presented in a serie) from the WKT format\n",
        "gs = gpd.GeoSeries.from_wkt(StrijpS03_df['geometry'])\n",
        "#defining the GeoDataFrame using the data in the main DataFrame, geometry, and crs\n",
        "gdf_test_floor = gpd.GeoDataFrame(selected, geometry=gs, crs=\"EPSG:28992\")\n",
        "\n",
        "#plotting the created geodataframe\n",
        "gdf_test_floor.plot(cmap=\"tab20\", figsize=(10,10))"
      ]
    },
    {
      "cell_type": "code",
      "execution_count": null,
      "metadata": {
        "id": "IudIDwe6YoPw"
      },
      "outputs": [],
      "source": [
        "#finding data about specific ids\n",
        "selected = StrijpS03_df.loc[StrijpS03_df['type'] == \"IfcSpace\"]\n",
        "\n",
        "#first defining the geoseries (geometrical data presented in a serie) from the WKT format\n",
        "gs = gpd.GeoSeries.from_wkt(StrijpS03_df['geometry'])\n",
        "#defining the GeoDataFrame using the data in the main DataFrame, geometry, and crs\n",
        "gdf_test_floor = gpd.GeoDataFrame(selected, geometry=gs, crs=\"EPSG:28992\")\n",
        "\n",
        "#plotting the created geodataframe\n",
        "gdf_test_floor.plot(cmap=\"Set3\", figsize=(10,10))"
      ]
    },
    {
      "cell_type": "code",
      "execution_count": null,
      "metadata": {
        "id": "knyCR71PY746"
      },
      "outputs": [],
      "source": [
        "#finding data about specific ids\n",
        "selected = StrijpS03_df.loc[StrijpS03_df['type'] == \"IfcOpeningElement\"]\n",
        "\n",
        "#first defining the geoseries (geometrical data presented in a serie) from the WKT format\n",
        "gs = gpd.GeoSeries.from_wkt(StrijpS03_df['geometry'])\n",
        "#defining the GeoDataFrame using the data in the main DataFrame, geometry, and crs\n",
        "gdf_test_floor = gpd.GeoDataFrame(selected, geometry=gs, crs=\"EPSG:28992\")\n",
        "\n",
        "#plotting the created geodataframe\n",
        "gdf_test_floor.plot(cmap=\"Set3\", figsize=(10,10))"
      ]
    },
    {
      "cell_type": "code",
      "execution_count": null,
      "metadata": {
        "id": "s_RcMc9lZBs1"
      },
      "outputs": [],
      "source": [
        "#finding data about specific ids\n",
        "selected = StrijpS03_df.loc[StrijpS03_df['type'] == \"IfcBuildingElementProxy\"]\n",
        "\n",
        "#first defining the geoseries (geometrical data presented in a serie) from the WKT format\n",
        "gs = gpd.GeoSeries.from_wkt(StrijpS03_df['geometry'])\n",
        "#defining the GeoDataFrame using the data in the main DataFrame, geometry, and crs\n",
        "gdf_test_floor = gpd.GeoDataFrame(selected, geometry=gs, crs=\"EPSG:28992\")\n",
        "\n",
        "#plotting the created geodataframe\n",
        "gdf_test_floor.plot(cmap=\"Set3\", figsize=(10,10))"
      ]
    },
    {
      "cell_type": "code",
      "execution_count": null,
      "metadata": {
        "id": "u-Aq88xnZPYR"
      },
      "outputs": [],
      "source": [
        "#finding data about specific ids\n",
        "selected = StrijpS03_df.loc[StrijpS03_df['type'] == \"IfcDoor\"]\n",
        "\n",
        "#first defining the geoseries (geometrical data presented in a serie) from the WKT format\n",
        "gs = gpd.GeoSeries.from_wkt(StrijpS03_df['geometry'])\n",
        "#defining the GeoDataFrame using the data in the main DataFrame, geometry, and crs\n",
        "gdf_test_floor = gpd.GeoDataFrame(selected, geometry=gs, crs=\"EPSG:28992\")\n",
        "\n",
        "#plotting the created geodataframe\n",
        "gdf_test_floor.plot(cmap=\"Dark2\", figsize=(10,10))"
      ]
    },
    {
      "cell_type": "markdown",
      "metadata": {
        "id": "EmgOs_O6XuKt"
      },
      "source": [
        "Sometimes, we are interested to select part of the DataFrame which does ***NOT*** have a certain feature. In this case we use the same funtion (loc) but instead of == (which means equal to), we use != (which means not equal to). Here for example, we will plot everything ***except for*** IfcSpace type:"
      ]
    },
    {
      "cell_type": "code",
      "execution_count": null,
      "metadata": {
        "id": "Wy53QAPZYTY1"
      },
      "outputs": [],
      "source": [
        "#finding data about specific ids\n",
        "selected = StrijpS03_df.loc[StrijpS03_df['type'] != \"IfcSpace\"]\n",
        "\n",
        "#first defining the geoseries (geometrical data presented in a serie) from the WKT format\n",
        "gs = gpd.GeoSeries.from_wkt(StrijpS03_df['geometry'])\n",
        "#defining the GeoDataFrame using the data in the main DataFrame, geometry, and crs\n",
        "gdf_test_floor = gpd.GeoDataFrame(selected, geometry=gs, crs=\"EPSG:28992\")\n",
        "\n",
        "#plotting the created geodataframe\n",
        "gdf_test_floor.plot(cmap=\"tab20\", figsize=(10,10))"
      ]
    },
    {
      "cell_type": "markdown",
      "metadata": {
        "id": "ruZzwQZ9ZjQ4"
      },
      "source": [
        "Remember we found out something like a pattern in ***naming convention*** in the \"name\" column in section 2.3.? Let's revisit it."
      ]
    },
    {
      "cell_type": "code",
      "execution_count": null,
      "metadata": {
        "id": "7w3xujAkZ6l5"
      },
      "outputs": [],
      "source": [
        "#conditioning on one column in the DataFrame\n",
        "Spaces = StrijpS03_df[StrijpS03_df['type'] == \"IfcSpace\"]\n",
        "Spaces"
      ]
    },
    {
      "cell_type": "markdown",
      "metadata": {
        "id": "INTU-9YSZ9LY"
      },
      "source": [
        "It is usual for architectural firms to have some specfic ***annotation style*** for identifying spaces. In our example of KAAN Architecten residential buildings, spaces are denoted by the number of the floor, the intersection axes, and the sequence of spaces, as follows:\n",
        "\n",
        "<center>\n",
        "<img src=\"https://drive.google.com/uc?export=view&id=1QmFF9bVm1nSkuf4UisVSPiQcPIdycd8J\" alt=\"floor-plan\" class=\"center\" width=\"px\">\n",
        "</center>\n"
      ]
    },
    {
      "cell_type": "markdown",
      "metadata": {
        "id": "u3c-fUrhccGj"
      },
      "source": [
        "Let's assume we are interested in having a semantic ***color-coded map*** in which all the spaces with the same grid intersection are shown with the same color. For this purpose, we first need to categorize the data in the \"name\" column based on the naming convention, and then plot the DataFrame in the desired way."
      ]
    },
    {
      "cell_type": "code",
      "execution_count": null,
      "metadata": {
        "id": "e-a3hJfReCTx"
      },
      "outputs": [],
      "source": [
        "#adding ax_id column to the dataframe with the same values as \"name\" column\n",
        "Spaces['ax_id'] = Spaces['name']\n",
        "#let's take a look\n",
        "Spaces"
      ]
    },
    {
      "cell_type": "markdown",
      "metadata": {
        "id": "Qt1pui3wAOma"
      },
      "source": [
        "Here we observe that there are two main different namings among the data in the \"ax-id\" column. Those with only numerical values represent the unit and those with the mentioned naming style represent spaces. One way to keep the spaces in to remove all the numerical parts from the \"ax_is\" column and then only pay attention to the ax name."
      ]
    },
    {
      "cell_type": "code",
      "execution_count": null,
      "metadata": {
        "id": "IUwKn1nh7-qT"
      },
      "outputs": [],
      "source": [
        "#replacing the string part of the values in the ax_id column by basically nothing\n",
        "# \\d+ = one or more digits\n",
        "Spaces['ax_id'] = Spaces['ax_id'].str.replace('\\d+', '')\n",
        "#now we can remove the rows which do not have any axes name\n",
        "Spaces = Spaces[Spaces['ax_id'] != \"\"]\n",
        "#let's take a look\n",
        "Spaces"
      ]
    },
    {
      "cell_type": "code",
      "execution_count": null,
      "metadata": {
        "id": "Il7P45q2fHiW"
      },
      "outputs": [],
      "source": [
        "#replacing the ax_id column with a newly defined name specific to axes\n",
        "Spaces.ax_id[Spaces[\"ax_id\"].str.contains('A')] = \"A_ax\"\n",
        "Spaces.ax_id[Spaces[\"ax_id\"].str.contains('B')] = \"B_ax\"\n",
        "Spaces.ax_id[Spaces[\"ax_id\"].str.contains('C')] = \"C_ax\"\n",
        "Spaces.ax_id[Spaces[\"ax_id\"].str.contains('D')] = \"D_ax\"\n",
        "Spaces.ax_id[Spaces[\"ax_id\"].str.contains('E')] = \"E_ax\"\n",
        "Spaces"
      ]
    },
    {
      "cell_type": "markdown",
      "metadata": {
        "id": "nmEAcfSN_DEq"
      },
      "source": [
        "Now that we have categorized the IfcSpace elements based on the naming convention, we can have a specfic plot based on the unique values in the selected column (in this case, ax_id). This type of map is called ***Choropleth*** (maps where the color of each shape is based on the value of an associated variable). Simply use the plot command with the column argument set to the column whose values you want used to assign colors.\n"
      ]
    },
    {
      "cell_type": "code",
      "execution_count": null,
      "metadata": {
        "id": "n37SwiMwng-b"
      },
      "outputs": [],
      "source": [
        "#first defining the geoseries (geometrical data presented in a serie) from the WKT format\n",
        "gs = gpd.GeoSeries.from_wkt(Spaces['geometry'])\n",
        "#defining the GeoDataFrame using the data in the main DataFrame, geometry, and crs\n",
        "gdf_test_floor = gpd.GeoDataFrame(Spaces, geometry=gs, crs=\"EPSG:28992\")\n",
        "\n",
        "#plotting the created geodataframe\n",
        "gdf_test_floor.plot(column=\"ax_id\", legend = True, cmap=\"Set3\", figsize=(10,10))"
      ]
    },
    {
      "cell_type": "markdown",
      "metadata": {
        "id": "xGJTViuN_ddl"
      },
      "source": [
        "We reached our aim of having a color-coded map of the floor plan based on the naming convention. This plot, is now not only ***human-interpretable***, but also ***machine readable***! Nice, right? Of course, this was only one example to see how working with DataFrames can lead to useful plots. In general, we can modify the pandas DataFrame based on our problem formulation and when it comes to plotting, we can convert it to a GeoDataFrame."
      ]
    },
    {
      "cell_type": "markdown",
      "metadata": {
        "id": "UGs8OGysgnPJ"
      },
      "source": [
        "<a name=\"t3\"></a>\n",
        "## 🟡 **Additional GeoPandas (optional)**\n",
        "\n",
        "In this section, we play around with some other functions offered by Geopandas, using the prepared geodatasets."
      ]
    },
    {
      "cell_type": "code",
      "execution_count": null,
      "metadata": {
        "id": "qCAat0Fq6gOz"
      },
      "outputs": [],
      "source": [
        "!pip install geodatasets"
      ]
    },
    {
      "cell_type": "code",
      "execution_count": null,
      "metadata": {
        "id": "tJCGFrpUF1QR"
      },
      "outputs": [],
      "source": [
        "#importing the geodatasets module\n",
        "import geodatasets"
      ]
    },
    {
      "cell_type": "markdown",
      "metadata": {
        "id": "IcS2vhuLFvxN"
      },
      "source": [
        "GeoPandas inherits the standard pandas methods for indexing/selecting data. This includes label based indexing with loc and integer position based indexing with iloc, which apply to both GeoSeries and GeoDataFrame objects."
      ]
    },
    {
      "cell_type": "markdown",
      "metadata": {
        "id": "87kPQJmE-1JK"
      },
      "source": [
        "In addition to the standard pandas methods, GeoPandas also provides coordinate based indexing with the ***cx*** indexer, which slices using a bounding box. Geometries in the GeoSeries or GeoDataFrame that intersect the bounding box will be returned."
      ]
    },
    {
      "cell_type": "code",
      "execution_count": null,
      "metadata": {
        "id": "7FmRLECD58yH"
      },
      "outputs": [],
      "source": [
        "#using one of geo datasets for this example\n",
        "chile = gpd.read_file(geodatasets.get_path('geoda.chile_labor'))\n",
        "chile.plot(figsize=(8, 8),);"
      ]
    },
    {
      "cell_type": "code",
      "execution_count": null,
      "metadata": {
        "id": "mm2MeYtk-2Vl"
      },
      "outputs": [],
      "source": [
        "#selecting parts of Chile whose boundaries extend south of the -50 degrees latitude\n",
        "\n",
        "southern_chile = chile.cx[:, :-50]\n",
        "\n",
        "southern_chile.plot(figsize=(8, 8), cmap ='tab10');"
      ]
    },
    {
      "cell_type": "markdown",
      "metadata": {
        "id": "EBpQJWvJgnPJ"
      },
      "source": [
        "<a name=\"t3.1\"></a>\n",
        "### 3.1 **Maps and Plots**\n",
        "\n",
        "GeoPandas provides a high-level interface to the matplotlib library for making maps. Mapping shapes is as easy as using the plot() method on a GeoSeries or GeoDataFrame.\n",
        "\n"
      ]
    },
    {
      "cell_type": "code",
      "execution_count": null,
      "metadata": {
        "id": "rkzOzg8LBLTF"
      },
      "outputs": [],
      "source": [
        "#plotting example on Chicago\n",
        "chicago = gpd.read_file(geodatasets.get_path(\"geoda.chicago_commpop\"))\n",
        "chicago.plot(cmap='tab10');"
      ]
    },
    {
      "cell_type": "markdown",
      "metadata": {
        "id": "22VkcE9KBsfb"
      },
      "source": [
        "\n",
        "GeoPandas makes it easy to create ***Choropleth maps*** (maps where the color of each shape is based on the value of an associated variable). Simply use the plot command with the column argument set to the column whose values you want used to assign colors.\n",
        "\n",
        "To create the Coropleth of Chicago, it's practical at first to know what are the column types that exist in the dataset. Then, we can plot the coropleth map based on the desired column."
      ]
    },
    {
      "cell_type": "code",
      "execution_count": null,
      "metadata": {
        "id": "K07npo7BBoWa"
      },
      "outputs": [],
      "source": [
        "list(chicago.columns)"
      ]
    },
    {
      "cell_type": "code",
      "execution_count": null,
      "metadata": {
        "id": "Q05K9i_GBdeC"
      },
      "outputs": [],
      "source": [
        "chicago.plot(column=\"POP2010\", figsize=(8, 8), legend = True, legend_kwds={\"label\": \"Population in 2010\", \"orientation\": \"horizontal\"});"
      ]
    },
    {
      "cell_type": "markdown",
      "metadata": {
        "id": "PeK5ZoNegnPK"
      },
      "source": [
        "<a name=\"t3.2\"></a>\n",
        "### 3.2 **Geometric Manipulation**\n",
        "\n",
        "GeoPandas makes available all the tools for geometric manipulations in the Shapely library. Here we can see a number of useful functions. It is always possible to check for other functions in the documentation.\n",
        "\n",
        "![alt text](https://geopandas.org/en/stable/_images/binary_geo-intersection.svg)\n"
      ]
    },
    {
      "cell_type": "markdown",
      "metadata": {
        "id": "Rw7Kq6z7nchW"
      },
      "source": [
        "*   GeoSeries.buffer:\n",
        "  Returns a GeoSeries of geometries representing all points within a given distance of each geometric object.\n",
        "*   GeoSeries.boundary:\n",
        "Returns a GeoSeries of lower dimensional objects representing each geometry’s set-theoretic boundary.\n",
        "*   GeoSeries.centroid: Returns a GeoSeries of points for each geometric centroid.\n",
        "*   GeoSeries.envelope:\n",
        "Returns a GeoSeries of geometries representing the point or smallest rectangular polygon (with sides parallel to the coordinate axes) that contains each object.\n",
        "*   GeoSeries.rotate: Rotate the coordinates of the GeoSeries.\n",
        "*   GeoSeries.scale: Scale the geometries of the GeoSeries along each (x, y, z) dimension."
      ]
    },
    {
      "cell_type": "code",
      "execution_count": null,
      "metadata": {
        "id": "xhsfLGz2nVZX"
      },
      "outputs": [],
      "source": [
        "#example of some geometric manipulations\n",
        "from geopandas import GeoSeries\n",
        "from shapely.geometry import Polygon\n",
        "\n",
        "#let's create some polygons\n",
        "p1 = Polygon([(0, 0), (1, 0), (1, 1), (0, 1)])\n",
        "p2 = Polygon([(2, 0), (3, 0), (3, 1), (2, 1)])\n",
        "p3 = Polygon([(0, 0), (1, 0), (1, 1)])\n",
        "\n",
        "#put them together to make a GeoSeries\n",
        "g = GeoSeries([p1, p2, p3])\n",
        "\n",
        "#it's time for plot!\n",
        "g.plot(cmap='Set3')"
      ]
    },
    {
      "cell_type": "markdown",
      "metadata": {
        "id": "mbaZrGYTsLzI"
      },
      "source": [
        "Looks nice, right? Let's try a couple of functions on the Geoseries that we created. Here we apply rotate, scale, and buffer functions. Note that these three functions ***return a Geoseries*** and in order to *see* them, we need to plot them."
      ]
    },
    {
      "cell_type": "code",
      "execution_count": null,
      "metadata": {
        "id": "NGleQA3NqmDS"
      },
      "outputs": [],
      "source": [
        "#rotate the GeoSeries using the angle of rotation and the origin point\n",
        "g_rotated = g.rotate(60, origin=(0, 0))\n",
        "g_rotated.plot(cmap='Set3')"
      ]
    },
    {
      "cell_type": "markdown",
      "metadata": {
        "id": "CkLqkc_e0OP3"
      },
      "source": [
        "What is the ***reference axis*** for the rotation? And is the rotation ***clockwise or counter-clockwise***? What do you think we should do to ***change the direction of the rotation***? too many questions for a single function. But for now let's try another handy funtion, ***.scale***. To apply this function, we set the parameters as scale in x-direction, and y-direction, respectivley."
      ]
    },
    {
      "cell_type": "code",
      "execution_count": null,
      "metadata": {
        "id": "eBWJ4C9Bvj8K"
      },
      "outputs": [],
      "source": [
        "#scaling a geoseries here with the magnitude of 2 in x direction\n",
        "g_scale = g.scale (2,1)\n",
        "g_scale.plot(cmap='Set3')"
      ]
    },
    {
      "cell_type": "markdown",
      "metadata": {
        "id": "SEedgNpFw6lt"
      },
      "source": [
        "A second, where is the origin of the scale in the example above?\n",
        "\n",
        "But what if we want ***the origin of the scale operation*** to be a certain point? Then we can specify it in the input parameters of the .scale function."
      ]
    },
    {
      "cell_type": "code",
      "execution_count": null,
      "metadata": {
        "id": "1fkPHh6Owi-G"
      },
      "outputs": [],
      "source": [
        "g_scale = g.scale (2, 3.6, origin=(0,0))\n",
        "g_scale.plot(cmap='Set3')"
      ]
    },
    {
      "cell_type": "markdown",
      "metadata": {
        "id": "GXtS8m9c2aws"
      },
      "source": [
        "and as the last example here, we have .buffer funtion, which returns a GeoSeries of geometries representing all points within a given distance of each geometric object."
      ]
    },
    {
      "cell_type": "code",
      "execution_count": null,
      "metadata": {
        "id": "KX8rj75iq-HJ"
      },
      "outputs": [],
      "source": [
        "g_buffer = g.buffer(0.8)\n",
        "g_buffer.plot(cmap='Set3')"
      ]
    },
    {
      "cell_type": "markdown",
      "metadata": {
        "id": "CLVGmLYngnPK"
      },
      "source": [
        "<a name=\"t3.3\"></a>\n",
        "### 3.3 **Operations with Overlay**\n",
        "\n",
        "When working with multiple spatial datasets – especially multiple polygon or line datasets – users often wish to create new shapes based on places where those datasets overlap (or don’t overlap). These manipulations are often referred using the language of sets – intersections, unions, and differences. These types of operations are made available in the GeoPandas library through the overlay() method.\n",
        "\n",
        "The basic idea is demonstrated by the graphic below but keep in mind that overlays operate at the DataFrame level, not on individual geometries, and the properties from both are retained. In effect, for every shape in the left GeoDataFrame, this operation is executed against every other shape in the right GeoDataFrame:\n",
        "\n",
        "\n",
        "![alt text](https://geopandas.org/en/stable/_images/overlay_operations.png)\n"
      ]
    },
    {
      "cell_type": "code",
      "execution_count": null,
      "metadata": {
        "id": "G-EC6uJExAMw"
      },
      "outputs": [],
      "source": [
        "# Example of overlay with the Chicago and Groceries geodatasets\n",
        "chicago = gpd.read_file(geodatasets.get_path(\"geoda.chicago_commpop\"))\n",
        "groceries = gpd.read_file(geodatasets.get_path(\"geoda.groceries\"))\n",
        "\n",
        "# Project to crs that uses meters as distance measure\n",
        "chicago = chicago.to_crs(\"ESRI:102003\")\n",
        "\n",
        "groceries = groceries.to_crs(\"ESRI:102003\")"
      ]
    },
    {
      "cell_type": "code",
      "execution_count": null,
      "metadata": {
        "id": "txw9WdQzxaAs"
      },
      "outputs": [],
      "source": [
        "# Look at Chicago:\n",
        "chicago.plot(cmap='tab10');\n",
        "\n",
        "# Now buffer groceries to find area within 1km.\n",
        "# Check CRS -- USA Contiguous Albers Equal Area, units of meters.\n",
        "groceries.crs\n",
        "\n",
        "# make 1km buffer\n",
        "groceries['geometry']= groceries.buffer(1000)\n",
        "\n",
        "groceries.plot(cmap='tab10');"
      ]
    },
    {
      "cell_type": "code",
      "execution_count": null,
      "metadata": {
        "id": "DijlXDgOxmxm"
      },
      "outputs": [],
      "source": [
        "#To select only the portion of community areas within 1km of a grocery, specify the how option to be “intersect”, which creates a new set of polygons where these two layers overlap:\n",
        "\n",
        "chicago_cores = chicago.overlay(groceries, how='intersection')\n",
        "\n",
        "chicago_cores.plot(alpha=0.5, edgecolor='k', cmap='tab10');"
      ]
    },
    {
      "cell_type": "code",
      "execution_count": null,
      "metadata": {
        "id": "Nak1kN9Bx0Z-"
      },
      "outputs": [],
      "source": [
        "#Changing the how option allows for different types of overlay operations. For example, if you were interested in the portions of Chicago far from groceries (the peripheries), you would compute the difference of the two.\n",
        "\n",
        "chicago_peripheries = chicago.overlay(groceries, how='difference')\n",
        "\n",
        "chicago_peripheries.plot(alpha=0.5, edgecolor='k', cmap='tab10');"
      ]
    },
    {
      "cell_type": "markdown",
      "metadata": {
        "id": "2xG2A6H6H-RX"
      },
      "source": [
        "You can try out the other two overlay methods (union and symmetrical difference) for yourself to see how it looks like! Also, you can think of meaningful applications of this overlay methods in architectural design process."
      ]
    },
    {
      "cell_type": "markdown",
      "metadata": {
        "id": "hPGpt-kZbNDv"
      },
      "source": [
        "<a name=\"t4\"></a>\n",
        "## 📊 **Exercise**\n",
        "\n",
        "We have already created a GeoPandas DataFrame for a single floor of one KAAN building project. Now, the aim is to pick a whole project (containing all the floors) and create a GeoDataFrame. Your team has already chosen one project. You can conveniently divided the floors among your group members. Make sure you cover the whole building! Note that you will ***create the GeoDataFrame for the whole project***, but up to 5 plots for each member of a group would suffice.\n",
        "\n",
        "The ***shared folder*** in Drive containing the files required for all projects can be found [here](https://drive.google.com/drive/folders/1vnRCW3_-q63WfpBkD3e2Nqx1SauMH9yS?usp=sharing). You can copy the required folders for your project in your own Drive. The cleaning process will be done one the files inside the \"general_csv\" folder, whereas the GeoDataFrame creation will be done on the files inside the \"BatchPlan_output\" folder.\n",
        "\n",
        "Keep in mind that ***every project is unique*** and might have its own characteristic and consequently require a special way of cleaning or plotting. It is recommended to coordinate among your group members to find a unified way of creating the DataFrame.\n"
      ]
    },
    {
      "cell_type": "markdown",
      "metadata": {
        "id": "E4_-2YiIcK1u"
      },
      "source": [
        "### **Evaluation**</br>\n",
        "- **Loading Data (1)**\n",
        "    - 1p: using a proper directory to have access to the files of the project\n",
        "\n",
        "- **GeoDataFrame (5)**\n",
        "    - 1p: creating the pandas DataFrame\n",
        "    - 2p: cleaning, sorting, and selecting data in a proper way\n",
        "    - 2p: creating the GeoPandas DataFrame\n",
        "- **Plotting (4)**\n",
        "    - 1p: plotting up to 5 (depending on the project) floor plans non-semanticly\n",
        "    - 3p: define a plotting rule and plot up to 5 (depending on the project) floor plans semantically\n",
        "- **Bonus⭐ (2)**\n",
        "    - 1p: define an architecturally meaningful problem which can be addressed by the presented functions in section 3.\n",
        "    - 1p: solve and shortly interpret it!\n",
        "\n",
        "Your grade is equivalent to the amount of points you receive (out of 10).\n",
        "\n",
        "⭐ For the bonus points, you may either define your geometry using polygons, or use the data of the KAAN Projects.\n"
      ]
    },
    {
      "cell_type": "markdown",
      "metadata": {
        "id": "PPkqM0JGcLDO"
      },
      "source": [
        "### **Output**</br>\n",
        "**Write your findings and interpretation in a new notebook** and name it **\"A2_from3Dto2D\\<name\\>.ipynb\"**."
      ]
    }
  ],
  "metadata": {
    "colab": {
      "provenance": [],
      "toc_visible": true,
      "include_colab_link": true
    },
    "kernelspec": {
      "display_name": "Python 3",
      "language": "python",
      "name": "python3"
    },
    "language_info": {
      "codemirror_mode": {
        "name": "ipython",
        "version": 3
      },
      "file_extension": ".py",
      "mimetype": "text/x-python",
      "name": "python",
      "nbconvert_exporter": "python",
      "pygments_lexer": "ipython3",
      "version": "3.6.8"
    }
  },
  "nbformat": 4,
  "nbformat_minor": 0
}
