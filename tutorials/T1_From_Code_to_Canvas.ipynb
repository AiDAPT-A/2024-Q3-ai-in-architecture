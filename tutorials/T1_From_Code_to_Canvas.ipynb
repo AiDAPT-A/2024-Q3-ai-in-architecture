{
  "cells": [
    {
      "cell_type": "markdown",
      "metadata": {},
      "source": [
        "<a href=\"https://colab.research.google.com/github/AiDAPT-A/AI_in_Architectural_Design_TUD/blob/main/tutorials/T1_From_Code_to_Canvas.ipynb\" target=\"_parent\"><img src=\"https://colab.research.google.com/assets/colab-badge.svg\" alt=\"Open In Colab\"/></a>"
      ]
    },
    {
      "cell_type": "markdown",
      "metadata": {
        "id": "gTqEKMg8a82O"
      },
      "source": [
        "# **From Code to Canvas: Drawing Floor Plans in Python**\n",
        "\n",
        "Design and create Python script that outputs and visualizes a floor plan.\n",
        "\n",
        "<center>\n",
        "<img src=\"https://drive.google.com/uc?export=view&id=1bPb5V4pLmKfUfP77vLVVMRB2_NMLUI7Z\" alt=\"floor-layout\" class=\"center\" width=\"750px\">\n",
        "</center>"
      ]
    },
    {
      "cell_type": "markdown",
      "metadata": {
        "id": "4rUAcE-2bKn2"
      },
      "source": [
        "## **Overview and learning objectives**\n",
        "\n",
        "First and foremost, this tutorial is about learning Python - one of the most famous programming languages. You will learn how to create and modify basic data structures that effectively represent geometrical elements of a floor layout (shapes); how to visualize them nicely; and how to create your own functions that outputs shapes directly (e.g. `rectangle(h, w, c)`). Moreover, we will learn how to structure an entire floor layout. In the assignment you will try to replicate a given image of a floor layout with code.\n",
        "\n",
        "### **Learning objectives**\n",
        "- Use Google Collab and run code.\n",
        "- Create and print most common data types.\n",
        "- Create and manipulate polygonal shapes.\n",
        "- Plot polygonal shapes.\n",
        "- Use for loops and functions.\n",
        "\n",
        "### **New in Python**\n",
        "- data structures: `int`, `float`, `list`, `tuple`, `dict`, `numpy.array`\n",
        "- plotting: plotting polygonal shapes\n",
        "- functions,\n",
        "- for loops,\n",
        "- libraries: `numpy`, `matplotlib`\n",
        "\n",
        "\n"
      ]
    },
    {
      "cell_type": "markdown",
      "metadata": {
        "id": "Nm5iaNjad3pE"
      },
      "source": [
        "## **Coding 101**\n",
        "\n",
        "We start by a brief overview of the use of Google Collaboratory and your first lines of code. This wil be the most 'dry' part of the tutorial, but is necessary to understand the logical thinking of machines, and how to make Python work in this specific environment."
      ]
    },
    {
      "cell_type": "markdown",
      "metadata": {
        "id": "3wkD0whwd_Eu"
      },
      "source": [
        "### **Colab**\n",
        "\n",
        "Google Collaboratory, or in short Colab, is a *free-to-use cloud service* hosted by Google. (Be aware that not everything is free, obviously.) Colab has the following features:\n",
        "\n",
        "- **Save copy in Drive** by navigating to /File \"Save a copy in Drive\".\n",
        "\n",
        "- **Colab notebooks.**\n",
        "The main feature of Colab is the platform for writing and executing Python code. In fact, you are doing so right now. This *online notebook*, mainly inspired by the [Jupyter Notebook Environment](https://jupyter.org/), seamlessly integrates text (for explanation and structure) and code (for the application). The **integration of text and code** allows for a fast understanding of programming, as it can be guided by text and visuals, and helps also in the development of your code, because of the chronological structure of the cells - the distinct code blocks - that you can run separately. **Create new notebook** by navigating to /File \"Create new notebook\"\n",
        "\n",
        "- **Cells.**\n",
        "A notebook is a list of cells that either contain text (text cells; like this one) or executable code and its output (code cells; colored in gray). Text cells can contain images, Latex, HTML, etc. You can manually add code cells by clicking the **+CODE** and **+TEXT** buttons when you hover between cells.\n",
        "\n",
        "- **Link to Google Drive.**\n",
        "A nice feature of Colab is that you can easily share your code, save it, and, most importantly, that Colab can be coupled to your Google Drive for storing and accessing the data in your own (or shared) folders.\n",
        "\n",
        "- **GPU access.**\n",
        "Your code runs on a different machine (computer), in a virtual environment that you can set yourself up (more about that later). These machines have access to great hardware accelerators, in the form of **graphical processing units (GPUs)**. GPUs can execute code, especially computations related to data science and machine learning, efficiently and much faster than on a central processing unit (CPU). (Why is beyond the scope here. Interested nonetheless? Check [this](https://blogs.nvidia.com/blog/whats-the-difference-between-a-cpu-and-a-gpu/).) For running and testing your code on large datasets and big machine learning models (which you will do in later assignments), GPUs are often crucial, because GPUs allow for fast training and code prototyping. The type of hardware accelerators can be changed under \"Runtime/Change runtime\" type in the navigation bar on the top.\n",
        "\n",
        "- **Short keys for running code.**\n",
        "Code can be executed by your command. You can hit **\"Command/Ctrl+Enter\"** or **\"Shift+Enter\"** to run a code block - or simply press the run button in the code cell itself. Test for yourself the difference between \"Command/Ctrl\" and \"Shift\".\n",
        "\n",
        "Let's run something:\n",
        "\n"
      ]
    },
    {
      "cell_type": "code",
      "execution_count": null,
      "metadata": {
        "colab": {
          "base_uri": "https://localhost:8080/"
        },
        "id": "rA4Jl1p2a1EX",
        "outputId": "36bcb031-8a92-42b5-bd4d-ba2cf12dd3f2"
      },
      "outputs": [
        {
          "name": "stdout",
          "output_type": "stream",
          "text": [
            "Like design, AI is awesome\n"
          ]
        }
      ],
      "source": [
        "print( \"Like design, AI is awesome\")"
      ]
    },
    {
      "cell_type": "markdown",
      "metadata": {
        "id": "Wr-4BRoVBpmw"
      },
      "source": [
        "Don't bother trying to understand yet what happened, but you made the computer say `Like design, AI is awesome`. The output - if any - of executing a code cell is always printed just below the code cell itself."
      ]
    },
    {
      "cell_type": "markdown",
      "metadata": {
        "id": "S3-3L0-ckiCp"
      },
      "source": [
        "### **\"Hello World!\"**\n",
        "\n",
        "Python is a *programming* (i.a.w, coding) language.\n",
        "Coding is the process of writing instructions to a computer that it can subsequently execute when you ask it to interpet it.\n",
        "Always, you first write the (lines of) code that you want to execute.\n",
        "Next you run that code: the computer reads and interprets the code.\n",
        "\n",
        "If you have some programming skills already, feel free to skim over the first couple of code blocks.\n",
        "\n",
        "This part of the tutorial might seem disconnected from the overall goals of the course.\n",
        "However (or instead, actually) we need to go through the basics to build up to the cool AI applications for architecture.\n",
        "\n",
        "Let's run your first code block by 1) selecting the code block below and 2) pressing SHIFT+ENTER or in the tab above click the '$\\blacktriangleright$' symbol\n",
        "\n"
      ]
    },
    {
      "cell_type": "code",
      "execution_count": null,
      "metadata": {
        "colab": {
          "base_uri": "https://localhost:8080/"
        },
        "id": "pKiogDhWlD7l",
        "outputId": "2b302ba7-cdc6-4b87-c015-a7a81e69cd63"
      },
      "outputs": [
        {
          "name": "stdout",
          "output_type": "stream",
          "text": [
            "Hello world, you're beautifu, and byel\n"
          ]
        }
      ],
      "source": [
        "text = \"Hello world, you're beautifu, and byel\"\n",
        "print(text)"
      ]
    },
    {
      "cell_type": "markdown",
      "metadata": {
        "id": "0-671hkdlaHI"
      },
      "source": [
        "As you can see, the computer is talking back.\n",
        "In this case, by outputing the text `Hello world, you're beautiful`.\n",
        "The code block in which you write is called the *cell input*, and the one that talks back the *cell output*.\n",
        "\n",
        "Let's start learning to actually code now!\n",
        "First of all, the computer reads the code line by line.\n",
        "Let's start from the top.\n",
        "\n",
        "In the first line of code, we created a variable which we named `text` as well as an object `\"Hello world, you're beautiful\"`.\n",
        "`\"Hello world, you're beautiful\"` is the actual piece of data and, hence, that which is stored in your computer's memory.\n",
        "`text` is a reference to that object.\n",
        "Whenever you use `text`, Python checks what it references to in memory and finds `\"Hello world, you're beautiful\"`.\n",
        "\n",
        "There are many object types.\n",
        "Here, we used the object type *string*.\n",
        "A string is an object type used to represent text.\n",
        "It is a sequence of characters; in this case the sequence \"H\", \"e\", \"l\", \"l\", \"o\", \" \", etc.\n",
        "Python knows it is a string because it is enclosed in quotes (`\"a string\"` or `'a string'`).\n",
        "Strings are among the most widely used object types for handling and manipulating text; think of descriptions, categories, etc.\n",
        "\n",
        "In the second line, we used the `print()` *function* (indicated by a word followed by brackets).\n",
        "Functions perform an action: in this case simply printing the variable `text`, or more precisely the object that `text` references to, which is `\"Hello world, you're beautiful\"`.\n",
        "Often you provide an *argument* (or a set of arguments) to a function which you put inside the brackets.\n",
        "\n",
        "You can provide multiple variables to print, which you have to separate by a comma:"
      ]
    },
    {
      "cell_type": "code",
      "execution_count": null,
      "metadata": {
        "colab": {
          "base_uri": "https://localhost:8080/"
        },
        "id": "PabzI2H0lTPu",
        "outputId": "76359467-2c77-4906-aca9-1ca1e3d91f16"
      },
      "outputs": [
        {
          "name": "stdout",
          "output_type": "stream",
          "text": [
            "Hello world, you're beautifu, and byel and wise\n"
          ]
        }
      ],
      "source": [
        "text2 = \"and wise\"\n",
        "print(text, text2)"
      ]
    },
    {
      "cell_type": "markdown",
      "metadata": {
        "id": "V5hZwEu3lkQb"
      },
      "source": [
        "Functions can also have 'hidden' arguments (called keyword arguments), which have a default value.\n",
        "For instance, the `print()` function has a keyword argument `sep`.\n",
        "As the name suggests, `sep` determines how, if multiple inputs are provided, the inputs are separated in the text that it will print.\n",
        "The default for `sep` is `\" \"` (a space).\n",
        "You can change it as follows:"
      ]
    },
    {
      "cell_type": "code",
      "execution_count": null,
      "metadata": {
        "colab": {
          "base_uri": "https://localhost:8080/"
        },
        "id": "EIuBDVnkllja",
        "outputId": "7c99a978-39d8-445a-ff8b-512ee23c04a0"
      },
      "outputs": [
        {
          "name": "stdout",
          "output_type": "stream",
          "text": [
            "Hello world, you're beautifu, and byel; and wise\n",
            "\n"
          ]
        }
      ],
      "source": [
        "print(text, text2, sep=\"; \")\n",
        "print()"
      ]
    },
    {
      "cell_type": "markdown",
      "metadata": {
        "id": "tG8Hd5dBlo17"
      },
      "source": [
        "Similarly, you can change how the output ends by altering `end`."
      ]
    },
    {
      "cell_type": "code",
      "execution_count": null,
      "metadata": {
        "colab": {
          "base_uri": "https://localhost:8080/"
        },
        "id": "iDhVH_Zhlsgb",
        "outputId": "a0f9b922-8719-44f7-8954-6fbce1eef398"
      },
      "outputs": [
        {
          "name": "stdout",
          "output_type": "stream",
          "text": [
            "Hello world, you're beautifu, and byel; and wise!"
          ]
        }
      ],
      "source": [
        "print(text, text2, sep=\"; \", end=\"!\")"
      ]
    },
    {
      "cell_type": "markdown",
      "metadata": {
        "id": "4uo1Eo7all1i"
      },
      "source": [
        "### A word on **errors**\n",
        "\n",
        "Something you will encounter often are *errors*.\n",
        "Errors are events that occur during the execution of a program which disrupt the normal flow of the instructions.\n",
        "When an error occurs the program is stopped if it is not handled further.\n",
        "There are many types of errors.\n",
        "\n",
        "Do not let yourself be discouraged by errors and take them seriously because that's the way to learn.\n",
        "What's the wait? Let's create one:"
      ]
    },
    {
      "cell_type": "code",
      "execution_count": null,
      "metadata": {
        "colab": {
          "base_uri": "https://localhost:8080/"
        },
        "id": "NZJ_EZapls87",
        "outputId": "afac810c-bc77-469c-80c3-46f29faa6d88"
      },
      "outputs": [
        {
          "name": "stdout",
          "output_type": "stream",
          "text": [
            "Hello\n"
          ]
        }
      ],
      "source": [
        "print(Hello)"
      ]
    },
    {
      "cell_type": "markdown",
      "metadata": {
        "id": "NAXuqia5ltPq"
      },
      "source": [
        "Even though you might have thought it would have printed \"Hello\", it didn't.\n",
        "Why not?\n",
        "Read the error message: \"NameError: name 'Hello' is not defined\".\n",
        "Of course: we didn't define `Hello`, so there is no variable called `Hello`.\n",
        "\n",
        "Expect to encounter quite some NameErrors when practicing to code.\n",
        "For instance, you might forget to run some previous code blocks.\n",
        "This might mean that some variables that you need for subsequent code cells have not yet been defined.\n",
        "\n",
        "If you want to print \"Hello\" directly you should provide it as a string:"
      ]
    },
    {
      "cell_type": "code",
      "execution_count": null,
      "metadata": {
        "colab": {
          "base_uri": "https://localhost:8080/"
        },
        "id": "IPkKRUkzmA8C",
        "outputId": "9fe8cfc1-6e41-4169-a36f-1c5a2d220ce1"
      },
      "outputs": [
        {
          "name": "stdout",
          "output_type": "stream",
          "text": [
            "Hello\n"
          ]
        }
      ],
      "source": [
        "print(\"Hello\")"
      ]
    },
    {
      "cell_type": "markdown",
      "metadata": {
        "id": "l_VbN44nmeiy"
      },
      "source": [
        "Or, create a variable `Hello`:"
      ]
    },
    {
      "cell_type": "code",
      "execution_count": null,
      "metadata": {
        "colab": {
          "base_uri": "https://localhost:8080/"
        },
        "id": "NTv0FuWEme2M",
        "outputId": "d65b4a98-9e9d-44cf-847a-61844b11163e"
      },
      "outputs": [
        {
          "name": "stdout",
          "output_type": "stream",
          "text": [
            "Hello\n"
          ]
        }
      ],
      "source": [
        "Hello = \"Hello\"\n",
        "print(Hello)"
      ]
    },
    {
      "cell_type": "markdown",
      "metadata": {
        "id": "7y6UmqnUmht6"
      },
      "source": [
        "Let's generate another error:"
      ]
    },
    {
      "cell_type": "code",
      "execution_count": null,
      "metadata": {
        "colab": {
          "base_uri": "https://localhost:8080/",
          "height": 110
        },
        "id": "EE55m8_1mh9b",
        "outputId": "af0cdf0f-fb7d-4abf-9e40-d313dcb8b41a"
      },
      "outputs": [
        {
          "ename": "SyntaxError",
          "evalue": "positional argument follows keyword argument (<ipython-input-14-747bb74ea181>, line 1)",
          "output_type": "error",
          "traceback": [
            "\u001b[0;36m  File \u001b[0;32m\"<ipython-input-14-747bb74ea181>\"\u001b[0;36m, line \u001b[0;32m1\u001b[0m\n\u001b[0;31m    print(sep=\"; \", text, text2)\u001b[0m\n\u001b[0m                               ^\u001b[0m\n\u001b[0;31mSyntaxError\u001b[0m\u001b[0;31m:\u001b[0m positional argument follows keyword argument\n"
          ]
        }
      ],
      "source": [
        "print(sep=\"; \", text, text2)"
      ]
    },
    {
      "cell_type": "markdown",
      "metadata": {
        "id": "IYjFgF8Hmnt7"
      },
      "source": [
        "In this case the positional argument `sep` should have followed the normal *keyword* arguments.\n",
        "The order of positional arguments doesn't matter; the order of keyword arguments does:"
      ]
    },
    {
      "cell_type": "code",
      "execution_count": null,
      "metadata": {
        "colab": {
          "base_uri": "https://localhost:8080/"
        },
        "id": "La2C6gcMmq58",
        "outputId": "2494a532-85c8-477f-d692-afba6663db6e"
      },
      "outputs": [
        {
          "name": "stdout",
          "output_type": "stream",
          "text": [
            "Hello world, you're beautifu, and byel; and wise.\n",
            "Hello world, you're beautifu, and byel; and wise."
          ]
        }
      ],
      "source": [
        "print(text, text2, sep=\"; \", end=\".\")\n",
        "print()  # Creates a new line\n",
        "print(text, text2, end=\".\", sep=\"; \")"
      ]
    },
    {
      "cell_type": "markdown",
      "metadata": {
        "id": "n_ToENQx_CNF"
      },
      "source": [
        "The order of the textual inputs matters btw!"
      ]
    },
    {
      "cell_type": "code",
      "execution_count": null,
      "metadata": {
        "colab": {
          "base_uri": "https://localhost:8080/"
        },
        "id": "gl_4tXaC_GcW",
        "outputId": "e8474109-72cf-4487-a636-347a91961217"
      },
      "outputs": [
        {
          "name": "stdout",
          "output_type": "stream",
          "text": [
            "and wise; Hello world, you're beautifu, and byel."
          ]
        }
      ],
      "source": [
        "print(text2, text, sep='; ', end='.')"
      ]
    },
    {
      "cell_type": "markdown",
      "metadata": {
        "id": "wRInkaz2mwsz"
      },
      "source": [
        "### A word on **comments**\n",
        "\n",
        "Observe that we did something new in the last code block.\n",
        "In the second line we added a *comment* after `print()`.\n",
        "Comments are meant to make the code more readable by explaining what the code's constituent part do.\n",
        "Comments start with `#`.\n",
        "Python 'neglects' these parts of the code, for they are only meant to explain (they are not instructions).\n",
        "\n",
        "Everyone comments in a (slightly) different way; however, the common practice is to use a full line to explain what a part of the code (usually a comment for a couple of lines) does or a descriptive comment in addition to the current line of code.\n",
        "Here's an example:"
      ]
    },
    {
      "cell_type": "code",
      "execution_count": null,
      "metadata": {
        "colab": {
          "base_uri": "https://localhost:8080/"
        },
        "id": "9I35Pq46mvqC",
        "outputId": "123c98e8-b2f4-4ed2-c60f-54d50cec24e1"
      },
      "outputs": [
        {
          "name": "stdout",
          "output_type": "stream",
          "text": [
            "My age is 30 [yr]\n",
            "My height is 1.8 [m]\n",
            "My weights is 80 [w]\n"
          ]
        }
      ],
      "source": [
        "# Define measures\n",
        "a = 30  # age in years\n",
        "l = 1.80  # height in meters\n",
        "w = 80  # weight in kg\n",
        "\n",
        "# Print measures\n",
        "print(\"My age is\", a, \"[yr]\")\n",
        "print(\"My height is\", l, \"[m]\")\n",
        "print(\"My weights is\", w, \"[w]\")"
      ]
    },
    {
      "cell_type": "markdown",
      "metadata": {
        "id": "ABU50u34fA1r"
      },
      "source": [
        "### **Libraries** and **packages**\n",
        "\n",
        "Similar to many other programs, software, toolboxes, etc., Python works with \"plugins\".\n",
        "They are not called plugins, however, but *libraries* (or packages).\n",
        "A **library is a collection of modules, classes, and methods**.\n",
        "(Note that `print()` is a Python built-in function.\n",
        "However, the amount of built-in functions is limited: see [here](https://docs.python.org/3/library/functions.html).\n",
        "Since Python is open-source, many people work(ed) on creating useful functions.\n",
        "These functions are subsequently packaged as libraries.)\n",
        "\n",
        "**Functions and methods are reusable chunks of code** that can be used to perform some meaningful action.\n",
        "For instance, the creation of a rectangular shape (or printing something in the cell output).\n",
        "Usually libraries are created for specific tasks, such as data visualization (`matplotlib`, `seaborn`, etc.), math (`math`, `numpy`, etc.), or geospatial data (`geopandas`, `rasterior`, etc.).\n",
        "\n",
        "The two packages used in this tutorial are `numpy` and `matplotlib`.\n",
        "The packages are imported by using `import`, as follows:"
      ]
    },
    {
      "cell_type": "code",
      "execution_count": null,
      "metadata": {
        "id": "V_WbvEXIfA1s"
      },
      "outputs": [],
      "source": [
        "import numpy as np\n",
        "import matplotlib as plt"
      ]
    },
    {
      "cell_type": "markdown",
      "metadata": {
        "id": "xsw-K3NGBxUZ"
      },
      "source": [
        "You can import a library under a different name than the original - the alias. You can specify the alias after \"as\".\n",
        "This is usually done to reduce clutter in writing your code by finding appropriate abbreviations. \"np\" and \"plt\" are common aliases for these two packages."
      ]
    },
    {
      "cell_type": "markdown",
      "metadata": {
        "id": "UoIv_CnFgmQK"
      },
      "source": [
        "## **Elements of a layout**\n",
        "\n",
        "Here you will learn to effectively define and create elements of layout in Python.\n",
        "\n",
        "---\n",
        "\n",
        "A floor plan 'lives' in a two-dimensional space - spanned by a horizontal dimension $x$ (usually east-west direction) and vertical dimension $y$ (usually south-north direction).\n",
        "Note that not every floor plan is drawn according to the compass orientation - north pointing towards the top of the paper.\n",
        "Sometimes an axis-aligned floor plan - the main symmetry axes aligns with the $x$ and $y$ directions - is easier to draw and comprehend (mostly included by a rotated compass orientation element somewhere on the drawing).\n",
        "For now, the compass orientation does not matter, and we simply take axis-aligned floor plans for which most walls nicely follow the $x$ and $y$ directions.\n",
        "\n",
        "Arguably the most crucial information a floor plan conveys is the floor plan's layout.\n",
        "The floor layout reveals the shapes, proportions, and connectivity of the building's individual spaces and elements, such as rooms, walls, windows, doors.\n",
        "\n",
        "For now, let's consider a floor layout as the composition of shapes, which will represent spaces, and lines, which will represent walls and openings.\n",
        "Hence, a floor layout can be thought of as a set of shapes and lines.\n",
        "See the figure below for a decomposition of a floor plan into it's base elements.\n",
        "\n",
        "<center>\n",
        "<img src=\"https://drive.google.com/uc?export=view&id=1GTZ9LxUD9y9U0FPxH658H_ASCSEsuD1N\" alt=\"floor-layout\" class=\"center\" width=\"650px\">\n",
        "</center>"
      ]
    },
    {
      "cell_type": "markdown",
      "metadata": {
        "id": "lf6vvNLXgmQS"
      },
      "source": [
        "### **Walls as lines**\n",
        "\n",
        "A straight wall (or wall element) can be represented by a line (or, if not straight, by a curve).\n",
        "A line $l$ is defined by 2 *endpoints* $c_1$ and $c_2$ as:\n",
        "\n",
        "$$ l  = (c_1, c_2). $$\n",
        "\n",
        "Each point is defined, in 2D, by it's corresponding coordinates in $x$ and $y$ as such:\n",
        "\n",
        "$$\n",
        "c_1 = (x_1, y_1)\n",
        "$$\n",
        "$$\n",
        "c_2 = (x_2, y_2).\n",
        "$$\n",
        "\n",
        "Let's now create a line in Python!\n",
        "Suppose you want a line spanning between $c_1 = (0.2, 0.3)$ and $c_2 = (1.5, 2.7)$.\n",
        "Let's first define all the coordinates.\n",
        "Since the coordinates are simply numbers, we define the coordinates as floating point number, or simply: floats.\n",
        "**A float is a data type in Python is basically a decimal number, a single value**.\n",
        "You can simply assign a decimal number to an object (e.g., `0.2` to `x1` as `x1 = 0.2`) and it will become a float.\n",
        "\n"
      ]
    },
    {
      "cell_type": "code",
      "execution_count": null,
      "metadata": {
        "colab": {
          "base_uri": "https://localhost:8080/"
        },
        "id": "M6rLgRm8gmQS",
        "outputId": "9c1322ce-069f-4d19-b8ff-5396305c21b7"
      },
      "outputs": [
        {
          "name": "stdout",
          "output_type": "stream",
          "text": [
            "Point 1 (2D):  0.2 0.3\n",
            "Point 2 (2D): 1.5 2.7\n"
          ]
        }
      ],
      "source": [
        "# coordinate as float (decimal number)\n",
        "x1 = 0.2\n",
        "y1 = 0.3\n",
        "x2 = 1.5\n",
        "y2 = 2.7\n",
        "\n",
        "# you can also print the values\n",
        "# remember that you can input multiple arguments to print;\n",
        "# and they can be floats (like here) or other data structures as well\n",
        "print(\"Point 1 (2D): \", x1, y1)\n",
        "print(\"Point 2 (2D):\", x2, y2)"
      ]
    },
    {
      "cell_type": "markdown",
      "metadata": {
        "id": "AyJCN3GdDqmp"
      },
      "source": [
        "To create a single variable that represents a line, we need to package the coordinates (the floats) in a consistent matter.\n",
        "There are different data structures that can package other variables consistently - each with different properties.\n",
        "We start by packaging $x_1$ and $y_1$ into a point that represents $c_1$.\n",
        "We do so by assigning $c_1$ a *tuple*.\n",
        "**A tuple is a collection which is ordered and unchangeable**.\n",
        "Tuples are written with *round brackets*.\n",
        "As simple as follows:\n",
        "\n",
        "We can group the coordinates $x_1$ and $y_1$ of a point $c_1$ together into a *tuple*, **which is an ordered and unchangeable collection.**"
      ]
    },
    {
      "cell_type": "code",
      "execution_count": null,
      "metadata": {
        "colab": {
          "base_uri": "https://localhost:8080/"
        },
        "id": "ujVcxHyoDsGo",
        "outputId": "1b4b07c5-5356-454a-86c5-8b1b8dc0589f"
      },
      "outputs": [
        {
          "name": "stdout",
          "output_type": "stream",
          "text": [
            "Point 1 (2D):  (0.2, 0.3)\n",
            "Point 2 (2D):  (1.5, 2.7)\n"
          ]
        }
      ],
      "source": [
        "# point as tuple of coordinates\n",
        "c1 = (x1, y1)\n",
        "c2 = (x2, y2)\n",
        "\n",
        "# print points\n",
        "print(\"Point 1 (2D): \", c1)\n",
        "print(\"Point 2 (2D): \", c2)"
      ]
    },
    {
      "cell_type": "markdown",
      "metadata": {
        "id": "1rLEPCmwDu55"
      },
      "source": [
        "The only thing remaining is to create a line.\n",
        " To do so, we create a *list*.\n",
        "**A list, similar to a tuple, is a collection which is ordered**.\n",
        "The main difference is that a **list is modifiable**.\n",
        "Creating a list of points allows to change one or both it's points into different ones as well as to *add* another point (or points), which is super useful.\n",
        "A list is written in *square brackets*.\n",
        "Ultimately, $l$ can be defined in Python as follows:"
      ]
    },
    {
      "cell_type": "code",
      "execution_count": null,
      "metadata": {
        "colab": {
          "base_uri": "https://localhost:8080/"
        },
        "id": "eTHNMTr5DvT7",
        "outputId": "764db3bd-828d-4358-99bc-733274c38b7a"
      },
      "outputs": [
        {
          "name": "stdout",
          "output_type": "stream",
          "text": [
            "Line (2D):  [(0.2, 0.3), (1.5, 2.7)]\n"
          ]
        }
      ],
      "source": [
        "# line as list of points\n",
        "l = [c1, c2]\n",
        "\n",
        "# print line\n",
        "print(\"Line (2D): \", l)"
      ]
    },
    {
      "cell_type": "markdown",
      "metadata": {
        "id": "gSLpEdBmDvjT"
      },
      "source": [
        "To summarize:\n",
        "Coordinates are represented as floats, a point as a tuple of $x$- and $y$-coordinates, and a line as a list of two points.\n",
        "The figure below clarifies the nested structure.\n",
        "\n",
        "\n",
        "<center>\n",
        "<img src=\"https://drive.google.com/uc?export=view&id=1bPb5V4pLmKfUfP77vLVVMRB2_NMLUI7Z\" alt=\"floor-layout\" class=\"center\" width=\"650px\">\n",
        "</center>\n",
        "\n",
        "❓*When can a wall (or wall element) not be represented by a line as defined above? Is this often the case?* ❓"
      ]
    },
    {
      "cell_type": "markdown",
      "metadata": {
        "id": "l2CMC_w1D6S0"
      },
      "source": [
        "### **Spaces as polygons**\n",
        "\n",
        "Similar to a wall being represented as a line, a space can be represented as a 2D shape.\n",
        "For instance as a rectangle, triangle, or more complex shape.\n",
        "We can set any **space up as a list of $N$ walls**:\n",
        "\n",
        "$$ s = [l_1, l_2, \\ldots, l_N],$$\n",
        "\n",
        "Where $N$ is the number of walls that are needed to create the shape of the space.\n",
        "($N$ can be any whole number between 3 and $\\infty$, even though most spaces  do not have more than, say, 10 wall elements.)\n",
        "Even though this is a good start, this representation has quite some redundant elements.\n",
        "Why?\n",
        "Because every line (wall) shares one point with another line. Hence, we could represent a shape in a more compact way; namely, as *polygon*.\n",
        "\n",
        "**A polygon is an ordered collection of at least 3 points, such that the two ends point are connected as well**.\n",
        "Starting with the first point, the shape is drawn by going from point to point in the collection, similar to the 'connect the dots' children games.\n",
        "(You might remember these games.)\n",
        "\n",
        "<center>\n",
        "<img src=\"https://drive.google.com/uc?export=view&id=1aXlOru0Km94wTPKANJnzdqPuNlU2ghlu\" alt=\"floor-layout\" class=\"center\" width=\"400px\">\n",
        "\n",
        "</center>\n",
        "\n",
        "Clearly, for architectural spaces the amount of points needed is usually far less than for the game above: the amount of points is usually 4 (rectangle).\n",
        "Let's create, indeed, a rectangular shape:\n",
        "\n",
        "$$p = [c_1, c_2, c_3, c_4],$$\n",
        "\n",
        "where $c_1 = (0,0)$, $c_2 = (2.2,0)$, $c_3 = (2.2,1.5)$, and $c_4 = (0,1.5)$.\n",
        "\n",
        "(Please verify for yourself that we indeed created a rectangle!)\n",
        "\n",
        "The shape in code:"
      ]
    },
    {
      "cell_type": "code",
      "execution_count": null,
      "metadata": {
        "colab": {
          "base_uri": "https://localhost:8080/"
        },
        "id": "lDmZ19OCDwKb",
        "outputId": "b4ab6b37-702b-4a0e-eaea-98317db26a6f"
      },
      "outputs": [
        {
          "name": "stdout",
          "output_type": "stream",
          "text": [
            "Polygon (2D):  [(0, 0), (2.2, 0), (2.2, 1.5), (0, 1.5)]\n"
          ]
        }
      ],
      "source": [
        "# create points directly (without first creating x1, x2, ...)\n",
        "c1 = (0, 0)\n",
        "c2 = (2.2, 0)\n",
        "c3 = (2.2, 1.5)\n",
        "c4 = (0, 1.5)\n",
        "\n",
        "# polygon as a list of points\n",
        "poly = [c1, c2, c3, c4]\n",
        "\n",
        "# print shape\n",
        "print(\"Polygon (2D): \", poly)"
      ]
    },
    {
      "cell_type": "markdown",
      "metadata": {
        "id": "Mh1cDgZSEIbD"
      },
      "source": [
        "### **Modifying shapes**\n",
        "\n",
        "Often you want to modify shapes or get characteristics out of them like the center or area.\n",
        "For this purpose, we will describe another way to define a shape.\n",
        "Namely by so-called `numpy` **arrays** instead of lists of tuples.\n",
        "\n",
        "Numpy arrays allow to modify all inner elements in a short and easy-to-understand way compared to lists of tuples.\n",
        "\n",
        "For this, we will use the library called `numpy`, which we already imported in the second code block.\n",
        "\n",
        "Before we do so, we need to understand *how to use libraries*.\n",
        "Libraries can be thought of as nested collections of modules, classes, and functions.\n",
        "Modules allow for organizing functions and classes in a more hierarchically structured manner, similar to how you would structure a building in CAD software into layers that logically built on each other: starting with floors, than units, than rooms for example.\n",
        "\n",
        "An array can be created by `numpy` \".\" `array`.\n",
        "The \".\" (dot) allows to access the inner functions of the library named before the dot.\n",
        "In our case we can simply use `np.array` because we imported `numpy` as `np`:"
      ]
    },
    {
      "cell_type": "code",
      "execution_count": null,
      "metadata": {
        "colab": {
          "base_uri": "https://localhost:8080/"
        },
        "id": "-8CKT9GWEIsz",
        "outputId": "3c48ccd0-99e6-4101-f5eb-52fa59312b27"
      },
      "outputs": [
        {
          "name": "stdout",
          "output_type": "stream",
          "text": [
            "Polygon as array (2D):\n",
            " [[0.  0. ]\n",
            " [2.2 0. ]\n",
            " [2.2 1.5]\n",
            " [0.  1.5]]\n"
          ]
        }
      ],
      "source": [
        "import numpy as np\n",
        "\n",
        "poly_array = np.array(poly)\n",
        "print(\"Polygon as array (2D):\\n\", poly_array)  # \\n is syntax (within a string) to create a newline"
      ]
    },
    {
      "cell_type": "markdown",
      "metadata": {
        "id": "gYI9iWQSmyoQ"
      },
      "source": [
        "Before we continue to modify such shapes, we need to introduce some key concepts when working with such data structures.\n",
        "Actually: These concepts are relevant for most of the introduced data structures.\n",
        "\n",
        "#### **Size, shape, and dimension** of a data structure\n",
        "\n",
        "In Python, size, shape, and dimension are key concepts when working with data structures like lists and arrays.\n",
        "The **size** refers to the total number of elements, the **shape** describes the arrangement of elements (like rows and columns in a 2D array), and the **dimension** represents the number of axes.\n",
        "\n",
        "Let's have a look at the shape $p$ that we created earlier. What is the size? This is the total number of elements that the list contains, which is 4 (the 4 points $c_1 \\ldots c_4$).\n",
        "This can be accessed by `len(p)`:"
      ]
    },
    {
      "cell_type": "code",
      "execution_count": null,
      "metadata": {
        "id": "TYs6WhYVFk2h"
      },
      "outputs": [],
      "source": [
        "print(len(poly))"
      ]
    },
    {
      "cell_type": "markdown",
      "metadata": {
        "id": "j9SAN77IF1M5"
      },
      "source": [
        "Since lists in Python are one-dimensional by default, they don’t have a shape.\n",
        "A list could be thought of as line with elements, even though of course, you could think of a nested list (a list of lists) as a 2D thing.\n",
        "\n",
        "Let's not try to understand that last thing (the nested list as a 2D thing) too much.\n",
        "Rather, let's focus on a data structure that naturally embeds a dimensional structure: the `numpy` array.\n",
        "\n",
        "Think of an array like an egg carton—each slot holds one egg, just like each position in an array holds a value.\n",
        "Now, for the purpose of understanding the shape and dimension here, let's be a bit creative. Let's talk egg cartons! Let's consider the weight of the egg as the value we are interested in.\n",
        "\n",
        "Case 1: one-egg-slot thick carton with 5 slots. In this case, we could represent the egg carton as a 1D array. The dimension is 1. The size is 5.\n",
        "\n",
        "Case 2: 2 slots in width, 5 slots in depth. In this case, we could represent the egg carton as a 2D array. One dimension for width, one for depth. The dimension is 2. The size is 10 (total number of elements!). The shape is [2, 5]: a list that indicates the size of each dimension.\n",
        "\n",
        "Case 3: a 3D egg carton! You put 3 of the Case 2 egg cartons on top of each other. In this case, we could represent the egg carton as a 3D array. One dimension for width, one for depth, and one for height. The dimension is 3. The size is 30 (total number of elements). The shape is [2,5,3].\n",
        "\n",
        "Case 4: a 3D egg carton over time! Assume you keep track each day of the weight of the egg. (Did you know they lose weight over time?) This information can stored in a yet new dimension, the fourth! Suppose you do so for a week. In this case, we could represent the egg carton as a 4D array. Size: 210. Shape: [2,5,3,7].\n",
        "\n",
        "And so on.\n",
        "\n",
        "Note here that the dimension of an array doesn't necessarily mean the same as dimension you think of! An array can represent much more than space alone. However so, let's move back to our array, which actually is about space, and check the size, shape, and dimension of the polygon that we created earlier:\n",
        "\n"
      ]
    },
    {
      "cell_type": "code",
      "execution_count": null,
      "metadata": {
        "colab": {
          "base_uri": "https://localhost:8080/"
        },
        "id": "jdiyhP4AL5-G",
        "outputId": "820071e7-dcbf-4f1a-8872-dd0ed3eb0836"
      },
      "outputs": [
        {
          "name": "stdout",
          "output_type": "stream",
          "text": [
            "Size of polygon (2D): 8\n",
            "Shape of polygon (2D): (4, 2)\n",
            "Dimension of polygon (2D): 2\n"
          ]
        }
      ],
      "source": [
        "print(\"Size of polygon (2D):\", poly_array.size)\n",
        "print(\"Shape of polygon (2D):\", poly_array.shape)\n",
        "print(\"Dimension of polygon (2D):\", poly_array.ndim)"
      ]
    },
    {
      "cell_type": "markdown",
      "metadata": {
        "id": "aJY5Cd79FjY3"
      },
      "source": [
        "\n",
        "If we want to move the shape in space by 2 in both $x$ and $y$ we simply modify the shape by literally adding 2 to the whole array through `+`:"
      ]
    },
    {
      "cell_type": "code",
      "execution_count": null,
      "metadata": {
        "colab": {
          "base_uri": "https://localhost:8080/"
        },
        "id": "39VuMRcYmyA5",
        "outputId": "89aebdc7-a118-45ca-9391-c43c48b6208a"
      },
      "outputs": [
        {
          "name": "stdout",
          "output_type": "stream",
          "text": [
            "Translated polygon (2D):\n",
            " [[2.  2. ]\n",
            " [4.2 2. ]\n",
            " [4.2 3.5]\n",
            " [2.  3.5]]\n"
          ]
        }
      ],
      "source": [
        "poly_array_t = poly_array + 2  # translate polygon by 2 in each direction\n",
        "print(\"Translated polygon (2D):\\n\", poly_array_t)"
      ]
    },
    {
      "cell_type": "markdown",
      "metadata": {
        "id": "RWS_VFS5nim-"
      },
      "source": [
        "For scaling you use a scalar multiplication `*`: (or division `/` of the inverse):"
      ]
    },
    {
      "cell_type": "code",
      "execution_count": null,
      "metadata": {
        "colab": {
          "base_uri": "https://localhost:8080/"
        },
        "id": "2sUVR-FlniVu",
        "outputId": "b1c88567-e270-4ca5-c67a-bd9bfe984698"
      },
      "outputs": [
        {
          "name": "stdout",
          "output_type": "stream",
          "text": [
            "Upscaled polygon (2D):\n",
            " [[0.  0. ]\n",
            " [4.4 0. ]\n",
            " [4.4 3. ]\n",
            " [0.  3. ]]\n",
            "\n",
            "Upscaled polygon (2D):\n",
            " [[0.   0.  ]\n",
            " [1.1  0.  ]\n",
            " [1.1  0.75]\n",
            " [0.   0.75]]\n"
          ]
        }
      ],
      "source": [
        "# up-scale\n",
        "poly_array_s = poly_array * 2\n",
        "print(\"Upscaled polygon (2D):\\n\", poly_array_s)\n",
        "\n",
        "# or down-scale\n",
        "poly_array_s = poly_array * 0.5  # or by division:  `poly_array / 2`\n",
        "print(\"\\nUpscaled polygon (2D):\\n\", poly_array_s)"
      ]
    },
    {
      "cell_type": "markdown",
      "metadata": {
        "id": "vf7MeS5tolL7"
      },
      "source": [
        "Sometimes you want to **change $x$ and $y$ independently**, for example adding 2 to $x$ while substracting (`-`) 1 from $y$. (Or similarly: multiply $x$ with 2 and $y$ with -1. Simply create a 2D array of how you would treat $x$ and $y$ and add it (or multiply with) the polygon:"
      ]
    },
    {
      "cell_type": "code",
      "execution_count": null,
      "metadata": {
        "colab": {
          "base_uri": "https://localhost:8080/"
        },
        "id": "oj8F79rhqG0Z",
        "outputId": "ad14422f-1ae6-461d-fefc-829ec354831b"
      },
      "outputs": [
        {
          "name": "stdout",
          "output_type": "stream",
          "text": [
            "Translated polygon; x and y independently (2D):\n",
            " [[ 2.  -1. ]\n",
            " [ 4.2 -1. ]\n",
            " [ 4.2  0.5]\n",
            " [ 2.   0.5]]\n",
            "\n",
            "Scaled polygon; x and y independently (2D):\n",
            " [[ 0.  -0. ]\n",
            " [ 4.4 -0. ]\n",
            " [ 4.4 -1.5]\n",
            " [ 0.  -1.5]]\n"
          ]
        }
      ],
      "source": [
        "change = np.array([2, -1])  # note: you can create the array [2, -1] by inputting a list of [2, -1]\n",
        "poly_array_t = poly_array + change\n",
        "print(\"Translated polygon; x and y independently (2D):\\n\", poly_array_t)\n",
        "\n",
        "poly_array_s = poly_array * change\n",
        "print(\"\\nScaled polygon; x and y independently (2D):\\n\", poly_array_s)"
      ]
    },
    {
      "cell_type": "markdown",
      "metadata": {
        "id": "z_ZhLeh44fBd"
      },
      "source": [
        "Another transformation would be to change the coordinates of one point to different coordinates. For instance, $c_2$ from $(2.2, 0)$ to $(2.5, 0.35)$. You can do this through the concept of **indexing**.\n",
        "\n",
        "For example, to get the first element of the array, defined in our case as $c_1$, you access (\"index\") it at 0, and to get $c_2$ you access the object at 1.  (Python starts counting nearly always at 0: yes, you have to get used to it. It will make sense at some point.)\n",
        "\n",
        "For a sequence `s`, `s[index]` will return the element at the position index:"
      ]
    },
    {
      "cell_type": "code",
      "execution_count": null,
      "metadata": {
        "colab": {
          "base_uri": "https://localhost:8080/"
        },
        "id": "uJgUdlB56i9_",
        "outputId": "06353353-717b-4b10-feb8-5f91ba2d396d"
      },
      "outputs": [
        {
          "name": "stdout",
          "output_type": "stream",
          "text": [
            "c2 (2D):\n",
            " [2.2 0. ]\n"
          ]
        }
      ],
      "source": [
        "c2 = poly_array[1]  # starts counting at 0. So the first element in an object is accessed by [0], and the second by [1], etc.\n",
        "# note: the previously created c2 is replaced by the new c2\n",
        "print(\"c2 (2D):\\n\", c2)"
      ]
    },
    {
      "cell_type": "markdown",
      "metadata": {
        "id": "AVKH9Tf77PC6"
      },
      "source": [
        "To change a part of an object, you first specify the part you want to change and assign it the new part:"
      ]
    },
    {
      "cell_type": "code",
      "execution_count": null,
      "metadata": {
        "colab": {
          "base_uri": "https://localhost:8080/"
        },
        "id": "gkACfWuC7OX1",
        "outputId": "87c0711d-9e4e-4579-e88d-7c4fbd7c6ceb"
      },
      "outputs": [
        {
          "name": "stdout",
          "output_type": "stream",
          "text": [
            "Point change in polygon (2D):\n",
            " [[0.   0.  ]\n",
            " [2.5  0.35]\n",
            " [2.2  1.5 ]\n",
            " [0.   1.5 ]]\n"
          ]
        }
      ],
      "source": [
        "c2_new = np.array([2.5, 0.35])\n",
        "poly_array[1] = c2_new  # note: the previous polygon is *replaced*\n",
        "print(\"Point change in polygon (2D):\\n\", poly_array)"
      ]
    },
    {
      "cell_type": "markdown",
      "metadata": {
        "id": "seSHf-ec8v0w"
      },
      "source": [
        "In a similar manner, you can also add or remove elements from an array.\n",
        "\n",
        "Adding an element can best be done using `np.concatenate((array1, array2, ...))`. To understand how `np.concatenate()` can be used for adding (or removing) elements from a list, we should first explain the concept of **slicing**. To acquire a larger part of the object, you can slice an object, which is very similar to indexing it. Slicing, however, acquires a range of indices.\n",
        "\n",
        "For instance, f you want to access indices 2, 3 and 4, you can use the slice array[2:5] (note that the range's beginning is included, but the range's end is excluded.)\n",
        "\n",
        "If, then, we want to add a new point between $c2$ and $c3$ as $c2.5 = [2.35, 0.95]$, we concatenate the part of the array until $c2$ with $c2.5$ and the part from the array starting at $c3$ to the end, in that respective order:"
      ]
    },
    {
      "cell_type": "code",
      "execution_count": null,
      "metadata": {
        "id": "iUvdaQfZ-2vk"
      },
      "outputs": [],
      "source": [
        "# adds c2.5 = [2.35, 0.95] between c2 and c3\n",
        "c2_5 = np.array([[2.35, 0.95]])  # note the extra brackets to make the dimensions equal between the point and the polygon\n",
        "poly_plus = np.concatenate((poly_array[:2], c2_5, poly_array[2:]))\n",
        "\n",
        "print(\"Polygon w/ extra c2.5 (2D):\\n\", poly_plus)"
      ]
    },
    {
      "cell_type": "markdown",
      "metadata": {
        "id": "S2yIaSb0DSDg"
      },
      "source": [
        "To remove $c3$:"
      ]
    },
    {
      "cell_type": "code",
      "execution_count": null,
      "metadata": {
        "id": "tRjnEMVEDTH3"
      },
      "outputs": [],
      "source": [
        "poly_min = np.concatenate((poly_array[:2], poly_array[3:]))\n",
        "\n",
        "print(\"Polygon w/o c3 (2D):\\n\", poly_min)"
      ]
    },
    {
      "cell_type": "markdown",
      "metadata": {
        "id": "M3ubFsWG8fe5"
      },
      "source": [
        "This set of operations allows you to modify your polygonal shape into completely new ones; by putting some of the above mentioned operations in sequence. This is also where creativity comes in, because they're smarter ways to create / modify shapes.  "
      ]
    },
    {
      "cell_type": "markdown",
      "metadata": {
        "id": "1DCDY_awgmQS"
      },
      "source": [
        "### **Visualizing shapes**\n",
        "\n",
        "Working with floor plan data asks for them to be visualized, for which we will use a library called `matplotlib`, which we already imported in the second code block.\n",
        "We will use the module `pyplot` module, a sub-module of `matplotlib`\n",
        "Sub-modules are accessed by a \".\" (dot) between the two: `matplotlib.pyplot`.\n",
        "For abbreviation we use `plt` (this is common among Python users), and import it as follows:\n"
      ]
    },
    {
      "cell_type": "code",
      "execution_count": null,
      "metadata": {
        "id": "5sUZe4csiRvc"
      },
      "outputs": [],
      "source": [
        "import matplotlib.pyplot as plt"
      ]
    },
    {
      "cell_type": "markdown",
      "metadata": {
        "id": "fImdLyXWiWK8"
      },
      "source": [
        "Within `plt` you cand find the plotting function called `plot`, which is accessed by `plt.plot()`.\n",
        "(Note the nested structure here? `plot` could similarly be accessed from `matploblib.pyplot.plot()`; however, the lines of code can become enormous in this manner.)\n",
        "Let's see what happens if we plot the polygonal shape we created earlier:"
      ]
    },
    {
      "cell_type": "code",
      "execution_count": null,
      "metadata": {
        "colab": {
          "base_uri": "https://localhost:8080/",
          "height": 466
        },
        "id": "vcKgqzbqiVqH",
        "outputId": "f1185f8c-2d64-4b81-ccee-133646304b40"
      },
      "outputs": [
        {
          "data": {
            "text/plain": [
              "[<matplotlib.lines.Line2D at 0x7de6d74f4650>,\n",
              " <matplotlib.lines.Line2D at 0x7de6d7277290>]"
            ]
          },
          "execution_count": 35,
          "metadata": {},
          "output_type": "execute_result"
        },
        {
          "data": {
            "image/png": "[encoded data removed]",
            "text/plain": [
              "<Figure size 640x480 with 1 Axes>"
            ]
          },
          "metadata": {},
          "output_type": "display_data"
        }
      ],
      "source": [
        "# get array (not modified one)\n",
        "poly_array = np.array(poly)\n",
        "\n",
        "plt.plot(poly_array)  # create a plot"
      ]
    },
    {
      "cell_type": "markdown",
      "metadata": {
        "id": "1SXYrTxCjUNe"
      },
      "source": [
        "This is not what we want; what happend here?\n",
        "It created two lines that show how $x$ and $y$ separately change (y-axis here) over the sequence of the polygon (x-axis here).\n",
        "Note that \"time\" is indexed by default as 0,1, 2, etc.\n",
        "\n",
        "If you want to plot the actual figure behind `s` you need to provide $x$ and $y$ separately as `plot(x, y)`. We know how to do this! Namely, by **slicing**.\n",
        "\n",
        "Note here, that this is how `plt.plot()` works:\n",
        "- If you give it a list of lists (above) as it's only argument, it will think you provide is different *lines* to be plotted;\n",
        "- If you give it two lists separately (below: as $x$ and $y$, separated by a comma), it will think the first are the line's $x$ coordinates and the second are the line's $y$ coordinates;\n",
        "- Hence, in our case we need the second."
      ]
    },
    {
      "cell_type": "code",
      "execution_count": null,
      "metadata": {
        "colab": {
          "base_uri": "https://localhost:8080/",
          "height": 448
        },
        "id": "8IV7xHGeKlv2",
        "outputId": "a834251f-7105-49cb-d02e-58ec5777f101"
      },
      "outputs": [
        {
          "data": {
            "text/plain": [
              "[<matplotlib.lines.Line2D at 0x7de6d73036d0>]"
            ]
          },
          "execution_count": 36,
          "metadata": {},
          "output_type": "execute_result"
        },
        {
          "data": {
            "image/png": "[encoded data removed]",
            "text/plain": [
              "<Figure size 640x480 with 1 Axes>"
            ]
          },
          "metadata": {},
          "output_type": "display_data"
        }
      ],
      "source": [
        "poly_x, poly_y = poly_array[:, 0], poly_array[:, 1]  # the \"comma\" is used to discriminate between the 1st column (point index) and 2nd column (whether x or y)\n",
        "plt.plot(poly_x, poly_y)  # create a plot"
      ]
    },
    {
      "cell_type": "markdown",
      "metadata": {
        "id": "kRTiTuo9LY-O"
      },
      "source": [
        "But the polygon is not closed. Why? Because we did not say to draw a line between point 4 and 1. Simply do so by adding $c1$ to the end of the array:"
      ]
    },
    {
      "cell_type": "code",
      "execution_count": null,
      "metadata": {
        "colab": {
          "base_uri": "https://localhost:8080/",
          "height": 448
        },
        "id": "KpQWTDutLnZ2",
        "outputId": "a5ffa465-c23b-4109-f802-f4a1457f2718"
      },
      "outputs": [
        {
          "data": {
            "text/plain": [
              "[<matplotlib.lines.Line2D at 0x7de6d5217010>]"
            ]
          },
          "execution_count": 38,
          "metadata": {},
          "output_type": "execute_result"
        },
        {
          "data": {
            "image/png": "[encoded data removed]",
            "text/plain": [
              "<Figure size 640x480 with 1 Axes>"
            ]
          },
          "metadata": {},
          "output_type": "display_data"
        }
      ],
      "source": [
        "poly = np.concatenate((poly, poly[:1]))  # while you could also use [0], [:1] returns the same number of dimensions as the original object\n",
        "poly_x, poly_y = poly[:, 0], poly[:, 1]\n",
        "plt.plot(poly_x, poly_y)  # create a plot"
      ]
    },
    {
      "cell_type": "markdown",
      "metadata": {
        "id": "FvYAJQ45NASc"
      },
      "source": [
        "Let's now start modifying the shape a little bit:\n",
        "\n",
        "1. translate it by 2 in both $x$ and $y$\n",
        "2. scale by -3\n",
        "3. scale by 0.4 in $x$ and 1.5 in $y$\n",
        "4. add c1.5 and c2.5 to make 6-sided polygon, and scale by 6"
      ]
    },
    {
      "cell_type": "code",
      "execution_count": null,
      "metadata": {
        "colab": {
          "base_uri": "https://localhost:8080/",
          "height": 448
        },
        "id": "YO4z8zeANeC8",
        "outputId": "0e27a5fb-c8dd-4540-ca8b-920b4cc9162a"
      },
      "outputs": [
        {
          "data": {
            "text/plain": [
              "[<matplotlib.lines.Line2D at 0x7de6d50ade50>]"
            ]
          },
          "execution_count": 39,
          "metadata": {},
          "output_type": "execute_result"
        },
        {
          "data": {
            "image/png": "[encoded data removed]",
            "text/plain": [
              "<Figure size 640x480 with 1 Axes>"
            ]
          },
          "metadata": {},
          "output_type": "display_data"
        }
      ],
      "source": [
        "poly1 = poly + 2\n",
        "poly2 = poly * -3\n",
        "poly3 = poly * np.array([0.4, 1.5])\n",
        "poly4 = np.concatenate((poly[:1], np.array([[1, 0.5]]), poly[1:3], np.array([[1, 1]]), poly[3:])) * 6\n",
        "\n",
        "poly_x, poly_y = poly[:, 0], poly[:, 1]\n",
        "plt.plot(poly_x, poly_y)  # create a plot\n",
        "\n",
        "poly_x, poly_y = poly1[:, 0], poly1[:, 1]\n",
        "plt.plot(poly_x, poly_y)  # create a plot\n",
        "\n",
        "poly_x, poly_y = poly2[:, 0], poly2[:, 1]\n",
        "plt.plot(poly_x, poly_y)  # create a plot\n",
        "\n",
        "poly_x, poly_y = poly3[:, 0], poly3[:, 1]\n",
        "plt.plot(poly_x, poly_y)  # create a plot\n",
        "\n",
        "poly_x, poly_y = poly4[:, 0], poly4[:, 1]\n",
        "plt.plot(poly_x, poly_y)  # create a plot"
      ]
    },
    {
      "cell_type": "markdown",
      "metadata": {
        "id": "Ypd5Eh6eE2FC"
      },
      "source": [
        "Additionally, you might want to change the 'looks' of the plot (change size, change colors, get rid of the axes, etc.). Some examples:\n",
        "- to get rid fo the axis you use `plt.axis('off')`;\n",
        "- to make the figure bigger you set the figure size larger / ratio by `plt.figure(figsize=(20, 10))` (you need to do this before anything else)\n",
        "- specify the linestyle / width /color etc. by changing the default arguments in the `plt.plot()` function as `plt.plot(x, y, linewidth=2, linestyle=\".-\", color=\"black\")`.\n",
        "\n",
        "Many other things can be adjusted as well (see: [`matplotlib.pyplot.plot` documentation](https://matplotlib.org/stable/api/_as_gen/matplotlib.pyplot.plot.html).)\n",
        "\n",
        "Plotting distinct shapes in different ways can be important.\n",
        "For example to indicate where a door is (e.g., by linetype), what type of room it is (e.g., by coloring)."
      ]
    },
    {
      "cell_type": "code",
      "execution_count": null,
      "metadata": {
        "colab": {
          "base_uri": "https://localhost:8080/",
          "height": 583
        },
        "id": "A3gLbSQFgmQS",
        "outputId": "c44970a8-4e40-496b-b640-f8ecb35e3405"
      },
      "outputs": [
        {
          "data": {
            "text/plain": [
              "[<matplotlib.patches.Polygon at 0x7de6d50cf5d0>]"
            ]
          },
          "execution_count": 40,
          "metadata": {},
          "output_type": "execute_result"
        },
        {
          "data": {
            "image/png": "[encoded data removed]",
            "text/plain": [
              "<Figure size 1000x1000 with 1 Axes>"
            ]
          },
          "metadata": {},
          "output_type": "display_data"
        }
      ],
      "source": [
        "plt.figure(figsize=(10, 10))  # try changing the values\n",
        "plt.axis('off')  # cleaner plots without axes\n",
        "plt.gca().set_aspect('equal')  # make sure to set the aspect ratio to true (gca: get current axes)\n",
        "\n",
        "poly_x, poly_y = poly[:, 0], poly[:, 1]\n",
        "plt.plot(poly_x, poly_y, linewidth=5)  # create a plot with large linewidth\n",
        "\n",
        "poly_x, poly_y = poly1[:, 0], poly1[:, 1]\n",
        "plt.plot(poly_x, poly_y, linestyle='-.')  # create a plot\n",
        "\n",
        "poly_x, poly_y = poly2[:, 0], poly2[:, 1]\n",
        "plt.plot(poly_x, poly_y, marker='o', markersize=20)  # create a plot\n",
        "\n",
        "# use fill() instead of plot() to plot regions instead of outlines\n",
        "poly_x, poly_y = poly3[:, 0], poly3[:, 1]\n",
        "plt.fill(poly_x, poly_y, color='purple')  # create a plot\n",
        "\n",
        "poly_x, poly_y = poly4[:, 0], poly4[:, 1]\n",
        "plt.fill(poly_x, poly_y, color='yellow', alpha=0.25)  # create full but transparant (lower alpha = more transparant)"
      ]
    },
    {
      "cell_type": "markdown",
      "metadata": {
        "id": "UGs8OGysgnPJ"
      },
      "source": [
        "<a name=\"t3\"></a>\n",
        "## **Loops and functions**\n",
        "\n",
        "When you work with lots of data, you need to be smart. To some extent, Similar actions are repeated many times. To repeat an action multiple times, we introduce the concept of loops. To organize an action that will be reused multiple times, we introduce the concept of functions"
      ]
    },
    {
      "cell_type": "markdown",
      "metadata": {
        "id": "EBpQJWvJgnPJ"
      },
      "source": [
        "### *What about **100 shapes**?*\n",
        "\n",
        "In the examples above you created a handful of shapes. You can imagine that creating 100 shapes is, besides time-consuming, completely cluttering your code. Moreover, if one shape is incorrect, it might be *very* difficult to find where it actually went wrong.\n",
        "\n",
        "One of the key elements to help you with these types of issues, are **for loops** that can be used to iterate over a sequence. For example if you want to print your name 20 times, you can use the following code.\n"
      ]
    },
    {
      "cell_type": "code",
      "execution_count": null,
      "metadata": {
        "colab": {
          "base_uri": "https://localhost:8080/"
        },
        "id": "dobi_o4kgnPK",
        "outputId": "8794bb25-5b67-46a2-fa9f-1aecaf5c23d8"
      },
      "outputs": [
        {
          "name": "stdout",
          "output_type": "stream",
          "text": [
            "0 \t Casper\n",
            "1 \t Casper\n",
            "2 \t Casper\n",
            "3 \t Casper\n",
            "4 \t Casper\n",
            "5 \t Casper\n",
            "6 \t Casper\n",
            "7 \t Casper\n",
            "8 \t Casper\n",
            "9 \t Casper\n",
            "10 \t Casper\n",
            "11 \t Casper\n",
            "12 \t Casper\n",
            "13 \t Casper\n",
            "14 \t Casper\n",
            "15 \t Casper\n",
            "16 \t Casper\n",
            "17 \t Casper\n",
            "18 \t Casper\n",
            "19 \t Casper\n"
          ]
        }
      ],
      "source": [
        "name = \"Casper\"\n",
        "\n",
        "for i in range(20):  # range is a function that returns a sequence of numbers, starting from 0, steps of 1, ends by 20 in this case\n",
        "    print(i,\"\\t\", name)  # \\t is syntax for a tab"
      ]
    },
    {
      "cell_type": "markdown",
      "metadata": {
        "id": "aWTi7gd6Kugp"
      },
      "source": [
        "For the same purpose, we can generate a sequence of shapes:\n",
        "\n",
        "- Create empty list;\n",
        "- Iterate *n* times and append the shape to the list.\n",
        "\n",
        "Appending an item (names as `item1`) to a list (named as `list1`) can be done by using `list1.append(item1)`.\n",
        "Officially, this type of operation (which is done on-top-of `list1`) is called a method.\n",
        "Each type of objects has a set of methods (see [here](https://www.w3schools.com/python/python_ref_list.asp) for the methods on lists)."
      ]
    },
    {
      "cell_type": "code",
      "execution_count": null,
      "metadata": {
        "id": "VbSQgGNwLP-r"
      },
      "outputs": [],
      "source": [
        "polygons = []  # create empty list\n",
        "n = 100  # set number of iterations\n",
        "for i in range(n): # key word: for, end with \":\"\n",
        "    # everything within the for loop should be indented\n",
        "    polygons.append(poly1)"
      ]
    },
    {
      "cell_type": "markdown",
      "metadata": {
        "id": "xG4riowALhw8"
      },
      "source": [
        "Let's verify the length of the list. For this you can use the `len()` function, a native-to-python method for lists."
      ]
    },
    {
      "cell_type": "code",
      "execution_count": null,
      "metadata": {
        "colab": {
          "base_uri": "https://localhost:8080/"
        },
        "id": "jO6TLhtnLlI0",
        "outputId": "e596159d-9756-46fa-fa74-dfc8b8d034c0"
      },
      "outputs": [
        {
          "name": "stdout",
          "output_type": "stream",
          "text": [
            "Length of the list:\t 100\n"
          ]
        }
      ],
      "source": [
        "print(\"Length of the list:\\t\", len(polygons))"
      ]
    },
    {
      "cell_type": "markdown",
      "metadata": {
        "id": "uV53rvXPMH5c"
      },
      "source": [
        "Let's look at some of the polygons. Remember how to do that? Yes: by indexing ! Let's do so for 1, 5, and 10, 34, 88. We can actually use a loop for that!"
      ]
    },
    {
      "cell_type": "code",
      "execution_count": null,
      "metadata": {
        "id": "H2YvCqmuMR0F"
      },
      "outputs": [],
      "source": [
        "for i in [1,5,10, 34, 88]:\n",
        "    # There is a nice way to do formatting in print by putting \"f\" in front of the string;\n",
        "    # and using \"{}\" to insert Python variables.\n",
        "    print(f\"Polygon {i}:\\t{polygons[i]}\")"
      ]
    },
    {
      "cell_type": "markdown",
      "metadata": {
        "id": "WhEHhKrxL7zN"
      },
      "source": [
        "But ... what is the use of this if all the polygons are the same. Nothing indeed! Here comes the magic. Let's not do that indeed. Let's create a list of polygons that grow in size and slightly move as well. Try to figure out yourself how the loop below works:"
      ]
    },
    {
      "cell_type": "code",
      "execution_count": null,
      "metadata": {
        "id": "3pyULcThNgt0"
      },
      "outputs": [],
      "source": [
        "polygons = []\n",
        "n = 20\n",
        "for i in range(n):\n",
        "    poly = poly1 * i + i\n",
        "    polygons.append(poly)"
      ]
    },
    {
      "cell_type": "markdown",
      "metadata": {
        "id": "_ScMw9poNuzj"
      },
      "source": [
        "Now plotting comes in handy. Let's plot all polygons. This, again, we can do using a for loop:"
      ]
    },
    {
      "cell_type": "code",
      "execution_count": null,
      "metadata": {
        "colab": {
          "base_uri": "https://localhost:8080/",
          "height": 707
        },
        "id": "8Injzc03N4ms",
        "outputId": "6eaeb3f2-23a5-47e1-e830-32aa3d8c8157"
      },
      "outputs": [
        {
          "data": {
            "image/png": "[encoded data removed]",
            "text/plain": [
              "<Figure size 1000x1000 with 1 Axes>"
            ]
          },
          "metadata": {},
          "output_type": "display_data"
        }
      ],
      "source": [
        "plt.figure(figsize=(10, 10))  # try changing the values\n",
        "plt.axis('off')  # cleaner plots without axes\n",
        "plt.gca().set_aspect('equal')  # make sure to set the aspect ratio to true (gca: get current axes)\n",
        "\n",
        "for poly in polygons: # as simple as that !\n",
        "    poly_x, poly_y = poly[:, 0], poly[:, 1]  # extract coordinates\n",
        "    plt.plot(poly_x, poly_y)  # plot"
      ]
    },
    {
      "cell_type": "markdown",
      "metadata": {
        "id": "JUJVg1cgOZTy"
      },
      "source": [
        "You can make art ! With just a couple lines of code. (I am sure that this will take you less time than in any non-programming software)\n",
        "\n",
        "You can really do anything (**no need to understand the specifics**):"
      ]
    },
    {
      "cell_type": "code",
      "execution_count": null,
      "metadata": {
        "colab": {
          "base_uri": "https://localhost:8080/",
          "height": 807
        },
        "id": "84f3EFZTO123",
        "outputId": "e4c57cbe-78ad-4ad7-d6d4-f8a82c8a99fa"
      },
      "outputs": [
        {
          "data": {
            "image/png": "[encoded data removed]",
            "text/plain": [
              "<Figure size 1000x1000 with 1 Axes>"
            ]
          },
          "metadata": {},
          "output_type": "display_data"
        }
      ],
      "source": [
        "polygons = []\n",
        "n = 100\n",
        "for i in range(n):\n",
        "    poly = poly1 + i * np.array([np.cos(i), np.sin(i)])  # np.cos(i) gives back cosinus of i; np.sin(i) the sinus of i\n",
        "    polygons.append(poly)\n",
        "\n",
        "plt.figure(figsize=(10, 10))  # try changing the values\n",
        "plt.axis('off')  # cleaner plots without axes\n",
        "plt.gca().set_aspect('equal')  # make sure to set the aspect ratio to true (gca: get current axes)\n",
        "\n",
        "for poly in polygons: # as simple as that !\n",
        "    poly_x, poly_y = poly[:, 0], poly[:, 1]  # extract coordinates\n",
        "    plt.plot(poly_x, poly_y)  # plot"
      ]
    },
    {
      "cell_type": "markdown",
      "metadata": {
        "id": "PeK5ZoNegnPK"
      },
      "source": [
        "### **A rectangle!**\n",
        "\n",
        "So far, we have created shapes by 1) choosing and manipulating the corner and points and 2) doing so quite manually (if we disregard the loops for now). However, in many cases the shapes are constrained to have a particular form, for example a rectangle. Many spaces in buildings are, for instance, rectangles.\n",
        "\n",
        "A rectangle (when axis-aligned) is defined by 3 characteristics: width $w$, height $h$, and center point $m = [m_x, m_y]$. The corner points of the polygons can be computed based on these characteristics as such:\n",
        "\n",
        "$$c_1 = [m_x + \\frac{w}{2}, m_y + \\frac{h}{2}]$$\n",
        "$$c_2 = [m_x - \\frac{w}{2}, m_y + \\frac{h}{2}]$$\n",
        "$$c_3 = [m_x - \\frac{w}{2}, m_y - \\frac{h}{2}]$$\n",
        "$$c_4 = [m_x + \\frac{w}{2}, m_y - \\frac{h}{2}]$$\n",
        "\n",
        "To not bother ourselves to do these calculations over and over again, we will create a function, called `rectangle()`, that takes as input $w$, $h$, and $m$, and computes the polygon directly. It is very easy to set up a function:\n",
        "\n",
        "<center>\n",
        "<img src=\"https://media.geeksforgeeks.org/wp-content/uploads/20220721172423/51.png\" alt=\"floor-layout\" class=\"center\" width=\"600px\">\n",
        "\n",
        "**A function in Python**.\n",
        "\n",
        "</center>\n",
        "\n",
        "\n",
        "Now make your own function:"
      ]
    },
    {
      "cell_type": "code",
      "execution_count": null,
      "metadata": {
        "id": "7ZKphOadgnPK"
      },
      "outputs": [],
      "source": [
        "def get_rectangle(w, h, m=[0,0]):  # you can define a \"default\" by assigning the argument a pre-defined value\n",
        "    \"\"\"\n",
        "    Returns a rectangle as a polygon, as a 2D numpy array\n",
        "    \"\"\"\n",
        "\n",
        "    # extract center x and center y\n",
        "    m1, m2 = m[0], m[1]\n",
        "\n",
        "    # develop corner points as tuples\n",
        "    c1 = ([m1+w/2, m2+h/2])\n",
        "    c2 = ([m1-w/2, m2+h/2])\n",
        "    c3 = ([m1-w/2, m2-h/2])\n",
        "    c4 = ([m1+w/2, m2-h/2])\n",
        "\n",
        "    # create polygon\n",
        "    rect = np.array([c1, c2, c3, c4, c1])  # don't forget to add the first element again at the end of the array.\n",
        "\n",
        "    # return the poly\n",
        "    return rect"
      ]
    },
    {
      "cell_type": "code",
      "execution_count": null,
      "metadata": {
        "id": "ugBeeR75VpO0"
      },
      "outputs": [],
      "source": [
        "w, h = 3, 4\n",
        "m = [2, 2]\n",
        "\n",
        "rect = get_rectangle(w,h,m)\n",
        "print(rect)"
      ]
    },
    {
      "cell_type": "markdown",
      "metadata": {
        "id": "3OHSl_DMWgT4"
      },
      "source": [
        "Now that we are designing functions, let's create a plotting function for polygons specifically:"
      ]
    },
    {
      "cell_type": "code",
      "execution_count": null,
      "metadata": {
        "id": "DbmpS1A5Wm1g"
      },
      "outputs": [],
      "source": [
        "def plot_polygon(ax, poly, **kwargs):  # **kwargs can be used to pass arguments to another function that you use inside; in this case for plotting make up\n",
        "    poly_x, poly_y = poly[:, 0], poly[:, 1]\n",
        "    ax.fill(poly_x, poly_y, **kwargs)  # create a plot\n",
        "    # note that this function does not have a return, because we don't need an output, we want a plot"
      ]
    },
    {
      "cell_type": "code",
      "execution_count": null,
      "metadata": {
        "id": "691O-KEDXh7k"
      },
      "outputs": [],
      "source": [
        "# ax = axis\n",
        "_, ax = plt.subplots(1, 1, figsize=(10, 10))  # see: https://matplotlib.org/stable/api/_as_gen/matplotlib.pyplot.subplots.html\n",
        "ax.set_aspect('equal')\n",
        "plot_polygon(ax, rect)"
      ]
    },
    {
      "cell_type": "markdown",
      "metadata": {
        "id": "BLDocegPX1-i"
      },
      "source": [
        "We can now play with the more intuitive characteristics instead of the corner points. Let's create some art again:"
      ]
    },
    {
      "cell_type": "code",
      "execution_count": null,
      "metadata": {
        "id": "0nXYQr_wX9It"
      },
      "outputs": [],
      "source": [
        "rectangles = []\n",
        "n = 35\n",
        "for i in range(n):\n",
        "    # change ratio of width and heigh gradually\n",
        "    rect = get_rectangle(i+1, n/(i+1))  # why i+1 ?\n",
        "    rectangles.append(rect)\n",
        "\n",
        "_, ax = plt.subplots(1, 1, figsize=(10, 10))  # see: https://matplotlib.org/stable/api/_as_gen/matplotlib.pyplot.subplots.html\n",
        "ax.axis('off')\n",
        "ax.set_aspect('equal')\n",
        "for rect in rectangles:\n",
        "    plot_polygon(ax, rect, fc='blue', ec='red', alpha=0.1)  # ax.fill (see plot_polygon()) has arguments 'fc' = facecolor (so: fill color), 'ec': edge color"
      ]
    },
    {
      "cell_type": "markdown",
      "metadata": {
        "id": "OXNleLaaE98i"
      },
      "source": [
        "### **Structuring a layout**\n",
        "\n",
        "A floor layout consists of multiple spaces.\n",
        "These spaces can have multiple attributes, such as its \"shape\" defined for example by an array, the color of it (which could represent the room type) for example by string like `\"red\"`, part of which apartment or which floor, etc.\n",
        "\n",
        "It is very important that buildings, and its floor plans and, in turn, the elements that compose the floor plans are both consistently and logically packaged.\n",
        "Why?\n",
        "Because want to be able to extract, add, and modify information seamlessly.\n",
        "This will allow you to analyze large amounts of data much easier.\n",
        "\n",
        "For now, let's focus just on a single floor layout.\n",
        "Let's consider a floor layout as a set of layout elements (the spaces) with the following attributes:\n",
        "\n",
        "- name (as a `string`)\n",
        "- shape (as a `np.array()`)\n",
        "- color (as a `string`)\n",
        "\n",
        "There are many ways to effectively represent a full floor layout.\n",
        "One in particular is very fitting: the *dictionary* (Python native data structure).\n",
        "**A dictionary is a collection of items that allows us to store data in *key-value pairs***.\n",
        "In our case, the name of the space can be the key, and the value can be a list of two elements: the shape (first element) and color (second element).\n",
        "You can add, remove, and modify key-value pairs. Hence, similar to a list, you can sequentially develop it.\n",
        "\n",
        "<center>\n",
        "<img src=\"https://drive.google.com/uc?export=view&id=1YC9ItCAhhRR55Pe9lpg7o0toH5v5zXF-\" alt=\"floor-layout\" class=\"center\" width=\"400px\">\n",
        "</center>\n",
        "\n",
        "A dictionary is created by curly brackets `{}` and each key-value pair is separated by a colon `:`. We define the above two-room apartment as a dictionary as such:"
      ]
    },
    {
      "cell_type": "code",
      "execution_count": null,
      "metadata": {
        "id": "ZafaPy2DzKMM"
      },
      "outputs": [],
      "source": [
        "# get attriburtes\n",
        "# 1) names\n",
        "name1 = \"room 1\"\n",
        "name2 = \"room 2\"\n",
        "# 2) polygons\n",
        "h, w = 2, 2\n",
        "m1 = [1, 2]\n",
        "m2 = [3, 2]\n",
        "rect1 = get_rectangle(w, h, m1)\n",
        "rect2 = get_rectangle(w, h, m2)\n",
        "# 3) colors\n",
        "color1 = \"red\"\n",
        "color2 = \"blue\"\n",
        "\n",
        "# develop floor layout as dictionary\n",
        "floor = {\n",
        "    name1: [rect1, color1],\n",
        "    name2: [rect2, color2]\n",
        "}\n",
        "\n",
        "print(\"Floor plan:\\n\", floor)\n",
        "print(\"\\nRoom 1:\\n\", floor[name1])\n",
        "print(\"\\nShape room 1:\\n\", floor[name1][0])  # double index !\n",
        "print(\"\\nColor room 1:\\n\", floor[name1][1])"
      ]
    },
    {
      "cell_type": "markdown",
      "metadata": {
        "id": "SWUYdc5RP2XL"
      },
      "source": [
        "Plot the floor plan by looping through the dictionary:"
      ]
    },
    {
      "cell_type": "code",
      "execution_count": null,
      "metadata": {
        "id": "dOPr4UyPP1yU"
      },
      "outputs": [],
      "source": [
        "_, ax = plt.subplots(1, 1, figsize=(10, 10))  # see: https://matplotlib.org/stable/api/_as_gen/matplotlib.pyplot.subplots.html\n",
        "ax.axis('off')\n",
        "ax.set_aspect('equal')\n",
        "for name, [poly, color] in floor.items():  # use the method .items() which outputs a sequence of key-value pairs\n",
        "    plot_polygon(ax, poly, fc=color, ec='black', alpha=0.5)"
      ]
    },
    {
      "cell_type": "markdown",
      "metadata": {
        "id": "URw54rDbREZE"
      },
      "source": [
        "<a name=\"a\"></a>\n",
        "## A1 - **Create own floor layout**"
      ]
    },
    {
      "cell_type": "markdown",
      "metadata": {
        "id": "jI6ggHItcD4m"
      },
      "source": [
        "There are two options (A1A and A1B) for this assignment:\n",
        "\n",
        "**Replicate the set of layouts given in the figure below using Python code** (A1A).\n",
        "\n",
        "<center>\n",
        "<img src=\"https://drive.google.com/uc?export=view&id=1ONifquUdCzzxU_pMAM5VXt8hGlr24i4H\" alt=\"floor-layout\" class=\"center\" width=\"800px\">\n",
        "</center>\n",
        "\n",
        "Alternatively, **you can create Python code to replicate a floor layout of your own choice**, such as your own house or your favorite building (A1B).\n",
        "\n",
        "For both A1A and A1B, make effective use of for loops and functions. You maybe duplicate and use all code and functions provided in the assignment. Plot your results in one Python figure. Besides the coloring, feel free to use your own figure settings. Only use `numpy` and `matplotplib`: other libraries are not allowed.\n",
        "\n",
        "In case of A1B, the rooms / spaces should have names according to their function (e.g. \"bedroom\", \"kitchen\") and the coloring should align with that function (i.e. each bedroom should be green).\n",
        "You can determine your own coloring scheme of course.\n",
        "\n"
      ]
    },
    {
      "cell_type": "markdown",
      "metadata": {
        "id": "E4_-2YiIcK1u"
      },
      "source": [
        "### **Evaluation**</br>\n",
        "- **Code quality**\n",
        "    - 1p: function for generating the room shapes\n",
        "    - 1p: use at least one for loop to exploit one of the floor layout's symmetries\n",
        "    - 1p: well-commented code, and text-blocks inbetween\n",
        "    - 1p: a maximum of 30 lines of code for replicating the layouts. 50 lines in the case of A1B.\n",
        "- **Data structure**\n",
        "    - 2p: the floor layout is a dictionary w/ keys corresponding to the room names given in the image (1), and w/ values being its properties: shape and color (2)\n",
        "- **Plotting**\n",
        "    - 1p: plot the results.\n",
        "- **Result**\n",
        "    - 1p: properly named notebook with code and text cells (see \"Output\" below)\n",
        "    - 1p: proportions are correct. In the case of A1B, we cannot check this. You will get the points for free in this case.\n",
        "    - 1p: coloring is correct. In the case of A1B, this means that coloring should align with the functions (i.e. each bedroom should be green). You can determine your own coloring scheme.\n",
        "\n",
        "Your grade is equivalent to the amount of points."
      ]
    },
    {
      "cell_type": "markdown",
      "metadata": {
        "id": "PPkqM0JGcLDO"
      },
      "source": [
        "### **Output**</br>\n",
        "**Write your findings and interpretation in a new notebook** and name it **\"A1 Code Canvas - \\<name\\>.ipynb\"**."
      ]
    }
  ],
  "metadata": {
    "colab": {
      "provenance": []
    },
    "kernelspec": {
      "display_name": "Python 3",
      "name": "python3"
    },
    "language_info": {
      "name": "python"
    }
  },
  "nbformat": 4,
  "nbformat_minor": 0
}
