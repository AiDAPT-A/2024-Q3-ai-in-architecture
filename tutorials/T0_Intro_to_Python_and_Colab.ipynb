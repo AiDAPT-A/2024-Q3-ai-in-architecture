{
  "cells": [
    {
      "cell_type": "markdown",
      "metadata": {},
      "source": [
        "<a href=\"https://colab.research.google.com/github/AiDAPT-A/2024-Q3-ai-in-architecture/blob/main/tutorials/T0_Intro_to_Python_and_Colab.ipynb\" target=\"_parent\"><img src=\"https://colab.research.google.com/assets/colab-badge.svg\" alt=\"Open In Colab\"/></a>"
      ]
    },
    {
      "cell_type": "markdown",
      "metadata": {
        "id": "Nm5iaNjad3pE"
      },
      "source": [
        "## **Introduction to Python in Colab**\n",
        "\n",
        "This is a brief introduction to Python programming in Google Colab."
      ]
    },
    {
      "cell_type": "markdown",
      "metadata": {
        "id": "3wkD0whwd_Eu"
      },
      "source": [
        "### **Colab**\n",
        "\n",
        "Google Collaboratory, or in short Colab, is a *free-to-use cloud service* hosted by Google. (Be aware that not everything is free, obviously.) Colab has the following features:\n",
        "\n",
        "- **Save copy in Drive** by navigating to /File \"Save a copy in Drive\".\n",
        "\n",
        "- **Colab notebooks.**\n",
        "The main feature of Colab is the platform for writing and executing Python code. In fact, you are doing so right now. This *online notebook*, mainly inspired by the [Jupyter Notebook Environment](https://jupyter.org/), seamlessly integrates text (for explanation and structure) and code (for the application). The **integration of text and code** allows for a fast understanding of programming, as it can be guided by text and visuals, and helps also in the development of your code, because of the chronological structure of the cells - the distinct code blocks - that you can run separately. **Create new notebook** by navigating to /File \"Create new notebook\"\n",
        "\n",
        "- **Cells.**\n",
        "A notebook is a list of cells that either contain text (text cells; like this one) or executable code and its output (code cells; colored in gray). Text cells can contain images, Latex, HTML, etc. You can manually add code cells by clicking the **+CODE** and **+TEXT** buttons when you hover between cells.\n",
        "\n",
        "- **Link to Google Drive.**\n",
        "A nice feature of Colab is that you can easily share your code, save it, and, most importantly, that Colab can be coupled to your Google Drive for storing and accessing the data in your own (or shared) folders.\n",
        "\n",
        "- **GPU access.**\n",
        "Your code runs on a different machine (computer), in a virtual environment that you can set yourself up (more about that later). These machines have access to great hardware accelerators, in the form of **graphical processing units (GPUs)**. GPUs can execute code, especially computations related to data science and machine learning, efficiently and much faster than on a central processing unit (CPU). (Why is beyond the scope here. Interested nonetheless? Check [this](https://blogs.nvidia.com/blog/whats-the-difference-between-a-cpu-and-a-gpu/).) For running and testing your code on large datasets and big machine learning models (which you will do in later assignments), GPUs are often crucial, because GPUs allow for fast training and code prototyping. The type of hardware accelerators can be changed under \"Runtime/Change runtime\" type in the navigation bar on the top.\n",
        "\n",
        "- **Short keys for running code.**\n",
        "Code can be executed by your command. You can hit **\"Command/Ctrl+Enter\"** or **\"Shift+Enter\"** to run a code block - or simply press the run bottun in the code cell itself. Test for yourself the difference between \"Command/Ctrl\" and \"Shift\".\n",
        "\n",
        "Let's run something:\n",
        "\n"
      ]
    },
    {
      "cell_type": "code",
      "execution_count": null,
      "metadata": {
        "colab": {
          "base_uri": "https://localhost:8080/"
        },
        "id": "rA4Jl1p2a1EX",
        "outputId": "6ad9c8c5-5526-43e6-9aa3-77caf4925ea4"
      },
      "outputs": [
        {
          "name": "stdout",
          "output_type": "stream",
          "text": [
            "Like design, AI is awesome\n"
          ]
        }
      ],
      "source": [
        "print( \"Like design, AI is awesome\")"
      ]
    },
    {
      "cell_type": "markdown",
      "metadata": {
        "id": "Wr-4BRoVBpmw"
      },
      "source": [
        "Don't bother trying to understand yet what happened, but you made the computer say `Like design, AI is awesome`. The output - if any - of executing a code cell is always printed just below the code cell itself."
      ]
    },
    {
      "cell_type": "markdown",
      "metadata": {
        "id": "S3-3L0-ckiCp"
      },
      "source": [
        "### **\"Hello World!\"**\n",
        "\n",
        "Python is a *programming* (i.a.w, coding) language.\n",
        "Coding is the process of writing instructions to a computer that it can subsequently execute when you ask it to interpet it.\n",
        "Always, you first write the (lines of) code that you want to execute.\n",
        "Next you run that code: the computer reads and interprets the code.\n",
        "\n",
        "If you have some programming skills already, feel free to skim over the first couple of code blocks.\n",
        "\n",
        "Note that this part of the tutorial might be a bit boring; however, we need to go through some of the essentials.\n",
        "\n",
        "Let's run your first code block by 1) selecting the code block below and 2) pressing SHIFT+ENTER or in the tab above click the '$\\blacktriangleright$' symbol\n",
        "\n"
      ]
    },
    {
      "cell_type": "code",
      "execution_count": null,
      "metadata": {
        "colab": {
          "base_uri": "https://localhost:8080/"
        },
        "id": "pKiogDhWlD7l",
        "outputId": "4343c175-2368-4eab-d4ea-670067ec9e54"
      },
      "outputs": [
        {
          "name": "stdout",
          "output_type": "stream",
          "text": [
            "Hello world, you're beautiful\n"
          ]
        }
      ],
      "source": [
        "text = \"Hello world, you're beautiful\"\n",
        "print(text)"
      ]
    },
    {
      "cell_type": "markdown",
      "metadata": {
        "id": "0-671hkdlaHI"
      },
      "source": [
        "As you can see, the computer is talking back.\n",
        "In this case, by outputing the text `Hello world, you're beautiful`.\n",
        "The code block in which you write is called the *cell input*, and the one that talks back the *cell output*.\n",
        "\n",
        "Let's start learning to actually learn coding now!\n",
        "First of all, the computer reads the code line by line, so let's start on top.\n",
        "\n",
        "In the first line of code, we created a variable which we named `text` as well as an object `\"Hello world, you're beautiful\"`.\n",
        "`\"Hello world, you're beautiful\"` is the actual piece of data and, hence, that which is stored in your computer's memory.\n",
        "`text` is a reference to that object.\n",
        "Whenever you use `text`, Python checks what it references to in memory and finds `\"Hello world, you're beautiful\"`.\n",
        "\n",
        "There are many object types.\n",
        "Here, we used the object type *string*.\n",
        "A string is an object type used to represent text.\n",
        "It is a sequence of characters; in this case the sequence \"H\", \"e\", \"l\", \"l\", \"o\", \" \", etc.\n",
        "Python knows it is a string because it is enclosed in quotes (`\"a string\"` or `'a string'`).\n",
        "Strings are among the most widely used object types for handling and manipulating text; think of descriptions, categories, etc.\n",
        "\n",
        "In the second line, we used the `print()` *function* (indicated by a word followed by brackets).\n",
        "Functions perform an action: in this case simply printing the variable `text`, or more precisely the object that `text` references to, which is `\"Hello world, you're beautiful\"`.\n",
        "Often you provide an *argument* (or a set of arguments) to a function which you put inside the brackets.\n",
        "\n",
        "You can provide multiple variables to print, which you have to separate by a comma:"
      ]
    },
    {
      "cell_type": "code",
      "execution_count": null,
      "metadata": {
        "colab": {
          "base_uri": "https://localhost:8080/"
        },
        "id": "PabzI2H0lTPu",
        "outputId": "e83796c2-e19a-4a40-9813-da029cdd97a5"
      },
      "outputs": [
        {
          "name": "stdout",
          "output_type": "stream",
          "text": [
            "Hello world, you're beautiful and wise\n"
          ]
        }
      ],
      "source": [
        "text2 = \"and wise\"\n",
        "print(text, text2)"
      ]
    },
    {
      "cell_type": "markdown",
      "metadata": {
        "id": "V5hZwEu3lkQb"
      },
      "source": [
        "Functions can also have 'hidden' arguments (called keyword arguments), which have a default value.\n",
        "For instance, the `print()` function has a keyword argument `sep`.\n",
        "As the name suggests, `sep` determines how, if multiple inputs are provided, the inputs are separated in the text that it will print.\n",
        "The default for `sep` is `\" \"` (a space).\n",
        "You can change it as follows:"
      ]
    },
    {
      "cell_type": "code",
      "execution_count": null,
      "metadata": {
        "colab": {
          "base_uri": "https://localhost:8080/"
        },
        "id": "EIuBDVnkllja",
        "outputId": "7c529aa7-b484-445c-d3da-86fd1c3b50d1"
      },
      "outputs": [
        {
          "name": "stdout",
          "output_type": "stream",
          "text": [
            "Hello world, you're beautiful; and wise\n"
          ]
        }
      ],
      "source": [
        "print(text, text2, sep=\"; \")"
      ]
    },
    {
      "cell_type": "markdown",
      "metadata": {
        "id": "tG8Hd5dBlo17"
      },
      "source": [
        "Similarly, you can change how the output ends by altering `end`."
      ]
    },
    {
      "cell_type": "code",
      "execution_count": null,
      "metadata": {
        "colab": {
          "base_uri": "https://localhost:8080/"
        },
        "id": "iDhVH_Zhlsgb",
        "outputId": "33710111-8890-4766-d849-63f6a46555e5"
      },
      "outputs": [
        {
          "name": "stdout",
          "output_type": "stream",
          "text": [
            "Hello world, you're beautiful; and wise!"
          ]
        }
      ],
      "source": [
        "print(text, text2, sep=\"; \", end=\"!\")"
      ]
    },
    {
      "cell_type": "markdown",
      "metadata": {
        "id": "4uo1Eo7all1i"
      },
      "source": [
        "### A word on **errors**\n",
        "\n",
        "Something you will encounter often are *errors*.\n",
        "Errors are events that occur during the execution of a program which disrupt the normal flow of the instructions.\n",
        "When an error occurs the program is stopped if it is not handled further.\n",
        "There are many types of errors.\n",
        "\n",
        "Do not let yourself be discouraged by errors and take them seriously because that's the way to learn.\n",
        "What's the wait? Let's create one:"
      ]
    },
    {
      "cell_type": "code",
      "execution_count": null,
      "metadata": {
        "colab": {
          "base_uri": "https://localhost:8080/",
          "height": 144
        },
        "id": "NZJ_EZapls87",
        "outputId": "2b2993f4-5894-4470-f0eb-a24f250ead13"
      },
      "outputs": [
        {
          "ename": "NameError",
          "evalue": "name 'Hello' is not defined",
          "output_type": "error",
          "traceback": [
            "\u001b[0;31m---------------------------------------------------------------------------\u001b[0m",
            "\u001b[0;31mNameError\u001b[0m                                 Traceback (most recent call last)",
            "\u001b[0;32m<ipython-input-4-85bf5114fa6b>\u001b[0m in \u001b[0;36m<cell line: 0>\u001b[0;34m()\u001b[0m\n\u001b[0;32m----> 1\u001b[0;31m \u001b[0mprint\u001b[0m\u001b[0;34m(\u001b[0m\u001b[0mHello\u001b[0m\u001b[0;34m)\u001b[0m\u001b[0;34m\u001b[0m\u001b[0;34m\u001b[0m\u001b[0m\n\u001b[0m",
            "\u001b[0;31mNameError\u001b[0m: name 'Hello' is not defined"
          ]
        }
      ],
      "source": [
        "print(Hello)"
      ]
    },
    {
      "cell_type": "markdown",
      "metadata": {
        "id": "NAXuqia5ltPq"
      },
      "source": [
        "Eventhough you might have thought it would have printed \"Hello\", it didn't.\n",
        "Why not?\n",
        "Read the error message: \"NameError: name 'Hello' is not defined\".\n",
        "Of course: we didn't define `Hello`, so there is no variable called `Hello`.\n",
        "\n",
        "If you want to print \"Hello\" directly you should provide it as a string:"
      ]
    },
    {
      "cell_type": "code",
      "execution_count": null,
      "metadata": {
        "colab": {
          "base_uri": "https://localhost:8080/"
        },
        "id": "IPkKRUkzmA8C",
        "outputId": "7e87eaa9-2256-449a-fefc-78cdbfd1fcfa"
      },
      "outputs": [
        {
          "name": "stdout",
          "output_type": "stream",
          "text": [
            "Hello\n"
          ]
        }
      ],
      "source": [
        "print(\"Hello\")"
      ]
    },
    {
      "cell_type": "markdown",
      "metadata": {
        "id": "l_VbN44nmeiy"
      },
      "source": [
        "Or, create a variable `Hello`:"
      ]
    },
    {
      "cell_type": "code",
      "execution_count": null,
      "metadata": {
        "colab": {
          "base_uri": "https://localhost:8080/"
        },
        "id": "NTv0FuWEme2M",
        "outputId": "f2a899d5-dcb8-4d08-bda3-7f4f76c5574e"
      },
      "outputs": [
        {
          "name": "stdout",
          "output_type": "stream",
          "text": [
            "Hello\n"
          ]
        }
      ],
      "source": [
        "Hello = \"Hello\"\n",
        "print(Hello)"
      ]
    },
    {
      "cell_type": "markdown",
      "metadata": {
        "id": "7y6UmqnUmht6"
      },
      "source": [
        "Let's generate another error:"
      ]
    },
    {
      "cell_type": "code",
      "execution_count": null,
      "metadata": {
        "colab": {
          "base_uri": "https://localhost:8080/",
          "height": 106
        },
        "id": "EE55m8_1mh9b",
        "outputId": "cbe7f9d5-02fa-4cb6-f516-f4cd557bd5a1"
      },
      "outputs": [
        {
          "ename": "SyntaxError",
          "evalue": "positional argument follows keyword argument (<ipython-input-10-747bb74ea181>, line 1)",
          "output_type": "error",
          "traceback": [
            "\u001b[0;36m  File \u001b[0;32m\"<ipython-input-10-747bb74ea181>\"\u001b[0;36m, line \u001b[0;32m1\u001b[0m\n\u001b[0;31m    print(sep=\"; \", text, text2)\u001b[0m\n\u001b[0m                               ^\u001b[0m\n\u001b[0;31mSyntaxError\u001b[0m\u001b[0;31m:\u001b[0m positional argument follows keyword argument\n"
          ]
        }
      ],
      "source": [
        "print(sep=\"; \", text, text2)"
      ]
    },
    {
      "cell_type": "markdown",
      "metadata": {
        "id": "IYjFgF8Hmnt7"
      },
      "source": [
        "In this case the positional argument `sep` should have followed the normal *keyword* arguments.\n",
        "The order of positional arguments doesn't matter; the order of keyword arguments does:"
      ]
    },
    {
      "cell_type": "code",
      "execution_count": null,
      "metadata": {
        "colab": {
          "base_uri": "https://localhost:8080/"
        },
        "id": "La2C6gcMmq58",
        "outputId": "fdc681cf-be4c-43f0-b81e-608defea36e2"
      },
      "outputs": [
        {
          "name": "stdout",
          "output_type": "stream",
          "text": [
            "Hello world, you're beautiful; and wise.Hello world, you're beautiful; and wise."
          ]
        }
      ],
      "source": [
        "print(text, text2, sep=\"; \", end=\".\")\n",
        "print()  # Creates a new line\n",
        "print(text, text2, end=\".\", sep=\"; \")"
      ]
    },
    {
      "cell_type": "markdown",
      "metadata": {
        "id": "wRInkaz2mwsz"
      },
      "source": [
        "### A word on **comments**\n",
        "\n",
        "Observe that we did something new in the last code block.\n",
        "In the second line we added a *comment* after `print()`.\n",
        "Comments are meant to make the code more readable by explaining what the code's constituents part do.\n",
        "Comments start with `#`.\n",
        "Python 'neglects' these parts of the code, for they are only meant to explain (they are not instructions).\n",
        "\n",
        "Everyone comments in a (slightly) different way; however, the common practice is to use a full line to explain what a part of the code (usually a comment for a couple of lines) does or a descriptive comment in addition to the current line of code.\n",
        "For instance, as such:"
      ]
    },
    {
      "cell_type": "code",
      "execution_count": null,
      "metadata": {
        "colab": {
          "base_uri": "https://localhost:8080/"
        },
        "id": "9I35Pq46mvqC",
        "outputId": "0857ff78-7b1e-43c2-d3c3-b745e1586156"
      },
      "outputs": [
        {
          "name": "stdout",
          "output_type": "stream",
          "text": [
            "My age is 30 [yr]\n",
            "My height is 1.8 [m]\n",
            "My weights is 80 [w]\n"
          ]
        }
      ],
      "source": [
        "# Define measures\n",
        "a = 30  # age in years\n",
        "l = 1.80  # height in meters\n",
        "w = 80  # weight in kg\n",
        "\n",
        "# Print measures\n",
        "print(\"My age is\", a, \"[yr]\")\n",
        "print(\"My height is\", l, \"[m]\")\n",
        "print(\"My weights is\", w, \"[w]\")"
      ]
    },
    {
      "cell_type": "markdown",
      "metadata": {
        "id": "ABU50u34fA1r"
      },
      "source": [
        "### **Libraries** and **packages**\n",
        "\n",
        "Similar to many other programs, software, toolboxes, etc., Python works with \"plugins\".\n",
        "They are not called plugins, however, but *libraries* (or packages).\n",
        "A **library is a collection of modules, classes, and methods**.\n",
        "(Note that `print()` is a Python built-in function.\n",
        "However, the amount of built-in functions is limited: see [here](https://docs.python.org/3/library/functions.html).\n",
        "Since Python is open-source, many people work(ed) on creating useful functions.\n",
        "These functions are subsequently packaged as libraries.)\n",
        "\n",
        "**Functions and methods are reusable chunks of code** that can be used to perform some meaningful action.\n",
        "For instance, the creation of a rectangular shape (or printing something in the cell output).\n",
        "Usually libraries are created for specific tasks, such as data visualization (`matplotlib`, `seaborn`, etc.), math (`math`, `numpy`, etc.), or geospatial data (`geopandas`, `rasterior`, etc.).\n",
        "\n",
        "The two packages used in this tutorial are `numpy` and `matplotlib`.\n",
        "The packages are imported by using `import`, as follows:"
      ]
    },
    {
      "cell_type": "code",
      "execution_count": null,
      "metadata": {
        "id": "V_WbvEXIfA1s"
      },
      "outputs": [],
      "source": [
        "import numpy as np\n",
        "import matplotlib as plt"
      ]
    },
    {
      "cell_type": "markdown",
      "metadata": {
        "id": "xsw-K3NGBxUZ"
      },
      "source": [
        "You can import a library under a different name than the original - the alias. You can specify the alias after \"as\".\n",
        "This is usually done to reduce clutter in writing your code by finding appropriate abbreviations. \"np\" and \"plt\" are common aliases for the two packages."
      ]
    }
  ],
  "metadata": {
    "colab": {
      "provenance": []
    },
    "kernelspec": {
      "display_name": "Python 3",
      "name": "python3"
    },
    "language_info": {
      "name": "python"
    }
  },
  "nbformat": 4,
  "nbformat_minor": 0
}
