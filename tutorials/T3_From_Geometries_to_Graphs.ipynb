{
  "cells": [
    {
      "cell_type": "markdown",
      "metadata": {},
      "source": [
        "<a href=\"https://colab.research.google.com/github/AiDAPT-A/2024-Q3-ai-in-architecture/blob/main/tutorials/T3_From_Geometries_to_Graphs.ipynb\" target=\"_parent\"><img src=\"https://colab.research.google.com/assets/colab-badge.svg\" alt=\"Open In Colab\"/></a>"
      ]
    },
    {
      "cell_type": "markdown",
      "metadata": {
        "id": "oDBqqd3C95Aq"
      },
      "source": [
        "# **From Geometries to Graphs: Extracting floor plan graphs**\n",
        "\n",
        "This tutorial is about representing the underlying spatial organization of a floor plan: the access graph. You will learn how to extract the apartment-level access graphs from the projects' files (i.e., `.csv` tables).\n",
        "\n",
        "<center>\n",
        "<img src=\"https://drive.google.com/uc?export=view&id=1b0IiN0s3rYKHVFLa76d4byGum6IsYvcl\" alt=\"AI-and-floorplans\" class=\"center\" width=\"1200px\">\n",
        "</center>\n",
        "\n",
        "The figure above shows a random set of apartments, including their graphs, which are derived from the *Modified Swiss Dwellings* dataset (MSD) – a dataset that we developed with our lab over the last couple of year.\n",
        "Interested to know more?\n",
        "Please have a look at our [paper on MSD](https://arxiv.org/abs/2407.10121) and [MSD on Kaggle](https://www.kaggle.com/datasets/caspervanengelenburg/modified-swiss-dwellings)."
      ]
    },
    {
      "cell_type": "markdown",
      "metadata": {
        "id": "nRrSIFRx_gJ5"
      },
      "source": [
        "### **Motivation**\n",
        "\n",
        "In one of our recent (not yet officially published) writings, we found that ***the visual part in contemporary AI systems***, such as *ChatGPT* and *Midjourney*, ***lacks a certain depth in terms of ‘architectural’ competence***. In simple language: These AI systems are to a large extent incapable of reading, understanding, and/or generating architectural drawings in a meaningful manner. Have a look at the images below. Instead of ‘working’ on the underlying structure, both systems – *Google Lens* and *ChatGPT 4* – operate at the level of appearance primarily. In the case of *Google Lens*, retrievals are based on the ‘looks’. In the case of *ChatGPT*, the generations might seem reasonable (at first glance the generated images look like floor plans); however, when observed more closely, the organization in both floor plans do not make sense. When asking such systems even more banal compositional questions, it often fails to capture that composition in the generated image (top right).\n",
        "\n",
        "<center>\n",
        "<img src=\"https://drive.google.com/uc?export=view&id=1_EO_bSwMjwS7v1H65BgYCn-seR4onioy\" alt=\"AI-and-floorplans\" class=\"center\" width=\"1200px\">\n",
        "</center>\n",
        "\n",
        "One of the overall questions that we as a group and lab ask ourselves: ***How can we teach these AI systems to think more like architects?*** There is, obviously, not one answer to this question; there are multiple facets. A more bottom-up approach might help here.\n",
        "\n",
        "Let’s start with the logic of floor plans. As likely the most important property, floor plans convey the organization of a building’s floor. In most floor plans, there is a clear underlying spatial structure. The spatial language of floor plans could be thought of as follows. A floor plan is an agglomeration of spaces and rooms; like stones are to a wall, paragraphs to a text, and wagons to a train. And there are relationships between the spaces, such as adjacency or access between them. For a large part, the composition of the spaces and their relations determine the quality of a building; whether the necessary requirements are met, whether the building can function in a particular way, whether the building fits and makes optimal use of the surrounding context, etc. This is part of an architect’s knowledge.\n",
        "\n",
        "Teaching machines that can think alongside architects means that, first and foremost, the fundamentals need to be ingrained in the computing models. Clearly, the AI systems mentioned earlier do not have that property (at least largely not).\n",
        "\n",
        "A key first insight is that ***the underlying structure of a floor plan is not explicitly represented in the floor plan’s corresponding image*** (which is a grid of pixels) – a data modality that most of the mentioned AI systems are trained on. We believe that other data formats are needed to make this stuff (the spaces, and their relations) explicit.\n",
        "\n",
        "Luckily, in the case of a floor plan, as is the case with language, there is a consistent underlying spatial structure: it is composed of a finite set of spaces that have, in most cases, clear spatial relationships. ***That there is clarity as well as consistency in the way that most floor plans could be read in terms of their structure means that we can directly provide the machine the floor plan’s structure***, rather than letting the machine figure it out itself from the raw pixel values. In this way, we help the machine to understand the language of floor plans.\n",
        "\n",
        "One of the most powerful and efficient data formats to make the spatial relationships explicit is the ***graph***. (See the graphs visualized on top of the floor plans in the first cell of this notebook.) In the context of floor plans, you’ll learn what graphs are and how to extract and represent them in code. These graphs are, as a matter of facts, the starting point (read: the ‘raw’ data) for T7.\n",
        "\n"
      ]
    },
    {
      "cell_type": "markdown",
      "metadata": {
        "id": "JaQ694d-RuiO"
      },
      "source": [
        "### **Learning objectives**\n",
        "\n",
        "- Define a graph.\n",
        "- Create, manipulate, and visualize a graph in Python.\n",
        "- Describe the access graph of a floor plan.\n",
        "- Extract (apartment-level) access graphs from the IFC building elements."
      ]
    },
    {
      "cell_type": "markdown",
      "metadata": {
        "id": "URDFlv4YAUer"
      },
      "source": [
        "## **(1) Graphs of floor plans**"
      ]
    },
    {
      "cell_type": "markdown",
      "metadata": {
        "id": "nE5DHRFc__6F"
      },
      "source": [
        "### **The organization of a floor plan made explicit: The access graph**\n",
        "\n",
        "As said before, \"Luckily, in the case of ***a floor plan***, as is the case with language, ***\\[has\\] a consistent underlying spatial structure***: it is composed of a finite set of spaces that have, in most cases, clear spatial relationships.\" (See Motivation).\n",
        "\n",
        "An ***access graph*** is a way of representing the underlying structure by making explicit the circulation and connectivity between rooms in a building by using a network of nodes and edges.\n",
        "In this graph, each ***node represents a room***, and ***each edge shows how you can move from one room to another***, highlighting accessibility and adjacency.\n",
        "It’s similar to a functional diagram or bubble diagram architects use during the design process, where circles (or bubbles) represent spaces, and lines between them show connections or flows.\n",
        "However, an access graph is more precise and can include details like whether rooms are connected by a direct passage, a door, or just adjacent with no access.\n",
        "This helps in analyzing and optimizing spatial layouts, circulation paths, and functional relationships.\n",
        "Additionally, a ***graph can as well serve as a container for more information***, such as room shapes, semantics (e.g., function of a room).\n",
        "\n",
        "The figure below gives a visual clarification:\n",
        "\n",
        "<center>\n",
        "<img src=\"https://drive.google.com/uc?export=view&id=1nDTochAjuAdx8fF6k55NyYuwfYOnAN2H\" alt=\"AI-and-floorplans\" class=\"center\" width=\"1200px\">\n",
        "</center>"
      ]
    },
    {
      "cell_type": "markdown",
      "metadata": {
        "id": "sZqQA7RKAnR4"
      },
      "source": [
        "### **Self-curated Python library**\n",
        "\n",
        "Before we start, we will 'install' ***our own library*** with some functions that we will use throughout this tutorial.\n",
        "These include plotting functions for shapes and graphs, and a function to extract an access graph from a given set of IFC building elements.\n",
        "There is ***no need to understand what happens inside*** these functions (although, if you are curious, please have a look!).\n",
        "Instead, ***you'll need to understand how to use them***.\n",
        "This will become clear when we need them!\n",
        "\n",
        "The following code block loads the library of functions that can be found here: https://github.com/AiDAPT-A/2024-Q3-ai-in-architecture/blob/main/tutorials/t3_functions.py.\n",
        "There is not need to understand these lines of code.\n",
        "We have called the library `utils` (short for utilities).\n",
        "Loading the function `draw_polygon` from this library is done by `from utils import draw_polygon`.\n",
        "We'll come back to this later again."
      ]
    },
    {
      "cell_type": "code",
      "execution_count": null,
      "metadata": {
        "id": "_vg-bGqIBRq8"
      },
      "outputs": [],
      "source": [
        "import requests\n",
        "\n",
        "def url2libary(url):\n",
        "\n",
        "    # Get url\n",
        "    r = requests.get(url)\n",
        "\n",
        "    # Make sure your filename is the same as how you want to import\n",
        "    with open('utils.py', 'w') as f:\n",
        "        f.write(r.text)\n",
        "\n",
        "# If you are using GitHub, make sure you get the \"Raw\" version of the code\n",
        "# Our library can be found here: https://github.com/AiDAPT-A/2024-Q3-ai-in-architecture/blob/main/tutorials/t3_functions.py\n",
        "url = r'https://raw.githubusercontent.com/AiDAPT-A/2024-Q3-ai-in-architecture/refs/heads/main/tutorials/t3_functions.py'\n",
        "\n",
        "# Create a library from the raw file\n",
        "url2libary(url)"
      ]
    },
    {
      "cell_type": "markdown",
      "metadata": {
        "id": "Vh9JKYatA8H2"
      },
      "source": [
        "## **(2) Graph extraction**\n",
        "\n",
        "In this course, we are interested in the diversity and distribution of the apartment-level floor plans comprised in the projects.\n",
        "\n",
        "To extract the corresponding apartment graphs, we first need to find out which IFC building elements belong to which apartment.\n",
        "\n",
        "Unluckily and not so surprising, this is not straightforward.\n",
        "As a matter of facts, this might be quite different for each project, because the naming conventions are different.\n",
        "\n",
        "In this notebook, we will consider the 6th floor of Strijp S (a.k.a. Match Box).\n",
        "\n"
      ]
    },
    {
      "cell_type": "markdown",
      "metadata": {
        "id": "6M7-JG19AuJY"
      },
      "source": [
        "### **Back to the dataframe**\n",
        "\n",
        "So let's get back where we left last week (T2): the dataframe!\n",
        "\n",
        "Before doing so, we need to mount our *Google Drive* again:"
      ]
    },
    {
      "cell_type": "code",
      "execution_count": null,
      "metadata": {
        "colab": {
          "base_uri": "https://localhost:8080/"
        },
        "id": "a5aRiduWBSSU",
        "outputId": "8df6fcbb-40b0-4c02-a408-0ce9f7350813"
      },
      "outputs": [
        {
          "name": "stdout",
          "output_type": "stream",
          "text": [
            "Mounted at /content/drive\n"
          ]
        }
      ],
      "source": [
        "import os\n",
        "from google.colab import drive\n",
        "\n",
        "# Mounts drive (> See T2)\n",
        "drive.mount('/content/drive', force_remount=True)"
      ]
    },
    {
      "cell_type": "markdown",
      "metadata": {
        "id": "LrpN4XkCRLHW"
      },
      "source": [
        "Now, we can load the dataframe of the 6th floor:"
      ]
    },
    {
      "cell_type": "code",
      "execution_count": null,
      "metadata": {
        "id": "oQ2X2ZnsMuIn"
      },
      "outputs": [],
      "source": [
        "import pandas as pd\n",
        "\n",
        "# Load 6-th floor of Strijp S (Match Box) \"06 zesde verdieping.csv\" as dataframe (> See T2)\n",
        "path = \"/content/drive/MyDrive/academia/8 data/KAAN_datasets/STRIJP/06 zesde verdieping.csv\"  # Path to csv file\n",
        "df_strijp = pd.read_csv(path)  # Load csv as Pandas dataframe"
      ]
    },
    {
      "cell_type": "markdown",
      "metadata": {
        "id": "SoX9ODE-RWDz"
      },
      "source": [
        "In today's case, we are only interested in the rows that contain IfcSpace-typed or IfcDoor-typed elements.\n",
        "We create two dataframes: `df_spaces` to store the spaces, and `df_doors` to store the doors."
      ]
    },
    {
      "cell_type": "code",
      "execution_count": null,
      "metadata": {
        "colab": {
          "base_uri": "https://localhost:8080/",
          "height": 206
        },
        "id": "AVKXLTaKMHlf",
        "outputId": "c51006df-b63e-4791-b0a4-62cb3bbf85e4"
      },
      "outputs": [
        {
          "data": {
            "application/vnd.google.colaboratory.intrinsic+json": {
              "summary": "{\n  \"name\": \"df_spaces\",\n  \"rows\": 81,\n  \"fields\": [\n    {\n      \"column\": \"type\",\n      \"properties\": {\n        \"dtype\": \"category\",\n        \"num_unique_values\": 1,\n        \"samples\": [\n          \"IfcSpace\"\n        ],\n        \"semantic_type\": \"\",\n        \"description\": \"\"\n      }\n    },\n    {\n      \"column\": \"name\",\n      \"properties\": {\n        \"dtype\": \"string\",\n        \"num_unique_values\": 81,\n        \"samples\": [\n          \"06.D03.03\"\n        ],\n        \"semantic_type\": \"\",\n        \"description\": \"\"\n      }\n    },\n    {\n      \"column\": \"geometry\",\n      \"properties\": {\n        \"dtype\": \"string\",\n        \"num_unique_values\": 81,\n        \"samples\": [\n          \"MULTIPOLYGON (((20.68 27.006, 20.68 28.0435, 22.14 28.0435, 22.14 26.421595, 22.14 26.32, 22.15 26.32, 22.15 22.670178, 20.94 22.69411, 20.94 24.175, 20.53 24.175, 20.53 25.095, 20.94 25.095, 20.94 27.006, 20.68 27.006)))\"\n        ],\n        \"semantic_type\": \"\",\n        \"description\": \"\"\n      }\n    }\n  ]\n}",
              "type": "dataframe",
              "variable_name": "df_spaces"
            },
            "text/html": [
              "\n",
              "  <div id=\"df-ab975fd0-b105-49ba-9e31-379c3806b051\" class=\"colab-df-container\">\n",
              "    <div>\n",
              "<style scoped>\n",
              "    .dataframe tbody tr th:only-of-type {\n",
              "        vertical-align: middle;\n",
              "    }\n",
              "\n",
              "    .dataframe tbody tr th {\n",
              "        vertical-align: top;\n",
              "    }\n",
              "\n",
              "    .dataframe thead th {\n",
              "        text-align: right;\n",
              "    }\n",
              "</style>\n",
              "<table border=\"1\" class=\"dataframe\">\n",
              "  <thead>\n",
              "    <tr style=\"text-align: right;\">\n",
              "      <th></th>\n",
              "      <th>type</th>\n",
              "      <th>name</th>\n",
              "      <th>geometry</th>\n",
              "    </tr>\n",
              "  </thead>\n",
              "  <tbody>\n",
              "    <tr>\n",
              "      <th>806</th>\n",
              "      <td>IfcSpace</td>\n",
              "      <td>74</td>\n",
              "      <td>MULTIPOLYGON (((20.28 24.11, 20.28 25.16, 20.9...</td>\n",
              "    </tr>\n",
              "    <tr>\n",
              "      <th>807</th>\n",
              "      <td>IfcSpace</td>\n",
              "      <td>75</td>\n",
              "      <td>MULTIPOLYGON (((22.5 26.07, 23.7 26.07, 23.7 2...</td>\n",
              "    </tr>\n",
              "    <tr>\n",
              "      <th>808</th>\n",
              "      <td>IfcSpace</td>\n",
              "      <td>76</td>\n",
              "      <td>MULTIPOLYGON (((30.085 26.32, 31.26 26.32, 31....</td>\n",
              "    </tr>\n",
              "    <tr>\n",
              "      <th>809</th>\n",
              "      <td>IfcSpace</td>\n",
              "      <td>72</td>\n",
              "      <td>MULTIPOLYGON (((20.68 31.49, 31.52 31.49, 31.5...</td>\n",
              "    </tr>\n",
              "    <tr>\n",
              "      <th>810</th>\n",
              "      <td>IfcSpace</td>\n",
              "      <td>73</td>\n",
              "      <td>MULTIPOLYGON (((42.69 26.28, 36.665 26.28, 36....</td>\n",
              "    </tr>\n",
              "  </tbody>\n",
              "</table>\n",
              "</div>\n",
              "    <div class=\"colab-df-buttons\">\n",
              "\n",
              "  <div class=\"colab-df-container\">\n",
              "    <button class=\"colab-df-convert\" onclick=\"convertToInteractive('df-ab975fd0-b105-49ba-9e31-379c3806b051')\"\n",
              "            title=\"Convert this dataframe to an interactive table.\"\n",
              "            style=\"display:none;\">\n",
              "\n",
              "  <svg xmlns=\"http://www.w3.org/2000/svg\" height=\"24px\" viewBox=\"0 -960 960 960\">\n",
              "    <path d=\"M120-120v-720h720v720H120Zm60-500h600v-160H180v160Zm220 220h160v-160H400v160Zm0 220h160v-160H400v160ZM180-400h160v-160H180v160Zm440 0h160v-160H620v160ZM180-180h160v-160H180v160Zm440 0h160v-160H620v160Z\"/>\n",
              "  </svg>\n",
              "    </button>\n",
              "\n",
              "  <style>\n",
              "    .colab-df-container {\n",
              "      display:flex;\n",
              "      gap: 12px;\n",
              "    }\n",
              "\n",
              "    .colab-df-convert {\n",
              "      background-color: #E8F0FE;\n",
              "      border: none;\n",
              "      border-radius: 50%;\n",
              "      cursor: pointer;\n",
              "      display: none;\n",
              "      fill: #1967D2;\n",
              "      height: 32px;\n",
              "      padding: 0 0 0 0;\n",
              "      width: 32px;\n",
              "    }\n",
              "\n",
              "    .colab-df-convert:hover {\n",
              "      background-color: #E2EBFA;\n",
              "      box-shadow: 0px 1px 2px rgba(60, 64, 67, 0.3), 0px 1px 3px 1px rgba(60, 64, 67, 0.15);\n",
              "      fill: #174EA6;\n",
              "    }\n",
              "\n",
              "    .colab-df-buttons div {\n",
              "      margin-bottom: 4px;\n",
              "    }\n",
              "\n",
              "    [theme=dark] .colab-df-convert {\n",
              "      background-color: #3B4455;\n",
              "      fill: #D2E3FC;\n",
              "    }\n",
              "\n",
              "    [theme=dark] .colab-df-convert:hover {\n",
              "      background-color: #434B5C;\n",
              "      box-shadow: 0px 1px 3px 1px rgba(0, 0, 0, 0.15);\n",
              "      filter: drop-shadow(0px 1px 2px rgba(0, 0, 0, 0.3));\n",
              "      fill: #FFFFFF;\n",
              "    }\n",
              "  </style>\n",
              "\n",
              "    <script>\n",
              "      const buttonEl =\n",
              "        document.querySelector('#df-ab975fd0-b105-49ba-9e31-379c3806b051 button.colab-df-convert');\n",
              "      buttonEl.style.display =\n",
              "        google.colab.kernel.accessAllowed ? 'block' : 'none';\n",
              "\n",
              "      async function convertToInteractive(key) {\n",
              "        const element = document.querySelector('#df-ab975fd0-b105-49ba-9e31-379c3806b051');\n",
              "        const dataTable =\n",
              "          await google.colab.kernel.invokeFunction('convertToInteractive',\n",
              "                                                    [key], {});\n",
              "        if (!dataTable) return;\n",
              "\n",
              "        const docLinkHtml = 'Like what you see? Visit the ' +\n",
              "          '<a target=\"_blank\" href=https://colab.research.google.com/notebooks/data_table.ipynb>data table notebook</a>'\n",
              "          + ' to learn more about interactive tables.';\n",
              "        element.innerHTML = '';\n",
              "        dataTable['output_type'] = 'display_data';\n",
              "        await google.colab.output.renderOutput(dataTable, element);\n",
              "        const docLink = document.createElement('div');\n",
              "        docLink.innerHTML = docLinkHtml;\n",
              "        element.appendChild(docLink);\n",
              "      }\n",
              "    </script>\n",
              "  </div>\n",
              "\n",
              "\n",
              "<div id=\"df-773ce005-adc4-45f0-a82f-31bca46457bf\">\n",
              "  <button class=\"colab-df-quickchart\" onclick=\"quickchart('df-773ce005-adc4-45f0-a82f-31bca46457bf')\"\n",
              "            title=\"Suggest charts\"\n",
              "            style=\"display:none;\">\n",
              "\n",
              "<svg xmlns=\"http://www.w3.org/2000/svg\" height=\"24px\"viewBox=\"0 0 24 24\"\n",
              "     width=\"24px\">\n",
              "    <g>\n",
              "        <path d=\"M19 3H5c-1.1 0-2 .9-2 2v14c0 1.1.9 2 2 2h14c1.1 0 2-.9 2-2V5c0-1.1-.9-2-2-2zM9 17H7v-7h2v7zm4 0h-2V7h2v10zm4 0h-2v-4h2v4z\"/>\n",
              "    </g>\n",
              "</svg>\n",
              "  </button>\n",
              "\n",
              "<style>\n",
              "  .colab-df-quickchart {\n",
              "      --bg-color: #E8F0FE;\n",
              "      --fill-color: #1967D2;\n",
              "      --hover-bg-color: #E2EBFA;\n",
              "      --hover-fill-color: #174EA6;\n",
              "      --disabled-fill-color: #AAA;\n",
              "      --disabled-bg-color: #DDD;\n",
              "  }\n",
              "\n",
              "  [theme=dark] .colab-df-quickchart {\n",
              "      --bg-color: #3B4455;\n",
              "      --fill-color: #D2E3FC;\n",
              "      --hover-bg-color: #434B5C;\n",
              "      --hover-fill-color: #FFFFFF;\n",
              "      --disabled-bg-color: #3B4455;\n",
              "      --disabled-fill-color: #666;\n",
              "  }\n",
              "\n",
              "  .colab-df-quickchart {\n",
              "    background-color: var(--bg-color);\n",
              "    border: none;\n",
              "    border-radius: 50%;\n",
              "    cursor: pointer;\n",
              "    display: none;\n",
              "    fill: var(--fill-color);\n",
              "    height: 32px;\n",
              "    padding: 0;\n",
              "    width: 32px;\n",
              "  }\n",
              "\n",
              "  .colab-df-quickchart:hover {\n",
              "    background-color: var(--hover-bg-color);\n",
              "    box-shadow: 0 1px 2px rgba(60, 64, 67, 0.3), 0 1px 3px 1px rgba(60, 64, 67, 0.15);\n",
              "    fill: var(--button-hover-fill-color);\n",
              "  }\n",
              "\n",
              "  .colab-df-quickchart-complete:disabled,\n",
              "  .colab-df-quickchart-complete:disabled:hover {\n",
              "    background-color: var(--disabled-bg-color);\n",
              "    fill: var(--disabled-fill-color);\n",
              "    box-shadow: none;\n",
              "  }\n",
              "\n",
              "  .colab-df-spinner {\n",
              "    border: 2px solid var(--fill-color);\n",
              "    border-color: transparent;\n",
              "    border-bottom-color: var(--fill-color);\n",
              "    animation:\n",
              "      spin 1s steps(1) infinite;\n",
              "  }\n",
              "\n",
              "  @keyframes spin {\n",
              "    0% {\n",
              "      border-color: transparent;\n",
              "      border-bottom-color: var(--fill-color);\n",
              "      border-left-color: var(--fill-color);\n",
              "    }\n",
              "    20% {\n",
              "      border-color: transparent;\n",
              "      border-left-color: var(--fill-color);\n",
              "      border-top-color: var(--fill-color);\n",
              "    }\n",
              "    30% {\n",
              "      border-color: transparent;\n",
              "      border-left-color: var(--fill-color);\n",
              "      border-top-color: var(--fill-color);\n",
              "      border-right-color: var(--fill-color);\n",
              "    }\n",
              "    40% {\n",
              "      border-color: transparent;\n",
              "      border-right-color: var(--fill-color);\n",
              "      border-top-color: var(--fill-color);\n",
              "    }\n",
              "    60% {\n",
              "      border-color: transparent;\n",
              "      border-right-color: var(--fill-color);\n",
              "    }\n",
              "    80% {\n",
              "      border-color: transparent;\n",
              "      border-right-color: var(--fill-color);\n",
              "      border-bottom-color: var(--fill-color);\n",
              "    }\n",
              "    90% {\n",
              "      border-color: transparent;\n",
              "      border-bottom-color: var(--fill-color);\n",
              "    }\n",
              "  }\n",
              "</style>\n",
              "\n",
              "  <script>\n",
              "    async function quickchart(key) {\n",
              "      const quickchartButtonEl =\n",
              "        document.querySelector('#' + key + ' button');\n",
              "      quickchartButtonEl.disabled = true;  // To prevent multiple clicks.\n",
              "      quickchartButtonEl.classList.add('colab-df-spinner');\n",
              "      try {\n",
              "        const charts = await google.colab.kernel.invokeFunction(\n",
              "            'suggestCharts', [key], {});\n",
              "      } catch (error) {\n",
              "        console.error('Error during call to suggestCharts:', error);\n",
              "      }\n",
              "      quickchartButtonEl.classList.remove('colab-df-spinner');\n",
              "      quickchartButtonEl.classList.add('colab-df-quickchart-complete');\n",
              "    }\n",
              "    (() => {\n",
              "      let quickchartButtonEl =\n",
              "        document.querySelector('#df-773ce005-adc4-45f0-a82f-31bca46457bf button');\n",
              "      quickchartButtonEl.style.display =\n",
              "        google.colab.kernel.accessAllowed ? 'block' : 'none';\n",
              "    })();\n",
              "  </script>\n",
              "</div>\n",
              "\n",
              "    </div>\n",
              "  </div>\n"
            ],
            "text/plain": [
              "         type name                                           geometry\n",
              "806  IfcSpace   74  MULTIPOLYGON (((20.28 24.11, 20.28 25.16, 20.9...\n",
              "807  IfcSpace   75  MULTIPOLYGON (((22.5 26.07, 23.7 26.07, 23.7 2...\n",
              "808  IfcSpace   76  MULTIPOLYGON (((30.085 26.32, 31.26 26.32, 31....\n",
              "809  IfcSpace   72  MULTIPOLYGON (((20.68 31.49, 31.52 31.49, 31.5...\n",
              "810  IfcSpace   73  MULTIPOLYGON (((42.69 26.28, 36.665 26.28, 36...."
            ]
          },
          "execution_count": 4,
          "metadata": {},
          "output_type": "execute_result"
        }
      ],
      "source": [
        "# Load spaces and doors in separate dataframes (> See T2 for column-based sampling)\n",
        "df_spaces = df_strijp[df_strijp[\"type\"] == \"IfcSpace\"]\n",
        "df_doors = df_strijp[df_strijp[\"type\"] == \"IfcDoor\"]\n",
        "\n",
        "# Show first 10 spaces (> See T2 for outputting the top or bottom part of a dataframe)\n",
        "df_spaces.head(5)"
      ]
    },
    {
      "cell_type": "markdown",
      "metadata": {
        "id": "284Qn04pA1B0"
      },
      "source": [
        "### **Apartment-level layouts**\n",
        "\n",
        "To find out which IFC building elements belong to the same apartment, we need to investigate the names of the `df_spaces`:"
      ]
    },
    {
      "cell_type": "code",
      "execution_count": null,
      "metadata": {
        "colab": {
          "base_uri": "https://localhost:8080/"
        },
        "id": "da9Qn8xqBSmb",
        "outputId": "502c56d6-74b7-410d-9462-6b5f9dd88a2c"
      },
      "outputs": [
        {
          "name": "stdout",
          "output_type": "stream",
          "text": [
            "['74' '75' '76' '72' '73' '70' '71' '67' '68' '69' '65' '66' '201'\n",
            " '06.E07.01' '06.E05.04' '06.E05.03' '06.E05.02' '06.E05.01' '06.E04.01'\n",
            " '06.E01.01' '06.D07.03' '06.D07.02' '06.D07.01' '06.D06.05' '06.D06.04'\n",
            " '06.D06.03' '06.D06.02' '06.D06.01' '06.D05.03' '06.D04.01' '06.D03.03'\n",
            " '06.D01.03' '06.D01.02' '06.D01.01' '06.C07.01' '06.C06.06' '06.C06.05'\n",
            " '06.C06.04' '06.C06.03' '06.C06.02' '06.C06.01' '06.C05.02' '06.C05.01'\n",
            " '06.C04.01' '06.C03.02' '06.C03.01' '06.C02.41' '06.C02.40' '06.C02.39'\n",
            " '06.C02.38' '06.C02.37' '06.C02.36' '06.C02.18' '06.C02.17' '06.C02.16'\n",
            " '06.C02.15' '06.C02.14' '06.C02.12' '06.C02.11' '06.C02.10' '06.C02.06'\n",
            " '06.C02.05' '06.C02.04' '06.C02.03' '06.C02.02' '06.C02.01' '06.C01.01'\n",
            " '06.B07.02' '06.B07.01' '06.B06.04' '06.B06.02' '06.B06.01' '06.B05.01'\n",
            " '06.B03.01' '06.B02.04' '06.B02.02' '06.B02.01' '06.B01.02' '06.B01.01'\n",
            " '06.A07.01' '06.A01.01']\n"
          ]
        }
      ],
      "source": [
        "# Extract unique 'room' names. (> See T2)\n",
        "# ('room' because the IfcSpace type elements are not necessary rooms)\n",
        "names = df_spaces[\"name\"].unique()\n",
        "print(names)"
      ]
    },
    {
      "cell_type": "markdown",
      "metadata": {
        "id": "Shzps6S-EA6T"
      },
      "source": [
        "Even though we could guess the naming convention, we can never be completely certain.\n",
        "We could speculate a bit of course.\n",
        "For instance, do the letters correspond with an apartment unit? Are all spaces that contain \"A\" part of the same apartment?\n",
        "And why are some of the names a single number (e.g., \"74\") and some composed of three elements separated by a dot (e.g., \"06.E07.01\")?\n",
        "\n",
        "In other words: ***We need evidence***.\n",
        "And the best way is to check the associated geometries by plotting them."
      ]
    },
    {
      "cell_type": "code",
      "execution_count": null,
      "metadata": {
        "colab": {
          "base_uri": "https://localhost:8080/",
          "height": 423
        },
        "id": "kxgLEZJ6Gv9G",
        "outputId": "f9910bd6-408e-4aaa-9085-a14a0faba94b"
      },
      "outputs": [
        {
          "data": {
            "application/vnd.google.colaboratory.intrinsic+json": {
              "summary": "{\n  \"name\": \"gdf_doors\",\n  \"rows\": 66,\n  \"fields\": [\n    {\n      \"column\": \"type\",\n      \"properties\": {\n        \"dtype\": \"category\",\n        \"num_unique_values\": 1,\n        \"samples\": [\n          \"IfcDoor\"\n        ],\n        \"semantic_type\": \"\",\n        \"description\": \"\"\n      }\n    },\n    {\n      \"column\": \"name\",\n      \"properties\": {\n        \"dtype\": \"string\",\n        \"num_unique_values\": 66,\n        \"samples\": [\n          \"K_32_DO_WB_Single door:DO.xxxx_1250x2300mm:1671709\"\n        ],\n        \"semantic_type\": \"\",\n        \"description\": \"\"\n      }\n    },\n    {\n      \"column\": \"geometry\",\n      \"properties\": {\n        \"dtype\": \"geometry\",\n        \"num_unique_values\": 66,\n        \"samples\": [\n          \"MULTIPOLYGON (((42.7 16.375, 42.78 16.375, 42.78 16.39, 42.785 16.39, 42.785 16.305, 42.7 16.305, 42.7 16.375)), ((42.7 17.695, 42.785 17.695, 42.785 17.61, 42.78 17.61, 42.78 17.625, 42.7 17.625, 42.7 17.695)), ((42.7575 17.54, 42.7575 17.56, 42.7275 17.56, 42.7275 17.54, 42.7 17.54, 42.7 17.62, 42.777 17.62, 42.777 17.605, 42.785 17.605, 42.785 17.54, 42.7575 17.54)), ((42.7575 17.54, 42.785 16.46, 42.785 16.395, 42.777 16.395, 42.777 16.38, 42.7 16.38, 42.7 16.46, 42.7275 16.46, 42.7275 16.44, 42.7575 16.44, 42.7575 16.46, 42.7575 17.54)))\"\n        ],\n        \"semantic_type\": \"\",\n        \"description\": \"\"\n      }\n    }\n  ]\n}",
              "type": "dataframe",
              "variable_name": "gdf_doors"
            },
            "text/html": [
              "\n",
              "  <div id=\"df-e3f1c45a-7f05-416d-a183-ac048d17d46e\" class=\"colab-df-container\">\n",
              "    <div>\n",
              "<style scoped>\n",
              "    .dataframe tbody tr th:only-of-type {\n",
              "        vertical-align: middle;\n",
              "    }\n",
              "\n",
              "    .dataframe tbody tr th {\n",
              "        vertical-align: top;\n",
              "    }\n",
              "\n",
              "    .dataframe thead th {\n",
              "        text-align: right;\n",
              "    }\n",
              "</style>\n",
              "<table border=\"1\" class=\"dataframe\">\n",
              "  <thead>\n",
              "    <tr style=\"text-align: right;\">\n",
              "      <th></th>\n",
              "      <th>type</th>\n",
              "      <th>name</th>\n",
              "      <th>geometry</th>\n",
              "    </tr>\n",
              "  </thead>\n",
              "  <tbody>\n",
              "    <tr>\n",
              "      <th>120</th>\n",
              "      <td>IfcDoor</td>\n",
              "      <td>K_32_DO_WB_Single:DO.xxxx_1040x2160mm:5054126</td>\n",
              "      <td>POLYGON ((30.13 26.28, 31.08 26.32, 31.125 26....</td>\n",
              "    </tr>\n",
              "    <tr>\n",
              "      <th>148</th>\n",
              "      <td>IfcDoor</td>\n",
              "      <td>K_32_DO_WB_Single:DO.xxxx_1040x2160mm:4946126</td>\n",
              "      <td>MULTIPOLYGON (((38.225 10.235, 38.225 11.185, ...</td>\n",
              "    </tr>\n",
              "    <tr>\n",
              "      <th>150</th>\n",
              "      <td>IfcDoor</td>\n",
              "      <td>K_32_DO_WB_Single:DO.xxxx_1040x2160mm:4946117</td>\n",
              "      <td>POLYGON ((37.155 12.82, 38.105 12.86, 38.15 12...</td>\n",
              "    </tr>\n",
              "    <tr>\n",
              "      <th>161</th>\n",
              "      <td>IfcDoor</td>\n",
              "      <td>K_32_DO_WB_Single:DO.xxxx_1040x2160mm:4945851</td>\n",
              "      <td>POLYGON ((13.975 10.235, 13.935 11.185, 13.935...</td>\n",
              "    </tr>\n",
              "    <tr>\n",
              "      <th>163</th>\n",
              "      <td>IfcDoor</td>\n",
              "      <td>K_32_DO_WB_Single:DO.xxxx_1040x2160mm:4945842</td>\n",
              "      <td>MULTIPOLYGON (((15.045 12.82, 15.09 12.86, 15....</td>\n",
              "    </tr>\n",
              "    <tr>\n",
              "      <th>...</th>\n",
              "      <td>...</td>\n",
              "      <td>...</td>\n",
              "      <td>...</td>\n",
              "    </tr>\n",
              "    <tr>\n",
              "      <th>718</th>\n",
              "      <td>IfcDoor</td>\n",
              "      <td>K_32_DO_WB_Single door:DO.xxxx_1250x2300mm:167...</td>\n",
              "      <td>MULTIPOLYGON (((9.442 16.46, 9.415 17.54, 9.41...</td>\n",
              "    </tr>\n",
              "    <tr>\n",
              "      <th>720</th>\n",
              "      <td>IfcDoor</td>\n",
              "      <td>K_32_DO_WB_Single door:DO.xxxx_1250x2300mm:167...</td>\n",
              "      <td>MULTIPOLYGON (((9.442 23.46, 9.415 24.54, 9.41...</td>\n",
              "    </tr>\n",
              "    <tr>\n",
              "      <th>722</th>\n",
              "      <td>IfcDoor</td>\n",
              "      <td>K_32_DO_WB_Single door:DO.xxxx_1250x2300mm:167...</td>\n",
              "      <td>MULTIPOLYGON (((9.442 22.06, 9.415 23.14, 9.41...</td>\n",
              "    </tr>\n",
              "    <tr>\n",
              "      <th>724</th>\n",
              "      <td>IfcDoor</td>\n",
              "      <td>K_32_DO_WB_Single door:DO.xxxx_1250x2300mm:167...</td>\n",
              "      <td>MULTIPOLYGON (((9.442 29.06, 9.415 30.14, 9.41...</td>\n",
              "    </tr>\n",
              "    <tr>\n",
              "      <th>725</th>\n",
              "      <td>IfcDoor</td>\n",
              "      <td>K_32_DO_WB_Single door:DO.xxxx_1250x2300mm:167...</td>\n",
              "      <td>MULTIPOLYGON (((9.442 27.66, 9.415 28.74, 9.41...</td>\n",
              "    </tr>\n",
              "  </tbody>\n",
              "</table>\n",
              "<p>66 rows × 3 columns</p>\n",
              "</div>\n",
              "    <div class=\"colab-df-buttons\">\n",
              "\n",
              "  <div class=\"colab-df-container\">\n",
              "    <button class=\"colab-df-convert\" onclick=\"convertToInteractive('df-e3f1c45a-7f05-416d-a183-ac048d17d46e')\"\n",
              "            title=\"Convert this dataframe to an interactive table.\"\n",
              "            style=\"display:none;\">\n",
              "\n",
              "  <svg xmlns=\"http://www.w3.org/2000/svg\" height=\"24px\" viewBox=\"0 -960 960 960\">\n",
              "    <path d=\"M120-120v-720h720v720H120Zm60-500h600v-160H180v160Zm220 220h160v-160H400v160Zm0 220h160v-160H400v160ZM180-400h160v-160H180v160Zm440 0h160v-160H620v160ZM180-180h160v-160H180v160Zm440 0h160v-160H620v160Z\"/>\n",
              "  </svg>\n",
              "    </button>\n",
              "\n",
              "  <style>\n",
              "    .colab-df-container {\n",
              "      display:flex;\n",
              "      gap: 12px;\n",
              "    }\n",
              "\n",
              "    .colab-df-convert {\n",
              "      background-color: #E8F0FE;\n",
              "      border: none;\n",
              "      border-radius: 50%;\n",
              "      cursor: pointer;\n",
              "      display: none;\n",
              "      fill: #1967D2;\n",
              "      height: 32px;\n",
              "      padding: 0 0 0 0;\n",
              "      width: 32px;\n",
              "    }\n",
              "\n",
              "    .colab-df-convert:hover {\n",
              "      background-color: #E2EBFA;\n",
              "      box-shadow: 0px 1px 2px rgba(60, 64, 67, 0.3), 0px 1px 3px 1px rgba(60, 64, 67, 0.15);\n",
              "      fill: #174EA6;\n",
              "    }\n",
              "\n",
              "    .colab-df-buttons div {\n",
              "      margin-bottom: 4px;\n",
              "    }\n",
              "\n",
              "    [theme=dark] .colab-df-convert {\n",
              "      background-color: #3B4455;\n",
              "      fill: #D2E3FC;\n",
              "    }\n",
              "\n",
              "    [theme=dark] .colab-df-convert:hover {\n",
              "      background-color: #434B5C;\n",
              "      box-shadow: 0px 1px 3px 1px rgba(0, 0, 0, 0.15);\n",
              "      filter: drop-shadow(0px 1px 2px rgba(0, 0, 0, 0.3));\n",
              "      fill: #FFFFFF;\n",
              "    }\n",
              "  </style>\n",
              "\n",
              "    <script>\n",
              "      const buttonEl =\n",
              "        document.querySelector('#df-e3f1c45a-7f05-416d-a183-ac048d17d46e button.colab-df-convert');\n",
              "      buttonEl.style.display =\n",
              "        google.colab.kernel.accessAllowed ? 'block' : 'none';\n",
              "\n",
              "      async function convertToInteractive(key) {\n",
              "        const element = document.querySelector('#df-e3f1c45a-7f05-416d-a183-ac048d17d46e');\n",
              "        const dataTable =\n",
              "          await google.colab.kernel.invokeFunction('convertToInteractive',\n",
              "                                                    [key], {});\n",
              "        if (!dataTable) return;\n",
              "\n",
              "        const docLinkHtml = 'Like what you see? Visit the ' +\n",
              "          '<a target=\"_blank\" href=https://colab.research.google.com/notebooks/data_table.ipynb>data table notebook</a>'\n",
              "          + ' to learn more about interactive tables.';\n",
              "        element.innerHTML = '';\n",
              "        dataTable['output_type'] = 'display_data';\n",
              "        await google.colab.output.renderOutput(dataTable, element);\n",
              "        const docLink = document.createElement('div');\n",
              "        docLink.innerHTML = docLinkHtml;\n",
              "        element.appendChild(docLink);\n",
              "      }\n",
              "    </script>\n",
              "  </div>\n",
              "\n",
              "\n",
              "<div id=\"df-ef6d7507-a060-4a04-b755-3a4840868d65\">\n",
              "  <button class=\"colab-df-quickchart\" onclick=\"quickchart('df-ef6d7507-a060-4a04-b755-3a4840868d65')\"\n",
              "            title=\"Suggest charts\"\n",
              "            style=\"display:none;\">\n",
              "\n",
              "<svg xmlns=\"http://www.w3.org/2000/svg\" height=\"24px\"viewBox=\"0 0 24 24\"\n",
              "     width=\"24px\">\n",
              "    <g>\n",
              "        <path d=\"M19 3H5c-1.1 0-2 .9-2 2v14c0 1.1.9 2 2 2h14c1.1 0 2-.9 2-2V5c0-1.1-.9-2-2-2zM9 17H7v-7h2v7zm4 0h-2V7h2v10zm4 0h-2v-4h2v4z\"/>\n",
              "    </g>\n",
              "</svg>\n",
              "  </button>\n",
              "\n",
              "<style>\n",
              "  .colab-df-quickchart {\n",
              "      --bg-color: #E8F0FE;\n",
              "      --fill-color: #1967D2;\n",
              "      --hover-bg-color: #E2EBFA;\n",
              "      --hover-fill-color: #174EA6;\n",
              "      --disabled-fill-color: #AAA;\n",
              "      --disabled-bg-color: #DDD;\n",
              "  }\n",
              "\n",
              "  [theme=dark] .colab-df-quickchart {\n",
              "      --bg-color: #3B4455;\n",
              "      --fill-color: #D2E3FC;\n",
              "      --hover-bg-color: #434B5C;\n",
              "      --hover-fill-color: #FFFFFF;\n",
              "      --disabled-bg-color: #3B4455;\n",
              "      --disabled-fill-color: #666;\n",
              "  }\n",
              "\n",
              "  .colab-df-quickchart {\n",
              "    background-color: var(--bg-color);\n",
              "    border: none;\n",
              "    border-radius: 50%;\n",
              "    cursor: pointer;\n",
              "    display: none;\n",
              "    fill: var(--fill-color);\n",
              "    height: 32px;\n",
              "    padding: 0;\n",
              "    width: 32px;\n",
              "  }\n",
              "\n",
              "  .colab-df-quickchart:hover {\n",
              "    background-color: var(--hover-bg-color);\n",
              "    box-shadow: 0 1px 2px rgba(60, 64, 67, 0.3), 0 1px 3px 1px rgba(60, 64, 67, 0.15);\n",
              "    fill: var(--button-hover-fill-color);\n",
              "  }\n",
              "\n",
              "  .colab-df-quickchart-complete:disabled,\n",
              "  .colab-df-quickchart-complete:disabled:hover {\n",
              "    background-color: var(--disabled-bg-color);\n",
              "    fill: var(--disabled-fill-color);\n",
              "    box-shadow: none;\n",
              "  }\n",
              "\n",
              "  .colab-df-spinner {\n",
              "    border: 2px solid var(--fill-color);\n",
              "    border-color: transparent;\n",
              "    border-bottom-color: var(--fill-color);\n",
              "    animation:\n",
              "      spin 1s steps(1) infinite;\n",
              "  }\n",
              "\n",
              "  @keyframes spin {\n",
              "    0% {\n",
              "      border-color: transparent;\n",
              "      border-bottom-color: var(--fill-color);\n",
              "      border-left-color: var(--fill-color);\n",
              "    }\n",
              "    20% {\n",
              "      border-color: transparent;\n",
              "      border-left-color: var(--fill-color);\n",
              "      border-top-color: var(--fill-color);\n",
              "    }\n",
              "    30% {\n",
              "      border-color: transparent;\n",
              "      border-left-color: var(--fill-color);\n",
              "      border-top-color: var(--fill-color);\n",
              "      border-right-color: var(--fill-color);\n",
              "    }\n",
              "    40% {\n",
              "      border-color: transparent;\n",
              "      border-right-color: var(--fill-color);\n",
              "      border-top-color: var(--fill-color);\n",
              "    }\n",
              "    60% {\n",
              "      border-color: transparent;\n",
              "      border-right-color: var(--fill-color);\n",
              "    }\n",
              "    80% {\n",
              "      border-color: transparent;\n",
              "      border-right-color: var(--fill-color);\n",
              "      border-bottom-color: var(--fill-color);\n",
              "    }\n",
              "    90% {\n",
              "      border-color: transparent;\n",
              "      border-bottom-color: var(--fill-color);\n",
              "    }\n",
              "  }\n",
              "</style>\n",
              "\n",
              "  <script>\n",
              "    async function quickchart(key) {\n",
              "      const quickchartButtonEl =\n",
              "        document.querySelector('#' + key + ' button');\n",
              "      quickchartButtonEl.disabled = true;  // To prevent multiple clicks.\n",
              "      quickchartButtonEl.classList.add('colab-df-spinner');\n",
              "      try {\n",
              "        const charts = await google.colab.kernel.invokeFunction(\n",
              "            'suggestCharts', [key], {});\n",
              "      } catch (error) {\n",
              "        console.error('Error during call to suggestCharts:', error);\n",
              "      }\n",
              "      quickchartButtonEl.classList.remove('colab-df-spinner');\n",
              "      quickchartButtonEl.classList.add('colab-df-quickchart-complete');\n",
              "    }\n",
              "    (() => {\n",
              "      let quickchartButtonEl =\n",
              "        document.querySelector('#df-ef6d7507-a060-4a04-b755-3a4840868d65 button');\n",
              "      quickchartButtonEl.style.display =\n",
              "        google.colab.kernel.accessAllowed ? 'block' : 'none';\n",
              "    })();\n",
              "  </script>\n",
              "</div>\n",
              "\n",
              "  <div id=\"id_1c482bc4-2693-40e5-8783-5cb900724da3\">\n",
              "    <style>\n",
              "      .colab-df-generate {\n",
              "        background-color: #E8F0FE;\n",
              "        border: none;\n",
              "        border-radius: 50%;\n",
              "        cursor: pointer;\n",
              "        display: none;\n",
              "        fill: #1967D2;\n",
              "        height: 32px;\n",
              "        padding: 0 0 0 0;\n",
              "        width: 32px;\n",
              "      }\n",
              "\n",
              "      .colab-df-generate:hover {\n",
              "        background-color: #E2EBFA;\n",
              "        box-shadow: 0px 1px 2px rgba(60, 64, 67, 0.3), 0px 1px 3px 1px rgba(60, 64, 67, 0.15);\n",
              "        fill: #174EA6;\n",
              "      }\n",
              "\n",
              "      [theme=dark] .colab-df-generate {\n",
              "        background-color: #3B4455;\n",
              "        fill: #D2E3FC;\n",
              "      }\n",
              "\n",
              "      [theme=dark] .colab-df-generate:hover {\n",
              "        background-color: #434B5C;\n",
              "        box-shadow: 0px 1px 3px 1px rgba(0, 0, 0, 0.15);\n",
              "        filter: drop-shadow(0px 1px 2px rgba(0, 0, 0, 0.3));\n",
              "        fill: #FFFFFF;\n",
              "      }\n",
              "    </style>\n",
              "    <button class=\"colab-df-generate\" onclick=\"generateWithVariable('gdf_doors')\"\n",
              "            title=\"Generate code using this dataframe.\"\n",
              "            style=\"display:none;\">\n",
              "\n",
              "  <svg xmlns=\"http://www.w3.org/2000/svg\" height=\"24px\"viewBox=\"0 0 24 24\"\n",
              "       width=\"24px\">\n",
              "    <path d=\"M7,19H8.4L18.45,9,17,7.55,7,17.6ZM5,21V16.75L18.45,3.32a2,2,0,0,1,2.83,0l1.4,1.43a1.91,1.91,0,0,1,.58,1.4,1.91,1.91,0,0,1-.58,1.4L9.25,21ZM18.45,9,17,7.55Zm-12,3A5.31,5.31,0,0,0,4.9,8.1,5.31,5.31,0,0,0,1,6.5,5.31,5.31,0,0,0,4.9,4.9,5.31,5.31,0,0,0,6.5,1,5.31,5.31,0,0,0,8.1,4.9,5.31,5.31,0,0,0,12,6.5,5.46,5.46,0,0,0,6.5,12Z\"/>\n",
              "  </svg>\n",
              "    </button>\n",
              "    <script>\n",
              "      (() => {\n",
              "      const buttonEl =\n",
              "        document.querySelector('#id_1c482bc4-2693-40e5-8783-5cb900724da3 button.colab-df-generate');\n",
              "      buttonEl.style.display =\n",
              "        google.colab.kernel.accessAllowed ? 'block' : 'none';\n",
              "\n",
              "      buttonEl.onclick = () => {\n",
              "        google.colab.notebook.generateWithVariable('gdf_doors');\n",
              "      }\n",
              "      })();\n",
              "    </script>\n",
              "  </div>\n",
              "\n",
              "    </div>\n",
              "  </div>\n"
            ],
            "text/plain": [
              "        type                                               name  \\\n",
              "120  IfcDoor      K_32_DO_WB_Single:DO.xxxx_1040x2160mm:5054126   \n",
              "148  IfcDoor      K_32_DO_WB_Single:DO.xxxx_1040x2160mm:4946126   \n",
              "150  IfcDoor      K_32_DO_WB_Single:DO.xxxx_1040x2160mm:4946117   \n",
              "161  IfcDoor      K_32_DO_WB_Single:DO.xxxx_1040x2160mm:4945851   \n",
              "163  IfcDoor      K_32_DO_WB_Single:DO.xxxx_1040x2160mm:4945842   \n",
              "..       ...                                                ...   \n",
              "718  IfcDoor  K_32_DO_WB_Single door:DO.xxxx_1250x2300mm:167...   \n",
              "720  IfcDoor  K_32_DO_WB_Single door:DO.xxxx_1250x2300mm:167...   \n",
              "722  IfcDoor  K_32_DO_WB_Single door:DO.xxxx_1250x2300mm:167...   \n",
              "724  IfcDoor  K_32_DO_WB_Single door:DO.xxxx_1250x2300mm:167...   \n",
              "725  IfcDoor  K_32_DO_WB_Single door:DO.xxxx_1250x2300mm:167...   \n",
              "\n",
              "                                              geometry  \n",
              "120  POLYGON ((30.13 26.28, 31.08 26.32, 31.125 26....  \n",
              "148  MULTIPOLYGON (((38.225 10.235, 38.225 11.185, ...  \n",
              "150  POLYGON ((37.155 12.82, 38.105 12.86, 38.15 12...  \n",
              "161  POLYGON ((13.975 10.235, 13.935 11.185, 13.935...  \n",
              "163  MULTIPOLYGON (((15.045 12.82, 15.09 12.86, 15....  \n",
              "..                                                 ...  \n",
              "718  MULTIPOLYGON (((9.442 16.46, 9.415 17.54, 9.41...  \n",
              "720  MULTIPOLYGON (((9.442 23.46, 9.415 24.54, 9.41...  \n",
              "722  MULTIPOLYGON (((9.442 22.06, 9.415 23.14, 9.41...  \n",
              "724  MULTIPOLYGON (((9.442 29.06, 9.415 30.14, 9.41...  \n",
              "725  MULTIPOLYGON (((9.442 27.66, 9.415 28.74, 9.41...  \n",
              "\n",
              "[66 rows x 3 columns]"
            ]
          },
          "execution_count": 6,
          "metadata": {},
          "output_type": "execute_result"
        }
      ],
      "source": [
        "from shapely import wkt\n",
        "import geopandas as gpd\n",
        "\n",
        "# Import function from our own library\n",
        "from utils import make_gdf_valid\n",
        "\n",
        "# Convert Pandas dataframe into a GeoPandas dataframe (> See T2 for details)\n",
        "gs_spaces = gpd.GeoSeries.from_wkt(df_spaces[\"geometry\"])\n",
        "gdf_spaces = gpd.GeoDataFrame(df_spaces, geometry=gs_spaces, crs=\"EPSG:28992\")\n",
        "\n",
        "# Also for the doors\n",
        "gs_doors = gpd.GeoSeries.from_wkt(df_doors[\"geometry\"])\n",
        "gdf_doors = gpd.GeoDataFrame(df_doors, geometry=gs_doors, crs=\"EPSG:28992\")\n",
        "\n",
        "# Some polygons are not 'valid'. The following code makes them valid (no need to understand!)\n",
        "make_gdf_valid(gdf_spaces)\n",
        "make_gdf_valid(gdf_doors)"
      ]
    },
    {
      "cell_type": "markdown",
      "metadata": {
        "id": "FYzoK5-XSPAf"
      },
      "source": [
        "Let's have a look at the ***spaces that contain the letter \"A\"*** (dumped in a new dataframe called `gdf_spaces_A`) and ***spaces that contain a single number only*** (dumped in a new dataframe called `gdf_spaces_num`)."
      ]
    },
    {
      "cell_type": "code",
      "execution_count": null,
      "metadata": {
        "id": "DZAGQR8TH7Mj"
      },
      "outputs": [],
      "source": [
        "gdf_spaces_A = gdf_spaces[gdf_spaces[\"name\"].str.contains(\"A\")]  # Checks whether name contains \"A\"\n",
        "gdf_spaces_num = gdf_spaces[gdf_spaces[\"name\"].str.len() < 4]  # Checks whether the length of the name is less than 4"
      ]
    },
    {
      "cell_type": "markdown",
      "metadata": {
        "id": "RCTVHxiuSh7w"
      },
      "source": [
        "Now let's plot all spaces that contain \"A\", by plotting `gdf_spaces_A`:\n",
        "\n"
      ]
    },
    {
      "cell_type": "code",
      "execution_count": null,
      "metadata": {
        "colab": {
          "base_uri": "https://localhost:8080/",
          "height": 515
        },
        "id": "NtKalP15Ha3b",
        "outputId": "d00466a6-6b97-4584-e0ba-fac60ba7e721"
      },
      "outputs": [
        {
          "data": {
            "image/png": "[encoded data removed]",
            "text/plain": [
              "<Figure size 1000x1000 with 1 Axes>"
            ]
          },
          "metadata": {},
          "output_type": "display_data"
        }
      ],
      "source": [
        "import matplotlib.pyplot as plt\n",
        "\n",
        "# Set up the figure (> See T1 for details)\n",
        "fig, ax = plt.subplots(figsize=(10, 10))\n",
        "ax.axis('off')\n",
        "\n",
        "# Plotting the rooms that contain an \"A\" in the name\n",
        "# Here, we provide the axis onto which to plot as well (keyword is \"ax\")\n",
        "_ = gdf_spaces.plot(ax=ax, column=\"name\", edgecolor=\"black\", facecolor=\"none\")\n",
        "_ = gdf_spaces_A.plot(ax=ax, column=\"name\", legend=True, cmap=\"Set3\")"
      ]
    },
    {
      "cell_type": "markdown",
      "metadata": {
        "id": "uwVjXacJTCdt"
      },
      "source": [
        "Clearly, these ***two rooms are not located in the same apartment!*** On the other hand, we might have discovered that everything with a letter is actually a room!"
      ]
    },
    {
      "cell_type": "code",
      "execution_count": null,
      "metadata": {
        "id": "t2uUGQVInQdr"
      },
      "outputs": [],
      "source": [
        "# Create geopandas dataframe to store the rooms\n",
        "gdf_rooms = gdf_spaces[gdf_spaces[\"name\"].str.len() > 5]  # Same as filtering on a letter. Why?"
      ]
    },
    {
      "cell_type": "markdown",
      "metadata": {
        "id": "pYlikpm_Tj_f"
      },
      "source": [
        "Let's see if we are right:"
      ]
    },
    {
      "cell_type": "code",
      "execution_count": null,
      "metadata": {
        "colab": {
          "base_uri": "https://localhost:8080/",
          "height": 515
        },
        "id": "S1SVKWNmnSgr",
        "outputId": "607bc03f-b5ad-4de8-fef3-236c8596e77b"
      },
      "outputs": [
        {
          "data": {
            "image/png": "[encoded data removed]",
            "text/plain": [
              "<Figure size 1000x1000 with 1 Axes>"
            ]
          },
          "metadata": {},
          "output_type": "display_data"
        }
      ],
      "source": [
        "# Set up the figure (> See T1 for details)\n",
        "fig, ax = plt.subplots(figsize=(10, 10))\n",
        "ax.axis('off')\n",
        "\n",
        "# Plotting the rooms that contain an \"A\" in the name\n",
        "# Here, we provide the axis onto which to plot as well (keyword is \"ax\")\n",
        "_ = gdf_spaces.plot(ax=ax, column=\"name\", edgecolor=\"black\", facecolor=\"none\")\n",
        "_ = gdf_rooms.plot(ax=ax, column=\"name\", legend=False, cmap=\"Set3\")"
      ]
    },
    {
      "cell_type": "markdown",
      "metadata": {
        "id": "KNv7_HxFTmer"
      },
      "source": [
        "Indeed, we are right.\n",
        "\n",
        "Now let's have a look at the spaces in `gdf_spaces_num`:"
      ]
    },
    {
      "cell_type": "code",
      "execution_count": null,
      "metadata": {
        "colab": {
          "base_uri": "https://localhost:8080/",
          "height": 515
        },
        "id": "rckIjlzJJvA5",
        "outputId": "3d6a8bd0-ffdb-4668-f13c-3dd9d9a2aa52"
      },
      "outputs": [
        {
          "data": {
            "image/png": "[encoded data removed]",
            "text/plain": [
              "<Figure size 1000x1000 with 1 Axes>"
            ]
          },
          "metadata": {},
          "output_type": "display_data"
        }
      ],
      "source": [
        "# Set up the figure\n",
        "fig, ax = plt.subplots(figsize=(10, 10))\n",
        "ax.axis('off')\n",
        "\n",
        "# Plotting the rooms thar are solely a number\n",
        "# Here, we provide the axis onto which to plot as well (keyword is \"ax\")\n",
        "_ = gdf_spaces.plot(ax=ax, column=\"name\", edgecolor=\"black\", facecolor=\"none\")\n",
        "_ = gdf_spaces_num.plot(ax=ax, column=\"name\", legend=True, cmap=\"Set3\")"
      ]
    },
    {
      "cell_type": "markdown",
      "metadata": {
        "id": "zbarniDkM5H8"
      },
      "source": [
        "Let's get rid of the one with number 201, by simply allowing only strings of length 2 (or less), which means: only numbers between 0 and 99 are sampled.\n",
        "To be precise: between -99 and 99."
      ]
    },
    {
      "cell_type": "code",
      "execution_count": null,
      "metadata": {
        "id": "diGdWV7vLG7B"
      },
      "outputs": [],
      "source": [
        "gdf_units = gdf_spaces[gdf_spaces[\"name\"].str.len() < 3]  # Checks whether the length of the name is less than 3\n",
        "# Note here that we overwrite the previously defined 'gdf_units' !"
      ]
    },
    {
      "cell_type": "code",
      "execution_count": null,
      "metadata": {
        "colab": {
          "base_uri": "https://localhost:8080/",
          "height": 515
        },
        "id": "X_LslHVZLJPp",
        "outputId": "3cfd9d70-da85-4923-d338-43e5c7a18513"
      },
      "outputs": [
        {
          "data": {
            "image/png": "[encoded data removed]",
            "text/plain": [
              "<Figure size 1000x1000 with 1 Axes>"
            ]
          },
          "metadata": {},
          "output_type": "display_data"
        }
      ],
      "source": [
        "# Set up the figure\n",
        "fig, ax = plt.subplots(figsize=(10, 10))\n",
        "ax.axis('off')\n",
        "\n",
        "# Plotting the rooms that contain a single number between -99 and 99\n",
        "# Here, we provide the axis onto which to plot as well (keyword is \"ax\")\n",
        "_ = gdf_spaces.plot(ax=ax, column=\"name\", edgecolor=\"black\", facecolor=\"none\")\n",
        "_ = gdf_units.plot(ax=ax, column=\"name\", legend=True, cmap=\"Set3\")"
      ]
    },
    {
      "cell_type": "markdown",
      "metadata": {
        "id": "cVxI14RWN361"
      },
      "source": [
        "That looks more like it.\n",
        "Indeed: the IfcSpace type elements with numbers smaller than 100 are indeed (sort of) representing the apartment units.\n",
        "Some of the spaces (\"74\", \"75\", and \"76\") are not apartments, but rather lay outside the apartments and are likely (semi-)public.\n",
        "\n",
        "We have enough ingredients to define an algorithm that extracts the individual units.\n",
        "Many algorithms of course exist, and the idea for your projects is that you find the most suitable in your case (read: one that works).\n",
        "\n",
        "In the case of Strijp S, we set it up as follows:\n",
        "- **(A)** Create an empty dictionary called `dict_floor`.\n",
        "- **(B)** Using a `for` loop, iterate through the rows in `gdf_units`. The rows will include the ones that are not units, such as \"74\" (see figure above). Why don't we leave them out? We don't have a proper way yet to exclude them yet! Or can you think of one?\n",
        "- **(C)** For each item (which is a unit), create an empty lists to store 1) the room geometries, 2) the corresponding names, and 3) the door geometries.\n",
        "-**(D)** For each item check the overlap between the rooms (in `gdf_rooms`) and the doors (in `gdf_doors`).\n",
        "-**(E)** If there is a reasonable overlap between the shape of the unit and the shape of the room or door (more than, say, 0.3 $m^2$) append it to the lists accordingly\n",
        "-**(F)** In the case of a room, append the room's name (e.g., \"06.E07.01\") to the list of names and the Polygonal shape of the room to the list of shapes.\n",
        "-**(G)** When the loop for a unit is finished, create a dictionary with keys called \"room geometries\", \"room names\", and \"door geometries\" with the corresponding lists as values.\n",
        "-**(H)** This dictionary will serve as value for the larger dictionary to store the whole floor (`dict_floor`): key = unit's name (e.g., \"65\") and value: the unit's dictionary.\n",
        "-**(I)** Don't add a key-value pair for which the number of rooms is less than 3 (i.e., `len(polygons_room) < 3`).\n",
        "This will get rid of the elements in `gdf_units` that are *not* units, such as \"74\".\n",
        "\n",
        "The following code block will do exactly the above.\n",
        "It is quite long.\n",
        "To make it less daunting, ***try to go through it line by line***."
      ]
    },
    {
      "cell_type": "code",
      "execution_count": null,
      "metadata": {
        "id": "J4orHnajJ9K_"
      },
      "outputs": [],
      "source": [
        "# Set empty dictionary for a floor plan\n",
        "dict_floor = {}  # (A) above\n",
        "\n",
        "# Loop through units\n",
        "# Looping through GeoPandas dataframes can be down by gdf.iterrows()\n",
        "for elem_unit in gdf_units.itertuples():  # (B) above\n",
        "\n",
        "    # Extract geometry (polygon) and name of the UNIT\n",
        "    poly_unit = elem_unit.geometry\n",
        "    name_unit = elem_unit.name\n",
        "\n",
        "    # 1) Aggregate rooms and names\n",
        "    polygons_room = []  # (C) above\n",
        "    names_room = []  # (C) above\n",
        "    for elem_room in gdf_rooms.itertuples():\n",
        "\n",
        "        # Extract geometry (polygon) and name of the ROOM\n",
        "        poly_room = elem_room.geometry\n",
        "        name_room = elem_room.name\n",
        "\n",
        "        # Don't consider spaces smaller than 1 m2\n",
        "        if poly_room.area < 1: continue  # Continue means: go directly to next iteration\n",
        "\n",
        "        # Compute intersection\n",
        "        intersection = poly_unit.intersection(poly_room)  # (D) above\n",
        "        if intersection.area > 0.3:  # (E) above\n",
        "            polygons_room.append(poly_room)   # (F) above\n",
        "            names_room.append(name_room)  # (F) above\n",
        "\n",
        "    # 2) Aggregate doors. Nearly equivalent to 1).\n",
        "    polygons_door = []  # (C) above\n",
        "    for elem_door in gdf_doors.itertuples():\n",
        "\n",
        "        # Extract geometry (polygon) of the DOOR\n",
        "        poly_door = elem_door.geometry\n",
        "\n",
        "        # Check intersection\n",
        "        if poly_unit.intersects(poly_door):  # (E) above\n",
        "            polygons_door.append(poly_door)  # (F) above\n",
        "\n",
        "    # Check number of rooms in unit\n",
        "    # And: consider units with more than 2 rooms only\n",
        "    if len(polygons_room) > 2:  # (I)\n",
        "\n",
        "        # 3) Add to dictionary\n",
        "        dict_floor[name_unit] = {\"room geometries\": polygons_room,  # (G and H)\n",
        "                                            \"room names\": names_room,\n",
        "                                            \"door geometries\": polygons_door}"
      ]
    },
    {
      "cell_type": "markdown",
      "metadata": {
        "id": "R_V290YNqmKB"
      },
      "source": [
        "Now, let's have a look at our dictionary.\n",
        "There exists a nice library for printing slightly nicer: `pprint`, which short for ***pretty*** print."
      ]
    },
    {
      "cell_type": "code",
      "execution_count": null,
      "metadata": {
        "colab": {
          "base_uri": "https://localhost:8080/"
        },
        "id": "E7pF_NNoqrgg",
        "outputId": "d92e5c6e-c08d-4b51-d57c-cdaa5c966ec5"
      },
      "outputs": [
        {
          "name": "stdout",
          "output_type": "stream",
          "text": [
            "{'door geometries': [<POLYGON ((13.975 10.235, 13.935 11.185, 13.935 11.23, 14.025 11.23, 14.025 ...>,\n",
            "                     <MULTIPOLYGON (((15.045 12.82, 15.09 12.86, 15.09 12.77, 15.03 12.77, 15.03 ...>,\n",
            "                     <MULTIPOLYGON (((21.005 13.195, 21.005 14.155, 21.045 14.155, 21.045 13.195,...>,\n",
            "                     <MULTIPOLYGON (((18.38 14.2, 18.34 14.2, 18.34 14.29, 18.4 14.29, 18.4 14.27...>,\n",
            "                     <POLYGON ((19.455 14.24, 20.175 14.24, 20.175 14.27, 20.16 14.27, 20.16 14.2...>,\n",
            "                     <MULTIPOLYGON (((9.442 10.86, 9.415 11.94, 9.415 12.005, 9.423 12.005, 9.423...>,\n",
            "                     <MULTIPOLYGON (((9.442 12.26, 9.415 13.34, 9.415 13.405, 9.423 13.405, 9.423...>],\n",
            " 'room geometries': [<MULTIPOLYGON (((20.696 9.52, 16.315 9.52, 16.315 11.23, 16.965 11.23, 16.96...>,\n",
            "                     <POLYGON ((16.215 9.52, 14.035 9.52, 14.035 11.23, 16.018 11.23, 16.215 11.2...>,\n",
            "                     <MULTIPOLYGON (((15.09 12.76, 15.09 12.745, 16.85 12.745, 16.85 11.83, 15.95...>,\n",
            "                     <POLYGON ((9.635 12.195, 9.635 14.72, 18.24 14.72, 18.24 14.618, 18.24 14.30...>],\n",
            " 'room names': ['06.B03.01', '06.B02.02', '06.B02.01', '06.A01.01']}\n"
          ]
        }
      ],
      "source": [
        "from pprint import pprint  # Package to print a bit nicer!\n",
        "\n",
        "# Only print apartment called \"65\"\n",
        "pprint(dict_floor['65'])"
      ]
    },
    {
      "cell_type": "markdown",
      "metadata": {
        "id": "qfEQU_9TtBt2"
      },
      "source": [
        "That is looking good! Let's plot them.\n",
        "To do this, we will use slightly different plotting functions.\n",
        "We will use the once from our own repository.\n",
        "The function is called `draw_polygon()`."
      ]
    },
    {
      "cell_type": "code",
      "execution_count": null,
      "metadata": {
        "colab": {
          "base_uri": "https://localhost:8080/",
          "height": 548
        },
        "id": "A2Ydawd1vRhS",
        "outputId": "425a6aea-494d-4b6a-f2ef-6318c4e60721"
      },
      "outputs": [
        {
          "data": {
            "image/png": "[encoded data removed]",
            "text/plain": [
              "<Figure size 1000x1000 with 1 Axes>"
            ]
          },
          "metadata": {},
          "output_type": "display_data"
        }
      ],
      "source": [
        "# Import function to draw a polygonal shape from our library\n",
        "from utils import draw_shape, generate_color\n",
        "\n",
        "# Get dictionary of unit \"65\" (> See T1 for slicing a dictionary based on the key)\n",
        "dict_unit_65 = dict_floor['65']\n",
        "\n",
        "# Set up the figure\n",
        "fig, ax = plt.subplots(figsize=(10, 10))\n",
        "ax.axis('off')\n",
        "\n",
        "# Plot all units\n",
        "_ = gdf_units.plot(ax=ax, column=\"name\", edgecolor=\"black\", facecolor=\"none\", linewidth=0.5)\n",
        "\n",
        "# Plot the rooms in the unit -> Loop over the key ''room geometries\"\n",
        "for poly in dict_unit_65['room geometries']:\n",
        "    color = generate_color() # Color each shape differently!\n",
        "    draw_shape(ax, poly, facecolor=color, edgecolor=\"none\")\n",
        "\n",
        "# Plot the doors in the unit -> Loop over the key \"door geometries\"\n",
        "for poly in dict_unit_65['door geometries']:\n",
        "    draw_shape(ax, poly, facecolor='blue', edgecolor=\"black\")"
      ]
    },
    {
      "cell_type": "markdown",
      "metadata": {
        "id": "FteqzdcxxdsC"
      },
      "source": [
        "Perfect!\n",
        "That looks very good.\n",
        "\n",
        "Now, we are ready to extract the apartment-level graphs."
      ]
    },
    {
      "cell_type": "markdown",
      "metadata": {
        "id": "ZreKdCYmA1Lu"
      },
      "source": [
        "### **Graph extraction algorithm**\n",
        "\n",
        "In this part of the notebook, we extract the access graphs from the apartment dictionaries.\n",
        "We will use the graph extraction algorithm from our own library (`extract_access_graph`).\n",
        "The algorithm converts a list of IFC building elements into an access graph where nodes represent rooms and edges represent connections between them.\n",
        "The ***algorithm loops through all combinations of room pairs and identifies their connections*** in three ways:\n",
        "direct ***passage*** (if rooms are extremely close and do not have a wall in between them), through a ***door*** (if a door intersects both rooms), and ***adjacency*** (if rooms share a wall but have no door).\n",
        "Each connection is labeled as either accessible (`\"connectivity\"` = 1) or not accessible (`\"connectivity\"` = 0).\n",
        "\n",
        "Are you curious how this is set up specifically? Have a look at the `utils.py` file which you can find under the `Files` tab in the navigation pane on the left. Double click on the file and it will appear on the right side of the notebook."
      ]
    },
    {
      "cell_type": "code",
      "execution_count": null,
      "metadata": {
        "id": "st7o4kfWdgHg"
      },
      "outputs": [],
      "source": [
        "# Import function to extract a graph from our library\n",
        "from utils import extract_access_graph\n",
        "\n",
        "# Create empty list to store the graphs\n",
        "list_graphs = []\n",
        "\n",
        "# Loop through items in the dictionary\n",
        "# They come in key-value pairs\n",
        "for unit_name, unit_dict in dict_floor.items():\n",
        "\n",
        "    # Extract relevant information from the unit's dictionary\n",
        "    polygons_room = unit_dict['room geometries']\n",
        "    names_room = unit_dict['room names']\n",
        "    polygons_door = unit_dict['door geometries']\n",
        "\n",
        "    # Extract access graph\n",
        "    G = extract_access_graph(polygons_room, polygons_door, names_room, unit_name)\n",
        "\n",
        "    # Append the graph to the list\n",
        "    list_graphs.append(G)"
      ]
    },
    {
      "cell_type": "code",
      "execution_count": null,
      "metadata": {
        "colab": {
          "base_uri": "https://localhost:8080/"
        },
        "id": "BbhFEk47hvmK",
        "outputId": "7e1ed513-3af3-457b-9baf-0ff2790b8662"
      },
      "outputs": [
        {
          "name": "stdout",
          "output_type": "stream",
          "text": [
            "Number of apartment graphs in 6-th floor: 9\n",
            "\n",
            "Unit 72: Graph with 4 nodes and 3 edges\n",
            "Unit 73: Graph with 5 nodes and 7 edges\n",
            "Unit 70: Graph with 4 nodes and 5 edges\n",
            "Unit 71: Graph with 4 nodes and 5 edges\n",
            "Unit 67: Graph with 4 nodes and 5 edges\n",
            "Unit 68: Graph with 4 nodes and 5 edges\n",
            "Unit 69: Graph with 5 nodes and 7 edges\n",
            "Unit 65: Graph with 4 nodes and 6 edges\n",
            "Unit 66: Graph with 4 nodes and 6 edges\n"
          ]
        }
      ],
      "source": [
        "print(f\"Number of apartment graphs in 6-th floor: {len(list_graphs)}\\n\")\n",
        "for G in list_graphs:\n",
        "    print(f\"Unit {G.graph['apartment name']}: {G}\")"
      ]
    },
    {
      "cell_type": "code",
      "execution_count": null,
      "metadata": {
        "colab": {
          "base_uri": "https://localhost:8080/",
          "height": 515
        },
        "id": "bxakSGyRkcQB",
        "outputId": "1b534660-055d-45c6-ff63-4dc361ad5238"
      },
      "outputs": [
        {
          "data": {
            "image/png": "[encoded data removed]",
            "text/plain": [
              "<Figure size 1000x1000 with 1 Axes>"
            ]
          },
          "metadata": {},
          "output_type": "display_data"
        }
      ],
      "source": [
        "# Import function to draw a graph from our library\n",
        "from utils import draw_graph\n",
        "\n",
        "# Set up the figure\n",
        "fs = 10\n",
        "fig, ax = plt.subplots(figsize=(fs, fs))\n",
        "ax.axis('off')\n",
        "\n",
        "# Plot all units\n",
        "_ = gdf_rooms.plot(ax=ax, column=\"name\", edgecolor=\"black\", facecolor=\"none\", linewidth=0.5)\n",
        "\n",
        "for G in list_graphs:\n",
        "    color = generate_color()  # Color each graph differently!\n",
        "    draw_graph(G, ax, node_color=color, edge_color=color, node_size=fs*4, edge_width=fs/10)"
      ]
    },
    {
      "cell_type": "markdown",
      "metadata": {
        "id": "2IldN6wGkm1l"
      },
      "source": [
        "Great, the graphs are properly extracted and visualized!\n",
        "\n",
        "You can store the graphs in a folder as follows:"
      ]
    },
    {
      "cell_type": "code",
      "execution_count": null,
      "metadata": {
        "id": "P-MeZeTNknGq"
      },
      "outputs": [],
      "source": [
        "# Create a directory to store the graphs in\n",
        "path_graphs = r\"/content/drive/MyDrive/academia/8 data/KAAN_datasets/STRIJP/Apartment Graphs\"\n",
        "os.makedirs(path_graphs, exist_ok=True)"
      ]
    },
    {
      "cell_type": "code",
      "execution_count": null,
      "metadata": {
        "id": "LIv9Sxz1lv_J"
      },
      "outputs": [],
      "source": [
        "from utils import save_pickle\n",
        "\n",
        "name_save = \"/content/drive/MyDrive/academia/8 data/KAAN_datasets/STRIJP/Apartment Graphs/6th floor.pickle\"\n",
        "save_pickle(list_graphs, name_save)"
      ]
    },
    {
      "cell_type": "markdown",
      "metadata": {
        "id": "XaDya2-7BFGc"
      },
      "source": [
        "## **(3) Assignment**\n",
        "\n",
        "Develop your own code to convert the data frames of your projects into an apartment-level graph dataset.\n",
        "It should be done for each floor of your project, if that floor contains residential apartments.\n",
        "\n",
        "In the case of Strijp S: make sure that the balconies are also included in the apartment graphs.\n",
        "To do this, you must modify the code block that gather the IFC building elements per apartment.\n",
        "\n",
        "In the case of the other projects, please be aware that they (likely) have other conventions for naming the IFC building elements!\n",
        "\n",
        "- **Apartment extraction** (5 pt)\n",
        "    - Code block that loads dataframe of a building's floor and converts it into a valid dataframe of spaces and doors. (1 pt)\n",
        "    - Code block that creates a dictionary of the floor that contains dictionaries of the units, including their IFC building elements. These should be three lists: one for room geometries, one for room names, one for door geometries. (2 pt)\n",
        "    - Provide plots to show that the correct elements are sampled. (2 pt)\n",
        "- **Graph extraction** (5 pt)\n",
        "    - Code block that extracts the access graphs for all units within the larger (floor) dictionary. Should be a list of graphs. (2 pt)\n",
        "    - Visualize all graphs on top of the floor. (You may choose which floor.) (2 pt)\n",
        "    - Append all graphs (across all floors) in one list. (1 pt)\n",
        "- **Save** (1 pt)\n",
        "    - Save the list of graphs in a dedicated folder in your *Google Drive*. (1 pt)"
      ]
    }
  ],
  "metadata": {
    "colab": {
      "provenance": []
    },
    "kernelspec": {
      "display_name": "Python 3",
      "name": "python3"
    },
    "language_info": {
      "name": "python"
    }
  },
  "nbformat": 4,
  "nbformat_minor": 0
}
