{
  "nbformat": 4,
  "nbformat_minor": 0,
  "metadata": {
    "colab": {
      "provenance": [],
      "toc_visible": true,
      "authorship_tag": "ABX9TyPx4jgC5AfVW3E/TfYBZLsv",
      "include_colab_link": true
    },
    "kernelspec": {
      "name": "python3",
      "display_name": "Python 3"
    },
    "language_info": {
      "name": "python"
    }
  },
  "cells": [
    {
      "cell_type": "markdown",
      "metadata": {
        "id": "view-in-github",
        "colab_type": "text"
      },
      "source": [
        "<a href=\"https://colab.research.google.com/github/AiDAPT-A/2024-Q3-ai-in-architecture/blob/main/NB_tutorial_template.ipynb\" target=\"_parent\"><img src=\"https://colab.research.google.com/assets/colab-badge.svg\" alt=\"Open In Colab\"/></a>"
      ]
    },
    {
      "cell_type": "markdown",
      "source": [
        "# **Name of tutorial: subheader of tutorial**\n",
        "\n",
        "Add here a 1-sentence introduction to the tutorial.\n",
        "\n",
        "![add \"motivational\" figure of tutorial, 2:1 and a width of 750px orso ratio]() $\\rightarrow$ example below. (See Teams chat for how to add images from an open folder in your or a shared Drive to a Google Collaboratory notebook.)\n",
        "\n",
        "<center>\n",
        "<img src=\"https://drive.google.com/uc?export=view&id=1bPb5V4pLmKfUfP77vLVVMRB2_NMLUI7Z\" alt=\"floor-layout\" class=\"center\" width=\"750px\">\n",
        "</center>"
      ],
      "metadata": {
        "id": "gTqEKMg8a82O"
      }
    },
    {
      "cell_type": "markdown",
      "source": [
        "## 📌 **Overview and learning objectives**\n",
        "\n",
        "This tutorial is about ... (about 2 or 3 sentences)\n",
        "\n",
        "### 🧠 **Learning objectives**\n",
        "- Learning objective 1 (topic 1)\n",
        "- Learning objective 2 (topic 2)\n",
        "- Learning objective 3 (topic 3)\n",
        "\n",
        "### 🐍 **New in Python**\n",
        "- data structures: `int`, `float`, `list`, `tuple`, `numpy.array`\n",
        "- plotting: plotting polygonal shapes, elementary figure make up\n",
        "- create a function\n",
        "- for loops\n",
        "- libraries: `numpy`, `matplotlib`\n",
        "\n",
        "### ♌ [**Topic 1**](#t1)\n",
        "- [Sub-topic 1.1](#t1.1)\n",
        "- [Sub-topic 1.2](#t1.2)\n",
        "- [Sub-topic 1.3](#t1.3)\n",
        "- ...\n",
        "\n",
        "### ♒ **Topic 2**\n",
        "- Sub-topic 2.1\n",
        "- Sub-topic 2.2\n",
        "- Sub-topic 2.3\n",
        "- ...\n",
        "\n",
        "### ♈ **Topic 3**\n",
        "- Sub-topic 3.1\n",
        "- Sub-topic 3.2\n",
        "- Sub-topic 3.3\n",
        "- ...\n",
        "\n",
        "---\n",
        "\n",
        "**Guidelines** on headers:\n",
        "- Section and subsection headers are in bold-faced text\n",
        "- Topics have emoticons; sub-topics have not\n",
        "- Sub-topics have a number indication *e.g.* 1.1 (in normal text, *not* in bold)\n",
        "- Add internal links to every topic *and* sub-topic. See first answer [here](https://stackoverflow.com/questions/63291627/how-to-do-internal-links-in-google-colab#:~:text=With%20Colab%20you%20have%20to,you%20want%20to%20link%20to.), or copy-paste how it is done in this notebook. I only did it for Topic 1 and Sub-topics 1.1 - 1.3.\n",
        "\n",
        "**Guidelines** on topic division:\n",
        "- Around 3 different topics\n",
        "- Around 3 different sub-topics per topic\n"
      ],
      "metadata": {
        "id": "4rUAcE-2bKn2"
      }
    },
    {
      "cell_type": "markdown",
      "source": [
        "<a name=\"t1\"></a>\n",
        "## ♌ **Topic 1**\n",
        "\n",
        "Topic one is about ... (about 2 or 3 sentences)"
      ],
      "metadata": {
        "id": "Nm5iaNjad3pE"
      }
    },
    {
      "cell_type": "markdown",
      "source": [
        "<a name=\"t1.1\"></a>\n",
        "### 1.1 **Sub-topic 1.1**\n",
        "\n",
        "Add content text and code here.\n",
        "\n"
      ],
      "metadata": {
        "id": "3wkD0whwd_Eu"
      }
    },
    {
      "cell_type": "code",
      "execution_count": null,
      "metadata": {
        "id": "rA4Jl1p2a1EX"
      },
      "outputs": [],
      "source": []
    },
    {
      "cell_type": "markdown",
      "source": [
        "<a name=\"t1.2\"></a>\n",
        "### 1.2 **Sub-topic 1.2**\n",
        "\n",
        "Add content text and code here.\n"
      ],
      "metadata": {
        "id": "ABU50u34fA1r"
      }
    },
    {
      "cell_type": "code",
      "execution_count": null,
      "metadata": {
        "id": "V_WbvEXIfA1s"
      },
      "outputs": [],
      "source": []
    },
    {
      "cell_type": "markdown",
      "source": [
        "<a name=\"t1.3\"></a>\n",
        "### 1.3 **Sub-topic 1.3**\n",
        "\n",
        "Add content text and code here.\n"
      ],
      "metadata": {
        "id": "fRVuQFA6fBk7"
      }
    },
    {
      "cell_type": "code",
      "execution_count": null,
      "metadata": {
        "id": "mv28TpCYfBk7"
      },
      "outputs": [],
      "source": []
    },
    {
      "cell_type": "markdown",
      "source": [
        "## ♒ **Topic 2**\n",
        "\n",
        "Topic one is about ... (about 2 or 3 sentences)"
      ],
      "metadata": {
        "id": "UoIv_CnFgmQK"
      }
    },
    {
      "cell_type": "markdown",
      "source": [
        "### 2.1 **Sub-topic 2.1**\n",
        "\n",
        "Add content text and code here.\n",
        "\n"
      ],
      "metadata": {
        "id": "lf6vvNLXgmQS"
      }
    },
    {
      "cell_type": "code",
      "execution_count": null,
      "metadata": {
        "id": "M6rLgRm8gmQS"
      },
      "outputs": [],
      "source": []
    },
    {
      "cell_type": "markdown",
      "source": [
        "### 2.2 **Sub-topic 2.2**\n",
        "\n",
        "Add content text and code here.\n"
      ],
      "metadata": {
        "id": "1DCDY_awgmQS"
      }
    },
    {
      "cell_type": "code",
      "execution_count": null,
      "metadata": {
        "id": "A3gLbSQFgmQS"
      },
      "outputs": [],
      "source": []
    },
    {
      "cell_type": "markdown",
      "source": [
        "### 2.3 **Sub-topic 2.3**\n",
        "\n",
        "Add content text and code here.\n"
      ],
      "metadata": {
        "id": "49DLTOMggmQS"
      }
    },
    {
      "cell_type": "code",
      "execution_count": null,
      "metadata": {
        "id": "o_Ghul3wgmQS"
      },
      "outputs": [],
      "source": []
    },
    {
      "cell_type": "markdown",
      "source": [
        "## ♈ **Topic 3**\n",
        "\n",
        "Topic one is about ... (about 2 or 3 sentences)"
      ],
      "metadata": {
        "id": "UGs8OGysgnPJ"
      }
    },
    {
      "cell_type": "markdown",
      "source": [
        "### 3.1 **Sub-topic 3.1**\n",
        "\n",
        "Add content text and code here.\n",
        "\n"
      ],
      "metadata": {
        "id": "EBpQJWvJgnPJ"
      }
    },
    {
      "cell_type": "code",
      "execution_count": null,
      "metadata": {
        "id": "dobi_o4kgnPK"
      },
      "outputs": [],
      "source": []
    },
    {
      "cell_type": "markdown",
      "source": [
        "### 3.2 **Sub-topic 3.2**\n",
        "\n",
        "Add content text and code here.\n"
      ],
      "metadata": {
        "id": "PeK5ZoNegnPK"
      }
    },
    {
      "cell_type": "code",
      "execution_count": null,
      "metadata": {
        "id": "7ZKphOadgnPK"
      },
      "outputs": [],
      "source": []
    },
    {
      "cell_type": "markdown",
      "source": [
        "### 3.3 **Sub-topic 3.3**\n",
        "\n",
        "Add content text and code here.\n"
      ],
      "metadata": {
        "id": "CLVGmLYngnPK"
      }
    },
    {
      "cell_type": "code",
      "execution_count": null,
      "metadata": {
        "id": "8oz2ALz8gnPK"
      },
      "outputs": [],
      "source": []
    }
  ]
}