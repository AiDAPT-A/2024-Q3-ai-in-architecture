{
 "cells": [
  {
   "cell_type": "markdown",
   "source": [
    "# Code Canvas"
   ],
   "metadata": {
    "collapsed": false
   }
  },
  {
   "cell_type": "markdown",
   "source": [
    "## Developing your own sketchpad"
   ],
   "metadata": {
    "collapsed": false
   }
  },
  {
   "cell_type": "markdown",
   "source": [
    "## New equipment\n",
    "\n",
    "Python:\n",
    "- Working with **Google Collaboratory**\n",
    "- What are **libraries** and how to use (install) them\n",
    "- **Running cells** and the famous **print function** in Python: \"Hello Architect\""
   ],
   "metadata": {
    "collapsed": false
   }
  },
  {
   "cell_type": "markdown",
   "source": [
    "### Google Collaboratory\n",
    "\n",
    "Google Collaboratory, or in short Colab, is a *free-to-use cloud service* hosted by Google.\n",
    "\n",
    "**Colab notebooks**\n",
    "The main feature of Colab is the platform for writing and executing Python code. In fact, you are doing so right now. This *online notebook*, mainly inspired by the [Jupyter Notebook Environment](https://jupyter.org/), seamlessly integrates text (for explanation and structure) and code (for the application). The integration of text and code allows for a fast understanding of programming, as it can be guided by text and visuals, and helps also in the development of your code, because of the chronological structure of the cells - the distinct code blocks - that you can run separately.\n",
    "\n",
    "**Cells**\n",
    "A notebook is a list of cells that either contain text (text cells) or executable code and its output (code cells). Text cells can contain images, Latex, HTML, etc. You can manually add code cells by clicking the +CODE and +TEXT buttons when you hover between cells.\n",
    "\n",
    "**Link to Google Drive**\n",
    "A nice feature of Colab is that you can easily share your code, save it, and, most importantly, that Colab can be coupled to your Google Drive for storing and accessing the data in your own (or shared) folders.\n",
    "\n",
    "**GPU access**\n",
    "Your code runs on a different machine (computer), in a virtual environment that you can set yourself up (more about that later). These machines have access to great hardware accelerators, in the form of graphical processing units (GPUs). GPUs can execute code, especially computations related to data science and machine learning, efficiently and much faster than on a computing processing unit (CPU). (Why is beyond the scope here. Interested nonetheless? Check [this](https://blogs.nvidia.com/blog/whats-the-difference-between-a-cpu-and-a-gpu/).) For running and testing your code on large datasets and big machine learning models (which you will do in later assignments), GPUs are very beneficial and allow for fast training and code prototyping. The type of hardware accelerators can be changed under.\n",
    "\n",
    "**Short keys for running code**\n",
    "Code can be executed by your command. You can hit \"Command/Ctrl+Enter\" or \"Shift+Enter\" to run a code block. Test for yourself the difference between \"Command/Ctrl\" and \"Shift\".\n",
    "\n",
    "Let's run something:\n"
   ],
   "metadata": {
    "collapsed": false
   }
  },
  {
   "cell_type": "code",
   "execution_count": 2,
   "metadata": {
    "collapsed": true,
    "ExecuteTime": {
     "start_time": "2024-01-17T14:43:14.997065Z",
     "end_time": "2024-01-17T14:43:15.016354Z"
    }
   },
   "outputs": [
    {
     "name": "stdout",
     "output_type": "stream",
     "text": [
      "My age is 30\n"
     ]
    }
   ],
   "source": [
    "age = 30 # you can change this your own age\n",
    "print(\"My age is\", age)"
   ]
  },
  {
   "cell_type": "markdown",
   "source": [
    "Don't bother trying to understand yet what happened, but you made the computer say \"My age is ...\". The output - if any - of executing a code cell is always printed just below the code cell itself."
   ],
   "metadata": {
    "collapsed": false
   }
  },
  {
   "cell_type": "markdown",
   "source": [
    "### Python libraries\n",
    "\n",
    "Similar to many other programs, software, toolboxes, etc., Python works with \"plugins\". They are not called plugins, however, but *libraries*.\n",
    "\n",
    "A library is a collection of functions and methods. Functions and methods are reusable chunks of code that can be used to perform some meaningful operation (for example the creation of a rectangular shape). Usually libraries are created for specific tasks, such as data visualization (*e.g.*, `matplotlib`, `seaborn`), math (*e.g.*, `math`, `numpy`), or geospatial data (*e.g.* `geopandas`, `rasterior`).\n",
    "\n",
    "The two libraries, or packages, used in this tutorial are `numpy` and `matplotlib`. The packages are imported as follows:"
   ],
   "metadata": {
    "collapsed": false
   }
  },
  {
   "cell_type": "code",
   "execution_count": 6,
   "outputs": [],
   "source": [
    "import numpy as np\n",
    "import matplotlib as plt"
   ],
   "metadata": {
    "collapsed": false,
    "ExecuteTime": {
     "start_time": "2024-01-17T15:24:46.676704Z",
     "end_time": "2024-01-17T15:24:47.339990Z"
    }
   }
  },
  {
   "cell_type": "markdown",
   "source": [
    "Note: you can import a library under a different name than the original - the alias. You can specify the alias after \"as\". This is usually done to reduce clutter in writing your code by finding appropriate abbreviations. \"np\" and \"plt\" are common aliases for the two packages.\n",
    "\n",
    "Later in the tutorial, you will learn how the packages are used."
   ],
   "metadata": {
    "collapsed": false
   }
  },
  {
   "cell_type": "markdown",
   "source": [
    "### Print!\n",
    "\n",
    "But didn't we use some function already earlier? Yes we did. We used the famous `print function`"
   ],
   "metadata": {
    "collapsed": false
   }
  },
  {
   "cell_type": "code",
   "execution_count": null,
   "outputs": [],
   "source": [],
   "metadata": {
    "collapsed": false
   }
  },
  {
   "cell_type": "markdown",
   "source": [
    "## Elementary architectural structures: points, lines, and shapes\n",
    "\n",
    "Python:\n",
    "- **Integers, floats, lists, and tuples** for storing coordinates to represent points, lines, and shapes\n",
    "- **Numpy arrays** to represent points, lines, and shapes\n",
    "- **Elementary operations** to modify points, lines, and shapes"
   ],
   "metadata": {
    "collapsed": false
   }
  },
  {
   "cell_type": "markdown",
   "source": [
    "### Integers, floats, tuples, and lists to represent structures"
   ],
   "metadata": {
    "collapsed": false
   }
  },
  {
   "cell_type": "code",
   "execution_count": null,
   "outputs": [],
   "source": [],
   "metadata": {
    "collapsed": false,
    "ExecuteTime": {
     "start_time": "2024-01-17T12:27:27.621581Z",
     "end_time": "2024-01-17T12:27:27.637103Z"
    }
   }
  },
  {
   "cell_type": "markdown",
   "source": [
    "### Arrays to represent structures"
   ],
   "metadata": {
    "collapsed": false
   }
  },
  {
   "cell_type": "code",
   "execution_count": null,
   "outputs": [],
   "source": [],
   "metadata": {
    "collapsed": false,
    "ExecuteTime": {
     "start_time": "2024-01-17T12:27:27.637103Z",
     "end_time": "2024-01-17T12:27:27.652659Z"
    }
   }
  },
  {
   "cell_type": "markdown",
   "source": [
    "### Operations to modify structures"
   ],
   "metadata": {
    "collapsed": false
   }
  },
  {
   "cell_type": "code",
   "execution_count": null,
   "outputs": [],
   "source": [],
   "metadata": {
    "collapsed": false
   }
  },
  {
   "cell_type": "markdown",
   "source": [
    "## Visualizing architectural structures\n",
    "\n",
    "Python:\n",
    "- **Matplotlib** to plot points, lines, and shapes\n",
    "- Changing the visual appearance: **coloring and plot make up**"
   ],
   "metadata": {
    "collapsed": false
   }
  },
  {
   "cell_type": "markdown",
   "source": [
    "### Plotting structures"
   ],
   "metadata": {
    "collapsed": false
   }
  },
  {
   "cell_type": "code",
   "execution_count": null,
   "outputs": [],
   "source": [],
   "metadata": {
    "collapsed": false
   }
  },
  {
   "cell_type": "markdown",
   "source": [
    "### Figure make up and coloring"
   ],
   "metadata": {
    "collapsed": false
   }
  },
  {
   "cell_type": "code",
   "execution_count": null,
   "outputs": [],
   "source": [],
   "metadata": {
    "collapsed": false
   }
  },
  {
   "cell_type": "markdown",
   "source": [
    "## Making the architectural structures flexible\n",
    "\n",
    "Python:\n",
    "- Developing **functions** for defining shapes\n",
    "- **Random numbers** to create arbitrary shapes\n",
    "- **Loops** for faster development"
   ],
   "metadata": {
    "collapsed": false
   }
  },
  {
   "cell_type": "markdown",
   "source": [
    "### Functions to define shapes"
   ],
   "metadata": {
    "collapsed": false
   }
  },
  {
   "cell_type": "code",
   "execution_count": null,
   "outputs": [],
   "source": [],
   "metadata": {
    "collapsed": false
   }
  },
  {
   "cell_type": "markdown",
   "source": [
    "### Random numbers to create shapes of arbitrary size and position"
   ],
   "metadata": {
    "collapsed": false
   }
  },
  {
   "cell_type": "code",
   "execution_count": null,
   "outputs": [],
   "source": [],
   "metadata": {
    "collapsed": false
   }
  },
  {
   "cell_type": "markdown",
   "source": [
    "### Loops for creating a set of (potentially related) shapes"
   ],
   "metadata": {
    "collapsed": false
   }
  },
  {
   "cell_type": "code",
   "execution_count": null,
   "outputs": [],
   "source": [],
   "metadata": {
    "collapsed": false
   }
  },
  {
   "cell_type": "markdown",
   "source": [
    "## Draw your own floor plan"
   ],
   "metadata": {
    "collapsed": false
   }
  },
  {
   "cell_type": "code",
   "execution_count": null,
   "outputs": [],
   "source": [],
   "metadata": {
    "collapsed": false
   }
  }
 ],
 "metadata": {
  "kernelspec": {
   "display_name": "Python 3",
   "language": "python",
   "name": "python3"
  },
  "language_info": {
   "codemirror_mode": {
    "name": "ipython",
    "version": 2
   },
   "file_extension": ".py",
   "mimetype": "text/x-python",
   "name": "python",
   "nbconvert_exporter": "python",
   "pygments_lexer": "ipython2",
   "version": "2.7.6"
  }
 },
 "nbformat": 4,
 "nbformat_minor": 0
}
