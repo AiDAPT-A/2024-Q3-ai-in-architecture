{
  "nbformat": 4,
  "nbformat_minor": 0,
  "metadata": {
    "colab": {
      "provenance": [],
      "toc_visible": true,
      "authorship_tag": "ABX9TyNduJ58QwQG2WiU/j8eIWDi",
      "include_colab_link": true
    },
    "kernelspec": {
      "name": "python3",
      "display_name": "Python 3"
    },
    "language_info": {
      "name": "python"
    }
  },
  "cells": [
    {
      "cell_type": "markdown",
      "metadata": {
        "id": "view-in-github",
        "colab_type": "text"
      },
      "source": [
        "<a href=\"https://colab.research.google.com/github/AiDAPT-A/2024-Q3-ai-in-architecture/blob/main/1_code_canvas.ipynb\" target=\"_parent\"><img src=\"https://colab.research.google.com/assets/colab-badge.svg\" alt=\"Open In Colab\"/></a>"
      ]
    },
    {
      "cell_type": "markdown",
      "source": [
        "# **Code Canvas: A Python-based Sketchpad**\n",
        "\n",
        "Design and create Python script that outputs and visualizes a simple floor layout.\n",
        "\n",
        "\n",
        "<center>\n",
        "<img src=\"https://drive.google.com/uc?export=view&id=1bPb5V4pLmKfUfP77vLVVMRB2_NMLUI7Z\" alt=\"floor-layout\" class=\"center\" width=\"750px\">\n",
        "</center>"
      ],
      "metadata": {
        "id": "gTqEKMg8a82O"
      }
    },
    {
      "cell_type": "markdown",
      "source": [
        "## 📌 **Overview and learning objectives**\n",
        "\n",
        "First and foremost, this tutorial is about learning Python - one of the most famous programming languages. You will learn how to create and modify basic data structures that effectively represent geometrical elements of a floor layout (shapes); how to visualize them nicely; and how to create your own functions that outputs shapes directly (e.g. `rectangle(h, w, c)`). Moreover, we will learn how to structure a entire floor layout. In the assignment you will try to replicate a given image of a floor layout with code.\n",
        "\n",
        "### 🧠 **Learning objectives**\n",
        "- Use Google Collab and run code.\n",
        "- Create and print most common data types.\n",
        "- Create and manipulate polygonal shapes.\n",
        "- Plot polygonal shapes.\n",
        "- Use for loops and functions.\n",
        "\n",
        "### 🐍 **New in Python**\n",
        "- data structures: `int`, `float`, `list`, `tuple`, `dict`, `numpy.array`\n",
        "- plotting: plotting polygonal shapes\n",
        "- functions,\n",
        "- for loops,\n",
        "- libraries: `numpy`, `matplotlib`\n",
        "\n",
        "---\n",
        "\n",
        "**Overview**:\n",
        "\n",
        "### ♌ [**Coding 101**](#t1)\n",
        "- [Google Collaboratory](#t1.1)\n",
        "- [Python libraries](#t1.2)\n",
        "- [Print](#t1.3)\n",
        "\n",
        "### ♒ [**Elements of layout**](#t2)\n",
        "- [Walls as lines; Spaces as polygons](#t2.1)\n",
        "- [Modifying shapes: indexing, slicing, arithemetic](#t2.2)\n",
        "- [Plotting shapes](#t2.3)\n",
        "\n",
        "### ♈ [**Loops and functions**](#t3)\n",
        "- [What about 100 shapes?](#t3.1)\n",
        "- [A rectangle!](#t3.2)\n",
        "- [Structuring a layout](#t3.3)\n",
        "\n",
        "### 🈴 [**Assignment: replicate floor layouts**](#a)\n"
      ],
      "metadata": {
        "id": "4rUAcE-2bKn2"
      }
    },
    {
      "cell_type": "markdown",
      "source": [
        "<a name=\"t1\"></a>\n",
        "## ♌ **Coding 101**\n",
        "\n",
        "We start by a brief overview of the use of Google Collaboratory and your first lines of code. This wil be the most 'dry' part of the tutorial, but is necessary to understand the logical thinking of machines, and how to make Python work in this specific environment."
      ],
      "metadata": {
        "id": "Nm5iaNjad3pE"
      }
    },
    {
      "cell_type": "markdown",
      "source": [
        "<a name=\"t1.1\"></a>\n",
        "### 1.1 **Google Collaboratory**\n",
        "\n",
        "Google Collaboratory, or in short Colab, is a *free-to-use cloud service* hosted by Google. (Be aware that not everything is free, obviously.) Colab has the following features:\n",
        "\n",
        "- **Save copy in Drive** by navigating to /File \"Save a copy in Drive\".\n",
        "\n",
        "- **Colab notebooks.**\n",
        "The main feature of Colab is the platform for writing and executing Python code. In fact, you are doing so right now. This *online notebook*, mainly inspired by the [Jupyter Notebook Environment](https://jupyter.org/), seamlessly integrates text (for explanation and structure) and code (for the application). The **integration of text and code** allows for a fast understanding of programming, as it can be guided by text and visuals, and helps also in the development of your code, because of the chronological structure of the cells - the distinct code blocks - that you can run separately. **Create new notebook** by navigating to /File \"Create new notebook\"\n",
        "\n",
        "- **Cells.**\n",
        "A notebook is a list of cells that either contain text (text cells; like this one) or executable code and its output (code cells; colored in gray). Text cells can contain images, Latex, HTML, etc. You can manually add code cells by clicking the **+CODE** and **+TEXT** buttons when you hover between cells.\n",
        "\n",
        "- **Link to Google Drive.**\n",
        "A nice feature of Colab is that you can easily share your code, save it, and, most importantly, that Colab can be coupled to your Google Drive for storing and accessing the data in your own (or shared) folders.\n",
        "\n",
        "- **GPU access.**\n",
        "Your code runs on a different machine (computer), in a virtual environment that you can set yourself up (more about that later). These machines have access to great hardware accelerators, in the form of **graphical processing units (GPUs)**. GPUs can execute code, especially computations related to data science and machine learning, efficiently and much faster than on a central processing unit (CPU). (Why is beyond the scope here. Interested nonetheless? Check [this](https://blogs.nvidia.com/blog/whats-the-difference-between-a-cpu-and-a-gpu/).) For running and testing your code on large datasets and big machine learning models (which you will do in later assignments), GPUs are often crucial, because GPUs allow for fast training and code prototyping. The type of hardware accelerators can be changed under \"Runtime/Change runtime\" type in the navigation bar on the top.\n",
        "\n",
        "- **Short keys for running code.**\n",
        "Code can be executed by your command. You can hit **\"Command/Ctrl+Enter\"** or **\"Shift+Enter\"** to run a code block - or simply press the run bottun in the code cell itself. Test for yourself the difference between \"Command/Ctrl\" and \"Shift\".\n",
        "\n",
        "Let's run something:\n",
        "\n"
      ],
      "metadata": {
        "id": "3wkD0whwd_Eu"
      }
    },
    {
      "cell_type": "code",
      "execution_count": null,
      "metadata": {
        "id": "rA4Jl1p2a1EX"
      },
      "outputs": [],
      "source": [
        "age = \"My age is 30\"  # you can change this to your own age\n",
        "print(age)"
      ]
    },
    {
      "cell_type": "markdown",
      "source": [
        "Don't bother trying to understand yet what happened, but you made the computer say \"My age is ...\". The output - if any - of executing a code cell is always printed just below the code cell itself."
      ],
      "metadata": {
        "id": "Wr-4BRoVBpmw"
      }
    },
    {
      "cell_type": "markdown",
      "source": [
        "<a name=\"t1.2\"></a>\n",
        "### 1.2 **Python libraries**\n",
        "\n",
        "Similar to many other programs, software, toolboxes, etc., Python works with \"plugins\". They are not called plugins, however, but *libraries*.\n",
        "\n",
        "- **Python library, or package.** A library, or package, is a **collection of modules, classes, and methods**. Functions and methods are reusable chunks of code that can be used to perform some meaningful action. For instance, the creation of a rectangular shape. Usually libraries are created for specific tasks, such as data visualization (`matplotlib`, `seaborn`, etc.), math (`math`, `numpy`, etc.), or geospatial data (`geopandas`, `rasterior`, etc.).\n",
        "\n",
        "The two packages used in this tutorial are `numpy` and `matplotlib`. The packages are imported by using `import`, as follows:"
      ],
      "metadata": {
        "id": "ABU50u34fA1r"
      }
    },
    {
      "cell_type": "code",
      "execution_count": null,
      "metadata": {
        "id": "V_WbvEXIfA1s"
      },
      "outputs": [],
      "source": [
        "import numpy as np\n",
        "import matplotlib as plt"
      ]
    },
    {
      "cell_type": "markdown",
      "source": [
        "Note: you can import a library under a different name than the original - the alias. You can **specify the alias after \"as\"**. This is usually done to reduce clutter in writing your code by finding appropriate abbreviations. \"np\" and \"plt\" are common aliases for the two packages.\n",
        "\n",
        "Later in the tutorial, you will learn how the packages are used."
      ],
      "metadata": {
        "id": "xsw-K3NGBxUZ"
      }
    },
    {
      "cell_type": "markdown",
      "source": [
        "<a name=\"t1.3\"></a>\n",
        "### 1.3 **`print()`**\n",
        "\n",
        "But didn't we use some function already earlier? Yes we did. There are quite some **built-in functions in Python**. (See list [here](https://docs.python.org/3/library/functions.html).) We used the famous `print()` function which is used to literally print something on the output lines of the code cell. The print function can print almost anything you like, from text, to numbers, to data frames.\n",
        "\n",
        "Let's for now focus on that first block of code you were running earlier on. First of all, **Python executes code from top to bottom**. Let's, thus, evaluate and rerun the first line first:\n"
      ],
      "metadata": {
        "id": "fRVuQFA6fBk7"
      }
    },
    {
      "cell_type": "code",
      "execution_count": null,
      "metadata": {
        "id": "mv28TpCYfBk7"
      },
      "outputs": [],
      "source": [
        " # create variable 'age' and assign a string\n",
        "age = \"My age is 30\"  # you can change it to your own age"
      ]
    },
    {
      "cell_type": "markdown",
      "source": [
        "If you execute this code, the variable `age` here (on the left-hand side of the equation) gets assigned a `string`, specifically the string \"My age is 30\" (on the right-hand side). A **string is data type used to represent text** rather than numbers. It is a **sequence of characters** in this case the sequence \"M\", \"y\", \" \" (space!), \"a\", etc. Python knows it is a string because it is enclosed in quotes (single, double, or triple). Strings are among the most widely used data types in python; for handling and manipulating text; think of descriptions, categories, etc.\n",
        "\n",
        "The code above **assigns** `age` with the string \"My age is 30\", and it will be stored in memory like that - as a sort of bond. When you execute the line of code above, however, it does not yet print what `age` 'looks' like. That is because you have not asked the computer explicitly to do so. As you might have expected, you need to run `print()` to actually make the computer print the value of `age`.\n",
        "\n",
        "Before you do that, let's explain a bit about functions. **Functions perform an action - or set of actions**. The `print()` function has as action to print what you input into the output of the code cell. **A function usually takes an argument - or set of arguments - that are specified within the brackets**:"
      ],
      "metadata": {
        "id": "5tiHmEgtCNrr"
      }
    },
    {
      "cell_type": "code",
      "source": [
        "# print a variable\n",
        "print(age)"
      ],
      "metadata": {
        "id": "Yu0o9aBwCQK6"
      },
      "execution_count": null,
      "outputs": []
    },
    {
      "cell_type": "markdown",
      "source": [
        "The `print()` function can take multiple arguments when separated by commas:"
      ],
      "metadata": {
        "id": "758vT_wzCUuk"
      }
    },
    {
      "cell_type": "code",
      "source": [
        "# create variable 'age' and 'name'\n",
        "age = \"My age is 30\"\n",
        "name = \"My name is Casper\"\n",
        "\n",
        "# print variable values\n",
        "print(age, name)"
      ],
      "metadata": {
        "id": "7Abv122vCV4L"
      },
      "execution_count": null,
      "outputs": []
    },
    {
      "cell_type": "markdown",
      "source": [
        "In this case, it might have been better if the two strings would be separated by a semicolon. For many functions you can specify *how the actions is done* by changing the default settings of the function. This is done by changing the function's intrinsic parameters. `print()`, luckily so, has exactly what we need: a parameter called \"sep\" (for 'separation') with which you can specify how the set of inputs are separated. (What is the default here?) You can specify a parameter by including it as another argument to the function:"
      ],
      "metadata": {
        "id": "MqZr8WvECbBU"
      }
    },
    {
      "cell_type": "code",
      "source": [
        "# print with arguments\n",
        "print(age, name, sep=\"; \", end=\".\")  # Q: what does the end parameter do?"
      ],
      "metadata": {
        "id": "N1iKS40hCatF"
      },
      "execution_count": null,
      "outputs": []
    },
    {
      "cell_type": "markdown",
      "source": [
        "**\\[Extra.\\]** Two nice 'print characters' are the newline (\"\\n\") and tab (\"\\t\"):"
      ],
      "metadata": {
        "id": "HmCssd9QC9lH"
      }
    },
    {
      "cell_type": "code",
      "source": [
        "# print with arguments and some commonly used print characters (newline and tab)\n",
        "info = \"My information:\"\n",
        "print(info, age, name, sep=\"\\n\\t\")"
      ],
      "metadata": {
        "id": "XzPcPAT1C99n"
      },
      "execution_count": null,
      "outputs": []
    },
    {
      "cell_type": "markdown",
      "source": [
        "<a name=\"t2\"></a>\n",
        "## ♒ **Elements of a layout**\n",
        "\n",
        "Here you will learn to effectively define and create elements of layout in Python."
      ],
      "metadata": {
        "id": "UoIv_CnFgmQK"
      }
    },
    {
      "cell_type": "markdown",
      "source": [
        "<a name=\"t2.1\"></a>\n",
        "### 2.1 **Walls as lines; spaces as polygons**\n",
        "\n",
        "A **floor plan 'lives' in a two-dimensional space** - spanned by a horizontal dimension $x$ (usually east-west direction) and vertical dimension $y$ (usually south-north direction). Note that not every floor plan is drawn according to the compass orientation - north pointing towards the top of the paper. Sometimes an axis-aligned floor plan - the main symmetry axes aligns with the $x$ and $y$ directions - is easier to draw and comprehend (mostly included by a rotated compass orientation element somewhere on the drawing). For now, the compass orientation does not matter (in later assignment it does!), and we simply take axis-aligned floor plans for which most walls nicely follow the $x$ and $y$ directions.\n",
        "\n",
        "Arguably the most crucial information a floor plan conveys is the floor plan's layout. The **floor layout** reveals the shapes, proportions, and organization of the building's individual spaces and elements, such as rooms, walls, windows, doors, etc. - crucial for understanding the building's utility and quality.\n",
        "\n",
        "Let's for now think of a floor layout of simply the aggreggation of **spaces, walls, doors, and windows - the elements of a floor layout**. The elements of a floor layout can now be thought of as shapes (the spaces) and lines (the walls, doors, and windows). Hence, a floor layout can be thought of as a set of shapes and lines. See the image below for a decomposition of a floor plan into it's constituent elements.\n",
        "\n",
        "---\n",
        "\n",
        "<center>\n",
        "<img src=\"https://drive.google.com/uc?export=view&id=1GTZ9LxUD9y9U0FPxH658H_ASCSEsuD1N\" alt=\"floor-layout\" class=\"center\" width=\"650px\">\n",
        "\n",
        "**The elements of a floor layout**.\n",
        "(Left) Image of a floor plan.\n",
        "(Right) Spaces and walls represented by shapes and lines resp.\n",
        "Note that only spaces and walls are considered; windows and doors are omitted for simplicity.\n",
        "\n",
        "</center>\n",
        "\n",
        "---\n",
        "\n",
        "Let's start with defining a **wall**.\n",
        "\n",
        "A straight wall (or wall element) can, as explained above, be described as a line. A line $l$ is defined by 2 *end* points $c_1$ and $c_2$ as:\n",
        "\n",
        "$$ l  = (c_1, c_2). $$\n",
        "\n",
        "Each point is defined, in 2D, by it's corresponding coordinates in $x$ and $y$ as such:\n",
        "\n",
        "$$\n",
        "c_1 = (x_1, y_1)\n",
        "$$\n",
        "$$\n",
        "c_2 = (x_2, y_2).\n",
        "$$\n",
        "\n",
        "Let's now create a line in Python! Suppose you want a line spanning between $c_1 = (0.2, 0.3)$ and $c_2 = (1.5, 2.7)$. Let's first define all the coordinates. Since the coordinates are simply numbers, we define the **coordinates as floats**. A float (or floating point number) is a data type in Python composed of a decimal number. A float is automatically assigned to the variable (left-hand side of equation) by writing a decimal number (on the right-hand side) in the input, so let's do it:\n",
        "\n"
      ],
      "metadata": {
        "id": "lf6vvNLXgmQS"
      }
    },
    {
      "cell_type": "code",
      "execution_count": null,
      "metadata": {
        "id": "M6rLgRm8gmQS"
      },
      "outputs": [],
      "source": [
        "# coordinate as float (decimal number)\n",
        "x1 = 0.2\n",
        "y1 = 0.3\n",
        "x2 = 1.5\n",
        "y2 = 2.7\n",
        "\n",
        "# you can also print the values\n",
        "print(\"Point 1 (2D): \", x1, y1)\n",
        "print(\"Point 2 (2D):\", x2, y2)"
      ]
    },
    {
      "cell_type": "markdown",
      "source": [
        "To create a single variable that represents a line, we need to package the coordinates in a consistent matter. There are different data structures that can package other variables consistently - each with different properties. We start by packaging $x_1$ and $y_1$ into a point that represents $c_1$. We do so by assigning $c_1$ a **tuple**. **A tuple is a collection which is ordered and unchangeable**. Tuples are written with *round brackets*. Hence, similar as how we defined them in the text:"
      ],
      "metadata": {
        "id": "AyJCN3GdDqmp"
      }
    },
    {
      "cell_type": "code",
      "source": [
        "# point as tuple of coordinates\n",
        "c1 = (x1, y1)\n",
        "c2 = (x2, y2)\n",
        "\n",
        "# print points\n",
        "print(\"Point 1 (2D): \", c1)\n",
        "print(\"Point 2 (2D): \", c2)"
      ],
      "metadata": {
        "id": "ujVcxHyoDsGo"
      },
      "execution_count": null,
      "outputs": []
    },
    {
      "cell_type": "markdown",
      "source": [
        "The only thing remains is to create a line. To do this, we create a **list**. A list, similar to a tuple, is a collection which is ordered. The main difference is that **a list is changeable**. A list allows to change one or both it's points into different ones as well as to *add* another point (or points), which is super useful; but more on that later. A list is written in *square brackets*. Ultimately, $l$ can be defined in Python as follows:"
      ],
      "metadata": {
        "id": "1rLEPCmwDu55"
      }
    },
    {
      "cell_type": "code",
      "source": [
        "# line as list of points\n",
        "l = [c1, c2]\n",
        "\n",
        "# print line\n",
        "print(\"Line (2D): \", l)"
      ],
      "metadata": {
        "id": "eTHNMTr5DvT7"
      },
      "execution_count": null,
      "outputs": []
    },
    {
      "cell_type": "markdown",
      "source": [
        "To summarize: a line is, in our setting, a list of two points; a point is a tuple of coordinates; a coordinate as a float. The figure below clarifies the nested structure.\n",
        "\n",
        "---\n",
        "\n",
        "<center>\n",
        "<img src=\"https://drive.google.com/uc?export=view&id=1bPb5V4pLmKfUfP77vLVVMRB2_NMLUI7Z\" alt=\"floor-layout\" class=\"center\" width=\"650px\">\n",
        "\n",
        "**A wall as a line**. A line as a list of points; a point as a tuple of coordinates; a coordinate as a float.\n",
        "\n",
        "</center>\n",
        "\n",
        "---\n",
        "\n",
        "❓*When can a wall (or wall element) not be represented by a line as defined above? Is this often the case?* ❓"
      ],
      "metadata": {
        "id": "gSLpEdBmDvjT"
      }
    },
    {
      "cell_type": "markdown",
      "source": [
        "Similar to a wall being represented as a line, a space can be represented as a 2D shape. For instance as a rectangle, triangle, or more complex shape. We can set any space up as a **list of walls**, which are represented by lines:\n",
        "\n",
        "$$ s = [l_1, l_2, \\ldots, l_N].$$\n",
        "\n",
        "❓*What does $N$ stand for? Why is $N$ not always the same; say 4?* ❓\n",
        "\n",
        "Yes, this is an OK way to represent a shape, hence a space. But this representation has redundant elements. Why? Because every line (wall) - if defined by the two end-points like we did earlier - shares one point with another line. Hence, we could represent a shape in a more compact way, namely as a **polygon**.\n",
        "\n",
        "A polygon is an ordered collection of at least 3 points. Starting by the first point, the shape is drawn by going from point to point in the collection, similar the 'connect the dots' children games. (You might remember these games.)\n",
        "\n",
        "---\n",
        "\n",
        "<center>\n",
        "<img src=\"https://drive.google.com/uc?export=view&id=1aXlOru0Km94wTPKANJnzdqPuNlU2ghlu\" alt=\"floor-layout\" class=\"center\" width=\"400px\">\n",
        "\n",
        "**Connecting the dots, children game**. Creating a polygonal shape by drawing from point to point, in an orderly fashion.\n",
        "\n",
        "</center>\n",
        "\n",
        "---\n",
        "\n",
        "Clearly, for architectural spaces the amount of points needed is usually far less than for the game above. Moreover, the amount of points is usually 4. Let's create, indeed, a rectangular shape like:\n",
        "\n",
        "$$p = [c_1, c_2, c_3, c_4]$$\n",
        "\n",
        "in which $c_1 = (0,0)$, $c_2 = (2.2,0)$, $c_3 = (2.2,1.5)$, and $c_4 = (0,1.5)$.\n",
        "\n",
        "❓*Is $s = [c_1, c_2, c_3, c_4]$ always rectangular for an arbitrary set of points? Verify whether the above-mentioned values for $c_1, \\ldots, c_4$ indeed lead to a rectangular shape. Extra (quite difficult): find a set of rules between $c_1, \\ldots, c_4$ such that the resulting shape is a rectangle.* ❓\n",
        "\n",
        "The shape in code:"
      ],
      "metadata": {
        "id": "l2CMC_w1D6S0"
      }
    },
    {
      "cell_type": "code",
      "source": [
        "# create points directly (without first creating x1, x2, ...)\n",
        "c1 = (0, 0)\n",
        "c2 = (2.2, 0)\n",
        "c3 = (2.2, 1.5)\n",
        "c4 = (0, 1.5)\n",
        "\n",
        "# polygon as a list of points\n",
        "poly = [c1, c2, c3, c4]\n",
        "\n",
        "# print shape\n",
        "print(\"Polygon (2D): \", poly)"
      ],
      "metadata": {
        "id": "lDmZ19OCDwKb"
      },
      "execution_count": null,
      "outputs": []
    },
    {
      "cell_type": "markdown",
      "source": [
        "<a name=\"t2.2\"></a>\n",
        "### 2.2 **Modifying shapes**\n",
        "\n",
        "Often you want to modify shapes or get characteristics out of them like the center or area. For this purpose, we will add another way how a shape can be defined. Namely by so-called `numpy` **arrays** instead of lists of tuples.\n",
        "\n",
        "For this, we will use the library called `numpy`, which we already imported in the second code block.\n",
        "\n",
        "Before we do so, we need to understand **how to use libraries**. Libraries could be thought of as nested collections of modules, classes, and functions. Modules allow for organizing functions and classes in a more hierarchically structured manner, similar to how you would structure a building in CAD software into layers that logically built on each other: starting with floors, than units, than rooms for example.\n",
        "\n",
        "An array can be created by `numpy` \".\" `array`. The \".\" (dot) allows for entering \"children\" branches of a module or class. In our case we can simply use `np.array` because we imported `numpy` as `np`:"
      ],
      "metadata": {
        "id": "Mh1cDgZSEIbD"
      }
    },
    {
      "cell_type": "code",
      "source": [
        "poly_array = np.array(poly)  # note: this creates a float-typed array (not integer) !\n",
        "print(\"Polygon as array (2D):\\n\", poly_array)  # rembered what the `\\n` did?"
      ],
      "metadata": {
        "id": "-8CKT9GWEIsz"
      },
      "execution_count": null,
      "outputs": []
    },
    {
      "cell_type": "markdown",
      "source": [
        "If we want to move the shape in space by 2 in both $x$ and $y$ we simply modify the shape by literally adding 2 to the whole array through `+`:"
      ],
      "metadata": {
        "id": "gYI9iWQSmyoQ"
      }
    },
    {
      "cell_type": "code",
      "source": [
        "poly_array_t = poly_array + 2  # translate polygon by 2 in each direction\n",
        "print(\"Translated polygon (2D):\\n\", poly_array_t)"
      ],
      "metadata": {
        "id": "39VuMRcYmyA5"
      },
      "execution_count": null,
      "outputs": []
    },
    {
      "cell_type": "markdown",
      "source": [
        "For scaling you use a literal multiplication `*`: (or division `/` of the inverse):"
      ],
      "metadata": {
        "id": "RWS_VFS5nim-"
      }
    },
    {
      "cell_type": "code",
      "source": [
        "# up-scale\n",
        "poly_array_s = poly_array * 2\n",
        "print(\"Upscaled polygon (2D):\\n\", poly_array_s)\n",
        "\n",
        "# or down-scale\n",
        "poly_array_s = poly_array * 0.5  # or by division:  `poly_array / 2`\n",
        "print(\"\\nUpscaled polygon (2D):\\n\", poly_array_s)"
      ],
      "metadata": {
        "id": "2sUVR-FlniVu"
      },
      "execution_count": null,
      "outputs": []
    },
    {
      "cell_type": "markdown",
      "source": [
        "Sometimes you want to **change $x$ and $y$ independently**, for example adding 2 to $x$ while substracting (`-`) 1 from $y$. (Or similarly: multiply $x$ with 2 and $y$ with -1. Simply create a 2D array of how you would treat $x$ and $y$ and add it (or multiply with) the polygon:"
      ],
      "metadata": {
        "id": "vf7MeS5tolL7"
      }
    },
    {
      "cell_type": "code",
      "source": [
        "change = np.array([2, -1])  # note: you can create the array [2, -1] by inputting a list of [2, -1]\n",
        "poly_array_t = poly_array + change\n",
        "print(\"Translated polygon; x and y independently (2D):\\n\", poly_array_t)\n",
        "\n",
        "poly_array_s = poly_array * change\n",
        "print(\"\\nScaled polygon; x and y independently (2D):\\n\", poly_array_s)"
      ],
      "metadata": {
        "id": "oj8F79rhqG0Z"
      },
      "execution_count": null,
      "outputs": []
    },
    {
      "cell_type": "markdown",
      "source": [
        "Another transformation would be to change the coordinates of one point to different coordinates. For instance, $c_2$ from $(2.2, 0)$ to $(2.5, 0.35)$. You can do this through the concept of **indexing**.\n",
        "\n",
        "For example, to get the first element of the array, defined in our case as $c_1$, you acces (\"index\") it at 0, and to get $c_2$ you access the object at 1.  (Python starts counting nearly always at 0: yes, you have to get used to it. It will make sense at some point.)\n",
        "\n",
        "For a sequence `s`, `s[index]` will return the element at the position index:"
      ],
      "metadata": {
        "id": "z_ZhLeh44fBd"
      }
    },
    {
      "cell_type": "code",
      "source": [
        "c2 = poly_array[1]  # starts counting at 1. So the first element in an object is accessed by [0], and the second by [1], etc.\n",
        "# note: the previsouly created c2 is replaced by the new c2\n",
        "print(\"c2 (2D):\\n\", c2)"
      ],
      "metadata": {
        "id": "uJgUdlB56i9_"
      },
      "execution_count": null,
      "outputs": []
    },
    {
      "cell_type": "markdown",
      "source": [
        "To change a part of an object, you first specify the part you want to change and assign it the new part:"
      ],
      "metadata": {
        "id": "AVKH9Tf77PC6"
      }
    },
    {
      "cell_type": "code",
      "source": [
        "c2_new = np.array([2.5, 0.35])\n",
        "poly_array[1] = c2_new  # note: the previous polygon is *replaced*\n",
        "print(\"Point change in polygon (2D):\\n\", poly_array)"
      ],
      "metadata": {
        "id": "gkACfWuC7OX1"
      },
      "execution_count": null,
      "outputs": []
    },
    {
      "cell_type": "markdown",
      "source": [
        "In a similar manner, you can also add or remove elements from an array.\n",
        "\n",
        "Adding an element can best be done using `np.concatenate((array1, array2, ...))`. To understand how `np.concatenate()` can be used for adding (or removing) elements from a list, we should first explain the concept of **slicing**. To acquire a larger part of the object, you can slice an object, which is very similar to indexing it. Slicing, however, acquires a range of indices.\n",
        "\n",
        "For instance, if you want to access indices $2$ - $4$ you can use the slice `array[2:end]` (\":\" saying everything in-between and \"end\" meaning to slice until the end. Same: `array[2:]`),and $1$ - $3$ as `array[start:3]` (\"start\" meaning to slice from the start. Same: `array[:3]`).\n",
        "\n",
        "If, then, we want to add a new point between $c2$ and $c3$ as $c2.5 = [2.35, 0.95]$, we concatenate the part of the array until $c2$ with $c2.5$ and the part from the array starting at $c3$ to the end, in that respective order:"
      ],
      "metadata": {
        "id": "seSHf-ec8v0w"
      }
    },
    {
      "cell_type": "code",
      "source": [
        "# adds c2.5 = [2.35, 0.95] between c2 and c3\n",
        "c2_5 = np.array([[2.35, 0.95]])  # note the extra brackets to make the dimensions equal between the point and the polygon\n",
        "poly_plus = np.concatenate((poly_array[:2], c2_5, poly_array[2:]))\n",
        "\n",
        "print(\"Polygon w/ extra c2.5 (2D):\\n\", poly_plus)"
      ],
      "metadata": {
        "id": "iUvdaQfZ-2vk"
      },
      "execution_count": null,
      "outputs": []
    },
    {
      "cell_type": "markdown",
      "source": [
        "To remove $c3$:"
      ],
      "metadata": {
        "id": "S2yIaSb0DSDg"
      }
    },
    {
      "cell_type": "code",
      "source": [
        "poly_min = np.concatenate((poly_array[:2], poly_array[3:]))\n",
        "\n",
        "print(\"Polygon w/o c3 (2D):\\n\", poly_min)"
      ],
      "metadata": {
        "id": "tRjnEMVEDTH3"
      },
      "execution_count": null,
      "outputs": []
    },
    {
      "cell_type": "markdown",
      "source": [
        "This set of operations allows you to modify your polygonal shape into completely new ones; by putting some of the above mentioned operations in sequence. This is also where creativity comes in, because they're smarter ways to create / modify shapes.  "
      ],
      "metadata": {
        "id": "M3ubFsWG8fe5"
      }
    },
    {
      "cell_type": "markdown",
      "source": [
        "<a name=\"t2.3\"></a>\n",
        "### 2.3 **Plotting shapes**\n",
        "\n",
        "Working with floor plan data asks for visualizations. So **how can we plot some of the floor layout elements that we developed above?** There is, unfortunately, no Python-native (like `print`) plotting function. We have to get these functions elsewhere: from another library.\n",
        "\n",
        "In our case, we will use the most famous plotting library called `matplotlib`, which we already imported in the second code block. We will use the module `pyplot` within `matplotlib` which is accessed by a \".\" (dot) between the two: `matplotlib.pyplot`. For abbreviation we use `plt` (this is common among Python users), and import it as follows:\n"
      ],
      "metadata": {
        "id": "1DCDY_awgmQS"
      }
    },
    {
      "cell_type": "code",
      "source": [
        "import matplotlib.pyplot as plt"
      ],
      "metadata": {
        "id": "5sUZe4csiRvc"
      },
      "execution_count": null,
      "outputs": []
    },
    {
      "cell_type": "markdown",
      "source": [
        "Within `plt` you cand find the plotting function called `plot`, which is accessed by `plt.plot()`. Let's see what happens if we plot the polygonal shape we created earlier:"
      ],
      "metadata": {
        "id": "fImdLyXWiWK8"
      }
    },
    {
      "cell_type": "code",
      "source": [
        "# get array (not modified one)\n",
        "poly_array = np.array(poly)\n",
        "\n",
        "plt.plot(poly)  # create a plot"
      ],
      "metadata": {
        "id": "vcKgqzbqiVqH"
      },
      "execution_count": null,
      "outputs": []
    },
    {
      "cell_type": "markdown",
      "source": [
        "This is not what we want. So what happened? It created two lines that show how $x$ and $y$ separately change (y-axis here) over the sequence of the polygon (x-axis here). Note that \"time\" is indexed by default as 0,1, 2, etc.\n",
        "\n",
        "❓*Which color represents $x$ and which $y$?* ❓\n",
        "\n",
        "If you want to plot the actual figure behind `s` you need to provide $x$ and $y$ separately as `plot(x, y)`. We know how to do this! Namely, by **slicing**."
      ],
      "metadata": {
        "id": "1SXYrTxCjUNe"
      }
    },
    {
      "cell_type": "code",
      "source": [
        "poly_x, poly_y = poly_array[:, 0], poly_array[:, 1]  # the \"comma\" is used to discriminate between the 1st column (coordinate values) and 2nd column (whether x or y)\n",
        "plt.plot(poly_x, poly_y)  # create a plot\n",
        "# plt.gca().set_aspect('equal')  # gca: get current axes, set_aspect to set the aspect ration; \"equal\" to set the aspect ratio to equal for x and y"
      ],
      "metadata": {
        "id": "8IV7xHGeKlv2"
      },
      "execution_count": null,
      "outputs": []
    },
    {
      "cell_type": "markdown",
      "source": [
        "But the polygon is not closed. Why? Because we did not say to draw a line between point 4 and 1. Simply do so by adding $c1$ to the end of the array:"
      ],
      "metadata": {
        "id": "kRTiTuo9LY-O"
      }
    },
    {
      "cell_type": "code",
      "source": [
        "poly = np.concatenate((poly, poly[:1]))  # while you could also use [0], [:1] returns the same number of dimensions as the original object\n",
        "poly_x, poly_y = poly[:, 0], poly[:, 1]\n",
        "plt.plot(poly_x, poly_y)  # create a plot"
      ],
      "metadata": {
        "id": "KpQWTDutLnZ2"
      },
      "execution_count": null,
      "outputs": []
    },
    {
      "cell_type": "markdown",
      "source": [
        "Let's now start modifying the shape a little bit:\n",
        "\n",
        "1. translate it by 2 in both $x$ and $y$\n",
        "2. scale by -3\n",
        "3. scale by 0.4 in $x$ and 1.5 in $y$\n",
        "4. add c1.5 and c2.5 to make 6-sided polygon, and scale by 6"
      ],
      "metadata": {
        "id": "FvYAJQ45NASc"
      }
    },
    {
      "cell_type": "code",
      "source": [
        "poly1 = poly + 2\n",
        "poly2 = poly * -3\n",
        "poly3 = poly * np.array([0.4, 1.5])\n",
        "poly4 = np.concatenate((poly[:1], np.array([[1, 0.5]]), poly[1:3], np.array([[1, 1]]), poly[3:])) * 6\n",
        "\n",
        "poly_x, poly_y = poly[:, 0], poly[:, 1]\n",
        "plt.plot(poly_x, poly_y)  # create a plot\n",
        "\n",
        "poly_x, poly_y = poly1[:, 0], poly1[:, 1]\n",
        "plt.plot(poly_x, poly_y)  # create a plot\n",
        "\n",
        "poly_x, poly_y = poly2[:, 0], poly2[:, 1]\n",
        "plt.plot(poly_x, poly_y)  # create a plot\n",
        "\n",
        "poly_x, poly_y = poly3[:, 0], poly3[:, 1]\n",
        "plt.plot(poly_x, poly_y)  # create a plot\n",
        "\n",
        "poly_x, poly_y = poly4[:, 0], poly4[:, 1]\n",
        "plt.plot(poly_x, poly_y)  # create a plot"
      ],
      "metadata": {
        "id": "YO4z8zeANeC8"
      },
      "execution_count": null,
      "outputs": []
    },
    {
      "cell_type": "markdown",
      "source": [
        "You did not have any say, yet, into how the figure looks, except for what -- in terms of content -- should be in there.\n",
        "\n",
        "We can play, however, a lot with these looks. For example, to get rid fo the axis you use `plt.axis('off')`, to make the figure bigger you set the figure size larger / ratio by `plt.figure(figsize=(20, 10))` (you need to do this before anything else), specify the linestyle / width /color etc. by changing the default arguments in the `plt.plot()` function as `plt.plot(x, y, linewidth=2, linestyle=\".-\", color=\"black\")`. Clearly, many (many) other things can be adjusted. See: [`matplotlib.pyplot.plot` documentation](https://matplotlib.org/stable/api/_as_gen/matplotlib.pyplot.plot.html).\n",
        "\n",
        "Plotting distinct shapes in different ways can be important. For example to indicate where a door is (by linetype for example), what type of room it is (by coloring for example)."
      ],
      "metadata": {
        "id": "Ypd5Eh6eE2FC"
      }
    },
    {
      "cell_type": "code",
      "execution_count": null,
      "metadata": {
        "id": "A3gLbSQFgmQS"
      },
      "outputs": [],
      "source": [
        "plt.figure(figsize=(10, 10))  # try changing the values\n",
        "plt.axis('off')  # cleaner plots without axes\n",
        "plt.gca().set_aspect('equal')  # make sure to set the aspect ratio to true (gca: get current axes)\n",
        "\n",
        "poly_x, poly_y = poly[:, 0], poly[:, 1]\n",
        "plt.plot(poly_x, poly_y, linewidth=5)  # create a plot with large linewidth\n",
        "\n",
        "poly_x, poly_y = poly1[:, 0], poly1[:, 1]\n",
        "plt.plot(poly_x, poly_y, linestyle='-.')  # create a plot\n",
        "\n",
        "poly_x, poly_y = poly2[:, 0], poly2[:, 1]\n",
        "plt.plot(poly_x, poly_y, marker='o', markersize=20)  # create a plot\n",
        "\n",
        "# use fill() instead of plot() to plot regions instead of outlines\n",
        "poly_x, poly_y = poly3[:, 0], poly3[:, 1]\n",
        "plt.fill(poly_x, poly_y, color='purple')  # create a plot\n",
        "\n",
        "poly_x, poly_y = poly4[:, 0], poly4[:, 1]\n",
        "plt.fill(poly_x, poly_y, color='yellow', alpha=0.25)  # create full but transparant (lower alpha = more transparant)"
      ]
    },
    {
      "cell_type": "markdown",
      "source": [
        "<a name=\"t3\"></a>\n",
        "## ♈ **Loops and functions**\n",
        "\n",
        "When you work with lots of data, you need to be smart. To some extent, many actions are repeated and many actions are recursive. For the latter, we will introduce loops to iterate over a sequence of similar actions. For the former, we will introduce how to create a function that replaces part of the code that are repeated many times."
      ],
      "metadata": {
        "id": "UGs8OGysgnPJ"
      }
    },
    {
      "cell_type": "markdown",
      "source": [
        "<a name=\"t3.1\"></a>\n",
        "### 3.1 **What about 100 shapes?**\n",
        "\n",
        "In the examples above you created a handful of shapes. You can imagine that creating 100 shapes is, besides time-consuming, completely cluttering your code. Moreover, if one shape is incorrect, it might be *very* difficult to find back where it actually went wrong.\n",
        "\n",
        "One of the key elements to help you with these type of issues, are **for loops** that can be used to iterate over a sequence. For example if you want to print your name 20 times, you can use the following code.\n"
      ],
      "metadata": {
        "id": "EBpQJWvJgnPJ"
      }
    },
    {
      "cell_type": "code",
      "execution_count": null,
      "metadata": {
        "id": "dobi_o4kgnPK"
      },
      "outputs": [],
      "source": [
        "for i in range(20):  # range is a function that returns a sequence of numbers, starting from 0, steps of 1, ends by 20 in this case\n",
        "    print(i,\"\\t\", name)"
      ]
    },
    {
      "cell_type": "markdown",
      "source": [
        "For the same purpose, we can generate a sequence of shapes:\n",
        "\n",
        "- create empty list\n",
        "- iterate *n* times and append the shape to the list"
      ],
      "metadata": {
        "id": "aWTi7gd6Kugp"
      }
    },
    {
      "cell_type": "code",
      "source": [
        "polygons = []  # create empty list\n",
        "n = 100  # set number of iterations\n",
        "for i in range(n): # key word: for, end with \":\"\n",
        "    # everything within the for loop should be indented\n",
        "    polygons.append(poly1)"
      ],
      "metadata": {
        "id": "VbSQgGNwLP-r"
      },
      "execution_count": null,
      "outputs": []
    },
    {
      "cell_type": "markdown",
      "source": [
        "Let's verify the length of the list. For this you can use the `len()` function, a native-to-python method for lists."
      ],
      "metadata": {
        "id": "xG4riowALhw8"
      }
    },
    {
      "cell_type": "code",
      "source": [
        "print(\"Length of the list:\\t\", len(polygons))"
      ],
      "metadata": {
        "id": "jO6TLhtnLlI0"
      },
      "execution_count": null,
      "outputs": []
    },
    {
      "cell_type": "markdown",
      "source": [
        "Let's look at some of the polygons. Remember how to do that? Yes: by indexing ! Let's do so for 1, 5, and 10, 34, 88. We can actually use a loop for that!"
      ],
      "metadata": {
        "id": "uV53rvXPMH5c"
      }
    },
    {
      "cell_type": "code",
      "source": [
        "for i in [1,5,10, 34, 88]:\n",
        "    # there is a nice way to do formatting in print by putting \"f\" in front of the string and using \"{}\" to insert Python variables !\n",
        "    print(f\"Polygon {i}:\\t{polygons[i]}\")"
      ],
      "metadata": {
        "id": "H2YvCqmuMR0F"
      },
      "execution_count": null,
      "outputs": []
    },
    {
      "cell_type": "markdown",
      "source": [
        "But ... what is the use of this if all the polygons are the same. Nothing indeed! Here comes the magic. Let's not do that indeed. Let's create a list of polygons that grow in size and slightly move as well. Try to figure out yourself how the loop below works:"
      ],
      "metadata": {
        "id": "WhEHhKrxL7zN"
      }
    },
    {
      "cell_type": "code",
      "source": [
        "polygons = []\n",
        "n = 20\n",
        "for i in range(n):\n",
        "    poly = poly1 * i + i\n",
        "    polygons.append(poly)"
      ],
      "metadata": {
        "id": "3pyULcThNgt0"
      },
      "execution_count": null,
      "outputs": []
    },
    {
      "cell_type": "markdown",
      "source": [
        "Now plotting comes in handy. Let's plot all polygons. This, again, we can do using a for loop:"
      ],
      "metadata": {
        "id": "_ScMw9poNuzj"
      }
    },
    {
      "cell_type": "code",
      "source": [
        "plt.figure(figsize=(10, 10))  # try changing the values\n",
        "plt.axis('off')  # cleaner plots without axes\n",
        "plt.gca().set_aspect('equal')  # make sure to set the aspect ratio to true (gca: get current axes)\n",
        "\n",
        "for poly in polygons: # as simple as that !\n",
        "    poly_x, poly_y = poly[:, 0], poly[:, 1]  # extract coordinates\n",
        "    plt.plot(poly_x, poly_y)  # plot"
      ],
      "metadata": {
        "id": "8Injzc03N4ms"
      },
      "execution_count": null,
      "outputs": []
    },
    {
      "cell_type": "markdown",
      "source": [
        "You can make art ! With just a couple lines of code. (I am sure that this will take you less time than in any non-programming software)\n",
        "\n",
        "[**Extra**] You can really do anything:"
      ],
      "metadata": {
        "id": "JUJVg1cgOZTy"
      }
    },
    {
      "cell_type": "code",
      "source": [
        "polygons = []\n",
        "n = 100\n",
        "for i in range(n):\n",
        "    poly = poly1 + i * np.array([np.cos(i), np.sin(i)])  # np.cos(i) gives back cosinus of i; np.sin(i) the sinus of i\n",
        "    polygons.append(poly)\n",
        "\n",
        "plt.figure(figsize=(10, 10))  # try changing the values\n",
        "plt.axis('off')  # cleaner plots without axes\n",
        "plt.gca().set_aspect('equal')  # make sure to set the aspect ratio to true (gca: get current axes)\n",
        "\n",
        "for poly in polygons: # as simple as that !\n",
        "    poly_x, poly_y = poly[:, 0], poly[:, 1]  # extract coordinates\n",
        "    plt.plot(poly_x, poly_y)  # plot"
      ],
      "metadata": {
        "id": "84f3EFZTO123"
      },
      "execution_count": null,
      "outputs": []
    },
    {
      "cell_type": "markdown",
      "source": [
        "<a name=\"t3.2\"></a>\n",
        "### 3.2 **A rectangle!**\n",
        "\n",
        "So far, we have created shapes by 1) choosing and manipulating the corner and points and 2) doing so quite manually (if we disregard the loops for now). However, in many cases the shapes are constrained to have a particular form, for example a rectangle. Many spaces in buildings are, for instance, rectangles.\n",
        "\n",
        "A rectangle (when axis-aligned) is defined by 3 characteristics: width $w$, height $h$, and center point $m = [m_x, m_y]$. The corner points of the polygons can be computed based on these characteristics as such:\n",
        "\n",
        "$$c_1 = [m_x + \\frac{w}{2}, m_y + \\frac{h}{2}]$$\n",
        "$$c_2 = [m_x - \\frac{w}{2}, m_y + \\frac{h}{2}]$$\n",
        "$$c_3 = [m_x - \\frac{w}{2}, m_y - \\frac{h}{2}]$$\n",
        "$$c_4 = [m_x + \\frac{w}{2}, m_y - \\frac{h}{2}]$$\n",
        "\n",
        "To not bother ourselves to do these calculations over and over again, we will create a function, called `rectangle()`, that takes as input $w$, $h$, and $m$, and computes the polygon directly. It is very easy to set up a function:\n",
        "\n",
        "---\n",
        "\n",
        "<center>\n",
        "<img src=\"https://media.geeksforgeeks.org/wp-content/uploads/20220721172423/51.png\" alt=\"floor-layout\" class=\"center\" width=\"600px\">\n",
        "\n",
        "**A function in Python**.\n",
        "\n",
        "</center>\n",
        "\n",
        "---\n",
        "\n",
        "Now make your own function:"
      ],
      "metadata": {
        "id": "PeK5ZoNegnPK"
      }
    },
    {
      "cell_type": "code",
      "execution_count": null,
      "metadata": {
        "id": "7ZKphOadgnPK"
      },
      "outputs": [],
      "source": [
        "def get_rectangle(w, h, m=[0,0]):  # you can define a \"default\" by assigning the argument a pre-defined value\n",
        "    \"\"\"\n",
        "    Returns a rectangle as a polygon, as a 2D numpy array\n",
        "    \"\"\"\n",
        "\n",
        "    # extract center x and center y\n",
        "    m1, m2 = m[0], m[1]\n",
        "\n",
        "    # develop corner points as tuples\n",
        "    c1 = ([m1+w/2, m2+h/2])\n",
        "    c2 = ([m1-w/2, m2+h/2])\n",
        "    c3 = ([m1-w/2, m2-h/2])\n",
        "    c4 = ([m1+w/2, m2-h/2])\n",
        "\n",
        "    # create polygon\n",
        "    rect = np.array([c1, c2, c3, c4, c1])  # don't forget to add\n",
        "\n",
        "    # return the poly\n",
        "    return rect"
      ]
    },
    {
      "cell_type": "code",
      "source": [
        "w, h = 3, 4\n",
        "m = [2, 2]\n",
        "\n",
        "rect = get_rectangle(w,h,m)\n",
        "print(rect)"
      ],
      "metadata": {
        "id": "ugBeeR75VpO0"
      },
      "execution_count": null,
      "outputs": []
    },
    {
      "cell_type": "markdown",
      "source": [
        "Now that we are designing functions, let's create a plotting function for polygons specifically:"
      ],
      "metadata": {
        "id": "3OHSl_DMWgT4"
      }
    },
    {
      "cell_type": "code",
      "source": [
        "def plot_polygon(ax, poly, **kwargs):  # **kwargs can be used to pass arguments to another function that you use inside; in this case for plotting make up\n",
        "    poly_x, poly_y = poly[:, 0], poly[:, 1]\n",
        "    ax.fill(poly_x, poly_y, **kwargs)  # create a plot\n",
        "    # note that this function does not have a return, because we don't need an output, we want a plot"
      ],
      "metadata": {
        "id": "DbmpS1A5Wm1g"
      },
      "execution_count": null,
      "outputs": []
    },
    {
      "cell_type": "code",
      "source": [
        "# ax = axis\n",
        "_, ax = plt.subplots(1, 1, figsize=(10, 10))  # see: https://matplotlib.org/stable/api/_as_gen/matplotlib.pyplot.subplots.html\n",
        "ax.set_aspect('equal')\n",
        "plot_polygon(ax, rect)"
      ],
      "metadata": {
        "id": "691O-KEDXh7k"
      },
      "execution_count": null,
      "outputs": []
    },
    {
      "cell_type": "markdown",
      "source": [
        "We can now play with the more intuitive characteristics instead of the corner points. Let's create some art again:"
      ],
      "metadata": {
        "id": "BLDocegPX1-i"
      }
    },
    {
      "cell_type": "code",
      "source": [
        "rectangles = []\n",
        "n = 35\n",
        "for i in range(n):\n",
        "    # change ratio of width and heigh gradually\n",
        "    rect = get_rectangle(i+1, n/(i+1))  # why i+1 ?\n",
        "    rectangles.append(rect)\n",
        "\n",
        "_, ax = plt.subplots(1, 1, figsize=(10, 10))  # see: https://matplotlib.org/stable/api/_as_gen/matplotlib.pyplot.subplots.html\n",
        "ax.axis('off')\n",
        "ax.set_aspect('equal')\n",
        "for rect in rectangles:\n",
        "    plot_polygon(ax, rect, fc='blue', ec='red', alpha=0.1)  # ax.fill (see plot_polygon()) has arguments 'fc' = facecolor (so: fill color), 'ec': edge color"
      ],
      "metadata": {
        "id": "0nXYQr_wX9It"
      },
      "execution_count": null,
      "outputs": []
    },
    {
      "cell_type": "markdown",
      "source": [
        "<a name=\"t3.3\"></a>\n",
        "### 3.3 **Structuring a layout**\n",
        "\n",
        "A floor layout consists of multiple spaces.These spaces can have multiple attributes, such as its \"shape\" defined for example by an array, the color of it (which could represent the room type) for example by string like `\"red\"`, part of which apartment or which floor, etc.\n",
        "\n",
        "It is very important that buildings, and its floor plans and, in turn, the elements that compose the floor plans are both consistently and logically packaged. Why? Because want to be able to extract, add, and modify information seamlessly. This will allow you to analyze large amounts of data much easier.\n",
        "\n",
        "For now, let's focus just on a single floor layout. Let's consider a floor layout as a set of layout elements (the spaces) with the following attributes:\n",
        "\n",
        "- name (as a `string`)\n",
        "- shape (as a `np.array()`)\n",
        "- color (as a `string`)\n",
        "\n",
        "There are many ways to effectively represent a full floor layout. One in particular is very fitting: the `dictionary` (Python native data structure). A `dictionary` is a collection of items that allows us to store data in **key-value pairs**. In our case, the name of the space can be the key, and the value can be a list of two elements: the shape (first element) and color (second element). You can add, remove, and modify key-value pairs. Hence, similar to a list, you can sequentially develop it.\n",
        "\n",
        "---\n",
        "\n",
        "<center>\n",
        "<img src=\"https://drive.google.com/uc?export=view&id=1YC9ItCAhhRR55Pe9lpg7o0toH5v5zXF-\" alt=\"floor-layout\" class=\"center\" width=\"400px\">\n",
        "\n",
        "**Two-room floor layout**.\n",
        "\n",
        "</center>\n",
        "\n",
        "---\n",
        "\n",
        "A dictionary is created by curly brackets `{}` and each key-value pair is separated by a colon `:`. We define the above two-room apartment as a dictionary as such:"
      ],
      "metadata": {
        "id": "OXNleLaaE98i"
      }
    },
    {
      "cell_type": "code",
      "source": [
        "# get attriburtes\n",
        "# 1) names\n",
        "name1 = \"room 1\"\n",
        "name2 = \"room 2\"\n",
        "# 2) polygons\n",
        "h, w = 2, 2\n",
        "m1 = [1, 2]\n",
        "m2 = [3, 2]\n",
        "rect1 = get_rectangle(w, h, m1)\n",
        "rect2 = get_rectangle(w, h, m2)\n",
        "# 3) colors\n",
        "color1 = \"red\"\n",
        "color2 = \"blue\"\n",
        "\n",
        "# develop floor layout as dictionary\n",
        "floor = {\n",
        "    name1: [rect1, color1],\n",
        "    name2: [rect2, color2]\n",
        "}\n",
        "\n",
        "print(\"Floor plan:\\n\", floor)\n",
        "print(\"\\nRoom 1:\\n\", floor[name1])\n",
        "print(\"\\nShape room 1:\\n\", floor[name1][0])  # double index !\n",
        "print(\"\\nColor room 1:\\n\", floor[name1][1])"
      ],
      "metadata": {
        "id": "ZafaPy2DzKMM"
      },
      "execution_count": null,
      "outputs": []
    },
    {
      "cell_type": "markdown",
      "source": [
        "Plot the floor plan by looping through the dictionary:"
      ],
      "metadata": {
        "id": "SWUYdc5RP2XL"
      }
    },
    {
      "cell_type": "code",
      "source": [
        "_, ax = plt.subplots(1, 1, figsize=(10, 10))  # see: https://matplotlib.org/stable/api/_as_gen/matplotlib.pyplot.subplots.html\n",
        "ax.axis('off')\n",
        "ax.set_aspect('equal')\n",
        "for name, [poly, color] in floor.items():  # use the method .items() which outputs a sequence of key-value pairs\n",
        "    plot_polygon(ax, poly, fc=color, ec='black', alpha=0.5)"
      ],
      "metadata": {
        "id": "dOPr4UyPP1yU"
      },
      "execution_count": null,
      "outputs": []
    },
    {
      "cell_type": "markdown",
      "source": [
        "<a name=\"a\"></a>\n",
        "## 🈴 **Assignment: replicate floor layouts**"
      ],
      "metadata": {
        "id": "URw54rDbREZE"
      }
    },
    {
      "cell_type": "markdown",
      "source": [
        "### **Description**</br>\n",
        "**Replicate the set of layouts given in the figure below using Python code**. Make effective use of for loops and functions. You maybe duplicate and use all code and functions provided in the assignment. Plot your results in one Python figure. Besides the coloring, feel free to use your own figure settings. Only use `numpy` and `matplotplib`: other libraries are not allowed.\n",
        "\n",
        "---\n",
        "\n",
        "<center>\n",
        "<img src=\"https://drive.google.com/uc?export=view&id=1ONifquUdCzzxU_pMAM5VXt8hGlr24i4H\" alt=\"floor-layout\" class=\"center\" width=\"800px\">\n",
        "\n",
        "**To-be replicated floor layout**.\n",
        "\n",
        "</center>"
      ],
      "metadata": {
        "id": "jI6ggHItcD4m"
      }
    },
    {
      "cell_type": "markdown",
      "source": [
        "### **Evaluation**</br>\n",
        "- **Code quality**\n",
        "    - 1p: function for generating the non-rectangular room shapes\n",
        "    - 1p: use at least one for loop to exploit one of the floor layout's symmetries\n",
        "    - 1p: well-commented code, and text-blocks inbetween\n",
        "    - 1p: a maximum of 30 lines of code for replicating the layouts.\n",
        "- **Data structure**\n",
        "    - 2p: the floor layout is a dictionary w/ keys corresponding to the room names given in the image (1), and w/ values being its properties: shape and color (2)\n",
        "- **Plotting**\n",
        "    - 1p: plot the results.\n",
        "- **Result**\n",
        "    - 1p: properly named notebook with code and text cells\n",
        "    - 1p: proportions are correct\n",
        "    - 1p: coloring is correct\n",
        "\n",
        "Your grade is equivalent to the amount of points."
      ],
      "metadata": {
        "id": "E4_-2YiIcK1u"
      }
    },
    {
      "cell_type": "markdown",
      "source": [
        "### **Output**</br>\n",
        "**Write your findings and interpretation in a new notebook** and name it **\"A1_code-canvas-\\<name\\>.ipynb\"**."
      ],
      "metadata": {
        "id": "PPkqM0JGcLDO"
      }
    }
  ]
}